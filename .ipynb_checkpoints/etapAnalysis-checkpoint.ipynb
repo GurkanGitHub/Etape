{
 "cells": [
  {
   "cell_type": "code",
   "execution_count": 1,
   "metadata": {},
   "outputs": [],
   "source": [
    "import pandas as pd\n",
    "import numpy as np\n",
    "import datetime\n",
    "import matplotlib.pyplot as plt\n",
    "import seaborn as sns\n",
    "sns.set_style(\"whitegrid\")\n",
    "import warnings\n",
    "warnings.filterwarnings(\"ignore\")"
   ]
  },
  {
   "cell_type": "code",
   "execution_count": 2,
   "metadata": {},
   "outputs": [],
   "source": [
    "df = pd.read_excel(\"D:/github/Etape/toutReponse.xlsx\")"
   ]
  },
  {
   "cell_type": "code",
   "execution_count": 3,
   "metadata": {},
   "outputs": [],
   "source": [
    "df = df.drop(\"id\", axis =1)"
   ]
  },
  {
   "cell_type": "code",
   "execution_count": 4,
   "metadata": {},
   "outputs": [
    {
     "data": {
      "text/html": [
       "<div>\n",
       "<style scoped>\n",
       "    .dataframe tbody tr th:only-of-type {\n",
       "        vertical-align: middle;\n",
       "    }\n",
       "\n",
       "    .dataframe tbody tr th {\n",
       "        vertical-align: top;\n",
       "    }\n",
       "\n",
       "    .dataframe thead th {\n",
       "        text-align: right;\n",
       "    }\n",
       "</style>\n",
       "<table border=\"1\" class=\"dataframe\">\n",
       "  <thead>\n",
       "    <tr style=\"text-align: right;\">\n",
       "      <th></th>\n",
       "      <th>dispositif</th>\n",
       "      <th>site</th>\n",
       "      <th>debut</th>\n",
       "      <th>fin</th>\n",
       "      <th>statue</th>\n",
       "      <th>branche</th>\n",
       "      <th>fin1</th>\n",
       "      <th>fin2</th>\n",
       "      <th>fin3</th>\n",
       "      <th>fin4</th>\n",
       "      <th>...</th>\n",
       "      <th>ben1</th>\n",
       "      <th>ben2</th>\n",
       "      <th>ben3</th>\n",
       "      <th>ben4</th>\n",
       "      <th>ben5</th>\n",
       "      <th>ben6</th>\n",
       "      <th>ben7</th>\n",
       "      <th>comment</th>\n",
       "      <th>proposition</th>\n",
       "      <th>register_date</th>\n",
       "    </tr>\n",
       "  </thead>\n",
       "  <tbody>\n",
       "    <tr>\n",
       "      <th>0</th>\n",
       "      <td>Bilan de competences</td>\n",
       "      <td>Avranches</td>\n",
       "      <td>2021-02-03</td>\n",
       "      <td>2021-06-04</td>\n",
       "      <td>beneficiaire</td>\n",
       "      <td>beneficiaire</td>\n",
       "      <td>NaN</td>\n",
       "      <td>NaN</td>\n",
       "      <td>NaN</td>\n",
       "      <td>NaN</td>\n",
       "      <td>...</td>\n",
       "      <td>Très satisfaisant</td>\n",
       "      <td>Très satisfaisant</td>\n",
       "      <td>Très satisfaisant</td>\n",
       "      <td>Très satisfaisant</td>\n",
       "      <td>Peu satisfaisant</td>\n",
       "      <td>Très satisfaisant</td>\n",
       "      <td>NaN</td>\n",
       "      <td>Apprécié les moyens mit à dispositions même si...</td>\n",
       "      <td>Test plus précis a fin de cibler davantage 2 v...</td>\n",
       "      <td>2021-06-22 12:05:16</td>\n",
       "    </tr>\n",
       "    <tr>\n",
       "      <th>1</th>\n",
       "      <td>Bilan de competences</td>\n",
       "      <td>Vire</td>\n",
       "      <td>2021-02-23</td>\n",
       "      <td>2021-06-08</td>\n",
       "      <td>prescripteur</td>\n",
       "      <td>prescripteur</td>\n",
       "      <td>NaN</td>\n",
       "      <td>NaN</td>\n",
       "      <td>NaN</td>\n",
       "      <td>NaN</td>\n",
       "      <td>...</td>\n",
       "      <td>NaN</td>\n",
       "      <td>NaN</td>\n",
       "      <td>NaN</td>\n",
       "      <td>NaN</td>\n",
       "      <td>NaN</td>\n",
       "      <td>NaN</td>\n",
       "      <td>NaN</td>\n",
       "      <td>J'ai été ravie de la prise en charge de mon bi...</td>\n",
       "      <td>NaN</td>\n",
       "      <td>2021-06-22 12:18:15</td>\n",
       "    </tr>\n",
       "    <tr>\n",
       "      <th>2</th>\n",
       "      <td>Bilan de competences</td>\n",
       "      <td>Vire</td>\n",
       "      <td>2021-02-23</td>\n",
       "      <td>2021-06-08</td>\n",
       "      <td>beneficiaire</td>\n",
       "      <td>beneficiaire</td>\n",
       "      <td>NaN</td>\n",
       "      <td>NaN</td>\n",
       "      <td>NaN</td>\n",
       "      <td>NaN</td>\n",
       "      <td>...</td>\n",
       "      <td>Très satisfaisant</td>\n",
       "      <td>Très satisfaisant</td>\n",
       "      <td>Très satisfaisant</td>\n",
       "      <td>Très satisfaisant</td>\n",
       "      <td>Très satisfaisant</td>\n",
       "      <td>Très satisfaisant</td>\n",
       "      <td>Très satisfaisant</td>\n",
       "      <td>NaN</td>\n",
       "      <td>NaN</td>\n",
       "      <td>2021-06-22 12:20:08</td>\n",
       "    </tr>\n",
       "    <tr>\n",
       "      <th>3</th>\n",
       "      <td>Bilan de competences</td>\n",
       "      <td>Vire</td>\n",
       "      <td>2021-02-23</td>\n",
       "      <td>2021-06-08</td>\n",
       "      <td>intervenant-e</td>\n",
       "      <td>intervenant-e</td>\n",
       "      <td>NaN</td>\n",
       "      <td>NaN</td>\n",
       "      <td>NaN</td>\n",
       "      <td>NaN</td>\n",
       "      <td>...</td>\n",
       "      <td>NaN</td>\n",
       "      <td>NaN</td>\n",
       "      <td>NaN</td>\n",
       "      <td>NaN</td>\n",
       "      <td>NaN</td>\n",
       "      <td>NaN</td>\n",
       "      <td>NaN</td>\n",
       "      <td>NaN</td>\n",
       "      <td>NaN</td>\n",
       "      <td>2021-06-22 12:21:35</td>\n",
       "    </tr>\n",
       "    <tr>\n",
       "      <th>4</th>\n",
       "      <td>Bilan de competences</td>\n",
       "      <td>Vire</td>\n",
       "      <td>2021-01-08</td>\n",
       "      <td>0021-05-03</td>\n",
       "      <td>prescripteur</td>\n",
       "      <td>prescripteur</td>\n",
       "      <td>NaN</td>\n",
       "      <td>NaN</td>\n",
       "      <td>NaN</td>\n",
       "      <td>NaN</td>\n",
       "      <td>...</td>\n",
       "      <td>NaN</td>\n",
       "      <td>NaN</td>\n",
       "      <td>NaN</td>\n",
       "      <td>NaN</td>\n",
       "      <td>NaN</td>\n",
       "      <td>NaN</td>\n",
       "      <td>NaN</td>\n",
       "      <td>Aucun</td>\n",
       "      <td>NaN</td>\n",
       "      <td>2021-06-22 12:23:50</td>\n",
       "    </tr>\n",
       "  </tbody>\n",
       "</table>\n",
       "<p>5 rows × 40 columns</p>\n",
       "</div>"
      ],
      "text/plain": [
       "             dispositif       site       debut         fin         statue  \\\n",
       "0  Bilan de competences  Avranches  2021-02-03  2021-06-04   beneficiaire   \n",
       "1  Bilan de competences       Vire  2021-02-23  2021-06-08   prescripteur   \n",
       "2  Bilan de competences       Vire  2021-02-23  2021-06-08   beneficiaire   \n",
       "3  Bilan de competences       Vire  2021-02-23  2021-06-08  intervenant-e   \n",
       "4  Bilan de competences       Vire  2021-01-08  0021-05-03   prescripteur   \n",
       "\n",
       "         branche fin1 fin2 fin3 fin4  ...               ben1  \\\n",
       "0   beneficiaire  NaN  NaN  NaN  NaN  ...  Très satisfaisant   \n",
       "1   prescripteur  NaN  NaN  NaN  NaN  ...                NaN   \n",
       "2   beneficiaire  NaN  NaN  NaN  NaN  ...  Très satisfaisant   \n",
       "3  intervenant-e  NaN  NaN  NaN  NaN  ...                NaN   \n",
       "4   prescripteur  NaN  NaN  NaN  NaN  ...                NaN   \n",
       "\n",
       "                ben2               ben3               ben4               ben5  \\\n",
       "0  Très satisfaisant  Très satisfaisant  Très satisfaisant   Peu satisfaisant   \n",
       "1                NaN                NaN                NaN                NaN   \n",
       "2  Très satisfaisant  Très satisfaisant  Très satisfaisant  Très satisfaisant   \n",
       "3                NaN                NaN                NaN                NaN   \n",
       "4                NaN                NaN                NaN                NaN   \n",
       "\n",
       "                ben6               ben7  \\\n",
       "0  Très satisfaisant                NaN   \n",
       "1                NaN                NaN   \n",
       "2  Très satisfaisant  Très satisfaisant   \n",
       "3                NaN                NaN   \n",
       "4                NaN                NaN   \n",
       "\n",
       "                                             comment  \\\n",
       "0  Apprécié les moyens mit à dispositions même si...   \n",
       "1  J'ai été ravie de la prise en charge de mon bi...   \n",
       "2                                                NaN   \n",
       "3                                                NaN   \n",
       "4                                              Aucun   \n",
       "\n",
       "                                         proposition        register_date  \n",
       "0  Test plus précis a fin de cibler davantage 2 v...  2021-06-22 12:05:16  \n",
       "1                                                NaN  2021-06-22 12:18:15  \n",
       "2                                                NaN  2021-06-22 12:20:08  \n",
       "3                                                NaN  2021-06-22 12:21:35  \n",
       "4                                                NaN  2021-06-22 12:23:50  \n",
       "\n",
       "[5 rows x 40 columns]"
      ]
     },
     "execution_count": 4,
     "metadata": {},
     "output_type": "execute_result"
    }
   ],
   "source": [
    "df.head()"
   ]
  },
  {
   "cell_type": "markdown",
   "metadata": {},
   "source": [
    "### Raccourcissement du nom de disposition."
   ]
  },
  {
   "cell_type": "code",
   "execution_count": 5,
   "metadata": {},
   "outputs": [],
   "source": [
    "map_dict = {\"Remobilisation\" : \"Remob\", \"Garantie Departementale d'Activite (GAD)\" : \"GDA\", \n",
    "            \"Primo insertion sociale\":\"PIS\", \"Primo insertion professionnelle\":\"PIP\", \n",
    "            \"Actions courtes type 'marchons pour ... '\":\"AC\", \"Formation civique OFII\":\"FCO\", \n",
    "            \"Jardins partages\": \"JP\", \"#avenir\":\"#avenir\", \"Accompagnement a la preparation de la VAE\":\"APV\", \n",
    "            \"Bilan de competences\":\"BC\",\"Reseau de soutien et de recherche d'emploi\":\"RSRE\", \n",
    "            \"Prestations specifiques\":\"PS\", \"Accompagnement des porteurs de projets\":\"APP\", \n",
    "            \"Formation des acteurs\":\"FA\", \"Interventions dans les centres de formation\":\"ICF\", \n",
    "            \"Interventions scolaires et universitaires\":\"ISU\", \"La dynimique de l'emploi\":\"DE\", \n",
    "            \"Présentation du Harcelement\":\"PH\"}\n",
    "df.dispositif = df.dispositif.map(map_dict)"
   ]
  },
  {
   "cell_type": "code",
   "execution_count": 6,
   "metadata": {},
   "outputs": [
    {
     "name": "stdout",
     "output_type": "stream",
     "text": [
      "<class 'pandas.core.frame.DataFrame'>\n",
      "RangeIndex: 160 entries, 0 to 159\n",
      "Data columns (total 40 columns):\n",
      " #   Column         Non-Null Count  Dtype \n",
      "---  ------         --------------  ----- \n",
      " 0   dispositif     157 non-null    object\n",
      " 1   site           150 non-null    object\n",
      " 2   debut          157 non-null    object\n",
      " 3   fin            158 non-null    object\n",
      " 4   statue         160 non-null    object\n",
      " 5   branche        160 non-null    object\n",
      " 6   fin1           6 non-null      object\n",
      " 7   fin2           6 non-null      object\n",
      " 8   fin3           6 non-null      object\n",
      " 9   fin4           7 non-null      object\n",
      " 10  fin5           7 non-null      object\n",
      " 11  intType        41 non-null     object\n",
      " 12  inter1         42 non-null     object\n",
      " 13  inter2         40 non-null     object\n",
      " 14  inter3         41 non-null     object\n",
      " 15  inter4         39 non-null     object\n",
      " 16  intForDis      41 non-null     object\n",
      " 17  inter5         14 non-null     object\n",
      " 18  intRisqS       41 non-null     object\n",
      " 19  intRisqH       25 non-null     object\n",
      " 20  intRisqJ       25 non-null     object\n",
      " 21  intRisqEn      25 non-null     object\n",
      " 22  intRisqEc      25 non-null     object\n",
      " 23  preUsager      18 non-null     object\n",
      " 24  pre1           18 non-null     object\n",
      " 25  pre2           18 non-null     object\n",
      " 26  pre3           18 non-null     object\n",
      " 27  pre4           18 non-null     object\n",
      " 28  pre5           18 non-null     object\n",
      " 29  pre6           18 non-null     object\n",
      " 30  ben1           96 non-null     object\n",
      " 31  ben2           96 non-null     object\n",
      " 32  ben3           96 non-null     object\n",
      " 33  ben4           97 non-null     object\n",
      " 34  ben5           96 non-null     object\n",
      " 35  ben6           95 non-null     object\n",
      " 36  ben7           32 non-null     object\n",
      " 37  comment        60 non-null     object\n",
      " 38  proposition    23 non-null     object\n",
      " 39  register_date  160 non-null    object\n",
      "dtypes: object(40)\n",
      "memory usage: 50.1+ KB\n"
     ]
    }
   ],
   "source": [
    "df.info()"
   ]
  },
  {
   "cell_type": "code",
   "execution_count": 7,
   "metadata": {},
   "outputs": [
    {
     "data": {
      "text/plain": [
       "dispositif         3\n",
       "site              10\n",
       "debut              3\n",
       "fin                2\n",
       "statue             0\n",
       "branche            0\n",
       "fin1             154\n",
       "fin2             154\n",
       "fin3             154\n",
       "fin4             153\n",
       "fin5             153\n",
       "intType          119\n",
       "inter1           118\n",
       "inter2           120\n",
       "inter3           119\n",
       "inter4           121\n",
       "intForDis        119\n",
       "inter5           146\n",
       "intRisqS         119\n",
       "intRisqH         135\n",
       "intRisqJ         135\n",
       "intRisqEn        135\n",
       "intRisqEc        135\n",
       "preUsager        142\n",
       "pre1             142\n",
       "pre2             142\n",
       "pre3             142\n",
       "pre4             142\n",
       "pre5             142\n",
       "pre6             142\n",
       "ben1              64\n",
       "ben2              64\n",
       "ben3              64\n",
       "ben4              63\n",
       "ben5              64\n",
       "ben6              65\n",
       "ben7             128\n",
       "comment          100\n",
       "proposition      137\n",
       "register_date      0\n",
       "dtype: int64"
      ]
     },
     "execution_count": 7,
     "metadata": {},
     "output_type": "execute_result"
    }
   ],
   "source": [
    "df.isnull().sum()\n",
    "# pd.isnull(df).sum()\n",
    "# df.dropna(inplace=True)\n",
    "# sns.heatmap(df.isnull(), yticklabels=False, cbar=False, cmap=\"viridis\")\n",
    "#df.isnull().sum().sum()"
   ]
  },
  {
   "cell_type": "markdown",
   "metadata": {},
   "source": [
    "## Gérer les valeurs manquantes et mauvais"
   ]
  },
  {
   "cell_type": "markdown",
   "metadata": {},
   "source": [
    "### Dispositif"
   ]
  },
  {
   "cell_type": "code",
   "execution_count": 8,
   "metadata": {},
   "outputs": [
    {
     "data": {
      "text/html": [
       "<div>\n",
       "<style scoped>\n",
       "    .dataframe tbody tr th:only-of-type {\n",
       "        vertical-align: middle;\n",
       "    }\n",
       "\n",
       "    .dataframe tbody tr th {\n",
       "        vertical-align: top;\n",
       "    }\n",
       "\n",
       "    .dataframe thead th {\n",
       "        text-align: right;\n",
       "    }\n",
       "</style>\n",
       "<table border=\"1\" class=\"dataframe\">\n",
       "  <thead>\n",
       "    <tr style=\"text-align: right;\">\n",
       "      <th></th>\n",
       "      <th>dispositif</th>\n",
       "      <th>site</th>\n",
       "      <th>debut</th>\n",
       "      <th>fin</th>\n",
       "      <th>statue</th>\n",
       "      <th>branche</th>\n",
       "      <th>fin1</th>\n",
       "      <th>fin2</th>\n",
       "      <th>fin3</th>\n",
       "      <th>fin4</th>\n",
       "      <th>...</th>\n",
       "      <th>ben1</th>\n",
       "      <th>ben2</th>\n",
       "      <th>ben3</th>\n",
       "      <th>ben4</th>\n",
       "      <th>ben5</th>\n",
       "      <th>ben6</th>\n",
       "      <th>ben7</th>\n",
       "      <th>comment</th>\n",
       "      <th>proposition</th>\n",
       "      <th>register_date</th>\n",
       "    </tr>\n",
       "  </thead>\n",
       "  <tbody>\n",
       "    <tr>\n",
       "      <th>7</th>\n",
       "      <td>NaN</td>\n",
       "      <td>Vire</td>\n",
       "      <td>2021-02-11</td>\n",
       "      <td>2021-05-03</td>\n",
       "      <td>beneficiaire</td>\n",
       "      <td>beneficiaire</td>\n",
       "      <td>NaN</td>\n",
       "      <td>NaN</td>\n",
       "      <td>NaN</td>\n",
       "      <td>NaN</td>\n",
       "      <td>...</td>\n",
       "      <td>Très satisfaisant</td>\n",
       "      <td>Très satisfaisant</td>\n",
       "      <td>Très satisfaisant</td>\n",
       "      <td>Très satisfaisant</td>\n",
       "      <td>Satisfaisant</td>\n",
       "      <td>Très satisfaisant</td>\n",
       "      <td>NaN</td>\n",
       "      <td>NaN</td>\n",
       "      <td>+ modernisation des test d'aptitudes +++</td>\n",
       "      <td>2021-06-22 12:30:05</td>\n",
       "    </tr>\n",
       "    <tr>\n",
       "      <th>18</th>\n",
       "      <td>NaN</td>\n",
       "      <td>Vire</td>\n",
       "      <td>2021-01-11</td>\n",
       "      <td>2021-04-23</td>\n",
       "      <td>intervenant-e</td>\n",
       "      <td>intervenant-e</td>\n",
       "      <td>NaN</td>\n",
       "      <td>NaN</td>\n",
       "      <td>NaN</td>\n",
       "      <td>NaN</td>\n",
       "      <td>...</td>\n",
       "      <td>NaN</td>\n",
       "      <td>NaN</td>\n",
       "      <td>NaN</td>\n",
       "      <td>NaN</td>\n",
       "      <td>NaN</td>\n",
       "      <td>NaN</td>\n",
       "      <td>NaN</td>\n",
       "      <td>NaN</td>\n",
       "      <td>NaN</td>\n",
       "      <td>2021-06-22 12:46:10</td>\n",
       "    </tr>\n",
       "    <tr>\n",
       "      <th>30</th>\n",
       "      <td>NaN</td>\n",
       "      <td>NaN</td>\n",
       "      <td>2020-12-02</td>\n",
       "      <td>2021-03-24</td>\n",
       "      <td>intervenant-e</td>\n",
       "      <td>intervenant-e</td>\n",
       "      <td>NaN</td>\n",
       "      <td>NaN</td>\n",
       "      <td>NaN</td>\n",
       "      <td>NaN</td>\n",
       "      <td>...</td>\n",
       "      <td>NaN</td>\n",
       "      <td>NaN</td>\n",
       "      <td>NaN</td>\n",
       "      <td>NaN</td>\n",
       "      <td>NaN</td>\n",
       "      <td>NaN</td>\n",
       "      <td>NaN</td>\n",
       "      <td>NaN</td>\n",
       "      <td>NaN</td>\n",
       "      <td>2021-06-22 13:01:54</td>\n",
       "    </tr>\n",
       "  </tbody>\n",
       "</table>\n",
       "<p>3 rows × 40 columns</p>\n",
       "</div>"
      ],
      "text/plain": [
       "   dispositif  site       debut         fin         statue        branche  \\\n",
       "7         NaN  Vire  2021-02-11  2021-05-03   beneficiaire   beneficiaire   \n",
       "18        NaN  Vire  2021-01-11  2021-04-23  intervenant-e  intervenant-e   \n",
       "30        NaN   NaN  2020-12-02  2021-03-24  intervenant-e  intervenant-e   \n",
       "\n",
       "   fin1 fin2 fin3 fin4  ...               ben1               ben2  \\\n",
       "7   NaN  NaN  NaN  NaN  ...  Très satisfaisant  Très satisfaisant   \n",
       "18  NaN  NaN  NaN  NaN  ...                NaN                NaN   \n",
       "30  NaN  NaN  NaN  NaN  ...                NaN                NaN   \n",
       "\n",
       "                 ben3               ben4          ben5               ben6  \\\n",
       "7   Très satisfaisant  Très satisfaisant  Satisfaisant  Très satisfaisant   \n",
       "18                NaN                NaN           NaN                NaN   \n",
       "30                NaN                NaN           NaN                NaN   \n",
       "\n",
       "   ben7 comment                               proposition        register_date  \n",
       "7   NaN     NaN  + modernisation des test d'aptitudes +++  2021-06-22 12:30:05  \n",
       "18  NaN     NaN                                       NaN  2021-06-22 12:46:10  \n",
       "30  NaN     NaN                                       NaN  2021-06-22 13:01:54  \n",
       "\n",
       "[3 rows x 40 columns]"
      ]
     },
     "execution_count": 8,
     "metadata": {},
     "output_type": "execute_result"
    }
   ],
   "source": [
    "df[df.dispositif.isnull()==True]"
   ]
  },
  {
   "cell_type": "code",
   "execution_count": 9,
   "metadata": {},
   "outputs": [],
   "source": [
    "df.at[7, \"dispositif\"] = \"BC\" #df[(df.debut == \"2021-02-11\") | (df.fin == \"2021-05-03\")], il ya 4 et tous sont BC.\n",
    "df.at[18, \"dispositif\"] =\"BC\" #df[(df.debut == \"2021-01-11\") | (df.fin == \"2021-04-23\")], il ya 4 et tous sont BC.\n",
    "df.at[30, \"dispositif\"] =\"BC\" #df[(df.debut == \"2020-12-02\") | (df.fin == \"2021-03-24\")], İL ya 3 et 2 autre sont BC"
   ]
  },
  {
   "cell_type": "code",
   "execution_count": 10,
   "metadata": {},
   "outputs": [
    {
     "data": {
      "text/plain": [
       "0"
      ]
     },
     "execution_count": 10,
     "metadata": {},
     "output_type": "execute_result"
    }
   ],
   "source": [
    "df.dispositif.isnull().sum()"
   ]
  },
  {
   "cell_type": "markdown",
   "metadata": {},
   "source": [
    "### Site"
   ]
  },
  {
   "cell_type": "code",
   "execution_count": 11,
   "metadata": {},
   "outputs": [
    {
     "data": {
      "text/html": [
       "<div>\n",
       "<style scoped>\n",
       "    .dataframe tbody tr th:only-of-type {\n",
       "        vertical-align: middle;\n",
       "    }\n",
       "\n",
       "    .dataframe tbody tr th {\n",
       "        vertical-align: top;\n",
       "    }\n",
       "\n",
       "    .dataframe thead th {\n",
       "        text-align: right;\n",
       "    }\n",
       "</style>\n",
       "<table border=\"1\" class=\"dataframe\">\n",
       "  <thead>\n",
       "    <tr style=\"text-align: right;\">\n",
       "      <th></th>\n",
       "      <th>dispositif</th>\n",
       "      <th>site</th>\n",
       "      <th>debut</th>\n",
       "      <th>fin</th>\n",
       "      <th>statue</th>\n",
       "      <th>branche</th>\n",
       "      <th>fin1</th>\n",
       "      <th>fin2</th>\n",
       "      <th>fin3</th>\n",
       "      <th>fin4</th>\n",
       "      <th>...</th>\n",
       "      <th>ben1</th>\n",
       "      <th>ben2</th>\n",
       "      <th>ben3</th>\n",
       "      <th>ben4</th>\n",
       "      <th>ben5</th>\n",
       "      <th>ben6</th>\n",
       "      <th>ben7</th>\n",
       "      <th>comment</th>\n",
       "      <th>proposition</th>\n",
       "      <th>register_date</th>\n",
       "    </tr>\n",
       "  </thead>\n",
       "  <tbody>\n",
       "    <tr>\n",
       "      <th>25</th>\n",
       "      <td>BC</td>\n",
       "      <td>NaN</td>\n",
       "      <td>2021-03-04</td>\n",
       "      <td>2021-06-11</td>\n",
       "      <td>prescripteur</td>\n",
       "      <td>prescripteur</td>\n",
       "      <td>NaN</td>\n",
       "      <td>NaN</td>\n",
       "      <td>NaN</td>\n",
       "      <td>NaN</td>\n",
       "      <td>...</td>\n",
       "      <td>NaN</td>\n",
       "      <td>NaN</td>\n",
       "      <td>NaN</td>\n",
       "      <td>NaN</td>\n",
       "      <td>NaN</td>\n",
       "      <td>NaN</td>\n",
       "      <td>NaN</td>\n",
       "      <td>NaN</td>\n",
       "      <td>NaN</td>\n",
       "      <td>2021-06-22 12:56:46</td>\n",
       "    </tr>\n",
       "    <tr>\n",
       "      <th>26</th>\n",
       "      <td>BC</td>\n",
       "      <td>NaN</td>\n",
       "      <td>2021-03-04</td>\n",
       "      <td>2021-06-11</td>\n",
       "      <td>beneficiaire</td>\n",
       "      <td>beneficiaire</td>\n",
       "      <td>NaN</td>\n",
       "      <td>NaN</td>\n",
       "      <td>NaN</td>\n",
       "      <td>NaN</td>\n",
       "      <td>...</td>\n",
       "      <td>Très satisfaisant</td>\n",
       "      <td>Très satisfaisant</td>\n",
       "      <td>Très satisfaisant</td>\n",
       "      <td>Très satisfaisant</td>\n",
       "      <td>Très satisfaisant</td>\n",
       "      <td>Très satisfaisant</td>\n",
       "      <td>Très satisfaisant</td>\n",
       "      <td>NaN</td>\n",
       "      <td>NaN</td>\n",
       "      <td>2021-06-22 12:57:32</td>\n",
       "    </tr>\n",
       "    <tr>\n",
       "      <th>30</th>\n",
       "      <td>BC</td>\n",
       "      <td>NaN</td>\n",
       "      <td>2020-12-02</td>\n",
       "      <td>2021-03-24</td>\n",
       "      <td>intervenant-e</td>\n",
       "      <td>intervenant-e</td>\n",
       "      <td>NaN</td>\n",
       "      <td>NaN</td>\n",
       "      <td>NaN</td>\n",
       "      <td>NaN</td>\n",
       "      <td>...</td>\n",
       "      <td>NaN</td>\n",
       "      <td>NaN</td>\n",
       "      <td>NaN</td>\n",
       "      <td>NaN</td>\n",
       "      <td>NaN</td>\n",
       "      <td>NaN</td>\n",
       "      <td>NaN</td>\n",
       "      <td>NaN</td>\n",
       "      <td>NaN</td>\n",
       "      <td>2021-06-22 13:01:54</td>\n",
       "    </tr>\n",
       "    <tr>\n",
       "      <th>51</th>\n",
       "      <td>BC</td>\n",
       "      <td>NaN</td>\n",
       "      <td>2020-09-01</td>\n",
       "      <td>2020-11-28</td>\n",
       "      <td>beneficiaire</td>\n",
       "      <td>beneficiaire</td>\n",
       "      <td>NaN</td>\n",
       "      <td>NaN</td>\n",
       "      <td>NaN</td>\n",
       "      <td>NaN</td>\n",
       "      <td>...</td>\n",
       "      <td>Très satisfaisant</td>\n",
       "      <td>Très satisfaisant</td>\n",
       "      <td>Très satisfaisant</td>\n",
       "      <td>Satisfaisant</td>\n",
       "      <td>Très satisfaisant</td>\n",
       "      <td>Très satisfaisant</td>\n",
       "      <td>Satisfaisant</td>\n",
       "      <td>NaN</td>\n",
       "      <td>Peut-être un peu plus de temps, plus de rendez...</td>\n",
       "      <td>2021-06-22 14:27:42</td>\n",
       "    </tr>\n",
       "    <tr>\n",
       "      <th>107</th>\n",
       "      <td>ISU</td>\n",
       "      <td>NaN</td>\n",
       "      <td>2020-12-01</td>\n",
       "      <td>2020-12-01</td>\n",
       "      <td>prescripteur</td>\n",
       "      <td>prescripteur</td>\n",
       "      <td>NaN</td>\n",
       "      <td>NaN</td>\n",
       "      <td>NaN</td>\n",
       "      <td>NaN</td>\n",
       "      <td>...</td>\n",
       "      <td>NaN</td>\n",
       "      <td>NaN</td>\n",
       "      <td>NaN</td>\n",
       "      <td>NaN</td>\n",
       "      <td>NaN</td>\n",
       "      <td>NaN</td>\n",
       "      <td>NaN</td>\n",
       "      <td>Bonne intention intervenants/ élèves. Théme in...</td>\n",
       "      <td>fait un contexte particulier</td>\n",
       "      <td>2021-06-30 10:31:12</td>\n",
       "    </tr>\n",
       "  </tbody>\n",
       "</table>\n",
       "<p>5 rows × 40 columns</p>\n",
       "</div>"
      ],
      "text/plain": [
       "    dispositif site       debut         fin         statue        branche  \\\n",
       "25          BC  NaN  2021-03-04  2021-06-11   prescripteur   prescripteur   \n",
       "26          BC  NaN  2021-03-04  2021-06-11   beneficiaire   beneficiaire   \n",
       "30          BC  NaN  2020-12-02  2021-03-24  intervenant-e  intervenant-e   \n",
       "51          BC  NaN  2020-09-01  2020-11-28   beneficiaire   beneficiaire   \n",
       "107        ISU  NaN  2020-12-01  2020-12-01   prescripteur   prescripteur   \n",
       "\n",
       "    fin1 fin2 fin3 fin4  ...               ben1               ben2  \\\n",
       "25   NaN  NaN  NaN  NaN  ...                NaN                NaN   \n",
       "26   NaN  NaN  NaN  NaN  ...  Très satisfaisant  Très satisfaisant   \n",
       "30   NaN  NaN  NaN  NaN  ...                NaN                NaN   \n",
       "51   NaN  NaN  NaN  NaN  ...  Très satisfaisant  Très satisfaisant   \n",
       "107  NaN  NaN  NaN  NaN  ...                NaN                NaN   \n",
       "\n",
       "                  ben3               ben4               ben5  \\\n",
       "25                 NaN                NaN                NaN   \n",
       "26   Très satisfaisant  Très satisfaisant  Très satisfaisant   \n",
       "30                 NaN                NaN                NaN   \n",
       "51   Très satisfaisant       Satisfaisant  Très satisfaisant   \n",
       "107                NaN                NaN                NaN   \n",
       "\n",
       "                  ben6               ben7  \\\n",
       "25                 NaN                NaN   \n",
       "26   Très satisfaisant  Très satisfaisant   \n",
       "30                 NaN                NaN   \n",
       "51   Très satisfaisant       Satisfaisant   \n",
       "107                NaN                NaN   \n",
       "\n",
       "                                               comment  \\\n",
       "25                                                 NaN   \n",
       "26                                                 NaN   \n",
       "30                                                 NaN   \n",
       "51                                                 NaN   \n",
       "107  Bonne intention intervenants/ élèves. Théme in...   \n",
       "\n",
       "                                           proposition        register_date  \n",
       "25                                                 NaN  2021-06-22 12:56:46  \n",
       "26                                                 NaN  2021-06-22 12:57:32  \n",
       "30                                                 NaN  2021-06-22 13:01:54  \n",
       "51   Peut-être un peu plus de temps, plus de rendez...  2021-06-22 14:27:42  \n",
       "107                      fait un contexte particulier   2021-06-30 10:31:12  \n",
       "\n",
       "[5 rows x 40 columns]"
      ]
     },
     "execution_count": 11,
     "metadata": {},
     "output_type": "execute_result"
    }
   ],
   "source": [
    "df[df.site.isnull()==True].head()"
   ]
  },
  {
   "cell_type": "code",
   "execution_count": 12,
   "metadata": {},
   "outputs": [],
   "source": [
    "df.at[30, \"site\"] =\"Saint-Lo\" # df[(df.debut == \"2020-12-02\") | (df.fin == \"2021-03-24\")], İL ya 3 et 2 autre sont st.lo\n",
    "df.at[25, \"site\"] =\"Vire\" #df[(df.debut == \"2021-03-04\") | (df.fin == \"2021-06-11\")]\n",
    "df.at[26, \"site\"] =\"Vire\" #df[(df.debut == \"2021-03-04\") | (df.fin == \"2021-06-11\")]\n",
    "df.at[51, \"site\"] =\"Vire\"  #df[(df.debut == \"2020-09-01\") | (df.fin == \"2020-11-28\")] meme dates avec ça\n",
    "df.at[107, \"site\"] = \"Autre Lieu Delocalise\" # meme dates il ya 2 differant dispositif, je designe comme ca. \n",
    "df.at[108, \"site\"] = \"Autre Lieu Delocalise\" # meme dates il ya 2 differant dispositif, je designe comme ca. \n",
    "df.at[111, \"site\"] = \"Autre Lieu Delocalise\" #df[(df.debut == \"2021-04-06\") | (df.fin == \"2021-06-25\")], il ya 8 data meme\n",
    "df.at[119, \"site\"] = \"La Ferte-Mace\" #df[df.dispositif ==\"Actions courtes type 'marchons pour ... '\"] il ya 2 dispositif action courtes je donne autre lieu\n",
    "df.at[125, \"site\"] = \"Bayeux\"  #df[(df.debut == \"2021-05-17\") | (df.fin == \"2021-07-16\")] il ya 8 data meme dates avec bayeux\n",
    "df.at[158, \"site\"] = \"Avranches\" #df[(df.debut == \"2021-02-16\") | (df.fin == \"2021-09-02\")]  il ya 12 data meme dates avec avranches"
   ]
  },
  {
   "cell_type": "code",
   "execution_count": 13,
   "metadata": {},
   "outputs": [
    {
     "data": {
      "text/plain": [
       "0"
      ]
     },
     "execution_count": 13,
     "metadata": {},
     "output_type": "execute_result"
    }
   ],
   "source": [
    "df.site.isnull().sum()"
   ]
  },
  {
   "cell_type": "markdown",
   "metadata": {},
   "source": [
    "### Debut"
   ]
  },
  {
   "cell_type": "code",
   "execution_count": 14,
   "metadata": {},
   "outputs": [
    {
     "data": {
      "text/plain": [
       "2020-06-01    14\n",
       "2021-02-16    12\n",
       "2020-06-08    12\n",
       "2020-11-30     9\n",
       "2021-04-01     8\n",
       "Name: debut, dtype: int64"
      ]
     },
     "execution_count": 14,
     "metadata": {},
     "output_type": "execute_result"
    }
   ],
   "source": [
    "df.debut.value_counts(ascending=False, sort=True).head() # il ya une mal valeur 212020-01-08. "
   ]
  },
  {
   "cell_type": "code",
   "execution_count": 15,
   "metadata": {},
   "outputs": [],
   "source": [
    "df.debut.replace(to_replace = \"212020-01-08\", value = \"2021-01-08\", inplace=True) \n",
    "df.debut.replace(to_replace = \"2021-10-20\", value = \"2021-01-20\", inplace=True)"
   ]
  },
  {
   "cell_type": "code",
   "execution_count": 16,
   "metadata": {},
   "outputs": [
    {
     "data": {
      "text/html": [
       "<div>\n",
       "<style scoped>\n",
       "    .dataframe tbody tr th:only-of-type {\n",
       "        vertical-align: middle;\n",
       "    }\n",
       "\n",
       "    .dataframe tbody tr th {\n",
       "        vertical-align: top;\n",
       "    }\n",
       "\n",
       "    .dataframe thead th {\n",
       "        text-align: right;\n",
       "    }\n",
       "</style>\n",
       "<table border=\"1\" class=\"dataframe\">\n",
       "  <thead>\n",
       "    <tr style=\"text-align: right;\">\n",
       "      <th></th>\n",
       "      <th>dispositif</th>\n",
       "      <th>site</th>\n",
       "      <th>debut</th>\n",
       "      <th>fin</th>\n",
       "      <th>statue</th>\n",
       "      <th>branche</th>\n",
       "      <th>fin1</th>\n",
       "      <th>fin2</th>\n",
       "      <th>fin3</th>\n",
       "      <th>fin4</th>\n",
       "      <th>...</th>\n",
       "      <th>ben1</th>\n",
       "      <th>ben2</th>\n",
       "      <th>ben3</th>\n",
       "      <th>ben4</th>\n",
       "      <th>ben5</th>\n",
       "      <th>ben6</th>\n",
       "      <th>ben7</th>\n",
       "      <th>comment</th>\n",
       "      <th>proposition</th>\n",
       "      <th>register_date</th>\n",
       "    </tr>\n",
       "  </thead>\n",
       "  <tbody>\n",
       "    <tr>\n",
       "      <th>48</th>\n",
       "      <td>BC</td>\n",
       "      <td>Vire</td>\n",
       "      <td>NaN</td>\n",
       "      <td>NaN</td>\n",
       "      <td>beneficiaire</td>\n",
       "      <td>beneficiaire</td>\n",
       "      <td>NaN</td>\n",
       "      <td>NaN</td>\n",
       "      <td>NaN</td>\n",
       "      <td>NaN</td>\n",
       "      <td>...</td>\n",
       "      <td>Très satisfaisant</td>\n",
       "      <td>Très satisfaisant</td>\n",
       "      <td>Satisfaisant</td>\n",
       "      <td>Satisfaisant</td>\n",
       "      <td>Satisfaisant</td>\n",
       "      <td>Satisfaisant</td>\n",
       "      <td>Satisfaisant</td>\n",
       "      <td>NaN</td>\n",
       "      <td>NaN</td>\n",
       "      <td>2021-06-22 14:12:17</td>\n",
       "    </tr>\n",
       "    <tr>\n",
       "      <th>54</th>\n",
       "      <td>BC</td>\n",
       "      <td>Saint-Lo</td>\n",
       "      <td>NaN</td>\n",
       "      <td>NaN</td>\n",
       "      <td>beneficiaire</td>\n",
       "      <td>beneficiaire</td>\n",
       "      <td>NaN</td>\n",
       "      <td>NaN</td>\n",
       "      <td>NaN</td>\n",
       "      <td>NaN</td>\n",
       "      <td>...</td>\n",
       "      <td>Satisfaisant</td>\n",
       "      <td>Très satisfaisant</td>\n",
       "      <td>Très satisfaisant</td>\n",
       "      <td>Très satisfaisant</td>\n",
       "      <td>Très satisfaisant</td>\n",
       "      <td>Très satisfaisant</td>\n",
       "      <td>NaN</td>\n",
       "      <td>NaN</td>\n",
       "      <td>NaN</td>\n",
       "      <td>2021-06-23 09:16:58</td>\n",
       "    </tr>\n",
       "    <tr>\n",
       "      <th>104</th>\n",
       "      <td>PIP</td>\n",
       "      <td>Argentan</td>\n",
       "      <td>NaN</td>\n",
       "      <td>2021-06-15</td>\n",
       "      <td>beneficiaire</td>\n",
       "      <td>beneficiaire</td>\n",
       "      <td>NaN</td>\n",
       "      <td>NaN</td>\n",
       "      <td>NaN</td>\n",
       "      <td>NaN</td>\n",
       "      <td>...</td>\n",
       "      <td>Satisfaisant</td>\n",
       "      <td>Satisfaisant</td>\n",
       "      <td>Satisfaisant</td>\n",
       "      <td>Satisfaisant</td>\n",
       "      <td>Satisfaisant</td>\n",
       "      <td>Satisfaisant</td>\n",
       "      <td>NaN</td>\n",
       "      <td>NaN</td>\n",
       "      <td>NaN</td>\n",
       "      <td>2021-06-25 09:05:06</td>\n",
       "    </tr>\n",
       "  </tbody>\n",
       "</table>\n",
       "<p>3 rows × 40 columns</p>\n",
       "</div>"
      ],
      "text/plain": [
       "    dispositif      site debut         fin        statue       branche fin1  \\\n",
       "48          BC      Vire   NaN         NaN  beneficiaire  beneficiaire  NaN   \n",
       "54          BC  Saint-Lo   NaN         NaN  beneficiaire  beneficiaire  NaN   \n",
       "104        PIP  Argentan   NaN  2021-06-15  beneficiaire  beneficiaire  NaN   \n",
       "\n",
       "    fin2 fin3 fin4  ...               ben1               ben2  \\\n",
       "48   NaN  NaN  NaN  ...  Très satisfaisant  Très satisfaisant   \n",
       "54   NaN  NaN  NaN  ...       Satisfaisant  Très satisfaisant   \n",
       "104  NaN  NaN  NaN  ...       Satisfaisant       Satisfaisant   \n",
       "\n",
       "                  ben3               ben4               ben5  \\\n",
       "48        Satisfaisant       Satisfaisant       Satisfaisant   \n",
       "54   Très satisfaisant  Très satisfaisant  Très satisfaisant   \n",
       "104       Satisfaisant       Satisfaisant       Satisfaisant   \n",
       "\n",
       "                  ben6          ben7 comment proposition        register_date  \n",
       "48        Satisfaisant  Satisfaisant     NaN         NaN  2021-06-22 14:12:17  \n",
       "54   Très satisfaisant           NaN     NaN         NaN  2021-06-23 09:16:58  \n",
       "104       Satisfaisant           NaN     NaN         NaN  2021-06-25 09:05:06  \n",
       "\n",
       "[3 rows x 40 columns]"
      ]
     },
     "execution_count": 16,
     "metadata": {},
     "output_type": "execute_result"
    }
   ],
   "source": [
    "df[df.debut.isnull()==True]"
   ]
  },
  {
   "cell_type": "code",
   "execution_count": 17,
   "metadata": {},
   "outputs": [],
   "source": [
    "df.at[48, \"debut\"] = \"2020-01-09\" \n",
    "df.at[104, \"debut\"] = \"2021-01-20\"\n",
    "df.at[54, \"debut\"] = \"2020-09-17\""
   ]
  },
  {
   "cell_type": "code",
   "execution_count": 18,
   "metadata": {},
   "outputs": [
    {
     "data": {
      "text/plain": [
       "0"
      ]
     },
     "execution_count": 18,
     "metadata": {},
     "output_type": "execute_result"
    }
   ],
   "source": [
    "df.debut.isnull().sum()"
   ]
  },
  {
   "cell_type": "markdown",
   "metadata": {},
   "source": [
    "### Fin"
   ]
  },
  {
   "cell_type": "code",
   "execution_count": 19,
   "metadata": {},
   "outputs": [
    {
     "data": {
      "text/plain": [
       "2020-11-02    13\n",
       "2020-11-17    12\n",
       "2021-09-02    12\n",
       "2021-06-15     9\n",
       "2021-05-10     8\n",
       "Name: fin, dtype: int64"
      ]
     },
     "execution_count": 19,
     "metadata": {},
     "output_type": "execute_result"
    }
   ],
   "source": [
    "df.fin.value_counts(dropna=False).head()"
   ]
  },
  {
   "cell_type": "code",
   "execution_count": 20,
   "metadata": {},
   "outputs": [],
   "source": [
    "df.fin.replace(to_replace = \"0021-05-03\", value = \"2021-05-03\", inplace=True)"
   ]
  },
  {
   "cell_type": "code",
   "execution_count": 21,
   "metadata": {},
   "outputs": [],
   "source": [
    "df.at[48, \"fin\"] = \"2020-06-15\"\n",
    "df.at[54, \"fin\"] = \"2021-02-01\"\n",
    "df.at[93, \"fin\"] = \"2021-05-10\" # debut est 2020-11-30, cest pas possible fin au 2020-05-10\n",
    "df.at[97, \"fin\"] = \"2021-03-01\" # debut est 2020-08-01, cest pas possible fin au 2020-03-01"
   ]
  },
  {
   "cell_type": "code",
   "execution_count": 22,
   "metadata": {},
   "outputs": [
    {
     "data": {
      "text/html": [
       "<div>\n",
       "<style scoped>\n",
       "    .dataframe tbody tr th:only-of-type {\n",
       "        vertical-align: middle;\n",
       "    }\n",
       "\n",
       "    .dataframe tbody tr th {\n",
       "        vertical-align: top;\n",
       "    }\n",
       "\n",
       "    .dataframe thead th {\n",
       "        text-align: right;\n",
       "    }\n",
       "</style>\n",
       "<table border=\"1\" class=\"dataframe\">\n",
       "  <thead>\n",
       "    <tr style=\"text-align: right;\">\n",
       "      <th></th>\n",
       "      <th>dispositif</th>\n",
       "      <th>site</th>\n",
       "      <th>debut</th>\n",
       "      <th>fin</th>\n",
       "      <th>statue</th>\n",
       "      <th>branche</th>\n",
       "      <th>fin1</th>\n",
       "      <th>fin2</th>\n",
       "      <th>fin3</th>\n",
       "      <th>fin4</th>\n",
       "      <th>...</th>\n",
       "      <th>ben1</th>\n",
       "      <th>ben2</th>\n",
       "      <th>ben3</th>\n",
       "      <th>ben4</th>\n",
       "      <th>ben5</th>\n",
       "      <th>ben6</th>\n",
       "      <th>ben7</th>\n",
       "      <th>comment</th>\n",
       "      <th>proposition</th>\n",
       "      <th>register_date</th>\n",
       "    </tr>\n",
       "  </thead>\n",
       "  <tbody>\n",
       "    <tr>\n",
       "      <th>93</th>\n",
       "      <td>PIS</td>\n",
       "      <td>La Ferte-Mace</td>\n",
       "      <td>2020-11-30</td>\n",
       "      <td>2021-05-10</td>\n",
       "      <td>intervenant-e</td>\n",
       "      <td>intervenant-e</td>\n",
       "      <td>NaN</td>\n",
       "      <td>NaN</td>\n",
       "      <td>NaN</td>\n",
       "      <td>NaN</td>\n",
       "      <td>...</td>\n",
       "      <td>NaN</td>\n",
       "      <td>NaN</td>\n",
       "      <td>NaN</td>\n",
       "      <td>NaN</td>\n",
       "      <td>NaN</td>\n",
       "      <td>NaN</td>\n",
       "      <td>NaN</td>\n",
       "      <td>Thème de prestation a été réalisée à la demand...</td>\n",
       "      <td>NaN</td>\n",
       "      <td>2021-06-23 13:10:30</td>\n",
       "    </tr>\n",
       "  </tbody>\n",
       "</table>\n",
       "<p>1 rows × 40 columns</p>\n",
       "</div>"
      ],
      "text/plain": [
       "   dispositif           site       debut         fin         statue  \\\n",
       "93        PIS  La Ferte-Mace  2020-11-30  2021-05-10  intervenant-e   \n",
       "\n",
       "          branche fin1 fin2 fin3 fin4  ... ben1 ben2 ben3 ben4 ben5 ben6 ben7  \\\n",
       "93  intervenant-e  NaN  NaN  NaN  NaN  ...  NaN  NaN  NaN  NaN  NaN  NaN  NaN   \n",
       "\n",
       "                                              comment proposition  \\\n",
       "93  Thème de prestation a été réalisée à la demand...         NaN   \n",
       "\n",
       "          register_date  \n",
       "93  2021-06-23 13:10:30  \n",
       "\n",
       "[1 rows x 40 columns]"
      ]
     },
     "execution_count": 22,
     "metadata": {},
     "output_type": "execute_result"
    }
   ],
   "source": [
    "df[93:94]"
   ]
  },
  {
   "cell_type": "code",
   "execution_count": 23,
   "metadata": {},
   "outputs": [
    {
     "data": {
      "text/plain": [
       "0"
      ]
     },
     "execution_count": 23,
     "metadata": {},
     "output_type": "execute_result"
    }
   ],
   "source": [
    "df.fin.isnull().sum()"
   ]
  },
  {
   "cell_type": "markdown",
   "metadata": {},
   "source": [
    "## Création de nouvelles colonnes"
   ]
  },
  {
   "cell_type": "markdown",
   "metadata": {},
   "source": [
    "### Combien de jours l'action s'est-elle poursuivie ?"
   ]
  },
  {
   "cell_type": "code",
   "execution_count": 24,
   "metadata": {},
   "outputs": [],
   "source": [
    "df.debut = pd.to_datetime(df.debut, format = \"%Y-%m-%d\")\n",
    "df.fin = pd.to_datetime(df.fin, format = \"%Y-%m-%d\")"
   ]
  },
  {
   "cell_type": "code",
   "execution_count": 25,
   "metadata": {},
   "outputs": [],
   "source": [
    "df[\"jour\"] = df.fin-df.debut"
   ]
  },
  {
   "cell_type": "code",
   "execution_count": 26,
   "metadata": {},
   "outputs": [
    {
     "data": {
      "text/plain": [
       "Timedelta('105 days 00:00:00')"
      ]
     },
     "execution_count": 26,
     "metadata": {},
     "output_type": "execute_result"
    }
   ],
   "source": [
    "df.loc[1, \"jour\"]"
   ]
  },
  {
   "cell_type": "markdown",
   "metadata": {},
   "source": [
    "### En quelle année, mois et jour l'action s'est-elle faite?"
   ]
  },
  {
   "cell_type": "code",
   "execution_count": 27,
   "metadata": {},
   "outputs": [],
   "source": [
    "df[\"annéeDebut\"] = df[\"debut\"].dt.year\n",
    "df[\"moisDebut\"] = df[\"debut\"].dt.month\n",
    "df[\"jourDebut\"] = df[\"debut\"].dt.day\n",
    "df[\"annéeFin\"] = df[\"fin\"].dt.year\n",
    "df[\"moisFin\"] = df[\"fin\"].dt.month\n",
    "df[\"jourFin\"] = df[\"fin\"].dt.day"
   ]
  },
  {
   "cell_type": "code",
   "execution_count": 28,
   "metadata": {},
   "outputs": [
    {
     "data": {
      "text/html": [
       "<div>\n",
       "<style scoped>\n",
       "    .dataframe tbody tr th:only-of-type {\n",
       "        vertical-align: middle;\n",
       "    }\n",
       "\n",
       "    .dataframe tbody tr th {\n",
       "        vertical-align: top;\n",
       "    }\n",
       "\n",
       "    .dataframe thead th {\n",
       "        text-align: right;\n",
       "    }\n",
       "</style>\n",
       "<table border=\"1\" class=\"dataframe\">\n",
       "  <thead>\n",
       "    <tr style=\"text-align: right;\">\n",
       "      <th></th>\n",
       "      <th>dispositif</th>\n",
       "      <th>site</th>\n",
       "      <th>debut</th>\n",
       "      <th>fin</th>\n",
       "      <th>statue</th>\n",
       "      <th>branche</th>\n",
       "      <th>fin1</th>\n",
       "      <th>fin2</th>\n",
       "      <th>fin3</th>\n",
       "      <th>fin4</th>\n",
       "      <th>...</th>\n",
       "      <th>comment</th>\n",
       "      <th>proposition</th>\n",
       "      <th>register_date</th>\n",
       "      <th>jour</th>\n",
       "      <th>annéeDebut</th>\n",
       "      <th>moisDebut</th>\n",
       "      <th>jourDebut</th>\n",
       "      <th>annéeFin</th>\n",
       "      <th>moisFin</th>\n",
       "      <th>jourFin</th>\n",
       "    </tr>\n",
       "  </thead>\n",
       "  <tbody>\n",
       "    <tr>\n",
       "      <th>1</th>\n",
       "      <td>BC</td>\n",
       "      <td>Vire</td>\n",
       "      <td>2021-02-23</td>\n",
       "      <td>2021-06-08</td>\n",
       "      <td>prescripteur</td>\n",
       "      <td>prescripteur</td>\n",
       "      <td>NaN</td>\n",
       "      <td>NaN</td>\n",
       "      <td>NaN</td>\n",
       "      <td>NaN</td>\n",
       "      <td>...</td>\n",
       "      <td>J'ai été ravie de la prise en charge de mon bi...</td>\n",
       "      <td>NaN</td>\n",
       "      <td>2021-06-22 12:18:15</td>\n",
       "      <td>105 days</td>\n",
       "      <td>2021</td>\n",
       "      <td>2</td>\n",
       "      <td>23</td>\n",
       "      <td>2021</td>\n",
       "      <td>6</td>\n",
       "      <td>8</td>\n",
       "    </tr>\n",
       "  </tbody>\n",
       "</table>\n",
       "<p>1 rows × 47 columns</p>\n",
       "</div>"
      ],
      "text/plain": [
       "  dispositif  site      debut        fin        statue       branche fin1  \\\n",
       "1         BC  Vire 2021-02-23 2021-06-08  prescripteur  prescripteur  NaN   \n",
       "\n",
       "  fin2 fin3 fin4  ...                                            comment  \\\n",
       "1  NaN  NaN  NaN  ...  J'ai été ravie de la prise en charge de mon bi...   \n",
       "\n",
       "  proposition        register_date     jour annéeDebut moisDebut jourDebut  \\\n",
       "1         NaN  2021-06-22 12:18:15 105 days       2021         2        23   \n",
       "\n",
       "  annéeFin moisFin jourFin  \n",
       "1     2021       6       8  \n",
       "\n",
       "[1 rows x 47 columns]"
      ]
     },
     "execution_count": 28,
     "metadata": {},
     "output_type": "execute_result"
    }
   ],
   "source": [
    "df[1:2]"
   ]
  },
  {
   "cell_type": "markdown",
   "metadata": {},
   "source": [
    "### Création d'une nouvelle colonne appelée \"période\"."
   ]
  },
  {
   "cell_type": "code",
   "execution_count": 29,
   "metadata": {},
   "outputs": [],
   "source": [
    "df[\"périodeDebut\"] = df[\"moisDebut\"] >= 7\n",
    "df[\"périodeDebut\"] = df[\"périodeDebut\"] + 1\n",
    "df[\"périodeFin\"] = df[\"moisFin\"] >= 7\n",
    "df[\"périodeFin\"] = df[\"périodeFin\"] + 1"
   ]
  },
  {
   "cell_type": "code",
   "execution_count": 30,
   "metadata": {},
   "outputs": [
    {
     "data": {
      "text/html": [
       "<div>\n",
       "<style scoped>\n",
       "    .dataframe tbody tr th:only-of-type {\n",
       "        vertical-align: middle;\n",
       "    }\n",
       "\n",
       "    .dataframe tbody tr th {\n",
       "        vertical-align: top;\n",
       "    }\n",
       "\n",
       "    .dataframe thead th {\n",
       "        text-align: right;\n",
       "    }\n",
       "</style>\n",
       "<table border=\"1\" class=\"dataframe\">\n",
       "  <thead>\n",
       "    <tr style=\"text-align: right;\">\n",
       "      <th></th>\n",
       "      <th>dispositif</th>\n",
       "      <th>site</th>\n",
       "      <th>debut</th>\n",
       "      <th>fin</th>\n",
       "      <th>statue</th>\n",
       "      <th>branche</th>\n",
       "      <th>fin1</th>\n",
       "      <th>fin2</th>\n",
       "      <th>fin3</th>\n",
       "      <th>fin4</th>\n",
       "      <th>...</th>\n",
       "      <th>register_date</th>\n",
       "      <th>jour</th>\n",
       "      <th>annéeDebut</th>\n",
       "      <th>moisDebut</th>\n",
       "      <th>jourDebut</th>\n",
       "      <th>annéeFin</th>\n",
       "      <th>moisFin</th>\n",
       "      <th>jourFin</th>\n",
       "      <th>périodeDebut</th>\n",
       "      <th>périodeFin</th>\n",
       "    </tr>\n",
       "  </thead>\n",
       "  <tbody>\n",
       "    <tr>\n",
       "      <th>1</th>\n",
       "      <td>BC</td>\n",
       "      <td>Vire</td>\n",
       "      <td>2021-02-23</td>\n",
       "      <td>2021-06-08</td>\n",
       "      <td>prescripteur</td>\n",
       "      <td>prescripteur</td>\n",
       "      <td>NaN</td>\n",
       "      <td>NaN</td>\n",
       "      <td>NaN</td>\n",
       "      <td>NaN</td>\n",
       "      <td>...</td>\n",
       "      <td>2021-06-22 12:18:15</td>\n",
       "      <td>105 days</td>\n",
       "      <td>2021</td>\n",
       "      <td>2</td>\n",
       "      <td>23</td>\n",
       "      <td>2021</td>\n",
       "      <td>6</td>\n",
       "      <td>8</td>\n",
       "      <td>1</td>\n",
       "      <td>1</td>\n",
       "    </tr>\n",
       "  </tbody>\n",
       "</table>\n",
       "<p>1 rows × 49 columns</p>\n",
       "</div>"
      ],
      "text/plain": [
       "  dispositif  site      debut        fin        statue       branche fin1  \\\n",
       "1         BC  Vire 2021-02-23 2021-06-08  prescripteur  prescripteur  NaN   \n",
       "\n",
       "  fin2 fin3 fin4  ...        register_date     jour annéeDebut moisDebut  \\\n",
       "1  NaN  NaN  NaN  ...  2021-06-22 12:18:15 105 days       2021         2   \n",
       "\n",
       "  jourDebut annéeFin moisFin jourFin périodeDebut périodeFin  \n",
       "1        23     2021       6       8            1          1  \n",
       "\n",
       "[1 rows x 49 columns]"
      ]
     },
     "execution_count": 30,
     "metadata": {},
     "output_type": "execute_result"
    }
   ],
   "source": [
    "df[1:2]"
   ]
  },
  {
   "cell_type": "markdown",
   "metadata": {},
   "source": [
    "### Création d'une nouvelle colonne appelée période annuelle."
   ]
  },
  {
   "cell_type": "code",
   "execution_count": 31,
   "metadata": {},
   "outputs": [],
   "source": [
    "df[\"périodeAnnuelleDebut\"] = df[\"annéeDebut\"].astype(str) + \"-\" + df[\"périodeDebut\"].astype(str)"
   ]
  },
  {
   "cell_type": "code",
   "execution_count": 32,
   "metadata": {},
   "outputs": [],
   "source": [
    "df[\"périodeAnnuelleFin\"] = df[\"annéeFin\"].astype(str) + \"-\" + df[\"périodeFin\"].astype(str)"
   ]
  },
  {
   "cell_type": "code",
   "execution_count": 33,
   "metadata": {},
   "outputs": [
    {
     "data": {
      "text/html": [
       "<div>\n",
       "<style scoped>\n",
       "    .dataframe tbody tr th:only-of-type {\n",
       "        vertical-align: middle;\n",
       "    }\n",
       "\n",
       "    .dataframe tbody tr th {\n",
       "        vertical-align: top;\n",
       "    }\n",
       "\n",
       "    .dataframe thead th {\n",
       "        text-align: right;\n",
       "    }\n",
       "</style>\n",
       "<table border=\"1\" class=\"dataframe\">\n",
       "  <thead>\n",
       "    <tr style=\"text-align: right;\">\n",
       "      <th></th>\n",
       "      <th>dispositif</th>\n",
       "      <th>site</th>\n",
       "      <th>debut</th>\n",
       "      <th>fin</th>\n",
       "      <th>statue</th>\n",
       "      <th>branche</th>\n",
       "      <th>fin1</th>\n",
       "      <th>fin2</th>\n",
       "      <th>fin3</th>\n",
       "      <th>fin4</th>\n",
       "      <th>...</th>\n",
       "      <th>annéeDebut</th>\n",
       "      <th>moisDebut</th>\n",
       "      <th>jourDebut</th>\n",
       "      <th>annéeFin</th>\n",
       "      <th>moisFin</th>\n",
       "      <th>jourFin</th>\n",
       "      <th>périodeDebut</th>\n",
       "      <th>périodeFin</th>\n",
       "      <th>périodeAnnuelleDebut</th>\n",
       "      <th>périodeAnnuelleFin</th>\n",
       "    </tr>\n",
       "  </thead>\n",
       "  <tbody>\n",
       "    <tr>\n",
       "      <th>1</th>\n",
       "      <td>BC</td>\n",
       "      <td>Vire</td>\n",
       "      <td>2021-02-23</td>\n",
       "      <td>2021-06-08</td>\n",
       "      <td>prescripteur</td>\n",
       "      <td>prescripteur</td>\n",
       "      <td>NaN</td>\n",
       "      <td>NaN</td>\n",
       "      <td>NaN</td>\n",
       "      <td>NaN</td>\n",
       "      <td>...</td>\n",
       "      <td>2021</td>\n",
       "      <td>2</td>\n",
       "      <td>23</td>\n",
       "      <td>2021</td>\n",
       "      <td>6</td>\n",
       "      <td>8</td>\n",
       "      <td>1</td>\n",
       "      <td>1</td>\n",
       "      <td>2021-1</td>\n",
       "      <td>2021-1</td>\n",
       "    </tr>\n",
       "  </tbody>\n",
       "</table>\n",
       "<p>1 rows × 51 columns</p>\n",
       "</div>"
      ],
      "text/plain": [
       "  dispositif  site      debut        fin        statue       branche fin1  \\\n",
       "1         BC  Vire 2021-02-23 2021-06-08  prescripteur  prescripteur  NaN   \n",
       "\n",
       "  fin2 fin3 fin4  ... annéeDebut moisDebut jourDebut annéeFin moisFin jourFin  \\\n",
       "1  NaN  NaN  NaN  ...       2021         2        23     2021       6       8   \n",
       "\n",
       "  périodeDebut périodeFin périodeAnnuelleDebut périodeAnnuelleFin  \n",
       "1            1          1               2021-1             2021-1  \n",
       "\n",
       "[1 rows x 51 columns]"
      ]
     },
     "execution_count": 33,
     "metadata": {},
     "output_type": "execute_result"
    }
   ],
   "source": [
    "df[1:2]"
   ]
  },
  {
   "cell_type": "markdown",
   "metadata": {},
   "source": [
    "## Nouvelle table "
   ]
  },
  {
   "cell_type": "code",
   "execution_count": 34,
   "metadata": {},
   "outputs": [
    {
     "data": {
      "text/plain": [
       "Index(['dispositif', 'site', 'debut', 'fin', 'statue', 'branche', 'fin1',\n",
       "       'fin2', 'fin3', 'fin4', 'fin5', 'intType', 'inter1', 'inter2', 'inter3',\n",
       "       'inter4', 'intForDis', 'inter5', 'intRisqS', 'intRisqH', 'intRisqJ',\n",
       "       'intRisqEn', 'intRisqEc', 'preUsager', 'pre1', 'pre2', 'pre3', 'pre4',\n",
       "       'pre5', 'pre6', 'ben1', 'ben2', 'ben3', 'ben4', 'ben5', 'ben6', 'ben7',\n",
       "       'comment', 'proposition', 'register_date', 'jour', 'annéeDebut',\n",
       "       'moisDebut', 'jourDebut', 'annéeFin', 'moisFin', 'jourFin',\n",
       "       'périodeDebut', 'périodeFin', 'périodeAnnuelleDebut',\n",
       "       'périodeAnnuelleFin'],\n",
       "      dtype='object')"
      ]
     },
     "execution_count": 34,
     "metadata": {},
     "output_type": "execute_result"
    }
   ],
   "source": [
    "df.columns"
   ]
  },
  {
   "cell_type": "code",
   "execution_count": 35,
   "metadata": {},
   "outputs": [],
   "source": [
    "df = df[['dispositif', 'site', \n",
    "    'debut', 'annéeDebut','moisDebut', 'jourDebut','périodeDebut', 'périodeAnnuelleDebut',\n",
    "    'fin', 'annéeFin', 'moisFin', 'jourFin','périodeFin', 'périodeAnnuelleFin', \n",
    "    'jour', 'statue', 'branche', 'fin1', 'fin2', 'fin3', 'fin4', 'fin5', \n",
    "    'intType', 'inter1', 'inter2', 'inter3', 'inter4', 'intForDis', 'inter5', \n",
    "    'intRisqS', 'intRisqH', 'intRisqJ','intRisqEn', 'intRisqEc', 'preUsager', \n",
    "    'pre1', 'pre2', 'pre3', 'pre4','pre5', 'pre6', \n",
    "    'ben1', 'ben2', 'ben3', 'ben4', 'ben5', 'ben6', 'ben7',\n",
    "       'comment', 'proposition', 'register_date']]"
   ]
  },
  {
   "cell_type": "code",
   "execution_count": 36,
   "metadata": {},
   "outputs": [
    {
     "data": {
      "text/html": [
       "<div>\n",
       "<style scoped>\n",
       "    .dataframe tbody tr th:only-of-type {\n",
       "        vertical-align: middle;\n",
       "    }\n",
       "\n",
       "    .dataframe tbody tr th {\n",
       "        vertical-align: top;\n",
       "    }\n",
       "\n",
       "    .dataframe thead th {\n",
       "        text-align: right;\n",
       "    }\n",
       "</style>\n",
       "<table border=\"1\" class=\"dataframe\">\n",
       "  <thead>\n",
       "    <tr style=\"text-align: right;\">\n",
       "      <th></th>\n",
       "      <th>dispositif</th>\n",
       "      <th>site</th>\n",
       "      <th>debut</th>\n",
       "      <th>annéeDebut</th>\n",
       "      <th>moisDebut</th>\n",
       "      <th>jourDebut</th>\n",
       "      <th>périodeDebut</th>\n",
       "      <th>périodeAnnuelleDebut</th>\n",
       "      <th>fin</th>\n",
       "      <th>annéeFin</th>\n",
       "      <th>...</th>\n",
       "      <th>ben1</th>\n",
       "      <th>ben2</th>\n",
       "      <th>ben3</th>\n",
       "      <th>ben4</th>\n",
       "      <th>ben5</th>\n",
       "      <th>ben6</th>\n",
       "      <th>ben7</th>\n",
       "      <th>comment</th>\n",
       "      <th>proposition</th>\n",
       "      <th>register_date</th>\n",
       "    </tr>\n",
       "  </thead>\n",
       "  <tbody>\n",
       "    <tr>\n",
       "      <th>1</th>\n",
       "      <td>BC</td>\n",
       "      <td>Vire</td>\n",
       "      <td>2021-02-23</td>\n",
       "      <td>2021</td>\n",
       "      <td>2</td>\n",
       "      <td>23</td>\n",
       "      <td>1</td>\n",
       "      <td>2021-1</td>\n",
       "      <td>2021-06-08</td>\n",
       "      <td>2021</td>\n",
       "      <td>...</td>\n",
       "      <td>NaN</td>\n",
       "      <td>NaN</td>\n",
       "      <td>NaN</td>\n",
       "      <td>NaN</td>\n",
       "      <td>NaN</td>\n",
       "      <td>NaN</td>\n",
       "      <td>NaN</td>\n",
       "      <td>J'ai été ravie de la prise en charge de mon bi...</td>\n",
       "      <td>NaN</td>\n",
       "      <td>2021-06-22 12:18:15</td>\n",
       "    </tr>\n",
       "  </tbody>\n",
       "</table>\n",
       "<p>1 rows × 51 columns</p>\n",
       "</div>"
      ],
      "text/plain": [
       "  dispositif  site      debut  annéeDebut  moisDebut  jourDebut  périodeDebut  \\\n",
       "1         BC  Vire 2021-02-23        2021          2         23             1   \n",
       "\n",
       "  périodeAnnuelleDebut        fin  annéeFin  ...  ben1  ben2  ben3 ben4 ben5  \\\n",
       "1               2021-1 2021-06-08      2021  ...   NaN   NaN   NaN  NaN  NaN   \n",
       "\n",
       "  ben6 ben7                                            comment proposition  \\\n",
       "1  NaN  NaN  J'ai été ravie de la prise en charge de mon bi...         NaN   \n",
       "\n",
       "         register_date  \n",
       "1  2021-06-22 12:18:15  \n",
       "\n",
       "[1 rows x 51 columns]"
      ]
     },
     "execution_count": 36,
     "metadata": {},
     "output_type": "execute_result"
    }
   ],
   "source": [
    "df[1:2]"
   ]
  },
  {
   "cell_type": "markdown",
   "metadata": {},
   "source": [
    "## Analyse de questionnaire"
   ]
  },
  {
   "cell_type": "markdown",
   "metadata": {},
   "source": [
    "### Combien d'enquêtes avons-nous ?"
   ]
  },
  {
   "cell_type": "code",
   "execution_count": 37,
   "metadata": {},
   "outputs": [
    {
     "name": "stdout",
     "output_type": "stream",
     "text": [
      "Il y a 160 enquêtes dans la base de données.\n",
      "Ces enquêtes sont réalisées entre 2019-11-15 et 2021-09-01\n"
     ]
    }
   ],
   "source": [
    "print(\"Il y a\", len(df.index), \"enquêtes dans la base de données.\")\n",
    "print(\"Ces enquêtes sont réalisées entre\", str(df.debut.min())[0:10], \"et\", str(df.debut.max())[0:10])"
   ]
  },
  {
   "cell_type": "markdown",
   "metadata": {},
   "source": [
    "### Nom et Nombre total de dispositif sont:"
   ]
  },
  {
   "cell_type": "code",
   "execution_count": 38,
   "metadata": {},
   "outputs": [
    {
     "name": "stdout",
     "output_type": "stream",
     "text": [
      "Nom de dispositif sont: ['BC' 'PIS' 'Remob' 'PIP' 'GDA' 'ISU' 'PH' 'DE' 'PS' 'AC' 'FA']\n",
      "Nombre de dispositif sont:  11\n"
     ]
    }
   ],
   "source": [
    "print(\"Nom de dispositif sont:\", df.dispositif.unique())\n",
    "print(\"Nombre de dispositif sont: \", df.dispositif.nunique())"
   ]
  },
  {
   "cell_type": "markdown",
   "metadata": {},
   "source": [
    "### Dispersion du type de dispositif parmi tout questionnaires"
   ]
  },
  {
   "cell_type": "code",
   "execution_count": 39,
   "metadata": {},
   "outputs": [
    {
     "name": "stdout",
     "output_type": "stream",
     "text": [
      "BC       60\n",
      "PIP      28\n",
      "PIS      23\n",
      "PS       15\n",
      "Remob    13\n",
      "DE        9\n",
      "FA        5\n",
      "ISU       2\n",
      "AC        2\n",
      "GDA       2\n",
      "PH        1\n",
      "Name: dispositif, dtype: int64\n"
     ]
    },
    {
     "data": {
      "text/plain": [
       "Text(0.5, 1.0, 'dispersion du type de dispositif')"
      ]
     },
     "execution_count": 39,
     "metadata": {},
     "output_type": "execute_result"
    },
    {
     "data": {
      "image/png": "[encoded data removed]",
      "text/plain": [
       "<Figure size 864x576 with 1 Axes>"
      ]
     },
     "metadata": {},
     "output_type": "display_data"
    }
   ],
   "source": [
    "print(df.dispositif.value_counts(dropna=True))\n",
    "fontdict = {\"size\":20, \"color\":\"red\", \"alpha\":1, \"backgroundcolor\":\"lightgray\", \"style\": \"italic\", \"weight\":\"black\", \"family\": \"fantasy\"}\n",
    "dispTotal = df.dispositif.value_counts().plot(kind=\"bar\", figsize=(12,8), fontsize =14)\n",
    "dispTotal.set_xlabel(\"Dispositif\", fontdict = fontdict)\n",
    "dispTotal.set_ylabel(\"Nombre\", fontdict= fontdict)\n",
    "dispTotal.set_title(label = \"dispersion du type de dispositif\", fontdict= fontdict)"
   ]
  },
  {
   "cell_type": "markdown",
   "metadata": {},
   "source": [
    "### Taux de pourcentage de du type de dispositif sont:"
   ]
  },
  {
   "cell_type": "code",
   "execution_count": 40,
   "metadata": {},
   "outputs": [
    {
     "name": "stdout",
     "output_type": "stream",
     "text": [
      "BC       0.38\n",
      "PIP      0.18\n",
      "PIS      0.14\n",
      "PS       0.09\n",
      "Remob    0.08\n",
      "DE       0.06\n",
      "FA       0.03\n",
      "ISU      0.01\n",
      "AC       0.01\n",
      "GDA      0.01\n",
      "PH       0.01\n",
      "Name: dispositif, dtype: float64\n"
     ]
    },
    {
     "data": {
      "text/plain": [
       "Text(0.5, 1.0, 'Taux de pourcentage de dispositif')"
      ]
     },
     "execution_count": 40,
     "metadata": {},
     "output_type": "execute_result"
    },
    {
     "data": {
      "image/png": "[encoded data removed]",
      "text/plain": [
       "<Figure size 864x576 with 1 Axes>"
      ]
     },
     "metadata": {},
     "output_type": "display_data"
    }
   ],
   "source": [
    "print(round((df.dispositif.value_counts(normalize=True)), 2))\n",
    "dispTaux = round(df.dispositif.value_counts(normalize=True), 2).plot(kind=\"pie\", figsize = (12,8), fontsize=13)\n",
    "dispTaux.set_title(\"Taux de pourcentage de dispositif\", fontdict=fontdict)"
   ]
  },
  {
   "cell_type": "markdown",
   "metadata": {},
   "source": [
    "## Analyse de site"
   ]
  },
  {
   "cell_type": "markdown",
   "metadata": {},
   "source": [
    "### Nom et Nombre total de site sont:"
   ]
  },
  {
   "cell_type": "code",
   "execution_count": 41,
   "metadata": {},
   "outputs": [
    {
     "name": "stdout",
     "output_type": "stream",
     "text": [
      "Nom de sites sont: ['Avranches' 'Vire' 'Argentan' 'Saint-Lo' 'La Ferte-Mace' 'Flers'\n",
      " 'Domfront' 'Autre Lieu Delocalise' 'Bayeux' 'Falaise']\n",
      "Nombre de site est:  10\n"
     ]
    }
   ],
   "source": [
    "print(\"Nom de sites sont:\", df.site.unique())\n",
    "print(\"Nombre de site est: \", df.site.nunique())"
   ]
  },
  {
   "cell_type": "markdown",
   "metadata": {},
   "source": [
    "### Dispersion de site:"
   ]
  },
  {
   "cell_type": "code",
   "execution_count": 42,
   "metadata": {},
   "outputs": [
    {
     "name": "stdout",
     "output_type": "stream",
     "text": [
      "Vire                     49\n",
      "Argentan                 25\n",
      "Avranches                14\n",
      "Domfront                 13\n",
      "Saint-Lo                 12\n",
      "Autre Lieu Delocalise    12\n",
      "La Ferte-Mace            12\n",
      "Bayeux                    9\n",
      "Flers                     8\n",
      "Falaise                   6\n",
      "Name: site, dtype: int64\n"
     ]
    },
    {
     "data": {
      "text/plain": [
       "Text(0.5, 1.0, 'Nombres total de site')"
      ]
     },
     "execution_count": 42,
     "metadata": {},
     "output_type": "execute_result"
    },
    {
     "data": {
      "image/png": "[encoded data removed]",
      "text/plain": [
       "<Figure size 720x432 with 1 Axes>"
      ]
     },
     "metadata": {},
     "output_type": "display_data"
    }
   ],
   "source": [
    "print(df.site.value_counts())\n",
    "siteTotal = df.site.value_counts().plot(kind = \"bar\", title = \"Nombre total de site\", figsize=(10,6), fontsize=14)\n",
    "siteTotal.set_xlabel(\"Site de activites\", fontdict=fontdict)\n",
    "siteTotal.set_ylabel(\"Nombres de occurrences\", fontdict=fontdict)\n",
    "siteTotal.set_title(\"Nombres total de site\", fontdict=fontdict)"
   ]
  },
  {
   "cell_type": "markdown",
   "metadata": {},
   "source": [
    "### Taux de pourcentage de site sont:"
   ]
  },
  {
   "cell_type": "code",
   "execution_count": 43,
   "metadata": {},
   "outputs": [
    {
     "name": "stdout",
     "output_type": "stream",
     "text": [
      "Vire                     0.31\n",
      "Argentan                 0.16\n",
      "Avranches                0.09\n",
      "Domfront                 0.08\n",
      "Saint-Lo                 0.08\n",
      "Autre Lieu Delocalise    0.08\n",
      "La Ferte-Mace            0.08\n",
      "Bayeux                   0.06\n",
      "Flers                    0.05\n",
      "Falaise                  0.04\n",
      "Name: site, dtype: float64\n"
     ]
    },
    {
     "data": {
      "text/plain": [
       "Text(0.5, 1.0, 'Taux de pourcentage de site')"
      ]
     },
     "execution_count": 43,
     "metadata": {},
     "output_type": "execute_result"
    },
    {
     "data": {
      "image/png": "[encoded data removed]",
      "text/plain": [
       "<Figure size 864x576 with 1 Axes>"
      ]
     },
     "metadata": {},
     "output_type": "display_data"
    }
   ],
   "source": [
    "print(round((df.site.value_counts(normalize=True)), 2))\n",
    "siteTaux = round(df.site.value_counts(normalize=True), 2).plot(kind=\"pie\", figsize = (12,8), fontsize=12)\n",
    "siteTaux.set_title(\"Taux de pourcentage de site\", fontdict=fontdict)"
   ]
  },
  {
   "cell_type": "markdown",
   "metadata": {},
   "source": [
    "## Analyse de debut"
   ]
  },
  {
   "cell_type": "code",
   "execution_count": 44,
   "metadata": {},
   "outputs": [
    {
     "data": {
      "text/html": [
       "<div>\n",
       "<style scoped>\n",
       "    .dataframe tbody tr th:only-of-type {\n",
       "        vertical-align: middle;\n",
       "    }\n",
       "\n",
       "    .dataframe tbody tr th {\n",
       "        vertical-align: top;\n",
       "    }\n",
       "\n",
       "    .dataframe thead th {\n",
       "        text-align: right;\n",
       "    }\n",
       "</style>\n",
       "<table border=\"1\" class=\"dataframe\">\n",
       "  <thead>\n",
       "    <tr style=\"text-align: right;\">\n",
       "      <th></th>\n",
       "      <th>dispositif</th>\n",
       "      <th>site</th>\n",
       "      <th>debut</th>\n",
       "      <th>annéeDebut</th>\n",
       "      <th>moisDebut</th>\n",
       "      <th>jourDebut</th>\n",
       "      <th>périodeDebut</th>\n",
       "      <th>périodeAnnuelleDebut</th>\n",
       "      <th>fin</th>\n",
       "      <th>annéeFin</th>\n",
       "      <th>...</th>\n",
       "      <th>ben1</th>\n",
       "      <th>ben2</th>\n",
       "      <th>ben3</th>\n",
       "      <th>ben4</th>\n",
       "      <th>ben5</th>\n",
       "      <th>ben6</th>\n",
       "      <th>ben7</th>\n",
       "      <th>comment</th>\n",
       "      <th>proposition</th>\n",
       "      <th>register_date</th>\n",
       "    </tr>\n",
       "  </thead>\n",
       "  <tbody>\n",
       "    <tr>\n",
       "      <th>1</th>\n",
       "      <td>BC</td>\n",
       "      <td>Vire</td>\n",
       "      <td>2021-02-23</td>\n",
       "      <td>2021</td>\n",
       "      <td>2</td>\n",
       "      <td>23</td>\n",
       "      <td>1</td>\n",
       "      <td>2021-1</td>\n",
       "      <td>2021-06-08</td>\n",
       "      <td>2021</td>\n",
       "      <td>...</td>\n",
       "      <td>NaN</td>\n",
       "      <td>NaN</td>\n",
       "      <td>NaN</td>\n",
       "      <td>NaN</td>\n",
       "      <td>NaN</td>\n",
       "      <td>NaN</td>\n",
       "      <td>NaN</td>\n",
       "      <td>J'ai été ravie de la prise en charge de mon bi...</td>\n",
       "      <td>NaN</td>\n",
       "      <td>2021-06-22 12:18:15</td>\n",
       "    </tr>\n",
       "  </tbody>\n",
       "</table>\n",
       "<p>1 rows × 51 columns</p>\n",
       "</div>"
      ],
      "text/plain": [
       "  dispositif  site      debut  annéeDebut  moisDebut  jourDebut  périodeDebut  \\\n",
       "1         BC  Vire 2021-02-23        2021          2         23             1   \n",
       "\n",
       "  périodeAnnuelleDebut        fin  annéeFin  ...  ben1  ben2  ben3 ben4 ben5  \\\n",
       "1               2021-1 2021-06-08      2021  ...   NaN   NaN   NaN  NaN  NaN   \n",
       "\n",
       "  ben6 ben7                                            comment proposition  \\\n",
       "1  NaN  NaN  J'ai été ravie de la prise en charge de mon bi...         NaN   \n",
       "\n",
       "         register_date  \n",
       "1  2021-06-22 12:18:15  \n",
       "\n",
       "[1 rows x 51 columns]"
      ]
     },
     "execution_count": 44,
     "metadata": {},
     "output_type": "execute_result"
    }
   ],
   "source": [
    "df[1:2]"
   ]
  },
  {
   "cell_type": "markdown",
   "metadata": {},
   "source": [
    "### Nombre de demandes d'enquête par année par rapport de debut de disposition"
   ]
  },
  {
   "cell_type": "code",
   "execution_count": 45,
   "metadata": {},
   "outputs": [
    {
     "name": "stdout",
     "output_type": "stream",
     "text": [
      "Nombre de demandes d'enquête par année : \n",
      " 2021    81\n",
      "2020    78\n",
      "2019     1\n",
      "Name: annéeDebut, dtype: int64\n"
     ]
    },
    {
     "data": {
      "text/plain": [
       "<matplotlib.axes._subplots.AxesSubplot at 0x21d29b51248>"
      ]
     },
     "execution_count": 45,
     "metadata": {},
     "output_type": "execute_result"
    },
    {
     "data": {
      "image/png": "[encoded data removed]",
      "text/plain": [
       "<Figure size 432x288 with 1 Axes>"
      ]
     },
     "metadata": {},
     "output_type": "display_data"
    }
   ],
   "source": [
    "print(\"Nombre de demandes d'enquête par année :\",\"\\n\", df.annéeDebut.value_counts())\n",
    "df.annéeDebut.value_counts().plot(kind=\"bar\")"
   ]
  },
  {
   "cell_type": "markdown",
   "metadata": {},
   "source": [
    "### Nombre de demandes d'enquête par mois par rapport de debut de disposition"
   ]
  },
  {
   "cell_type": "code",
   "execution_count": 46,
   "metadata": {},
   "outputs": [
    {
     "data": {
      "text/plain": [
       "Text(0.5, 1.0, 'Les debuts de disposition par rapport de mois')"
      ]
     },
     "execution_count": 46,
     "metadata": {},
     "output_type": "execute_result"
    },
    {
     "data": {
      "image/png": "[encoded data removed]",
      "text/plain": [
       "<Figure size 864x432 with 1 Axes>"
      ]
     },
     "metadata": {},
     "output_type": "display_data"
    }
   ],
   "source": [
    "debutMois = df.groupby(\"annéeDebut\")[\"moisDebut\"].value_counts(ascending=False, sort=False).plot(kind=\"bar\", figsize=(12,6))\n",
    "debutMois.set_xlabel(\"Mois\", fontdict=fontdict)\n",
    "debutMois.set_ylabel(\"Nombre\", fontdict=fontdict)\n",
    "debutMois.set_title(\"Les debuts de disposition par rapport de mois\", fontdict=fontdict)"
   ]
  },
  {
   "cell_type": "markdown",
   "metadata": {},
   "source": [
    "### Periode des debuts"
   ]
  },
  {
   "cell_type": "code",
   "execution_count": 47,
   "metadata": {},
   "outputs": [
    {
     "name": "stdout",
     "output_type": "stream",
     "text": [
      "Répartition des périodes selon les dates de début est : périodeAnnuelleDebut\n",
      "2019-2     1\n",
      "2020-1    41\n",
      "2020-2    37\n",
      "2021-1    75\n",
      "2021-2     6\n",
      "Name: dispositif, dtype: int64\n"
     ]
    },
    {
     "data": {
      "text/plain": [
       "Text(0.5, 1.0, 'Répartition des périodes selon les dates de début')"
      ]
     },
     "execution_count": 47,
     "metadata": {},
     "output_type": "execute_result"
    },
    {
     "data": {
      "image/png": "[encoded data removed]",
      "text/plain": [
       "<Figure size 720x360 with 1 Axes>"
      ]
     },
     "metadata": {},
     "output_type": "display_data"
    }
   ],
   "source": [
    "print(\"Répartition des périodes selon les dates de début est :\", df.groupby(\"périodeAnnuelleDebut\")[\"dispositif\"].count())\n",
    "périodeDebut = df.groupby(\"périodeAnnuelleDebut\")[\"dispositif\"].count().plot(kind=\"bar\", figsize=(10,5))\n",
    "périodeDebut.set_xlabel(\"Période\", fontdict=fontdict)\n",
    "périodeDebut.set_ylabel(\"Nombre\", fontdict=fontdict)\n",
    "périodeDebut.set_title(\"Répartition des périodes selon les dates de début\", fontdict=fontdict)"
   ]
  },
  {
   "cell_type": "markdown",
   "metadata": {},
   "source": [
    "## Analyse de fin"
   ]
  },
  {
   "cell_type": "markdown",
   "metadata": {},
   "source": [
    "### Nombre de demandes d'enquête par année par rapport de fin de disposition"
   ]
  },
  {
   "cell_type": "code",
   "execution_count": 48,
   "metadata": {},
   "outputs": [
    {
     "name": "stdout",
     "output_type": "stream",
     "text": [
      "Nombre de demandes d'enquête par année : \n",
      " 2021    110\n",
      "2020     50\n",
      "Name: annéeFin, dtype: int64\n"
     ]
    },
    {
     "data": {
      "text/plain": [
       "<matplotlib.axes._subplots.AxesSubplot at 0x21d29fdb308>"
      ]
     },
     "execution_count": 48,
     "metadata": {},
     "output_type": "execute_result"
    },
    {
     "data": {
      "image/png": "[encoded data removed]",
      "text/plain": [
       "<Figure size 432x288 with 1 Axes>"
      ]
     },
     "metadata": {},
     "output_type": "display_data"
    }
   ],
   "source": [
    "print(\"Nombre de demandes d'enquête par année :\",\"\\n\", df.annéeFin.value_counts())\n",
    "df.annéeFin.value_counts().plot(kind=\"bar\")"
   ]
  },
  {
   "cell_type": "markdown",
   "metadata": {},
   "source": [
    "### Nombre de demandes d'enquête par mois par rapport de fin de disposition"
   ]
  },
  {
   "cell_type": "code",
   "execution_count": 49,
   "metadata": {},
   "outputs": [
    {
     "data": {
      "text/plain": [
       "Text(0.5, 1.0, 'Les fins de disposition par rapport de mois')"
      ]
     },
     "execution_count": 49,
     "metadata": {},
     "output_type": "execute_result"
    },
    {
     "data": {
      "image/png": "[encoded data removed]",
      "text/plain": [
       "<Figure size 864x432 with 1 Axes>"
      ]
     },
     "metadata": {},
     "output_type": "display_data"
    }
   ],
   "source": [
    "finMois = df.groupby(\"annéeFin\")[\"moisFin\"].value_counts(ascending=False, sort=False).plot(kind=\"bar\", figsize=(12,6))\n",
    "finMois.set_xlabel(\"Mois\", fontdict=fontdict)\n",
    "finMois.set_ylabel(\"Nombre\", fontdict=fontdict)\n",
    "finMois.set_title(\"Les fins de disposition par rapport de mois\", fontdict=fontdict)"
   ]
  },
  {
   "cell_type": "markdown",
   "metadata": {},
   "source": [
    "### Periode des fins"
   ]
  },
  {
   "cell_type": "code",
   "execution_count": 50,
   "metadata": {},
   "outputs": [
    {
     "name": "stdout",
     "output_type": "stream",
     "text": [
      "Répartition des périodes selon les dates de fin est : périodeAnnuelleFin\n",
      "2020-1     5\n",
      "2020-2    45\n",
      "2021-1    70\n",
      "2021-2    40\n",
      "Name: dispositif, dtype: int64\n"
     ]
    },
    {
     "data": {
      "text/plain": [
       "Text(0.5, 1.0, 'Répartition des périodes selon les dates de début')"
      ]
     },
     "execution_count": 50,
     "metadata": {},
     "output_type": "execute_result"
    },
    {
     "data": {
      "image/png": "[encoded data removed]",
      "text/plain": [
       "<Figure size 720x360 with 1 Axes>"
      ]
     },
     "metadata": {},
     "output_type": "display_data"
    }
   ],
   "source": [
    "print(\"Répartition des périodes selon les dates de fin est :\", df.groupby(\"périodeAnnuelleFin\")[\"dispositif\"].count())\n",
    "périodeFin = df.groupby(\"périodeAnnuelleFin\")[\"dispositif\"].count().plot(kind=\"bar\", figsize=(10,5))\n",
    "périodeFin.set_xlabel(\"Période\", fontdict=fontdict)\n",
    "périodeFin.set_ylabel(\"Nombre\", fontdict=fontdict)\n",
    "périodeFin.set_title(\"Répartition des périodes selon les dates de début\", fontdict=fontdict)"
   ]
  },
  {
   "cell_type": "markdown",
   "metadata": {},
   "source": [
    "## Analyse de jour"
   ]
  },
  {
   "cell_type": "code",
   "execution_count": 65,
   "metadata": {},
   "outputs": [
    {
     "data": {
      "text/plain": [
       "dispositif                       object\n",
       "site                             object\n",
       "debut                    datetime64[ns]\n",
       "annéeDebut                        int64\n",
       "moisDebut                         int64\n",
       "jourDebut                         int64\n",
       "périodeDebut                      int32\n",
       "périodeAnnuelleDebut             object\n",
       "fin                      datetime64[ns]\n",
       "annéeFin                          int64\n",
       "moisFin                           int64\n",
       "jourFin                           int64\n",
       "périodeFin                        int32\n",
       "périodeAnnuelleFin               object\n",
       "jour                    timedelta64[ns]\n",
       "statue                           object\n",
       "branche                          object\n",
       "fin1                             object\n",
       "fin2                             object\n",
       "fin3                             object\n",
       "fin4                             object\n",
       "fin5                             object\n",
       "intType                          object\n",
       "inter1                           object\n",
       "inter2                           object\n",
       "inter3                           object\n",
       "inter4                           object\n",
       "intForDis                        object\n",
       "inter5                           object\n",
       "intRisqS                         object\n",
       "intRisqH                         object\n",
       "intRisqJ                         object\n",
       "intRisqEn                        object\n",
       "intRisqEc                        object\n",
       "preUsager                        object\n",
       "pre1                             object\n",
       "pre2                             object\n",
       "pre3                             object\n",
       "pre4                             object\n",
       "pre5                             object\n",
       "pre6                             object\n",
       "ben1                             object\n",
       "ben2                             object\n",
       "ben3                             object\n",
       "ben4                             object\n",
       "ben5                             object\n",
       "ben6                             object\n",
       "ben7                             object\n",
       "comment                          object\n",
       "proposition                      object\n",
       "register_date                    object\n",
       "dtype: object"
      ]
     },
     "execution_count": 65,
     "metadata": {},
     "output_type": "execute_result"
    }
   ],
   "source": [
    "df.dtypes"
   ]
  },
  {
   "cell_type": "code",
   "execution_count": 66,
   "metadata": {},
   "outputs": [
    {
     "data": {
      "text/plain": [
       "0      121 days 00:00:00.000000000\n",
       "1      105 days 00:00:00.000000000\n",
       "2      105 days 00:00:00.000000000\n",
       "3      105 days 00:00:00.000000000\n",
       "4      115 days 00:00:00.000000000\n",
       "                  ...             \n",
       "155    198 days 00:00:00.000000000\n",
       "156    198 days 00:00:00.000000000\n",
       "157    198 days 00:00:00.000000000\n",
       "158    198 days 00:00:00.000000000\n",
       "159    198 days 00:00:00.000000000\n",
       "Name: jour, Length: 160, dtype: object"
      ]
     },
     "execution_count": 66,
     "metadata": {},
     "output_type": "execute_result"
    }
   ],
   "source": [
    "df.jour.astype(\"str\")"
   ]
  },
  {
   "cell_type": "code",
   "execution_count": 223,
   "metadata": {},
   "outputs": [
    {
     "data": {
      "text/plain": [
       "154 days    13\n",
       "162 days    12\n",
       "198 days    12\n",
       "161 days    10\n",
       "0 days       9\n",
       "Name: jour, dtype: int64"
      ]
     },
     "execution_count": 223,
     "metadata": {},
     "output_type": "execute_result"
    }
   ],
   "source": [
    "df.jour.value_counts(ascending=False, sort=True).head()"
   ]
  },
  {
   "cell_type": "code",
   "execution_count": 228,
   "metadata": {},
   "outputs": [
    {
     "data": {
      "text/plain": [
       "dispositif                       object\n",
       "site                             object\n",
       "debut                    datetime64[ns]\n",
       "annéeDebut                        int64\n",
       "moisDebut                         int64\n",
       "jourDebut                         int64\n",
       "périodeDebut                      int32\n",
       "périodeAnnuelleDebut             object\n",
       "fin                      datetime64[ns]\n",
       "annéeFin                          int64\n",
       "moisFin                           int64\n",
       "jourFin                           int64\n",
       "périodeFin                        int32\n",
       "périodeAnnuelleFin               object\n",
       "jour                    timedelta64[ns]\n",
       "statue                           object\n",
       "branche                          object\n",
       "fin1                             object\n",
       "fin2                             object\n",
       "fin3                             object\n",
       "fin4                             object\n",
       "fin5                             object\n",
       "intType                          object\n",
       "inter1                           object\n",
       "inter2                           object\n",
       "inter3                           object\n",
       "inter4                           object\n",
       "intForDis                        object\n",
       "inter5                           object\n",
       "intRisqS                         object\n",
       "intRisqH                         object\n",
       "intRisqJ                         object\n",
       "intRisqEn                        object\n",
       "intRisqEc                        object\n",
       "preUsager                        object\n",
       "pre1                             object\n",
       "pre2                             object\n",
       "pre3                             object\n",
       "pre4                             object\n",
       "pre5                             object\n",
       "pre6                             object\n",
       "ben1                             object\n",
       "ben2                             object\n",
       "ben3                             object\n",
       "ben4                             object\n",
       "ben5                             object\n",
       "ben6                             object\n",
       "ben7                             object\n",
       "comment                          object\n",
       "proposition                      object\n",
       "register_date                    object\n",
       "dtype: object"
      ]
     },
     "execution_count": 228,
     "metadata": {},
     "output_type": "execute_result"
    }
   ],
   "source": [
    "df.dtypes"
   ]
  },
  {
   "cell_type": "code",
   "execution_count": 239,
   "metadata": {},
   "outputs": [
    {
     "ename": "AttributeError",
     "evalue": "Can only use .str accessor with string values!",
     "output_type": "error",
     "traceback": [
      "\u001b[1;31m---------------------------------------------------------------------------\u001b[0m",
      "\u001b[1;31mAttributeError\u001b[0m                            Traceback (most recent call last)",
      "\u001b[1;32m<ipython-input-239-33aeeba479ab>\u001b[0m in \u001b[0;36m<module>\u001b[1;34m\u001b[0m\n\u001b[1;32m----> 1\u001b[1;33m \u001b[0mdf\u001b[0m\u001b[1;33m.\u001b[0m\u001b[0mjour\u001b[0m\u001b[1;33m.\u001b[0m\u001b[0mstr\u001b[0m\u001b[1;33m.\u001b[0m\u001b[0mslice\u001b[0m\u001b[1;33m(\u001b[0m\u001b[1;36m0\u001b[0m\u001b[1;33m,\u001b[0m\u001b[1;36m3\u001b[0m\u001b[1;33m)\u001b[0m\u001b[1;33m\u001b[0m\u001b[1;33m\u001b[0m\u001b[0m\n\u001b[0m",
      "\u001b[1;32m~\\anaconda3\\lib\\site-packages\\pandas\\core\\generic.py\u001b[0m in \u001b[0;36m__getattr__\u001b[1;34m(self, name)\u001b[0m\n\u001b[0;32m   5268\u001b[0m             \u001b[1;32mor\u001b[0m \u001b[0mname\u001b[0m \u001b[1;32min\u001b[0m \u001b[0mself\u001b[0m\u001b[1;33m.\u001b[0m\u001b[0m_accessors\u001b[0m\u001b[1;33m\u001b[0m\u001b[1;33m\u001b[0m\u001b[0m\n\u001b[0;32m   5269\u001b[0m         ):\n\u001b[1;32m-> 5270\u001b[1;33m             \u001b[1;32mreturn\u001b[0m \u001b[0mobject\u001b[0m\u001b[1;33m.\u001b[0m\u001b[0m__getattribute__\u001b[0m\u001b[1;33m(\u001b[0m\u001b[0mself\u001b[0m\u001b[1;33m,\u001b[0m \u001b[0mname\u001b[0m\u001b[1;33m)\u001b[0m\u001b[1;33m\u001b[0m\u001b[1;33m\u001b[0m\u001b[0m\n\u001b[0m\u001b[0;32m   5271\u001b[0m         \u001b[1;32melse\u001b[0m\u001b[1;33m:\u001b[0m\u001b[1;33m\u001b[0m\u001b[1;33m\u001b[0m\u001b[0m\n\u001b[0;32m   5272\u001b[0m             \u001b[1;32mif\u001b[0m \u001b[0mself\u001b[0m\u001b[1;33m.\u001b[0m\u001b[0m_info_axis\u001b[0m\u001b[1;33m.\u001b[0m\u001b[0m_can_hold_identifiers_and_holds_name\u001b[0m\u001b[1;33m(\u001b[0m\u001b[0mname\u001b[0m\u001b[1;33m)\u001b[0m\u001b[1;33m:\u001b[0m\u001b[1;33m\u001b[0m\u001b[1;33m\u001b[0m\u001b[0m\n",
      "\u001b[1;32m~\\anaconda3\\lib\\site-packages\\pandas\\core\\accessor.py\u001b[0m in \u001b[0;36m__get__\u001b[1;34m(self, obj, cls)\u001b[0m\n\u001b[0;32m    185\u001b[0m             \u001b[1;31m# we're accessing the attribute of the class, i.e., Dataset.geo\u001b[0m\u001b[1;33m\u001b[0m\u001b[1;33m\u001b[0m\u001b[1;33m\u001b[0m\u001b[0m\n\u001b[0;32m    186\u001b[0m             \u001b[1;32mreturn\u001b[0m \u001b[0mself\u001b[0m\u001b[1;33m.\u001b[0m\u001b[0m_accessor\u001b[0m\u001b[1;33m\u001b[0m\u001b[1;33m\u001b[0m\u001b[0m\n\u001b[1;32m--> 187\u001b[1;33m         \u001b[0maccessor_obj\u001b[0m \u001b[1;33m=\u001b[0m \u001b[0mself\u001b[0m\u001b[1;33m.\u001b[0m\u001b[0m_accessor\u001b[0m\u001b[1;33m(\u001b[0m\u001b[0mobj\u001b[0m\u001b[1;33m)\u001b[0m\u001b[1;33m\u001b[0m\u001b[1;33m\u001b[0m\u001b[0m\n\u001b[0m\u001b[0;32m    188\u001b[0m         \u001b[1;31m# Replace the property with the accessor object. Inspired by:\u001b[0m\u001b[1;33m\u001b[0m\u001b[1;33m\u001b[0m\u001b[1;33m\u001b[0m\u001b[0m\n\u001b[0;32m    189\u001b[0m         \u001b[1;31m# http://www.pydanny.com/cached-property.html\u001b[0m\u001b[1;33m\u001b[0m\u001b[1;33m\u001b[0m\u001b[1;33m\u001b[0m\u001b[0m\n",
      "\u001b[1;32m~\\anaconda3\\lib\\site-packages\\pandas\\core\\strings.py\u001b[0m in \u001b[0;36m__init__\u001b[1;34m(self, data)\u001b[0m\n\u001b[0;32m   2037\u001b[0m \u001b[1;33m\u001b[0m\u001b[0m\n\u001b[0;32m   2038\u001b[0m     \u001b[1;32mdef\u001b[0m \u001b[0m__init__\u001b[0m\u001b[1;33m(\u001b[0m\u001b[0mself\u001b[0m\u001b[1;33m,\u001b[0m \u001b[0mdata\u001b[0m\u001b[1;33m)\u001b[0m\u001b[1;33m:\u001b[0m\u001b[1;33m\u001b[0m\u001b[1;33m\u001b[0m\u001b[0m\n\u001b[1;32m-> 2039\u001b[1;33m         \u001b[0mself\u001b[0m\u001b[1;33m.\u001b[0m\u001b[0m_inferred_dtype\u001b[0m \u001b[1;33m=\u001b[0m \u001b[0mself\u001b[0m\u001b[1;33m.\u001b[0m\u001b[0m_validate\u001b[0m\u001b[1;33m(\u001b[0m\u001b[0mdata\u001b[0m\u001b[1;33m)\u001b[0m\u001b[1;33m\u001b[0m\u001b[1;33m\u001b[0m\u001b[0m\n\u001b[0m\u001b[0;32m   2040\u001b[0m         \u001b[0mself\u001b[0m\u001b[1;33m.\u001b[0m\u001b[0m_is_categorical\u001b[0m \u001b[1;33m=\u001b[0m \u001b[0mis_categorical_dtype\u001b[0m\u001b[1;33m(\u001b[0m\u001b[0mdata\u001b[0m\u001b[1;33m)\u001b[0m\u001b[1;33m\u001b[0m\u001b[1;33m\u001b[0m\u001b[0m\n\u001b[0;32m   2041\u001b[0m         \u001b[0mself\u001b[0m\u001b[1;33m.\u001b[0m\u001b[0m_is_string\u001b[0m \u001b[1;33m=\u001b[0m \u001b[0mdata\u001b[0m\u001b[1;33m.\u001b[0m\u001b[0mdtype\u001b[0m\u001b[1;33m.\u001b[0m\u001b[0mname\u001b[0m \u001b[1;33m==\u001b[0m \u001b[1;34m\"string\"\u001b[0m\u001b[1;33m\u001b[0m\u001b[1;33m\u001b[0m\u001b[0m\n",
      "\u001b[1;32m~\\anaconda3\\lib\\site-packages\\pandas\\core\\strings.py\u001b[0m in \u001b[0;36m_validate\u001b[1;34m(data)\u001b[0m\n\u001b[0;32m   2094\u001b[0m \u001b[1;33m\u001b[0m\u001b[0m\n\u001b[0;32m   2095\u001b[0m         \u001b[1;32mif\u001b[0m \u001b[0minferred_dtype\u001b[0m \u001b[1;32mnot\u001b[0m \u001b[1;32min\u001b[0m \u001b[0mallowed_types\u001b[0m\u001b[1;33m:\u001b[0m\u001b[1;33m\u001b[0m\u001b[1;33m\u001b[0m\u001b[0m\n\u001b[1;32m-> 2096\u001b[1;33m             \u001b[1;32mraise\u001b[0m \u001b[0mAttributeError\u001b[0m\u001b[1;33m(\u001b[0m\u001b[1;34m\"Can only use .str accessor with string values!\"\u001b[0m\u001b[1;33m)\u001b[0m\u001b[1;33m\u001b[0m\u001b[1;33m\u001b[0m\u001b[0m\n\u001b[0m\u001b[0;32m   2097\u001b[0m         \u001b[1;32mreturn\u001b[0m \u001b[0minferred_dtype\u001b[0m\u001b[1;33m\u001b[0m\u001b[1;33m\u001b[0m\u001b[0m\n\u001b[0;32m   2098\u001b[0m \u001b[1;33m\u001b[0m\u001b[0m\n",
      "\u001b[1;31mAttributeError\u001b[0m: Can only use .str accessor with string values!"
     ]
    }
   ],
   "source": [
    "df.jour.str.slice(0,3)"
   ]
  },
  {
   "cell_type": "code",
   "execution_count": 233,
   "metadata": {},
   "outputs": [
    {
     "data": {
      "text/plain": [
       "dispositif\n",
       "AC        2\n",
       "BC       60\n",
       "DE        9\n",
       "FA        5\n",
       "GDA       2\n",
       "ISU       2\n",
       "PH        1\n",
       "PIP      28\n",
       "PIS      23\n",
       "PS       15\n",
       "Remob    13\n",
       "Name: site, dtype: int64"
      ]
     },
     "execution_count": 233,
     "metadata": {},
     "output_type": "execute_result"
    }
   ],
   "source": [
    "df.groupby(\"dispositif\")[\"site\"].count()"
   ]
  },
  {
   "cell_type": "code",
   "execution_count": null,
   "metadata": {},
   "outputs": [],
   "source": []
  },
  {
   "cell_type": "code",
   "execution_count": null,
   "metadata": {},
   "outputs": [],
   "source": []
  },
  {
   "cell_type": "code",
   "execution_count": null,
   "metadata": {},
   "outputs": [],
   "source": [
    "df.plot()"
   ]
  },
  {
   "cell_type": "code",
   "execution_count": 181,
   "metadata": {},
   "outputs": [],
   "source": [
    "dfFin = df[df.statue ==\"financeur\"]"
   ]
  },
  {
   "cell_type": "code",
   "execution_count": 182,
   "metadata": {},
   "outputs": [
    {
     "data": {
      "text/html": [
       "<div>\n",
       "<style scoped>\n",
       "    .dataframe tbody tr th:only-of-type {\n",
       "        vertical-align: middle;\n",
       "    }\n",
       "\n",
       "    .dataframe tbody tr th {\n",
       "        vertical-align: top;\n",
       "    }\n",
       "\n",
       "    .dataframe thead th {\n",
       "        text-align: right;\n",
       "    }\n",
       "</style>\n",
       "<table border=\"1\" class=\"dataframe\">\n",
       "  <thead>\n",
       "    <tr style=\"text-align: right;\">\n",
       "      <th></th>\n",
       "      <th>dispositif</th>\n",
       "      <th>site</th>\n",
       "      <th>debut</th>\n",
       "      <th>fin</th>\n",
       "      <th>jour</th>\n",
       "      <th>period</th>\n",
       "      <th>statue</th>\n",
       "      <th>branche</th>\n",
       "      <th>fin1</th>\n",
       "      <th>fin2</th>\n",
       "      <th>...</th>\n",
       "      <th>ben1</th>\n",
       "      <th>ben2</th>\n",
       "      <th>ben3</th>\n",
       "      <th>ben4</th>\n",
       "      <th>ben5</th>\n",
       "      <th>ben6</th>\n",
       "      <th>ben7</th>\n",
       "      <th>comment</th>\n",
       "      <th>proposition</th>\n",
       "      <th>register_date</th>\n",
       "    </tr>\n",
       "  </thead>\n",
       "  <tbody>\n",
       "    <tr>\n",
       "      <th>99</th>\n",
       "      <td>PIP</td>\n",
       "      <td>Argentan</td>\n",
       "      <td>2021-01-20</td>\n",
       "      <td>2021-06-15</td>\n",
       "      <td>146 days</td>\n",
       "      <td>Jan-Jul</td>\n",
       "      <td>financeur</td>\n",
       "      <td>financeur</td>\n",
       "      <td>Très satisfaisant</td>\n",
       "      <td>Très satisfaisant</td>\n",
       "      <td>...</td>\n",
       "      <td>NaN</td>\n",
       "      <td>NaN</td>\n",
       "      <td>NaN</td>\n",
       "      <td>NaN</td>\n",
       "      <td>NaN</td>\n",
       "      <td>NaN</td>\n",
       "      <td>NaN</td>\n",
       "      <td>La prestation correspond aux attentes du marché.</td>\n",
       "      <td>NaN</td>\n",
       "      <td>2021-06-25 08:58:23</td>\n",
       "    </tr>\n",
       "    <tr>\n",
       "      <th>108</th>\n",
       "      <td>PH</td>\n",
       "      <td>NaN</td>\n",
       "      <td>2020-12-01</td>\n",
       "      <td>2020-12-01</td>\n",
       "      <td>0 days</td>\n",
       "      <td>Jan-Jul</td>\n",
       "      <td>financeur</td>\n",
       "      <td>financeur</td>\n",
       "      <td>Très satisfaisant</td>\n",
       "      <td>Très satisfaisant</td>\n",
       "      <td>...</td>\n",
       "      <td>NaN</td>\n",
       "      <td>NaN</td>\n",
       "      <td>NaN</td>\n",
       "      <td>NaN</td>\n",
       "      <td>NaN</td>\n",
       "      <td>NaN</td>\n",
       "      <td>NaN</td>\n",
       "      <td>renouvellement de cette action aupres des 6ème...</td>\n",
       "      <td>NaN</td>\n",
       "      <td>2021-06-30 10:32:36</td>\n",
       "    </tr>\n",
       "    <tr>\n",
       "      <th>127</th>\n",
       "      <td>PS</td>\n",
       "      <td>Bayeux</td>\n",
       "      <td>2021-05-17</td>\n",
       "      <td>2021-07-16</td>\n",
       "      <td>60 days</td>\n",
       "      <td>Jan-Jul</td>\n",
       "      <td>financeur</td>\n",
       "      <td>financeur</td>\n",
       "      <td>Très satisfaisant</td>\n",
       "      <td>Très satisfaisant</td>\n",
       "      <td>...</td>\n",
       "      <td>NaN</td>\n",
       "      <td>NaN</td>\n",
       "      <td>NaN</td>\n",
       "      <td>NaN</td>\n",
       "      <td>NaN</td>\n",
       "      <td>NaN</td>\n",
       "      <td>NaN</td>\n",
       "      <td>Accès à l'emploi pour 5p./10 soit 50%  : 2 ACI...</td>\n",
       "      <td>Travailler sur la mixité des emplois. Elargir ...</td>\n",
       "      <td>2021-07-16 14:39:02</td>\n",
       "    </tr>\n",
       "    <tr>\n",
       "      <th>145</th>\n",
       "      <td>FA</td>\n",
       "      <td>Vire</td>\n",
       "      <td>2021-08-30</td>\n",
       "      <td>2021-08-30</td>\n",
       "      <td>0 days</td>\n",
       "      <td>Jan-Jul</td>\n",
       "      <td>financeur</td>\n",
       "      <td>financeur</td>\n",
       "      <td>Très satisfaisant</td>\n",
       "      <td>Très satisfaisant</td>\n",
       "      <td>...</td>\n",
       "      <td>NaN</td>\n",
       "      <td>NaN</td>\n",
       "      <td>NaN</td>\n",
       "      <td>NaN</td>\n",
       "      <td>NaN</td>\n",
       "      <td>NaN</td>\n",
       "      <td>NaN</td>\n",
       "      <td>NaN</td>\n",
       "      <td>NaN</td>\n",
       "      <td>2021-08-30 14:03:26</td>\n",
       "    </tr>\n",
       "  </tbody>\n",
       "</table>\n",
       "<p>4 rows × 42 columns</p>\n",
       "</div>"
      ],
      "text/plain": [
       "    dispositif      site      debut        fin     jour   period     statue  \\\n",
       "99         PIP  Argentan 2021-01-20 2021-06-15 146 days  Jan-Jul  financeur   \n",
       "108         PH       NaN 2020-12-01 2020-12-01   0 days  Jan-Jul  financeur   \n",
       "127         PS    Bayeux 2021-05-17 2021-07-16  60 days  Jan-Jul  financeur   \n",
       "145         FA      Vire 2021-08-30 2021-08-30   0 days  Jan-Jul  financeur   \n",
       "\n",
       "       branche               fin1               fin2  ... ben1 ben2 ben3 ben4  \\\n",
       "99   financeur  Très satisfaisant  Très satisfaisant  ...  NaN  NaN  NaN  NaN   \n",
       "108  financeur  Très satisfaisant  Très satisfaisant  ...  NaN  NaN  NaN  NaN   \n",
       "127  financeur  Très satisfaisant  Très satisfaisant  ...  NaN  NaN  NaN  NaN   \n",
       "145  financeur  Très satisfaisant  Très satisfaisant  ...  NaN  NaN  NaN  NaN   \n",
       "\n",
       "    ben5 ben6 ben7                                            comment  \\\n",
       "99   NaN  NaN  NaN   La prestation correspond aux attentes du marché.   \n",
       "108  NaN  NaN  NaN  renouvellement de cette action aupres des 6ème...   \n",
       "127  NaN  NaN  NaN  Accès à l'emploi pour 5p./10 soit 50%  : 2 ACI...   \n",
       "145  NaN  NaN  NaN                                                NaN   \n",
       "\n",
       "                                           proposition        register_date  \n",
       "99                                                 NaN  2021-06-25 08:58:23  \n",
       "108                                                NaN  2021-06-30 10:32:36  \n",
       "127  Travailler sur la mixité des emplois. Elargir ...  2021-07-16 14:39:02  \n",
       "145                                                NaN  2021-08-30 14:03:26  \n",
       "\n",
       "[4 rows x 42 columns]"
      ]
     },
     "execution_count": 182,
     "metadata": {},
     "output_type": "execute_result"
    }
   ],
   "source": [
    "dfFin"
   ]
  },
  {
   "cell_type": "code",
   "execution_count": 40,
   "metadata": {},
   "outputs": [],
   "source": [
    "dfFin.drop(columns=['intType', 'inter1', 'inter2', 'inter3','inter4', 'intForDis', 'inter5', 'intRisqS', 'intRisqH', 'intRisqJ',\n",
    "       'intRisqEn', 'intRisqEc', 'preUsager', 'pre1', 'pre2', 'pre3', 'pre4','pre5', 'pre6', \n",
    "                    'ben1', 'ben2', 'ben3', 'ben4', 'ben5', 'ben6', 'ben7'], axis = 1, inplace = True)"
   ]
  },
  {
   "cell_type": "code",
   "execution_count": 41,
   "metadata": {},
   "outputs": [
    {
     "data": {
      "text/html": [
       "<div>\n",
       "<style scoped>\n",
       "    .dataframe tbody tr th:only-of-type {\n",
       "        vertical-align: middle;\n",
       "    }\n",
       "\n",
       "    .dataframe tbody tr th {\n",
       "        vertical-align: top;\n",
       "    }\n",
       "\n",
       "    .dataframe thead th {\n",
       "        text-align: right;\n",
       "    }\n",
       "</style>\n",
       "<table border=\"1\" class=\"dataframe\">\n",
       "  <thead>\n",
       "    <tr style=\"text-align: right;\">\n",
       "      <th></th>\n",
       "      <th>dispositif</th>\n",
       "      <th>site</th>\n",
       "      <th>debut</th>\n",
       "      <th>fin</th>\n",
       "      <th>statue</th>\n",
       "      <th>branche</th>\n",
       "      <th>fin1</th>\n",
       "      <th>fin2</th>\n",
       "      <th>fin3</th>\n",
       "      <th>fin4</th>\n",
       "      <th>fin5</th>\n",
       "      <th>comment</th>\n",
       "      <th>proposition</th>\n",
       "      <th>register_date</th>\n",
       "    </tr>\n",
       "  </thead>\n",
       "  <tbody>\n",
       "    <tr>\n",
       "      <th>99</th>\n",
       "      <td>PIP</td>\n",
       "      <td>Argentan</td>\n",
       "      <td>2021-01-20</td>\n",
       "      <td>2021-06-15</td>\n",
       "      <td>financeur</td>\n",
       "      <td>financeur</td>\n",
       "      <td>Très satisfaisant</td>\n",
       "      <td>Très satisfaisant</td>\n",
       "      <td>Satisfaisant</td>\n",
       "      <td>Satisfaisant</td>\n",
       "      <td>Très satisfaisant</td>\n",
       "      <td>La prestation correspond aux attentes du marché.</td>\n",
       "      <td>NaN</td>\n",
       "      <td>2021-06-25 08:58:23</td>\n",
       "    </tr>\n",
       "    <tr>\n",
       "      <th>108</th>\n",
       "      <td>PH</td>\n",
       "      <td>NaN</td>\n",
       "      <td>2020-12-01</td>\n",
       "      <td>2020-12-01</td>\n",
       "      <td>financeur</td>\n",
       "      <td>financeur</td>\n",
       "      <td>Très satisfaisant</td>\n",
       "      <td>Très satisfaisant</td>\n",
       "      <td>Très satisfaisant</td>\n",
       "      <td>Très satisfaisant</td>\n",
       "      <td>Très satisfaisant</td>\n",
       "      <td>renouvellement de cette action aupres des 6ème...</td>\n",
       "      <td>NaN</td>\n",
       "      <td>2021-06-30 10:32:36</td>\n",
       "    </tr>\n",
       "    <tr>\n",
       "      <th>127</th>\n",
       "      <td>PS</td>\n",
       "      <td>Bayeux</td>\n",
       "      <td>2021-05-17</td>\n",
       "      <td>2021-07-16</td>\n",
       "      <td>financeur</td>\n",
       "      <td>financeur</td>\n",
       "      <td>Très satisfaisant</td>\n",
       "      <td>Très satisfaisant</td>\n",
       "      <td>Très satisfaisant</td>\n",
       "      <td>Satisfaisant</td>\n",
       "      <td>Très satisfaisant</td>\n",
       "      <td>Accès à l'emploi pour 5p./10 soit 50%  : 2 ACI...</td>\n",
       "      <td>Travailler sur la mixité des emplois. Elargir ...</td>\n",
       "      <td>2021-07-16 14:39:02</td>\n",
       "    </tr>\n",
       "  </tbody>\n",
       "</table>\n",
       "</div>"
      ],
      "text/plain": [
       "    dispositif      site       debut         fin     statue    branche  \\\n",
       "99         PIP  Argentan  2021-01-20  2021-06-15  financeur  financeur   \n",
       "108         PH       NaN  2020-12-01  2020-12-01  financeur  financeur   \n",
       "127         PS    Bayeux  2021-05-17  2021-07-16  financeur  financeur   \n",
       "\n",
       "                  fin1               fin2               fin3  \\\n",
       "99   Très satisfaisant  Très satisfaisant       Satisfaisant   \n",
       "108  Très satisfaisant  Très satisfaisant  Très satisfaisant   \n",
       "127  Très satisfaisant  Très satisfaisant  Très satisfaisant   \n",
       "\n",
       "                  fin4               fin5  \\\n",
       "99        Satisfaisant  Très satisfaisant   \n",
       "108  Très satisfaisant  Très satisfaisant   \n",
       "127       Satisfaisant  Très satisfaisant   \n",
       "\n",
       "                                               comment  \\\n",
       "99    La prestation correspond aux attentes du marché.   \n",
       "108  renouvellement de cette action aupres des 6ème...   \n",
       "127  Accès à l'emploi pour 5p./10 soit 50%  : 2 ACI...   \n",
       "\n",
       "                                           proposition        register_date  \n",
       "99                                                 NaN  2021-06-25 08:58:23  \n",
       "108                                                NaN  2021-06-30 10:32:36  \n",
       "127  Travailler sur la mixité des emplois. Elargir ...  2021-07-16 14:39:02  "
      ]
     },
     "execution_count": 41,
     "metadata": {},
     "output_type": "execute_result"
    }
   ],
   "source": [
    "dfFin"
   ]
  },
  {
   "cell_type": "code",
   "execution_count": 42,
   "metadata": {},
   "outputs": [],
   "source": [
    "dfFin.rename(columns={\"fin1\":\"Disponibilité\", \"fin2\": \"Administratif\", \"fin3\": \"Respect\", \"fin4\":\"Cohérence\", \"fin5\": \"Supports\"}, inplace=True)"
   ]
  },
  {
   "cell_type": "code",
   "execution_count": 43,
   "metadata": {},
   "outputs": [
    {
     "data": {
      "text/html": [
       "<div>\n",
       "<style scoped>\n",
       "    .dataframe tbody tr th:only-of-type {\n",
       "        vertical-align: middle;\n",
       "    }\n",
       "\n",
       "    .dataframe tbody tr th {\n",
       "        vertical-align: top;\n",
       "    }\n",
       "\n",
       "    .dataframe thead th {\n",
       "        text-align: right;\n",
       "    }\n",
       "</style>\n",
       "<table border=\"1\" class=\"dataframe\">\n",
       "  <thead>\n",
       "    <tr style=\"text-align: right;\">\n",
       "      <th></th>\n",
       "      <th>dispositif</th>\n",
       "      <th>site</th>\n",
       "      <th>debut</th>\n",
       "      <th>fin</th>\n",
       "      <th>statue</th>\n",
       "      <th>branche</th>\n",
       "      <th>Disponibilité</th>\n",
       "      <th>Administratif</th>\n",
       "      <th>Respect</th>\n",
       "      <th>Cohérence</th>\n",
       "      <th>Supports</th>\n",
       "      <th>comment</th>\n",
       "      <th>proposition</th>\n",
       "      <th>register_date</th>\n",
       "    </tr>\n",
       "  </thead>\n",
       "  <tbody>\n",
       "    <tr>\n",
       "      <th>99</th>\n",
       "      <td>PIP</td>\n",
       "      <td>Argentan</td>\n",
       "      <td>2021-01-20</td>\n",
       "      <td>2021-06-15</td>\n",
       "      <td>financeur</td>\n",
       "      <td>financeur</td>\n",
       "      <td>Très satisfaisant</td>\n",
       "      <td>Très satisfaisant</td>\n",
       "      <td>Satisfaisant</td>\n",
       "      <td>Satisfaisant</td>\n",
       "      <td>Très satisfaisant</td>\n",
       "      <td>La prestation correspond aux attentes du marché.</td>\n",
       "      <td>NaN</td>\n",
       "      <td>2021-06-25 08:58:23</td>\n",
       "    </tr>\n",
       "    <tr>\n",
       "      <th>108</th>\n",
       "      <td>PH</td>\n",
       "      <td>NaN</td>\n",
       "      <td>2020-12-01</td>\n",
       "      <td>2020-12-01</td>\n",
       "      <td>financeur</td>\n",
       "      <td>financeur</td>\n",
       "      <td>Très satisfaisant</td>\n",
       "      <td>Très satisfaisant</td>\n",
       "      <td>Très satisfaisant</td>\n",
       "      <td>Très satisfaisant</td>\n",
       "      <td>Très satisfaisant</td>\n",
       "      <td>renouvellement de cette action aupres des 6ème...</td>\n",
       "      <td>NaN</td>\n",
       "      <td>2021-06-30 10:32:36</td>\n",
       "    </tr>\n",
       "    <tr>\n",
       "      <th>127</th>\n",
       "      <td>PS</td>\n",
       "      <td>Bayeux</td>\n",
       "      <td>2021-05-17</td>\n",
       "      <td>2021-07-16</td>\n",
       "      <td>financeur</td>\n",
       "      <td>financeur</td>\n",
       "      <td>Très satisfaisant</td>\n",
       "      <td>Très satisfaisant</td>\n",
       "      <td>Très satisfaisant</td>\n",
       "      <td>Satisfaisant</td>\n",
       "      <td>Très satisfaisant</td>\n",
       "      <td>Accès à l'emploi pour 5p./10 soit 50%  : 2 ACI...</td>\n",
       "      <td>Travailler sur la mixité des emplois. Elargir ...</td>\n",
       "      <td>2021-07-16 14:39:02</td>\n",
       "    </tr>\n",
       "  </tbody>\n",
       "</table>\n",
       "</div>"
      ],
      "text/plain": [
       "    dispositif      site       debut         fin     statue    branche  \\\n",
       "99         PIP  Argentan  2021-01-20  2021-06-15  financeur  financeur   \n",
       "108         PH       NaN  2020-12-01  2020-12-01  financeur  financeur   \n",
       "127         PS    Bayeux  2021-05-17  2021-07-16  financeur  financeur   \n",
       "\n",
       "         Disponibilité      Administratif            Respect  \\\n",
       "99   Très satisfaisant  Très satisfaisant       Satisfaisant   \n",
       "108  Très satisfaisant  Très satisfaisant  Très satisfaisant   \n",
       "127  Très satisfaisant  Très satisfaisant  Très satisfaisant   \n",
       "\n",
       "             Cohérence           Supports  \\\n",
       "99        Satisfaisant  Très satisfaisant   \n",
       "108  Très satisfaisant  Très satisfaisant   \n",
       "127       Satisfaisant  Très satisfaisant   \n",
       "\n",
       "                                               comment  \\\n",
       "99    La prestation correspond aux attentes du marché.   \n",
       "108  renouvellement de cette action aupres des 6ème...   \n",
       "127  Accès à l'emploi pour 5p./10 soit 50%  : 2 ACI...   \n",
       "\n",
       "                                           proposition        register_date  \n",
       "99                                                 NaN  2021-06-25 08:58:23  \n",
       "108                                                NaN  2021-06-30 10:32:36  \n",
       "127  Travailler sur la mixité des emplois. Elargir ...  2021-07-16 14:39:02  "
      ]
     },
     "execution_count": 43,
     "metadata": {},
     "output_type": "execute_result"
    }
   ],
   "source": [
    "dfFin"
   ]
  },
  {
   "cell_type": "code",
   "execution_count": 20,
   "metadata": {},
   "outputs": [],
   "source": [
    "#map_dict_fin = {\"Très satisfaisant\":5, \"Satisfaisant\":4, \"Moyennement satisfaisant\":3, \"Pas satisfaisant\":2, \"Non concerné\":1}"
   ]
  },
  {
   "cell_type": "code",
   "execution_count": 21,
   "metadata": {},
   "outputs": [],
   "source": [
    "#dfFin.Disponibilité = dfFin.Disponibilité.map(map_dict_fin)\n",
    "#dfFin.Administratif = dfFin.Administratif.map(map_dict_fin)\n",
    "#dfFin.Respect = dfFin.Respect.map(map_dict_fin)\n",
    "#dfFin.Cohérence = dfFin.Cohérence.map(map_dict_fin)\n",
    "#dfFin.Supports = dfFin.Supports.map(map_dict_fin)"
   ]
  },
  {
   "cell_type": "code",
   "execution_count": 55,
   "metadata": {},
   "outputs": [],
   "source": []
  },
  {
   "cell_type": "code",
   "execution_count": 56,
   "metadata": {},
   "outputs": [],
   "source": []
  },
  {
   "cell_type": "code",
   "execution_count": 59,
   "metadata": {},
   "outputs": [],
   "source": [
    "dfFin = dfFin[['dispositif', 'site', 'debut', 'fin', 'jour', 'statue', 'branche', 'Disponibilité',\n",
    "       'Administratif', 'Respect', 'Cohérence', 'Supports', 'comment', 'proposition', 'register_date']]"
   ]
  },
  {
   "cell_type": "code",
   "execution_count": 60,
   "metadata": {},
   "outputs": [
    {
     "data": {
      "text/html": [
       "<div>\n",
       "<style scoped>\n",
       "    .dataframe tbody tr th:only-of-type {\n",
       "        vertical-align: middle;\n",
       "    }\n",
       "\n",
       "    .dataframe tbody tr th {\n",
       "        vertical-align: top;\n",
       "    }\n",
       "\n",
       "    .dataframe thead th {\n",
       "        text-align: right;\n",
       "    }\n",
       "</style>\n",
       "<table border=\"1\" class=\"dataframe\">\n",
       "  <thead>\n",
       "    <tr style=\"text-align: right;\">\n",
       "      <th></th>\n",
       "      <th>dispositif</th>\n",
       "      <th>site</th>\n",
       "      <th>debut</th>\n",
       "      <th>fin</th>\n",
       "      <th>jour</th>\n",
       "      <th>statue</th>\n",
       "      <th>branche</th>\n",
       "      <th>Disponibilité</th>\n",
       "      <th>Administratif</th>\n",
       "      <th>Respect</th>\n",
       "      <th>Cohérence</th>\n",
       "      <th>Supports</th>\n",
       "      <th>comment</th>\n",
       "      <th>proposition</th>\n",
       "      <th>register_date</th>\n",
       "    </tr>\n",
       "  </thead>\n",
       "  <tbody>\n",
       "    <tr>\n",
       "      <th>99</th>\n",
       "      <td>PIP</td>\n",
       "      <td>Argentan</td>\n",
       "      <td>2021-01-20</td>\n",
       "      <td>2021-06-15</td>\n",
       "      <td>146 days</td>\n",
       "      <td>financeur</td>\n",
       "      <td>financeur</td>\n",
       "      <td>Très satisfaisant</td>\n",
       "      <td>Très satisfaisant</td>\n",
       "      <td>Satisfaisant</td>\n",
       "      <td>Satisfaisant</td>\n",
       "      <td>Très satisfaisant</td>\n",
       "      <td>La prestation correspond aux attentes du marché.</td>\n",
       "      <td>NaN</td>\n",
       "      <td>2021-06-25 08:58:23</td>\n",
       "    </tr>\n",
       "    <tr>\n",
       "      <th>108</th>\n",
       "      <td>PH</td>\n",
       "      <td>NaN</td>\n",
       "      <td>2020-12-01</td>\n",
       "      <td>2020-12-01</td>\n",
       "      <td>0 days</td>\n",
       "      <td>financeur</td>\n",
       "      <td>financeur</td>\n",
       "      <td>Très satisfaisant</td>\n",
       "      <td>Très satisfaisant</td>\n",
       "      <td>Très satisfaisant</td>\n",
       "      <td>Très satisfaisant</td>\n",
       "      <td>Très satisfaisant</td>\n",
       "      <td>renouvellement de cette action aupres des 6ème...</td>\n",
       "      <td>NaN</td>\n",
       "      <td>2021-06-30 10:32:36</td>\n",
       "    </tr>\n",
       "    <tr>\n",
       "      <th>127</th>\n",
       "      <td>PS</td>\n",
       "      <td>Bayeux</td>\n",
       "      <td>2021-05-17</td>\n",
       "      <td>2021-07-16</td>\n",
       "      <td>60 days</td>\n",
       "      <td>financeur</td>\n",
       "      <td>financeur</td>\n",
       "      <td>Très satisfaisant</td>\n",
       "      <td>Très satisfaisant</td>\n",
       "      <td>Très satisfaisant</td>\n",
       "      <td>Satisfaisant</td>\n",
       "      <td>Très satisfaisant</td>\n",
       "      <td>Accès à l'emploi pour 5p./10 soit 50%  : 2 ACI...</td>\n",
       "      <td>Travailler sur la mixité des emplois. Elargir ...</td>\n",
       "      <td>2021-07-16 14:39:02</td>\n",
       "    </tr>\n",
       "  </tbody>\n",
       "</table>\n",
       "</div>"
      ],
      "text/plain": [
       "    dispositif      site      debut        fin     jour     statue    branche  \\\n",
       "99         PIP  Argentan 2021-01-20 2021-06-15 146 days  financeur  financeur   \n",
       "108         PH       NaN 2020-12-01 2020-12-01   0 days  financeur  financeur   \n",
       "127         PS    Bayeux 2021-05-17 2021-07-16  60 days  financeur  financeur   \n",
       "\n",
       "         Disponibilité      Administratif            Respect  \\\n",
       "99   Très satisfaisant  Très satisfaisant       Satisfaisant   \n",
       "108  Très satisfaisant  Très satisfaisant  Très satisfaisant   \n",
       "127  Très satisfaisant  Très satisfaisant  Très satisfaisant   \n",
       "\n",
       "             Cohérence           Supports  \\\n",
       "99        Satisfaisant  Très satisfaisant   \n",
       "108  Très satisfaisant  Très satisfaisant   \n",
       "127       Satisfaisant  Très satisfaisant   \n",
       "\n",
       "                                               comment  \\\n",
       "99    La prestation correspond aux attentes du marché.   \n",
       "108  renouvellement de cette action aupres des 6ème...   \n",
       "127  Accès à l'emploi pour 5p./10 soit 50%  : 2 ACI...   \n",
       "\n",
       "                                           proposition        register_date  \n",
       "99                                                 NaN  2021-06-25 08:58:23  \n",
       "108                                                NaN  2021-06-30 10:32:36  \n",
       "127  Travailler sur la mixité des emplois. Elargir ...  2021-07-16 14:39:02  "
      ]
     },
     "execution_count": 60,
     "metadata": {},
     "output_type": "execute_result"
    }
   ],
   "source": [
    "dfFin"
   ]
  },
  {
   "cell_type": "markdown",
   "metadata": {},
   "source": [
    "### Les Avarages Pour Financeur"
   ]
  },
  {
   "cell_type": "markdown",
   "metadata": {},
   "source": [
    "#### Question 1: Disponibilité et écoute de votre interlocuteur"
   ]
  },
  {
   "cell_type": "code",
   "execution_count": 61,
   "metadata": {
    "scrolled": true
   },
   "outputs": [
    {
     "name": "stdout",
     "output_type": "stream",
     "text": [
      "Le nombre total de réponses sur Disponibilité est : Très satisfaisant    3\n",
      "Name: Disponibilité, dtype: int64\n",
      "Pourcentage pour Disponibilité est:  Très satisfaisant    100.0\n",
      "Name: Disponibilité, dtype: float64\n"
     ]
    },
    {
     "data": {
      "text/plain": [
       "<matplotlib.axes._subplots.AxesSubplot at 0x2a1a99bc848>"
      ]
     },
     "execution_count": 61,
     "metadata": {},
     "output_type": "execute_result"
    },
    {
     "data": {
      "image/png": "[encoded data removed]",
      "text/plain": [
       "<Figure size 432x288 with 1 Axes>"
      ]
     },
     "metadata": {},
     "output_type": "display_data"
    }
   ],
   "source": [
    "print(\"Le nombre total de réponses sur Disponibilité est :\", dfFin[\"Disponibilité\"].value_counts())\n",
    "print(\"Pourcentage pour Disponibilité est: \", round(dfFin[\"Disponibilité\"].value_counts(normalize=True)*100,1))\n",
    "dfFin.Disponibilité.value_counts().plot(kind=\"bar\")"
   ]
  },
  {
   "cell_type": "markdown",
   "metadata": {},
   "source": [
    "#### Question 2: Suivi administratif de la prestation (convention, attestations, facturation…)"
   ]
  },
  {
   "cell_type": "code",
   "execution_count": 50,
   "metadata": {},
   "outputs": [
    {
     "name": "stdout",
     "output_type": "stream",
     "text": [
      "Le nombre total de réponses sur Administratif est : Très satisfaisant    3\n",
      "Name: Administratif, dtype: int64\n",
      "Avarage pour Administratif est:  Très satisfaisant    100.0\n",
      "Name: Administratif, dtype: float64\n"
     ]
    },
    {
     "data": {
      "text/plain": [
       "<matplotlib.axes._subplots.AxesSubplot at 0x2a1a9822088>"
      ]
     },
     "execution_count": 50,
     "metadata": {},
     "output_type": "execute_result"
    },
    {
     "data": {
      "image/png": "[encoded data removed]",
      "text/plain": [
       "<Figure size 432x288 with 1 Axes>"
      ]
     },
     "metadata": {},
     "output_type": "display_data"
    }
   ],
   "source": [
    "print(\"Le nombre total de réponses sur Administratif est :\", dfFin[\"Administratif\"].value_counts())\n",
    "print(\"Avarage pour Administratif est: \", round(dfFin[\"Administratif\"].value_counts(normalize=True)*100,1))\n",
    "dfFin.Administratif.value_counts().plot(kind=\"bar\")"
   ]
  },
  {
   "cell_type": "markdown",
   "metadata": {},
   "source": [
    "#### Question 3: Respect des engagements pris"
   ]
  },
  {
   "cell_type": "code",
   "execution_count": 51,
   "metadata": {},
   "outputs": [
    {
     "name": "stdout",
     "output_type": "stream",
     "text": [
      "Le nombre total de réponses sur Respect est : Très satisfaisant    2\n",
      "Satisfaisant         1\n",
      "Name: Respect, dtype: int64\n",
      "Avarage pour Respect est:  Très satisfaisant    66.7\n",
      "Satisfaisant         33.3\n",
      "Name: Respect, dtype: float64\n"
     ]
    },
    {
     "data": {
      "text/plain": [
       "<matplotlib.axes._subplots.AxesSubplot at 0x2a1a987f608>"
      ]
     },
     "execution_count": 51,
     "metadata": {},
     "output_type": "execute_result"
    },
    {
     "data": {
      "image/png": "[encoded data removed]",
      "text/plain": [
       "<Figure size 432x288 with 1 Axes>"
      ]
     },
     "metadata": {},
     "output_type": "display_data"
    }
   ],
   "source": [
    "print(\"Le nombre total de réponses sur Respect est :\", dfFin[\"Respect\"].value_counts())\n",
    "print(\"Avarage pour Respect est: \", round(dfFin[\"Respect\"].value_counts(normalize=True)*100,1))\n",
    "dfFin.Respect.value_counts().plot(kind=\"bar\")"
   ]
  },
  {
   "cell_type": "markdown",
   "metadata": {},
   "source": [
    "#### Question 4: Cohérence des objectifs et des contenus au regard de vos besoins"
   ]
  },
  {
   "cell_type": "code",
   "execution_count": 52,
   "metadata": {},
   "outputs": [
    {
     "name": "stdout",
     "output_type": "stream",
     "text": [
      "Le nombre total de réponses sur Cohérence est : Satisfaisant         2\n",
      "Très satisfaisant    1\n",
      "Name: Cohérence, dtype: int64\n",
      "Avarage pour Cohérence est:  Satisfaisant         66.7\n",
      "Très satisfaisant    33.3\n",
      "Name: Cohérence, dtype: float64\n"
     ]
    },
    {
     "data": {
      "text/plain": [
       "<matplotlib.axes._subplots.AxesSubplot at 0x2a1a98eda88>"
      ]
     },
     "execution_count": 52,
     "metadata": {},
     "output_type": "execute_result"
    },
    {
     "data": {
      "image/png": "[encoded data removed]",
      "text/plain": [
       "<Figure size 432x288 with 1 Axes>"
      ]
     },
     "metadata": {},
     "output_type": "display_data"
    }
   ],
   "source": [
    "print(\"Le nombre total de réponses sur Cohérence est :\", dfFin[\"Cohérence\"].value_counts())\n",
    "print(\"Avarage pour Cohérence est: \", round(dfFin[\"Cohérence\"].value_counts(normalize=True)*100,1))\n",
    "dfFin.Cohérence.value_counts().plot(kind=\"bar\")"
   ]
  },
  {
   "cell_type": "markdown",
   "metadata": {},
   "source": [
    "#### Question 5: Supports et moyens pédagogiques mis en œuvre au regard de vos attentes"
   ]
  },
  {
   "cell_type": "code",
   "execution_count": 53,
   "metadata": {},
   "outputs": [
    {
     "name": "stdout",
     "output_type": "stream",
     "text": [
      "Le nombre total de réponses sur Supports est : Très satisfaisant    3\n",
      "Name: Supports, dtype: int64\n",
      "Avarage pour Supports est:  Très satisfaisant    100.0\n",
      "Name: Supports, dtype: float64\n"
     ]
    },
    {
     "data": {
      "text/plain": [
       "<matplotlib.axes._subplots.AxesSubplot at 0x2a1a95e3488>"
      ]
     },
     "execution_count": 53,
     "metadata": {},
     "output_type": "execute_result"
    },
    {
     "data": {
      "image/png": "[encoded data removed]",
      "text/plain": [
       "<Figure size 432x288 with 1 Axes>"
      ]
     },
     "metadata": {},
     "output_type": "display_data"
    }
   ],
   "source": [
    "print(\"Le nombre total de réponses sur Supports est :\", dfFin[\"Supports\"].value_counts())\n",
    "print(\"Avarage pour Supports est: \", round(dfFin[\"Supports\"].value_counts(normalize=True)*100,1))\n",
    "dfFin.Supports.value_counts().plot(kind=\"bar\")"
   ]
  },
  {
   "cell_type": "code",
   "execution_count": null,
   "metadata": {},
   "outputs": [],
   "source": []
  },
  {
   "cell_type": "code",
   "execution_count": null,
   "metadata": {},
   "outputs": [],
   "source": []
  },
  {
   "cell_type": "code",
   "execution_count": null,
   "metadata": {},
   "outputs": [],
   "source": [
    "print(round(dfFin[\"Disponibilité\"].value_counts(normalize=True),1))\n",
    "print(round(dfFin[\"Administratif\"].value_counts(normalize=True),1))\n",
    "print(round(dfFin[\"Respect\"].value_counts(normalize=True),1))\n",
    "print(round(dfFin[\"Cohérence\"].value_counts(normalize=True),1))\n",
    "print(round(dfFin[\"Supports\"].value_counts(normalize=True),1))"
   ]
  },
  {
   "cell_type": "code",
   "execution_count": 25,
   "metadata": {},
   "outputs": [
    {
     "name": "stdout",
     "output_type": "stream",
     "text": [
      "Avarage pour Disponibilité est:  5.0\n",
      "Avarage pour Administratif est:  5.0\n",
      "Avarage pour Respect est:  4.7\n",
      "Avarage pour Cohérence est:  4.3\n",
      "Avarage pour Supports est:  5.0\n"
     ]
    }
   ],
   "source": [
    "\n",
    "print(\"Avarage pour Administratif est: \", round(dfFin.Administratif.mean(), 1))\n",
    "print(\"Avarage pour Respect est: \", round(dfFin.Respect.mean(),1))\n",
    "print(\"Avarage pour Cohérence est: \", round(dfFin.Cohérence.mean(), 1))\n",
    "print(\"Avarage pour Supports est: \", round(dfFin.Supports.mean(), 1))"
   ]
  },
  {
   "cell_type": "code",
   "execution_count": null,
   "metadata": {},
   "outputs": [],
   "source": [
    "print(dfFin[\"Administratif\"].value_counts())\n",
    "print(dfFin[\"Respect\"].value_counts())\n",
    "print(dfFin[\"Cohérence\"].value_counts())\n",
    "print(dfFin[\"Supports\"].value_counts())"
   ]
  },
  {
   "cell_type": "code",
   "execution_count": 26,
   "metadata": {},
   "outputs": [
    {
     "data": {
      "text/plain": [
       "<matplotlib.axes._subplots.AxesSubplot at 0x2a1a129e348>"
      ]
     },
     "execution_count": 26,
     "metadata": {},
     "output_type": "execute_result"
    },
    {
     "data": {
      "image/png": "[encoded data removed]",
      "text/plain": [
       "<Figure size 432x288 with 1 Axes>"
      ]
     },
     "metadata": {},
     "output_type": "display_data"
    }
   ],
   "source": [
    "dfFin.plot.bar()"
   ]
  },
  {
   "cell_type": "code",
   "execution_count": 27,
   "metadata": {},
   "outputs": [
    {
     "data": {
      "text/plain": [
       "5    3\n",
       "Name: Disponibilité, dtype: int64"
      ]
     },
     "execution_count": 27,
     "metadata": {},
     "output_type": "execute_result"
    }
   ],
   "source": [
    "dfFin.Disponibilité.value_counts()"
   ]
  },
  {
   "cell_type": "code",
   "execution_count": 28,
   "metadata": {},
   "outputs": [
    {
     "data": {
      "text/plain": [
       "<matplotlib.axes._subplots.AxesSubplot at 0x2a1a93aa9c8>"
      ]
     },
     "execution_count": 28,
     "metadata": {},
     "output_type": "execute_result"
    },
    {
     "data": {
      "image/png": "[encoded data removed]",
      "text/plain": [
       "<Figure size 432x288 with 1 Axes>"
      ]
     },
     "metadata": {},
     "output_type": "display_data"
    }
   ],
   "source": []
  },
  {
   "cell_type": "code",
   "execution_count": 29,
   "metadata": {},
   "outputs": [
    {
     "data": {
      "text/plain": [
       "<matplotlib.axes._subplots.AxesSubplot at 0x2a1a9408a08>"
      ]
     },
     "execution_count": 29,
     "metadata": {},
     "output_type": "execute_result"
    },
    {
     "data": {
      "image/png": "[encoded data removed]",
      "text/plain": [
       "<Figure size 432x288 with 1 Axes>"
      ]
     },
     "metadata": {},
     "output_type": "display_data"
    }
   ],
   "source": [
    "dfFin.Administratif.value_counts().plot(kind=\"bar\")"
   ]
  },
  {
   "cell_type": "code",
   "execution_count": 30,
   "metadata": {},
   "outputs": [
    {
     "data": {
      "text/plain": [
       "<matplotlib.axes._subplots.AxesSubplot at 0x2a1a945fe08>"
      ]
     },
     "execution_count": 30,
     "metadata": {},
     "output_type": "execute_result"
    },
    {
     "data": {
      "image/png": "[encoded data removed]",
      "text/plain": [
       "<Figure size 432x288 with 1 Axes>"
      ]
     },
     "metadata": {},
     "output_type": "display_data"
    }
   ],
   "source": [
    "dfFin.Respect.value_counts().plot(kind=\"bar\")"
   ]
  },
  {
   "cell_type": "code",
   "execution_count": 31,
   "metadata": {},
   "outputs": [
    {
     "data": {
      "text/plain": [
       "<matplotlib.axes._subplots.AxesSubplot at 0x2a1a94d3ec8>"
      ]
     },
     "execution_count": 31,
     "metadata": {},
     "output_type": "execute_result"
    },
    {
     "data": {
      "image/png": "[encoded data removed]",
      "text/plain": [
       "<Figure size 432x288 with 1 Axes>"
      ]
     },
     "metadata": {},
     "output_type": "display_data"
    }
   ],
   "source": [
    "dfFin.Cohérence.value_counts().plot(kind=\"bar\")"
   ]
  },
  {
   "cell_type": "code",
   "execution_count": 32,
   "metadata": {},
   "outputs": [
    {
     "data": {
      "text/plain": [
       "<matplotlib.axes._subplots.AxesSubplot at 0x2a1a9540cc8>"
      ]
     },
     "execution_count": 32,
     "metadata": {},
     "output_type": "execute_result"
    },
    {
     "data": {
      "image/png": "[encoded data removed]",
      "text/plain": [
       "<Figure size 432x288 with 1 Axes>"
      ]
     },
     "metadata": {},
     "output_type": "display_data"
    }
   ],
   "source": [
    "dfFin.Supports.value_counts().plot(kind=\"bar\")"
   ]
  },
  {
   "cell_type": "code",
   "execution_count": null,
   "metadata": {},
   "outputs": [],
   "source": []
  },
  {
   "cell_type": "code",
   "execution_count": 29,
   "metadata": {},
   "outputs": [
    {
     "data": {
      "text/html": [
       "<div>\n",
       "<style scoped>\n",
       "    .dataframe tbody tr th:only-of-type {\n",
       "        vertical-align: middle;\n",
       "    }\n",
       "\n",
       "    .dataframe tbody tr th {\n",
       "        vertical-align: top;\n",
       "    }\n",
       "\n",
       "    .dataframe thead th {\n",
       "        text-align: right;\n",
       "    }\n",
       "</style>\n",
       "<table border=\"1\" class=\"dataframe\">\n",
       "  <thead>\n",
       "    <tr style=\"text-align: right;\">\n",
       "      <th></th>\n",
       "      <th>dispositif</th>\n",
       "      <th>site</th>\n",
       "      <th>debut</th>\n",
       "      <th>fin</th>\n",
       "      <th>statue</th>\n",
       "      <th>branche</th>\n",
       "      <th>fin1</th>\n",
       "      <th>fin2</th>\n",
       "      <th>fin3</th>\n",
       "      <th>fin4</th>\n",
       "      <th>...</th>\n",
       "      <th>ben1</th>\n",
       "      <th>ben2</th>\n",
       "      <th>ben3</th>\n",
       "      <th>ben4</th>\n",
       "      <th>ben5</th>\n",
       "      <th>ben6</th>\n",
       "      <th>ben7</th>\n",
       "      <th>comment</th>\n",
       "      <th>proposition</th>\n",
       "      <th>register_date</th>\n",
       "    </tr>\n",
       "  </thead>\n",
       "  <tbody>\n",
       "    <tr>\n",
       "      <th>0</th>\n",
       "      <td>BC</td>\n",
       "      <td>Avranches</td>\n",
       "      <td>2021-02-03</td>\n",
       "      <td>2021-06-04</td>\n",
       "      <td>beneficiaire</td>\n",
       "      <td>beneficiaire</td>\n",
       "      <td>NaN</td>\n",
       "      <td>NaN</td>\n",
       "      <td>NaN</td>\n",
       "      <td>NaN</td>\n",
       "      <td>...</td>\n",
       "      <td>Très satisfaisant</td>\n",
       "      <td>Très satisfaisant</td>\n",
       "      <td>Très satisfaisant</td>\n",
       "      <td>Très satisfaisant</td>\n",
       "      <td>Peu satisfaisant</td>\n",
       "      <td>Très satisfaisant</td>\n",
       "      <td>NaN</td>\n",
       "      <td>Apprécié les moyens mit à dispositions même si...</td>\n",
       "      <td>Test plus précis a fin de cibler davantage 2 v...</td>\n",
       "      <td>2021-06-22 12:05:16</td>\n",
       "    </tr>\n",
       "    <tr>\n",
       "      <th>1</th>\n",
       "      <td>BC</td>\n",
       "      <td>Vire</td>\n",
       "      <td>2021-02-23</td>\n",
       "      <td>2021-06-08</td>\n",
       "      <td>prescripteur</td>\n",
       "      <td>prescripteur</td>\n",
       "      <td>NaN</td>\n",
       "      <td>NaN</td>\n",
       "      <td>NaN</td>\n",
       "      <td>NaN</td>\n",
       "      <td>...</td>\n",
       "      <td>NaN</td>\n",
       "      <td>NaN</td>\n",
       "      <td>NaN</td>\n",
       "      <td>NaN</td>\n",
       "      <td>NaN</td>\n",
       "      <td>NaN</td>\n",
       "      <td>NaN</td>\n",
       "      <td>J'ai été ravie de la prise en charge de mon bi...</td>\n",
       "      <td>NaN</td>\n",
       "      <td>2021-06-22 12:18:15</td>\n",
       "    </tr>\n",
       "    <tr>\n",
       "      <th>2</th>\n",
       "      <td>BC</td>\n",
       "      <td>Vire</td>\n",
       "      <td>2021-02-23</td>\n",
       "      <td>2021-06-08</td>\n",
       "      <td>beneficiaire</td>\n",
       "      <td>beneficiaire</td>\n",
       "      <td>NaN</td>\n",
       "      <td>NaN</td>\n",
       "      <td>NaN</td>\n",
       "      <td>NaN</td>\n",
       "      <td>...</td>\n",
       "      <td>Très satisfaisant</td>\n",
       "      <td>Très satisfaisant</td>\n",
       "      <td>Très satisfaisant</td>\n",
       "      <td>Très satisfaisant</td>\n",
       "      <td>Très satisfaisant</td>\n",
       "      <td>Très satisfaisant</td>\n",
       "      <td>Très satisfaisant</td>\n",
       "      <td>NaN</td>\n",
       "      <td>NaN</td>\n",
       "      <td>2021-06-22 12:20:08</td>\n",
       "    </tr>\n",
       "    <tr>\n",
       "      <th>3</th>\n",
       "      <td>BC</td>\n",
       "      <td>Vire</td>\n",
       "      <td>2021-02-23</td>\n",
       "      <td>2021-06-08</td>\n",
       "      <td>intervenant-e</td>\n",
       "      <td>intervenant-e</td>\n",
       "      <td>NaN</td>\n",
       "      <td>NaN</td>\n",
       "      <td>NaN</td>\n",
       "      <td>NaN</td>\n",
       "      <td>...</td>\n",
       "      <td>NaN</td>\n",
       "      <td>NaN</td>\n",
       "      <td>NaN</td>\n",
       "      <td>NaN</td>\n",
       "      <td>NaN</td>\n",
       "      <td>NaN</td>\n",
       "      <td>NaN</td>\n",
       "      <td>NaN</td>\n",
       "      <td>NaN</td>\n",
       "      <td>2021-06-22 12:21:35</td>\n",
       "    </tr>\n",
       "    <tr>\n",
       "      <th>4</th>\n",
       "      <td>BC</td>\n",
       "      <td>Vire</td>\n",
       "      <td>2021-01-08</td>\n",
       "      <td>0021-05-03</td>\n",
       "      <td>prescripteur</td>\n",
       "      <td>prescripteur</td>\n",
       "      <td>NaN</td>\n",
       "      <td>NaN</td>\n",
       "      <td>NaN</td>\n",
       "      <td>NaN</td>\n",
       "      <td>...</td>\n",
       "      <td>NaN</td>\n",
       "      <td>NaN</td>\n",
       "      <td>NaN</td>\n",
       "      <td>NaN</td>\n",
       "      <td>NaN</td>\n",
       "      <td>NaN</td>\n",
       "      <td>NaN</td>\n",
       "      <td>Aucun</td>\n",
       "      <td>NaN</td>\n",
       "      <td>2021-06-22 12:23:50</td>\n",
       "    </tr>\n",
       "    <tr>\n",
       "      <th>5</th>\n",
       "      <td>BC</td>\n",
       "      <td>Vire</td>\n",
       "      <td>2021-01-08</td>\n",
       "      <td>2021-05-03</td>\n",
       "      <td>beneficiaire</td>\n",
       "      <td>beneficiaire</td>\n",
       "      <td>NaN</td>\n",
       "      <td>NaN</td>\n",
       "      <td>NaN</td>\n",
       "      <td>NaN</td>\n",
       "      <td>...</td>\n",
       "      <td>Très satisfaisant</td>\n",
       "      <td>Très satisfaisant</td>\n",
       "      <td>Très satisfaisant</td>\n",
       "      <td>Très satisfaisant</td>\n",
       "      <td>Très satisfaisant</td>\n",
       "      <td>Très satisfaisant</td>\n",
       "      <td>NaN</td>\n",
       "      <td>Aucun</td>\n",
       "      <td>NaN</td>\n",
       "      <td>2021-06-22 12:24:59</td>\n",
       "    </tr>\n",
       "    <tr>\n",
       "      <th>6</th>\n",
       "      <td>BC</td>\n",
       "      <td>Vire</td>\n",
       "      <td>212020-01-08</td>\n",
       "      <td>2021-02-03</td>\n",
       "      <td>intervenant-e</td>\n",
       "      <td>intervenant-e</td>\n",
       "      <td>NaN</td>\n",
       "      <td>NaN</td>\n",
       "      <td>NaN</td>\n",
       "      <td>NaN</td>\n",
       "      <td>...</td>\n",
       "      <td>NaN</td>\n",
       "      <td>NaN</td>\n",
       "      <td>NaN</td>\n",
       "      <td>NaN</td>\n",
       "      <td>NaN</td>\n",
       "      <td>NaN</td>\n",
       "      <td>NaN</td>\n",
       "      <td>NaN</td>\n",
       "      <td>NaN</td>\n",
       "      <td>2021-06-22 12:28:24</td>\n",
       "    </tr>\n",
       "    <tr>\n",
       "      <th>7</th>\n",
       "      <td>NaN</td>\n",
       "      <td>Vire</td>\n",
       "      <td>2021-02-11</td>\n",
       "      <td>2021-05-03</td>\n",
       "      <td>beneficiaire</td>\n",
       "      <td>beneficiaire</td>\n",
       "      <td>NaN</td>\n",
       "      <td>NaN</td>\n",
       "      <td>NaN</td>\n",
       "      <td>NaN</td>\n",
       "      <td>...</td>\n",
       "      <td>Très satisfaisant</td>\n",
       "      <td>Très satisfaisant</td>\n",
       "      <td>Très satisfaisant</td>\n",
       "      <td>Très satisfaisant</td>\n",
       "      <td>Satisfaisant</td>\n",
       "      <td>Très satisfaisant</td>\n",
       "      <td>NaN</td>\n",
       "      <td>NaN</td>\n",
       "      <td>+ modernisation des test d'aptitudes +++</td>\n",
       "      <td>2021-06-22 12:30:05</td>\n",
       "    </tr>\n",
       "    <tr>\n",
       "      <th>8</th>\n",
       "      <td>BC</td>\n",
       "      <td>Vire</td>\n",
       "      <td>2021-01-11</td>\n",
       "      <td>2021-05-03</td>\n",
       "      <td>prescripteur</td>\n",
       "      <td>prescripteur</td>\n",
       "      <td>NaN</td>\n",
       "      <td>NaN</td>\n",
       "      <td>NaN</td>\n",
       "      <td>NaN</td>\n",
       "      <td>...</td>\n",
       "      <td>NaN</td>\n",
       "      <td>NaN</td>\n",
       "      <td>NaN</td>\n",
       "      <td>NaN</td>\n",
       "      <td>NaN</td>\n",
       "      <td>NaN</td>\n",
       "      <td>NaN</td>\n",
       "      <td>NaN</td>\n",
       "      <td>NaN</td>\n",
       "      <td>2021-06-22 12:30:56</td>\n",
       "    </tr>\n",
       "    <tr>\n",
       "      <th>9</th>\n",
       "      <td>BC</td>\n",
       "      <td>Argentan</td>\n",
       "      <td>2021-02-03</td>\n",
       "      <td>2021-05-20</td>\n",
       "      <td>prescripteur</td>\n",
       "      <td>prescripteur</td>\n",
       "      <td>NaN</td>\n",
       "      <td>NaN</td>\n",
       "      <td>NaN</td>\n",
       "      <td>NaN</td>\n",
       "      <td>...</td>\n",
       "      <td>NaN</td>\n",
       "      <td>NaN</td>\n",
       "      <td>NaN</td>\n",
       "      <td>NaN</td>\n",
       "      <td>NaN</td>\n",
       "      <td>NaN</td>\n",
       "      <td>NaN</td>\n",
       "      <td>Très satisfaite dans la globalité de ma prise ...</td>\n",
       "      <td>NaN</td>\n",
       "      <td>2021-06-22 12:32:37</td>\n",
       "    </tr>\n",
       "    <tr>\n",
       "      <th>10</th>\n",
       "      <td>BC</td>\n",
       "      <td>Argentan</td>\n",
       "      <td>2021-02-03</td>\n",
       "      <td>2021-05-20</td>\n",
       "      <td>beneficiaire</td>\n",
       "      <td>beneficiaire</td>\n",
       "      <td>NaN</td>\n",
       "      <td>NaN</td>\n",
       "      <td>NaN</td>\n",
       "      <td>NaN</td>\n",
       "      <td>...</td>\n",
       "      <td>Très satisfaisant</td>\n",
       "      <td>Très satisfaisant</td>\n",
       "      <td>Très satisfaisant</td>\n",
       "      <td>Très satisfaisant</td>\n",
       "      <td>Très satisfaisant</td>\n",
       "      <td>Très satisfaisant</td>\n",
       "      <td>NaN</td>\n",
       "      <td>Mes objectifs de départ ont été atteint. La su...</td>\n",
       "      <td>NaN</td>\n",
       "      <td>2021-06-22 12:34:57</td>\n",
       "    </tr>\n",
       "    <tr>\n",
       "      <th>11</th>\n",
       "      <td>BC</td>\n",
       "      <td>Argentan</td>\n",
       "      <td>2021-02-03</td>\n",
       "      <td>2021-05-20</td>\n",
       "      <td>intervenant-e</td>\n",
       "      <td>intervenant-e</td>\n",
       "      <td>NaN</td>\n",
       "      <td>NaN</td>\n",
       "      <td>NaN</td>\n",
       "      <td>NaN</td>\n",
       "      <td>...</td>\n",
       "      <td>NaN</td>\n",
       "      <td>NaN</td>\n",
       "      <td>NaN</td>\n",
       "      <td>NaN</td>\n",
       "      <td>NaN</td>\n",
       "      <td>NaN</td>\n",
       "      <td>NaN</td>\n",
       "      <td>NaN</td>\n",
       "      <td>NaN</td>\n",
       "      <td>2021-06-22 12:35:54</td>\n",
       "    </tr>\n",
       "    <tr>\n",
       "      <th>12</th>\n",
       "      <td>BC</td>\n",
       "      <td>Vire</td>\n",
       "      <td>2020-11-11</td>\n",
       "      <td>2021-05-03</td>\n",
       "      <td>intervenant-e</td>\n",
       "      <td>intervenant-e</td>\n",
       "      <td>NaN</td>\n",
       "      <td>NaN</td>\n",
       "      <td>NaN</td>\n",
       "      <td>NaN</td>\n",
       "      <td>...</td>\n",
       "      <td>NaN</td>\n",
       "      <td>NaN</td>\n",
       "      <td>NaN</td>\n",
       "      <td>NaN</td>\n",
       "      <td>NaN</td>\n",
       "      <td>NaN</td>\n",
       "      <td>NaN</td>\n",
       "      <td>NaN</td>\n",
       "      <td>NaN</td>\n",
       "      <td>2021-06-22 12:37:03</td>\n",
       "    </tr>\n",
       "    <tr>\n",
       "      <th>13</th>\n",
       "      <td>BC</td>\n",
       "      <td>Vire</td>\n",
       "      <td>2021-02-02</td>\n",
       "      <td>2021-05-04</td>\n",
       "      <td>intervenant-e</td>\n",
       "      <td>intervenant-e</td>\n",
       "      <td>NaN</td>\n",
       "      <td>NaN</td>\n",
       "      <td>NaN</td>\n",
       "      <td>NaN</td>\n",
       "      <td>...</td>\n",
       "      <td>NaN</td>\n",
       "      <td>NaN</td>\n",
       "      <td>NaN</td>\n",
       "      <td>NaN</td>\n",
       "      <td>NaN</td>\n",
       "      <td>NaN</td>\n",
       "      <td>NaN</td>\n",
       "      <td>NaN</td>\n",
       "      <td>NaN</td>\n",
       "      <td>2021-06-22 12:37:53</td>\n",
       "    </tr>\n",
       "    <tr>\n",
       "      <th>14</th>\n",
       "      <td>BC</td>\n",
       "      <td>Vire</td>\n",
       "      <td>2021-02-02</td>\n",
       "      <td>2021-05-04</td>\n",
       "      <td>prescripteur</td>\n",
       "      <td>prescripteur</td>\n",
       "      <td>NaN</td>\n",
       "      <td>NaN</td>\n",
       "      <td>NaN</td>\n",
       "      <td>NaN</td>\n",
       "      <td>...</td>\n",
       "      <td>NaN</td>\n",
       "      <td>NaN</td>\n",
       "      <td>NaN</td>\n",
       "      <td>NaN</td>\n",
       "      <td>NaN</td>\n",
       "      <td>NaN</td>\n",
       "      <td>NaN</td>\n",
       "      <td>NaN</td>\n",
       "      <td>NaN</td>\n",
       "      <td>2021-06-22 12:40:41</td>\n",
       "    </tr>\n",
       "    <tr>\n",
       "      <th>99</th>\n",
       "      <td>PIP</td>\n",
       "      <td>Argentan</td>\n",
       "      <td>2021-01-20</td>\n",
       "      <td>2021-06-15</td>\n",
       "      <td>financeur</td>\n",
       "      <td>financeur</td>\n",
       "      <td>Très satisfaisant</td>\n",
       "      <td>Très satisfaisant</td>\n",
       "      <td>Satisfaisant</td>\n",
       "      <td>Satisfaisant</td>\n",
       "      <td>...</td>\n",
       "      <td>NaN</td>\n",
       "      <td>NaN</td>\n",
       "      <td>NaN</td>\n",
       "      <td>NaN</td>\n",
       "      <td>NaN</td>\n",
       "      <td>NaN</td>\n",
       "      <td>NaN</td>\n",
       "      <td>La prestation correspond aux attentes du marché.</td>\n",
       "      <td>NaN</td>\n",
       "      <td>2021-06-25 08:58:23</td>\n",
       "    </tr>\n",
       "    <tr>\n",
       "      <th>108</th>\n",
       "      <td>PH</td>\n",
       "      <td>NaN</td>\n",
       "      <td>2020-12-01</td>\n",
       "      <td>2020-12-01</td>\n",
       "      <td>financeur</td>\n",
       "      <td>financeur</td>\n",
       "      <td>Très satisfaisant</td>\n",
       "      <td>Très satisfaisant</td>\n",
       "      <td>Très satisfaisant</td>\n",
       "      <td>Très satisfaisant</td>\n",
       "      <td>...</td>\n",
       "      <td>NaN</td>\n",
       "      <td>NaN</td>\n",
       "      <td>NaN</td>\n",
       "      <td>NaN</td>\n",
       "      <td>NaN</td>\n",
       "      <td>NaN</td>\n",
       "      <td>NaN</td>\n",
       "      <td>renouvellement de cette action aupres des 6ème...</td>\n",
       "      <td>NaN</td>\n",
       "      <td>2021-06-30 10:32:36</td>\n",
       "    </tr>\n",
       "    <tr>\n",
       "      <th>127</th>\n",
       "      <td>PS</td>\n",
       "      <td>Bayeux</td>\n",
       "      <td>2021-05-17</td>\n",
       "      <td>2021-07-16</td>\n",
       "      <td>financeur</td>\n",
       "      <td>financeur</td>\n",
       "      <td>Très satisfaisant</td>\n",
       "      <td>Très satisfaisant</td>\n",
       "      <td>Très satisfaisant</td>\n",
       "      <td>Satisfaisant</td>\n",
       "      <td>...</td>\n",
       "      <td>NaN</td>\n",
       "      <td>NaN</td>\n",
       "      <td>NaN</td>\n",
       "      <td>NaN</td>\n",
       "      <td>NaN</td>\n",
       "      <td>NaN</td>\n",
       "      <td>NaN</td>\n",
       "      <td>Accès à l'emploi pour 5p./10 soit 50%  : 2 ACI...</td>\n",
       "      <td>Travailler sur la mixité des emplois. Elargir ...</td>\n",
       "      <td>2021-07-16 14:39:02</td>\n",
       "    </tr>\n",
       "  </tbody>\n",
       "</table>\n",
       "<p>18 rows × 40 columns</p>\n",
       "</div>"
      ],
      "text/plain": [
       "    dispositif       site         debut         fin         statue  \\\n",
       "0           BC  Avranches    2021-02-03  2021-06-04   beneficiaire   \n",
       "1           BC       Vire    2021-02-23  2021-06-08   prescripteur   \n",
       "2           BC       Vire    2021-02-23  2021-06-08   beneficiaire   \n",
       "3           BC       Vire    2021-02-23  2021-06-08  intervenant-e   \n",
       "4           BC       Vire    2021-01-08  0021-05-03   prescripteur   \n",
       "5           BC       Vire    2021-01-08  2021-05-03   beneficiaire   \n",
       "6           BC       Vire  212020-01-08  2021-02-03  intervenant-e   \n",
       "7          NaN       Vire    2021-02-11  2021-05-03   beneficiaire   \n",
       "8           BC       Vire    2021-01-11  2021-05-03   prescripteur   \n",
       "9           BC   Argentan    2021-02-03  2021-05-20   prescripteur   \n",
       "10          BC   Argentan    2021-02-03  2021-05-20   beneficiaire   \n",
       "11          BC   Argentan    2021-02-03  2021-05-20  intervenant-e   \n",
       "12          BC       Vire    2020-11-11  2021-05-03  intervenant-e   \n",
       "13          BC       Vire    2021-02-02  2021-05-04  intervenant-e   \n",
       "14          BC       Vire    2021-02-02  2021-05-04   prescripteur   \n",
       "99         PIP   Argentan    2021-01-20  2021-06-15      financeur   \n",
       "108         PH        NaN    2020-12-01  2020-12-01      financeur   \n",
       "127         PS     Bayeux    2021-05-17  2021-07-16      financeur   \n",
       "\n",
       "           branche               fin1               fin2               fin3  \\\n",
       "0     beneficiaire                NaN                NaN                NaN   \n",
       "1     prescripteur                NaN                NaN                NaN   \n",
       "2     beneficiaire                NaN                NaN                NaN   \n",
       "3    intervenant-e                NaN                NaN                NaN   \n",
       "4     prescripteur                NaN                NaN                NaN   \n",
       "5     beneficiaire                NaN                NaN                NaN   \n",
       "6    intervenant-e                NaN                NaN                NaN   \n",
       "7     beneficiaire                NaN                NaN                NaN   \n",
       "8     prescripteur                NaN                NaN                NaN   \n",
       "9     prescripteur                NaN                NaN                NaN   \n",
       "10    beneficiaire                NaN                NaN                NaN   \n",
       "11   intervenant-e                NaN                NaN                NaN   \n",
       "12   intervenant-e                NaN                NaN                NaN   \n",
       "13   intervenant-e                NaN                NaN                NaN   \n",
       "14    prescripteur                NaN                NaN                NaN   \n",
       "99       financeur  Très satisfaisant  Très satisfaisant       Satisfaisant   \n",
       "108      financeur  Très satisfaisant  Très satisfaisant  Très satisfaisant   \n",
       "127      financeur  Très satisfaisant  Très satisfaisant  Très satisfaisant   \n",
       "\n",
       "                  fin4  ...               ben1               ben2  \\\n",
       "0                  NaN  ...  Très satisfaisant  Très satisfaisant   \n",
       "1                  NaN  ...                NaN                NaN   \n",
       "2                  NaN  ...  Très satisfaisant  Très satisfaisant   \n",
       "3                  NaN  ...                NaN                NaN   \n",
       "4                  NaN  ...                NaN                NaN   \n",
       "5                  NaN  ...  Très satisfaisant  Très satisfaisant   \n",
       "6                  NaN  ...                NaN                NaN   \n",
       "7                  NaN  ...  Très satisfaisant  Très satisfaisant   \n",
       "8                  NaN  ...                NaN                NaN   \n",
       "9                  NaN  ...                NaN                NaN   \n",
       "10                 NaN  ...  Très satisfaisant  Très satisfaisant   \n",
       "11                 NaN  ...                NaN                NaN   \n",
       "12                 NaN  ...                NaN                NaN   \n",
       "13                 NaN  ...                NaN                NaN   \n",
       "14                 NaN  ...                NaN                NaN   \n",
       "99        Satisfaisant  ...                NaN                NaN   \n",
       "108  Très satisfaisant  ...                NaN                NaN   \n",
       "127       Satisfaisant  ...                NaN                NaN   \n",
       "\n",
       "                  ben3               ben4               ben5  \\\n",
       "0    Très satisfaisant  Très satisfaisant   Peu satisfaisant   \n",
       "1                  NaN                NaN                NaN   \n",
       "2    Très satisfaisant  Très satisfaisant  Très satisfaisant   \n",
       "3                  NaN                NaN                NaN   \n",
       "4                  NaN                NaN                NaN   \n",
       "5    Très satisfaisant  Très satisfaisant  Très satisfaisant   \n",
       "6                  NaN                NaN                NaN   \n",
       "7    Très satisfaisant  Très satisfaisant       Satisfaisant   \n",
       "8                  NaN                NaN                NaN   \n",
       "9                  NaN                NaN                NaN   \n",
       "10   Très satisfaisant  Très satisfaisant  Très satisfaisant   \n",
       "11                 NaN                NaN                NaN   \n",
       "12                 NaN                NaN                NaN   \n",
       "13                 NaN                NaN                NaN   \n",
       "14                 NaN                NaN                NaN   \n",
       "99                 NaN                NaN                NaN   \n",
       "108                NaN                NaN                NaN   \n",
       "127                NaN                NaN                NaN   \n",
       "\n",
       "                  ben6               ben7  \\\n",
       "0    Très satisfaisant                NaN   \n",
       "1                  NaN                NaN   \n",
       "2    Très satisfaisant  Très satisfaisant   \n",
       "3                  NaN                NaN   \n",
       "4                  NaN                NaN   \n",
       "5    Très satisfaisant                NaN   \n",
       "6                  NaN                NaN   \n",
       "7    Très satisfaisant                NaN   \n",
       "8                  NaN                NaN   \n",
       "9                  NaN                NaN   \n",
       "10   Très satisfaisant                NaN   \n",
       "11                 NaN                NaN   \n",
       "12                 NaN                NaN   \n",
       "13                 NaN                NaN   \n",
       "14                 NaN                NaN   \n",
       "99                 NaN                NaN   \n",
       "108                NaN                NaN   \n",
       "127                NaN                NaN   \n",
       "\n",
       "                                               comment  \\\n",
       "0    Apprécié les moyens mit à dispositions même si...   \n",
       "1    J'ai été ravie de la prise en charge de mon bi...   \n",
       "2                                                  NaN   \n",
       "3                                                  NaN   \n",
       "4                                                Aucun   \n",
       "5                                                Aucun   \n",
       "6                                                  NaN   \n",
       "7                                                  NaN   \n",
       "8                                                  NaN   \n",
       "9    Très satisfaite dans la globalité de ma prise ...   \n",
       "10   Mes objectifs de départ ont été atteint. La su...   \n",
       "11                                                 NaN   \n",
       "12                                                 NaN   \n",
       "13                                                 NaN   \n",
       "14                                                 NaN   \n",
       "99    La prestation correspond aux attentes du marché.   \n",
       "108  renouvellement de cette action aupres des 6ème...   \n",
       "127  Accès à l'emploi pour 5p./10 soit 50%  : 2 ACI...   \n",
       "\n",
       "                                           proposition        register_date  \n",
       "0    Test plus précis a fin de cibler davantage 2 v...  2021-06-22 12:05:16  \n",
       "1                                                  NaN  2021-06-22 12:18:15  \n",
       "2                                                  NaN  2021-06-22 12:20:08  \n",
       "3                                                  NaN  2021-06-22 12:21:35  \n",
       "4                                                  NaN  2021-06-22 12:23:50  \n",
       "5                                                  NaN  2021-06-22 12:24:59  \n",
       "6                                                  NaN  2021-06-22 12:28:24  \n",
       "7             + modernisation des test d'aptitudes +++  2021-06-22 12:30:05  \n",
       "8                                                  NaN  2021-06-22 12:30:56  \n",
       "9                                                  NaN  2021-06-22 12:32:37  \n",
       "10                                                 NaN  2021-06-22 12:34:57  \n",
       "11                                                 NaN  2021-06-22 12:35:54  \n",
       "12                                                 NaN  2021-06-22 12:37:03  \n",
       "13                                                 NaN  2021-06-22 12:37:53  \n",
       "14                                                 NaN  2021-06-22 12:40:41  \n",
       "99                                                 NaN  2021-06-25 08:58:23  \n",
       "108                                                NaN  2021-06-30 10:32:36  \n",
       "127  Travailler sur la mixité des emplois. Elargir ...  2021-07-16 14:39:02  \n",
       "\n",
       "[18 rows x 40 columns]"
      ]
     },
     "execution_count": 29,
     "metadata": {},
     "output_type": "execute_result"
    }
   ],
   "source": [
    "dfFin.head()"
   ]
  },
  {
   "cell_type": "code",
   "execution_count": 23,
   "metadata": {},
   "outputs": [
    {
     "data": {
      "text/plain": [
       "dispositif         3\n",
       "site               9\n",
       "debut              3\n",
       "fin                2\n",
       "statue             0\n",
       "branche            0\n",
       "fin1             139\n",
       "fin2             139\n",
       "fin3             139\n",
       "fin4             139\n",
       "fin5             139\n",
       "intType          110\n",
       "inter1           109\n",
       "inter2           110\n",
       "inter3           110\n",
       "inter4           110\n",
       "intForDis        109\n",
       "inter5           128\n",
       "intRisqS         110\n",
       "intRisqH         126\n",
       "intRisqJ         126\n",
       "intRisqEn        126\n",
       "intRisqEc        126\n",
       "preUsager        127\n",
       "pre1             127\n",
       "pre2             127\n",
       "pre3             127\n",
       "pre4             127\n",
       "pre5             127\n",
       "pre6             127\n",
       "ben1              52\n",
       "ben2              52\n",
       "ben3              52\n",
       "ben4              51\n",
       "ben5              52\n",
       "ben6              53\n",
       "ben7             110\n",
       "comment           90\n",
       "proposition      123\n",
       "register_date      0\n",
       "dtype: int64"
      ]
     },
     "execution_count": 23,
     "metadata": {},
     "output_type": "execute_result"
    }
   ],
   "source": [
    "df.isnull().sum()\n",
    "# pd.isnull(df).sum()\n",
    "# df.dropna(inplace=True)\n",
    "# sns.heatmap(df.isnull(), yticklabels=False, cbar=False, cmap=\"viridis\")"
   ]
  },
  {
   "cell_type": "code",
   "execution_count": 244,
   "metadata": {},
   "outputs": [
    {
     "data": {
      "text/plain": [
       "3286"
      ]
     },
     "execution_count": 244,
     "metadata": {},
     "output_type": "execute_result"
    }
   ],
   "source": [
    "df.isnull().sum().sum()"
   ]
  },
  {
   "cell_type": "code",
   "execution_count": 10,
   "metadata": {},
   "outputs": [
    {
     "data": {
      "text/html": [
       "<div>\n",
       "<style scoped>\n",
       "    .dataframe tbody tr th:only-of-type {\n",
       "        vertical-align: middle;\n",
       "    }\n",
       "\n",
       "    .dataframe tbody tr th {\n",
       "        vertical-align: top;\n",
       "    }\n",
       "\n",
       "    .dataframe thead th {\n",
       "        text-align: right;\n",
       "    }\n",
       "</style>\n",
       "<table border=\"1\" class=\"dataframe\">\n",
       "  <thead>\n",
       "    <tr style=\"text-align: right;\">\n",
       "      <th></th>\n",
       "      <th>dispositif</th>\n",
       "      <th>site</th>\n",
       "      <th>debut</th>\n",
       "      <th>fin</th>\n",
       "      <th>statue</th>\n",
       "      <th>branche</th>\n",
       "      <th>fin1</th>\n",
       "      <th>fin2</th>\n",
       "      <th>fin3</th>\n",
       "      <th>fin4</th>\n",
       "      <th>...</th>\n",
       "      <th>ben1</th>\n",
       "      <th>ben2</th>\n",
       "      <th>ben3</th>\n",
       "      <th>ben4</th>\n",
       "      <th>ben5</th>\n",
       "      <th>ben6</th>\n",
       "      <th>ben7</th>\n",
       "      <th>comment</th>\n",
       "      <th>proposition</th>\n",
       "      <th>register_date</th>\n",
       "    </tr>\n",
       "  </thead>\n",
       "  <tbody>\n",
       "    <tr>\n",
       "      <th>7</th>\n",
       "      <td>NaN</td>\n",
       "      <td>Vire</td>\n",
       "      <td>2021-02-11</td>\n",
       "      <td>2021-05-03</td>\n",
       "      <td>beneficiaire</td>\n",
       "      <td>beneficiaire</td>\n",
       "      <td>NaN</td>\n",
       "      <td>NaN</td>\n",
       "      <td>NaN</td>\n",
       "      <td>NaN</td>\n",
       "      <td>...</td>\n",
       "      <td>Très satisfaisant</td>\n",
       "      <td>Très satisfaisant</td>\n",
       "      <td>Très satisfaisant</td>\n",
       "      <td>Très satisfaisant</td>\n",
       "      <td>Satisfaisant</td>\n",
       "      <td>Très satisfaisant</td>\n",
       "      <td>NaN</td>\n",
       "      <td>NaN</td>\n",
       "      <td>+ modernisation des test d'aptitudes +++</td>\n",
       "      <td>2021-06-22 12:30:05</td>\n",
       "    </tr>\n",
       "    <tr>\n",
       "      <th>18</th>\n",
       "      <td>NaN</td>\n",
       "      <td>Vire</td>\n",
       "      <td>2021-01-11</td>\n",
       "      <td>2021-04-23</td>\n",
       "      <td>intervenant-e</td>\n",
       "      <td>intervenant-e</td>\n",
       "      <td>NaN</td>\n",
       "      <td>NaN</td>\n",
       "      <td>NaN</td>\n",
       "      <td>NaN</td>\n",
       "      <td>...</td>\n",
       "      <td>NaN</td>\n",
       "      <td>NaN</td>\n",
       "      <td>NaN</td>\n",
       "      <td>NaN</td>\n",
       "      <td>NaN</td>\n",
       "      <td>NaN</td>\n",
       "      <td>NaN</td>\n",
       "      <td>NaN</td>\n",
       "      <td>NaN</td>\n",
       "      <td>2021-06-22 12:46:10</td>\n",
       "    </tr>\n",
       "    <tr>\n",
       "      <th>30</th>\n",
       "      <td>NaN</td>\n",
       "      <td>NaN</td>\n",
       "      <td>2020-12-02</td>\n",
       "      <td>2021-03-24</td>\n",
       "      <td>intervenant-e</td>\n",
       "      <td>intervenant-e</td>\n",
       "      <td>NaN</td>\n",
       "      <td>NaN</td>\n",
       "      <td>NaN</td>\n",
       "      <td>NaN</td>\n",
       "      <td>...</td>\n",
       "      <td>NaN</td>\n",
       "      <td>NaN</td>\n",
       "      <td>NaN</td>\n",
       "      <td>NaN</td>\n",
       "      <td>NaN</td>\n",
       "      <td>NaN</td>\n",
       "      <td>NaN</td>\n",
       "      <td>NaN</td>\n",
       "      <td>NaN</td>\n",
       "      <td>2021-06-22 13:01:54</td>\n",
       "    </tr>\n",
       "  </tbody>\n",
       "</table>\n",
       "<p>3 rows × 40 columns</p>\n",
       "</div>"
      ],
      "text/plain": [
       "   dispositif  site       debut         fin         statue        branche  \\\n",
       "7         NaN  Vire  2021-02-11  2021-05-03   beneficiaire   beneficiaire   \n",
       "18        NaN  Vire  2021-01-11  2021-04-23  intervenant-e  intervenant-e   \n",
       "30        NaN   NaN  2020-12-02  2021-03-24  intervenant-e  intervenant-e   \n",
       "\n",
       "   fin1 fin2 fin3 fin4  ...               ben1               ben2  \\\n",
       "7   NaN  NaN  NaN  NaN  ...  Très satisfaisant  Très satisfaisant   \n",
       "18  NaN  NaN  NaN  NaN  ...                NaN                NaN   \n",
       "30  NaN  NaN  NaN  NaN  ...                NaN                NaN   \n",
       "\n",
       "                 ben3               ben4          ben5               ben6  \\\n",
       "7   Très satisfaisant  Très satisfaisant  Satisfaisant  Très satisfaisant   \n",
       "18                NaN                NaN           NaN                NaN   \n",
       "30                NaN                NaN           NaN                NaN   \n",
       "\n",
       "   ben7 comment                               proposition        register_date  \n",
       "7   NaN     NaN  + modernisation des test d'aptitudes +++  2021-06-22 12:30:05  \n",
       "18  NaN     NaN                                       NaN  2021-06-22 12:46:10  \n",
       "30  NaN     NaN                                       NaN  2021-06-22 13:01:54  \n",
       "\n",
       "[3 rows x 40 columns]"
      ]
     },
     "execution_count": 10,
     "metadata": {},
     "output_type": "execute_result"
    }
   ],
   "source": [
    "df[df.dispositif.isnull()==True]"
   ]
  },
  {
   "cell_type": "code",
   "execution_count": 11,
   "metadata": {},
   "outputs": [],
   "source": [
    "df.site.fillna(method = \"pad\", inplace = True)"
   ]
  },
  {
   "cell_type": "code",
   "execution_count": 12,
   "metadata": {},
   "outputs": [
    {
     "data": {
      "text/html": [
       "<div>\n",
       "<style scoped>\n",
       "    .dataframe tbody tr th:only-of-type {\n",
       "        vertical-align: middle;\n",
       "    }\n",
       "\n",
       "    .dataframe tbody tr th {\n",
       "        vertical-align: top;\n",
       "    }\n",
       "\n",
       "    .dataframe thead th {\n",
       "        text-align: right;\n",
       "    }\n",
       "</style>\n",
       "<table border=\"1\" class=\"dataframe\">\n",
       "  <thead>\n",
       "    <tr style=\"text-align: right;\">\n",
       "      <th></th>\n",
       "      <th>dispositif</th>\n",
       "      <th>site</th>\n",
       "      <th>debut</th>\n",
       "      <th>fin</th>\n",
       "      <th>statue</th>\n",
       "      <th>branche</th>\n",
       "      <th>fin1</th>\n",
       "      <th>fin2</th>\n",
       "      <th>fin3</th>\n",
       "      <th>fin4</th>\n",
       "      <th>...</th>\n",
       "      <th>ben1</th>\n",
       "      <th>ben2</th>\n",
       "      <th>ben3</th>\n",
       "      <th>ben4</th>\n",
       "      <th>ben5</th>\n",
       "      <th>ben6</th>\n",
       "      <th>ben7</th>\n",
       "      <th>comment</th>\n",
       "      <th>proposition</th>\n",
       "      <th>register_date</th>\n",
       "    </tr>\n",
       "  </thead>\n",
       "  <tbody>\n",
       "    <tr>\n",
       "      <th>48</th>\n",
       "      <td>Bilan de competences</td>\n",
       "      <td>Vire</td>\n",
       "      <td>NaN</td>\n",
       "      <td>NaN</td>\n",
       "      <td>beneficiaire</td>\n",
       "      <td>beneficiaire</td>\n",
       "      <td>NaN</td>\n",
       "      <td>NaN</td>\n",
       "      <td>NaN</td>\n",
       "      <td>NaN</td>\n",
       "      <td>...</td>\n",
       "      <td>Très satisfaisant</td>\n",
       "      <td>Très satisfaisant</td>\n",
       "      <td>Satisfaisant</td>\n",
       "      <td>Satisfaisant</td>\n",
       "      <td>Satisfaisant</td>\n",
       "      <td>Satisfaisant</td>\n",
       "      <td>Satisfaisant</td>\n",
       "      <td>NaN</td>\n",
       "      <td>NaN</td>\n",
       "      <td>2021-06-22 14:12:17</td>\n",
       "    </tr>\n",
       "    <tr>\n",
       "      <th>54</th>\n",
       "      <td>Bilan de competences</td>\n",
       "      <td>Saint-Lo</td>\n",
       "      <td>NaN</td>\n",
       "      <td>NaN</td>\n",
       "      <td>beneficiaire</td>\n",
       "      <td>beneficiaire</td>\n",
       "      <td>NaN</td>\n",
       "      <td>NaN</td>\n",
       "      <td>NaN</td>\n",
       "      <td>NaN</td>\n",
       "      <td>...</td>\n",
       "      <td>Satisfaisant</td>\n",
       "      <td>Très satisfaisant</td>\n",
       "      <td>Très satisfaisant</td>\n",
       "      <td>Très satisfaisant</td>\n",
       "      <td>Très satisfaisant</td>\n",
       "      <td>Très satisfaisant</td>\n",
       "      <td>NaN</td>\n",
       "      <td>NaN</td>\n",
       "      <td>NaN</td>\n",
       "      <td>2021-06-23 09:16:58</td>\n",
       "    </tr>\n",
       "    <tr>\n",
       "      <th>104</th>\n",
       "      <td>Primo insertion professionnelle</td>\n",
       "      <td>Argentan</td>\n",
       "      <td>NaN</td>\n",
       "      <td>2021-06-15</td>\n",
       "      <td>beneficiaire</td>\n",
       "      <td>beneficiaire</td>\n",
       "      <td>NaN</td>\n",
       "      <td>NaN</td>\n",
       "      <td>NaN</td>\n",
       "      <td>NaN</td>\n",
       "      <td>...</td>\n",
       "      <td>Satisfaisant</td>\n",
       "      <td>Satisfaisant</td>\n",
       "      <td>Satisfaisant</td>\n",
       "      <td>Satisfaisant</td>\n",
       "      <td>Satisfaisant</td>\n",
       "      <td>Satisfaisant</td>\n",
       "      <td>NaN</td>\n",
       "      <td>NaN</td>\n",
       "      <td>NaN</td>\n",
       "      <td>2021-06-25 09:05:06</td>\n",
       "    </tr>\n",
       "  </tbody>\n",
       "</table>\n",
       "<p>3 rows × 40 columns</p>\n",
       "</div>"
      ],
      "text/plain": [
       "                          dispositif      site debut         fin  \\\n",
       "48              Bilan de competences      Vire   NaN         NaN   \n",
       "54              Bilan de competences  Saint-Lo   NaN         NaN   \n",
       "104  Primo insertion professionnelle  Argentan   NaN  2021-06-15   \n",
       "\n",
       "           statue       branche fin1 fin2 fin3 fin4  ...               ben1  \\\n",
       "48   beneficiaire  beneficiaire  NaN  NaN  NaN  NaN  ...  Très satisfaisant   \n",
       "54   beneficiaire  beneficiaire  NaN  NaN  NaN  NaN  ...       Satisfaisant   \n",
       "104  beneficiaire  beneficiaire  NaN  NaN  NaN  NaN  ...       Satisfaisant   \n",
       "\n",
       "                  ben2               ben3               ben4  \\\n",
       "48   Très satisfaisant       Satisfaisant       Satisfaisant   \n",
       "54   Très satisfaisant  Très satisfaisant  Très satisfaisant   \n",
       "104       Satisfaisant       Satisfaisant       Satisfaisant   \n",
       "\n",
       "                  ben5               ben6          ben7 comment proposition  \\\n",
       "48        Satisfaisant       Satisfaisant  Satisfaisant     NaN         NaN   \n",
       "54   Très satisfaisant  Très satisfaisant           NaN     NaN         NaN   \n",
       "104       Satisfaisant       Satisfaisant           NaN     NaN         NaN   \n",
       "\n",
       "           register_date  \n",
       "48   2021-06-22 14:12:17  \n",
       "54   2021-06-23 09:16:58  \n",
       "104  2021-06-25 09:05:06  \n",
       "\n",
       "[3 rows x 40 columns]"
      ]
     },
     "execution_count": 12,
     "metadata": {},
     "output_type": "execute_result"
    }
   ],
   "source": [
    "df[df.debut.isnull()==True]"
   ]
  },
  {
   "cell_type": "code",
   "execution_count": 334,
   "metadata": {},
   "outputs": [
    {
     "data": {
      "text/html": [
       "<div>\n",
       "<style scoped>\n",
       "    .dataframe tbody tr th:only-of-type {\n",
       "        vertical-align: middle;\n",
       "    }\n",
       "\n",
       "    .dataframe tbody tr th {\n",
       "        vertical-align: top;\n",
       "    }\n",
       "\n",
       "    .dataframe thead th {\n",
       "        text-align: right;\n",
       "    }\n",
       "</style>\n",
       "<table border=\"1\" class=\"dataframe\">\n",
       "  <thead>\n",
       "    <tr style=\"text-align: right;\">\n",
       "      <th></th>\n",
       "      <th>dispositif</th>\n",
       "      <th>site</th>\n",
       "      <th>debut</th>\n",
       "      <th>fin</th>\n",
       "      <th>statue</th>\n",
       "      <th>branche</th>\n",
       "      <th>fin1</th>\n",
       "      <th>fin2</th>\n",
       "      <th>fin3</th>\n",
       "      <th>fin4</th>\n",
       "      <th>...</th>\n",
       "      <th>ben1</th>\n",
       "      <th>ben2</th>\n",
       "      <th>ben3</th>\n",
       "      <th>ben4</th>\n",
       "      <th>ben5</th>\n",
       "      <th>ben6</th>\n",
       "      <th>ben7</th>\n",
       "      <th>comment</th>\n",
       "      <th>proposition</th>\n",
       "      <th>register_date</th>\n",
       "    </tr>\n",
       "  </thead>\n",
       "  <tbody>\n",
       "    <tr>\n",
       "      <th>0</th>\n",
       "      <td>BC</td>\n",
       "      <td>Avranches</td>\n",
       "      <td>2021-02-03</td>\n",
       "      <td>2021-06-04</td>\n",
       "      <td>beneficiaire</td>\n",
       "      <td>beneficiaire</td>\n",
       "      <td>NaN</td>\n",
       "      <td>NaN</td>\n",
       "      <td>NaN</td>\n",
       "      <td>NaN</td>\n",
       "      <td>...</td>\n",
       "      <td>Très satisfaisant</td>\n",
       "      <td>Très satisfaisant</td>\n",
       "      <td>Très satisfaisant</td>\n",
       "      <td>Très satisfaisant</td>\n",
       "      <td>Peu satisfaisant</td>\n",
       "      <td>Très satisfaisant</td>\n",
       "      <td>NaN</td>\n",
       "      <td>Apprécié les moyens mit à dispositions même si...</td>\n",
       "      <td>Test plus précis a fin de cibler davantage 2 v...</td>\n",
       "      <td>2021-06-22 12:05:16</td>\n",
       "    </tr>\n",
       "    <tr>\n",
       "      <th>1</th>\n",
       "      <td>BC</td>\n",
       "      <td>Vire</td>\n",
       "      <td>2021-02-23</td>\n",
       "      <td>2021-06-08</td>\n",
       "      <td>prescripteur</td>\n",
       "      <td>prescripteur</td>\n",
       "      <td>NaN</td>\n",
       "      <td>NaN</td>\n",
       "      <td>NaN</td>\n",
       "      <td>NaN</td>\n",
       "      <td>...</td>\n",
       "      <td>NaN</td>\n",
       "      <td>NaN</td>\n",
       "      <td>NaN</td>\n",
       "      <td>NaN</td>\n",
       "      <td>NaN</td>\n",
       "      <td>NaN</td>\n",
       "      <td>NaN</td>\n",
       "      <td>J'ai été ravie de la prise en charge de mon bi...</td>\n",
       "      <td>NaN</td>\n",
       "      <td>2021-06-22 12:18:15</td>\n",
       "    </tr>\n",
       "    <tr>\n",
       "      <th>2</th>\n",
       "      <td>BC</td>\n",
       "      <td>Vire</td>\n",
       "      <td>2021-02-23</td>\n",
       "      <td>2021-06-08</td>\n",
       "      <td>beneficiaire</td>\n",
       "      <td>beneficiaire</td>\n",
       "      <td>NaN</td>\n",
       "      <td>NaN</td>\n",
       "      <td>NaN</td>\n",
       "      <td>NaN</td>\n",
       "      <td>...</td>\n",
       "      <td>Très satisfaisant</td>\n",
       "      <td>Très satisfaisant</td>\n",
       "      <td>Très satisfaisant</td>\n",
       "      <td>Très satisfaisant</td>\n",
       "      <td>Très satisfaisant</td>\n",
       "      <td>Très satisfaisant</td>\n",
       "      <td>Très satisfaisant</td>\n",
       "      <td>NaN</td>\n",
       "      <td>NaN</td>\n",
       "      <td>2021-06-22 12:20:08</td>\n",
       "    </tr>\n",
       "    <tr>\n",
       "      <th>3</th>\n",
       "      <td>BC</td>\n",
       "      <td>Vire</td>\n",
       "      <td>2021-02-23</td>\n",
       "      <td>2021-06-08</td>\n",
       "      <td>intervenant-e</td>\n",
       "      <td>intervenant-e</td>\n",
       "      <td>NaN</td>\n",
       "      <td>NaN</td>\n",
       "      <td>NaN</td>\n",
       "      <td>NaN</td>\n",
       "      <td>...</td>\n",
       "      <td>NaN</td>\n",
       "      <td>NaN</td>\n",
       "      <td>NaN</td>\n",
       "      <td>NaN</td>\n",
       "      <td>NaN</td>\n",
       "      <td>NaN</td>\n",
       "      <td>NaN</td>\n",
       "      <td>NaN</td>\n",
       "      <td>NaN</td>\n",
       "      <td>2021-06-22 12:21:35</td>\n",
       "    </tr>\n",
       "    <tr>\n",
       "      <th>4</th>\n",
       "      <td>BC</td>\n",
       "      <td>Vire</td>\n",
       "      <td>2021-01-08</td>\n",
       "      <td>0021-05-03</td>\n",
       "      <td>prescripteur</td>\n",
       "      <td>prescripteur</td>\n",
       "      <td>NaN</td>\n",
       "      <td>NaN</td>\n",
       "      <td>NaN</td>\n",
       "      <td>NaN</td>\n",
       "      <td>...</td>\n",
       "      <td>NaN</td>\n",
       "      <td>NaN</td>\n",
       "      <td>NaN</td>\n",
       "      <td>NaN</td>\n",
       "      <td>NaN</td>\n",
       "      <td>NaN</td>\n",
       "      <td>NaN</td>\n",
       "      <td>Aucun</td>\n",
       "      <td>NaN</td>\n",
       "      <td>2021-06-22 12:23:50</td>\n",
       "    </tr>\n",
       "  </tbody>\n",
       "</table>\n",
       "<p>5 rows × 40 columns</p>\n",
       "</div>"
      ],
      "text/plain": [
       "  dispositif       site       debut         fin         statue        branche  \\\n",
       "0         BC  Avranches  2021-02-03  2021-06-04   beneficiaire   beneficiaire   \n",
       "1         BC       Vire  2021-02-23  2021-06-08   prescripteur   prescripteur   \n",
       "2         BC       Vire  2021-02-23  2021-06-08   beneficiaire   beneficiaire   \n",
       "3         BC       Vire  2021-02-23  2021-06-08  intervenant-e  intervenant-e   \n",
       "4         BC       Vire  2021-01-08  0021-05-03   prescripteur   prescripteur   \n",
       "\n",
       "  fin1 fin2 fin3 fin4  ...               ben1               ben2  \\\n",
       "0  NaN  NaN  NaN  NaN  ...  Très satisfaisant  Très satisfaisant   \n",
       "1  NaN  NaN  NaN  NaN  ...                NaN                NaN   \n",
       "2  NaN  NaN  NaN  NaN  ...  Très satisfaisant  Très satisfaisant   \n",
       "3  NaN  NaN  NaN  NaN  ...                NaN                NaN   \n",
       "4  NaN  NaN  NaN  NaN  ...                NaN                NaN   \n",
       "\n",
       "                ben3               ben4               ben5               ben6  \\\n",
       "0  Très satisfaisant  Très satisfaisant   Peu satisfaisant  Très satisfaisant   \n",
       "1                NaN                NaN                NaN                NaN   \n",
       "2  Très satisfaisant  Très satisfaisant  Très satisfaisant  Très satisfaisant   \n",
       "3                NaN                NaN                NaN                NaN   \n",
       "4                NaN                NaN                NaN                NaN   \n",
       "\n",
       "                ben7                                            comment  \\\n",
       "0                NaN  Apprécié les moyens mit à dispositions même si...   \n",
       "1                NaN  J'ai été ravie de la prise en charge de mon bi...   \n",
       "2  Très satisfaisant                                                NaN   \n",
       "3                NaN                                                NaN   \n",
       "4                NaN                                              Aucun   \n",
       "\n",
       "                                         proposition        register_date  \n",
       "0  Test plus précis a fin de cibler davantage 2 v...  2021-06-22 12:05:16  \n",
       "1                                                NaN  2021-06-22 12:18:15  \n",
       "2                                                NaN  2021-06-22 12:20:08  \n",
       "3                                                NaN  2021-06-22 12:21:35  \n",
       "4                                                NaN  2021-06-22 12:23:50  \n",
       "\n",
       "[5 rows x 40 columns]"
      ]
     },
     "execution_count": 334,
     "metadata": {},
     "output_type": "execute_result"
    }
   ],
   "source": [
    "df.head()"
   ]
  },
  {
   "cell_type": "code",
   "execution_count": 335,
   "metadata": {},
   "outputs": [
    {
     "data": {
      "text/plain": [
       "dispositif         0\n",
       "site               0\n",
       "debut              2\n",
       "fin                2\n",
       "statue             0\n",
       "branche            0\n",
       "fin1             125\n",
       "fin2             125\n",
       "fin3             125\n",
       "fin4             125\n",
       "fin5             125\n",
       "intType           98\n",
       "inter1            97\n",
       "inter2            98\n",
       "inter3            98\n",
       "inter4            98\n",
       "intForDis         97\n",
       "inter5           114\n",
       "intRisqS          98\n",
       "intRisqH         114\n",
       "intRisqJ         114\n",
       "intRisqEn        114\n",
       "intRisqEc        114\n",
       "preUsager        115\n",
       "pre1             115\n",
       "pre2             115\n",
       "pre3             115\n",
       "pre4             115\n",
       "pre5             115\n",
       "pre6             115\n",
       "ben1              48\n",
       "ben2              48\n",
       "ben3              48\n",
       "ben4              47\n",
       "ben5              48\n",
       "ben6              49\n",
       "ben7              99\n",
       "comment           86\n",
       "proposition      112\n",
       "register_date      0\n",
       "dtype: int64"
      ]
     },
     "execution_count": 335,
     "metadata": {},
     "output_type": "execute_result"
    }
   ],
   "source": [
    "df.isnull().sum()"
   ]
  },
  {
   "cell_type": "code",
   "execution_count": 336,
   "metadata": {},
   "outputs": [
    {
     "data": {
      "text/plain": [
       "dispositif  statue       \n",
       "AC          intervenant-e     1\n",
       "BC          beneficiaire     23\n",
       "            intervenant-e    21\n",
       "            prescripteur     10\n",
       "DE          beneficiaire      9\n",
       "GAD         beneficiaire      2\n",
       "ISU         prescripteur      1\n",
       "PH          financeur         1\n",
       "PIP         beneficiaire     26\n",
       "            financeur         1\n",
       "            prescripteur      1\n",
       "PIS         beneficiaire     16\n",
       "            intervenant-e     6\n",
       "PS          beneficiaire      4\n",
       "            intervenant-e     3\n",
       "            financeur         1\n",
       "            prescripteur      1\n",
       "Remob       beneficiaire      1\n",
       "Name: statue, dtype: int64"
      ]
     },
     "execution_count": 336,
     "metadata": {},
     "output_type": "execute_result"
    }
   ],
   "source": [
    "df.groupby(\"dispositif\")[\"statue\"].value_counts()"
   ]
  },
  {
   "cell_type": "code",
   "execution_count": 342,
   "metadata": {},
   "outputs": [],
   "source": [
    "df.debut.replace(to_replace = \"212020-01-08\", value = \"2021-01-08\", inplace=True)"
   ]
  },
  {
   "cell_type": "code",
   "execution_count": 343,
   "metadata": {},
   "outputs": [],
   "source": [
    "df.debut = pd.to_datetime(df.debut, format = \"%Y-%m-%d\")\n",
    "df.fin = pd.to_datetime(df.fin, format = \"%Y-%m-%d\")"
   ]
  },
  {
   "cell_type": "code",
   "execution_count": 338,
   "metadata": {},
   "outputs": [
    {
     "data": {
      "text/html": [
       "<div>\n",
       "<style scoped>\n",
       "    .dataframe tbody tr th:only-of-type {\n",
       "        vertical-align: middle;\n",
       "    }\n",
       "\n",
       "    .dataframe tbody tr th {\n",
       "        vertical-align: top;\n",
       "    }\n",
       "\n",
       "    .dataframe thead th {\n",
       "        text-align: right;\n",
       "    }\n",
       "</style>\n",
       "<table border=\"1\" class=\"dataframe\">\n",
       "  <thead>\n",
       "    <tr style=\"text-align: right;\">\n",
       "      <th></th>\n",
       "      <th>dispositif</th>\n",
       "      <th>site</th>\n",
       "      <th>debut</th>\n",
       "      <th>fin</th>\n",
       "      <th>statue</th>\n",
       "      <th>branche</th>\n",
       "      <th>fin1</th>\n",
       "      <th>fin2</th>\n",
       "      <th>fin3</th>\n",
       "      <th>fin4</th>\n",
       "      <th>...</th>\n",
       "      <th>ben1</th>\n",
       "      <th>ben2</th>\n",
       "      <th>ben3</th>\n",
       "      <th>ben4</th>\n",
       "      <th>ben5</th>\n",
       "      <th>ben6</th>\n",
       "      <th>ben7</th>\n",
       "      <th>comment</th>\n",
       "      <th>proposition</th>\n",
       "      <th>register_date</th>\n",
       "    </tr>\n",
       "  </thead>\n",
       "  <tbody>\n",
       "    <tr>\n",
       "      <th>4</th>\n",
       "      <td>BC</td>\n",
       "      <td>Vire</td>\n",
       "      <td>2021-01-08</td>\n",
       "      <td>0021-05-03</td>\n",
       "      <td>prescripteur</td>\n",
       "      <td>prescripteur</td>\n",
       "      <td>NaN</td>\n",
       "      <td>NaN</td>\n",
       "      <td>NaN</td>\n",
       "      <td>NaN</td>\n",
       "      <td>...</td>\n",
       "      <td>NaN</td>\n",
       "      <td>NaN</td>\n",
       "      <td>NaN</td>\n",
       "      <td>NaN</td>\n",
       "      <td>NaN</td>\n",
       "      <td>NaN</td>\n",
       "      <td>NaN</td>\n",
       "      <td>Aucun</td>\n",
       "      <td>NaN</td>\n",
       "      <td>2021-06-22 12:23:50</td>\n",
       "    </tr>\n",
       "  </tbody>\n",
       "</table>\n",
       "<p>1 rows × 40 columns</p>\n",
       "</div>"
      ],
      "text/plain": [
       "  dispositif  site       debut         fin        statue       branche fin1  \\\n",
       "4         BC  Vire  2021-01-08  0021-05-03  prescripteur  prescripteur  NaN   \n",
       "\n",
       "  fin2 fin3 fin4  ... ben1 ben2 ben3 ben4 ben5 ben6 ben7 comment proposition  \\\n",
       "4  NaN  NaN  NaN  ...  NaN  NaN  NaN  NaN  NaN  NaN  NaN   Aucun         NaN   \n",
       "\n",
       "         register_date  \n",
       "4  2021-06-22 12:23:50  \n",
       "\n",
       "[1 rows x 40 columns]"
      ]
     },
     "execution_count": 338,
     "metadata": {},
     "output_type": "execute_result"
    }
   ],
   "source": [
    "df[df.fin == \"0021-05-03\"]"
   ]
  },
  {
   "cell_type": "code",
   "execution_count": null,
   "metadata": {},
   "outputs": [],
   "source": []
  },
  {
   "cell_type": "code",
   "execution_count": 339,
   "metadata": {},
   "outputs": [],
   "source": [
    "df.fin.replace(to_replace = \"0021-05-03\", value = \"2021-05-03\", inplace=True)"
   ]
  },
  {
   "cell_type": "code",
   "execution_count": 340,
   "metadata": {},
   "outputs": [],
   "source": [
    "df.fin = pd.to_datetime(df.fin, format = \"%Y-%m-%d\")"
   ]
  },
  {
   "cell_type": "code",
   "execution_count": 344,
   "metadata": {},
   "outputs": [],
   "source": [
    "df[\"jour\"] = df.fin-df.debut"
   ]
  },
  {
   "cell_type": "code",
   "execution_count": 345,
   "metadata": {},
   "outputs": [
    {
     "data": {
      "text/plain": [
       "0     121 days\n",
       "1     105 days\n",
       "2     105 days\n",
       "3     105 days\n",
       "4     115 days\n",
       "        ...   \n",
       "123    60 days\n",
       "124    60 days\n",
       "125    60 days\n",
       "126    60 days\n",
       "127    60 days\n",
       "Name: jour, Length: 128, dtype: timedelta64[ns]"
      ]
     },
     "execution_count": 345,
     "metadata": {},
     "output_type": "execute_result"
    }
   ],
   "source": [
    "df.jour"
   ]
  },
  {
   "cell_type": "code",
   "execution_count": 346,
   "metadata": {},
   "outputs": [
    {
     "name": "stdout",
     "output_type": "stream",
     "text": [
      "<class 'pandas.core.frame.DataFrame'>\n",
      "RangeIndex: 128 entries, 0 to 127\n",
      "Data columns (total 41 columns):\n",
      " #   Column         Non-Null Count  Dtype          \n",
      "---  ------         --------------  -----          \n",
      " 0   dispositif     128 non-null    object         \n",
      " 1   site           128 non-null    object         \n",
      " 2   debut          126 non-null    datetime64[ns] \n",
      " 3   fin            126 non-null    datetime64[ns] \n",
      " 4   statue         128 non-null    object         \n",
      " 5   branche        128 non-null    object         \n",
      " 6   fin1           3 non-null      object         \n",
      " 7   fin2           3 non-null      object         \n",
      " 8   fin3           3 non-null      object         \n",
      " 9   fin4           3 non-null      object         \n",
      " 10  fin5           3 non-null      object         \n",
      " 11  intType        30 non-null     object         \n",
      " 12  inter1         31 non-null     object         \n",
      " 13  inter2         30 non-null     object         \n",
      " 14  inter3         30 non-null     object         \n",
      " 15  inter4         30 non-null     object         \n",
      " 16  intForDis      31 non-null     object         \n",
      " 17  inter5         14 non-null     object         \n",
      " 18  intRisqS       30 non-null     object         \n",
      " 19  intRisqH       14 non-null     object         \n",
      " 20  intRisqJ       14 non-null     object         \n",
      " 21  intRisqEn      14 non-null     object         \n",
      " 22  intRisqEc      14 non-null     object         \n",
      " 23  preUsager      13 non-null     object         \n",
      " 24  pre1           13 non-null     object         \n",
      " 25  pre2           13 non-null     object         \n",
      " 26  pre3           13 non-null     object         \n",
      " 27  pre4           13 non-null     object         \n",
      " 28  pre5           13 non-null     object         \n",
      " 29  pre6           13 non-null     object         \n",
      " 30  ben1           80 non-null     object         \n",
      " 31  ben2           80 non-null     object         \n",
      " 32  ben3           80 non-null     object         \n",
      " 33  ben4           81 non-null     object         \n",
      " 34  ben5           80 non-null     object         \n",
      " 35  ben6           79 non-null     object         \n",
      " 36  ben7           29 non-null     object         \n",
      " 37  comment        42 non-null     object         \n",
      " 38  proposition    16 non-null     object         \n",
      " 39  register_date  128 non-null    object         \n",
      " 40  jour           126 non-null    timedelta64[ns]\n",
      "dtypes: datetime64[ns](2), object(38), timedelta64[ns](1)\n",
      "memory usage: 41.1+ KB\n"
     ]
    }
   ],
   "source": [
    "df.info()"
   ]
  },
  {
   "cell_type": "code",
   "execution_count": 347,
   "metadata": {},
   "outputs": [
    {
     "data": {
      "text/plain": [
       "Index(['dispositif', 'site', 'debut', 'fin', 'statue', 'branche', 'fin1',\n",
       "       'fin2', 'fin3', 'fin4', 'fin5', 'intType', 'inter1', 'inter2', 'inter3',\n",
       "       'inter4', 'intForDis', 'inter5', 'intRisqS', 'intRisqH', 'intRisqJ',\n",
       "       'intRisqEn', 'intRisqEc', 'preUsager', 'pre1', 'pre2', 'pre3', 'pre4',\n",
       "       'pre5', 'pre6', 'ben1', 'ben2', 'ben3', 'ben4', 'ben5', 'ben6', 'ben7',\n",
       "       'comment', 'proposition', 'register_date', 'jour'],\n",
       "      dtype='object')"
      ]
     },
     "execution_count": 347,
     "metadata": {},
     "output_type": "execute_result"
    }
   ],
   "source": [
    "df.columns"
   ]
  },
  {
   "cell_type": "code",
   "execution_count": 348,
   "metadata": {},
   "outputs": [],
   "source": [
    "df = df[['dispositif', 'site', 'debut', 'fin', 'jour', 'statue', 'branche', 'fin1',\n",
    "       'fin2', 'fin3', 'fin4', 'fin5', 'intType', 'inter1', 'inter2', 'inter3',\n",
    "       'inter4', 'intForDis', 'inter5', 'intRisqS', 'intRisqH', 'intRisqJ',\n",
    "       'intRisqEn', 'intRisqEc', 'preUsager', 'pre1', 'pre2', 'pre3', 'pre4',\n",
    "       'pre5', 'pre6', 'ben1', 'ben2', 'ben3', 'ben4', 'ben5', 'ben6', 'ben7',\n",
    "       'comment', 'proposition', 'register_date']]"
   ]
  },
  {
   "cell_type": "code",
   "execution_count": 349,
   "metadata": {},
   "outputs": [
    {
     "data": {
      "text/html": [
       "<div>\n",
       "<style scoped>\n",
       "    .dataframe tbody tr th:only-of-type {\n",
       "        vertical-align: middle;\n",
       "    }\n",
       "\n",
       "    .dataframe tbody tr th {\n",
       "        vertical-align: top;\n",
       "    }\n",
       "\n",
       "    .dataframe thead th {\n",
       "        text-align: right;\n",
       "    }\n",
       "</style>\n",
       "<table border=\"1\" class=\"dataframe\">\n",
       "  <thead>\n",
       "    <tr style=\"text-align: right;\">\n",
       "      <th></th>\n",
       "      <th>dispositif</th>\n",
       "      <th>site</th>\n",
       "      <th>debut</th>\n",
       "      <th>fin</th>\n",
       "      <th>jour</th>\n",
       "      <th>statue</th>\n",
       "      <th>branche</th>\n",
       "      <th>fin1</th>\n",
       "      <th>fin2</th>\n",
       "      <th>fin3</th>\n",
       "      <th>...</th>\n",
       "      <th>ben1</th>\n",
       "      <th>ben2</th>\n",
       "      <th>ben3</th>\n",
       "      <th>ben4</th>\n",
       "      <th>ben5</th>\n",
       "      <th>ben6</th>\n",
       "      <th>ben7</th>\n",
       "      <th>comment</th>\n",
       "      <th>proposition</th>\n",
       "      <th>register_date</th>\n",
       "    </tr>\n",
       "  </thead>\n",
       "  <tbody>\n",
       "    <tr>\n",
       "      <th>0</th>\n",
       "      <td>BC</td>\n",
       "      <td>Avranches</td>\n",
       "      <td>2021-02-03</td>\n",
       "      <td>2021-06-04</td>\n",
       "      <td>121 days</td>\n",
       "      <td>beneficiaire</td>\n",
       "      <td>beneficiaire</td>\n",
       "      <td>NaN</td>\n",
       "      <td>NaN</td>\n",
       "      <td>NaN</td>\n",
       "      <td>...</td>\n",
       "      <td>Très satisfaisant</td>\n",
       "      <td>Très satisfaisant</td>\n",
       "      <td>Très satisfaisant</td>\n",
       "      <td>Très satisfaisant</td>\n",
       "      <td>Peu satisfaisant</td>\n",
       "      <td>Très satisfaisant</td>\n",
       "      <td>NaN</td>\n",
       "      <td>Apprécié les moyens mit à dispositions même si...</td>\n",
       "      <td>Test plus précis a fin de cibler davantage 2 v...</td>\n",
       "      <td>2021-06-22 12:05:16</td>\n",
       "    </tr>\n",
       "    <tr>\n",
       "      <th>1</th>\n",
       "      <td>BC</td>\n",
       "      <td>Vire</td>\n",
       "      <td>2021-02-23</td>\n",
       "      <td>2021-06-08</td>\n",
       "      <td>105 days</td>\n",
       "      <td>prescripteur</td>\n",
       "      <td>prescripteur</td>\n",
       "      <td>NaN</td>\n",
       "      <td>NaN</td>\n",
       "      <td>NaN</td>\n",
       "      <td>...</td>\n",
       "      <td>NaN</td>\n",
       "      <td>NaN</td>\n",
       "      <td>NaN</td>\n",
       "      <td>NaN</td>\n",
       "      <td>NaN</td>\n",
       "      <td>NaN</td>\n",
       "      <td>NaN</td>\n",
       "      <td>J'ai été ravie de la prise en charge de mon bi...</td>\n",
       "      <td>NaN</td>\n",
       "      <td>2021-06-22 12:18:15</td>\n",
       "    </tr>\n",
       "    <tr>\n",
       "      <th>2</th>\n",
       "      <td>BC</td>\n",
       "      <td>Vire</td>\n",
       "      <td>2021-02-23</td>\n",
       "      <td>2021-06-08</td>\n",
       "      <td>105 days</td>\n",
       "      <td>beneficiaire</td>\n",
       "      <td>beneficiaire</td>\n",
       "      <td>NaN</td>\n",
       "      <td>NaN</td>\n",
       "      <td>NaN</td>\n",
       "      <td>...</td>\n",
       "      <td>Très satisfaisant</td>\n",
       "      <td>Très satisfaisant</td>\n",
       "      <td>Très satisfaisant</td>\n",
       "      <td>Très satisfaisant</td>\n",
       "      <td>Très satisfaisant</td>\n",
       "      <td>Très satisfaisant</td>\n",
       "      <td>Très satisfaisant</td>\n",
       "      <td>NaN</td>\n",
       "      <td>NaN</td>\n",
       "      <td>2021-06-22 12:20:08</td>\n",
       "    </tr>\n",
       "    <tr>\n",
       "      <th>3</th>\n",
       "      <td>BC</td>\n",
       "      <td>Vire</td>\n",
       "      <td>2021-02-23</td>\n",
       "      <td>2021-06-08</td>\n",
       "      <td>105 days</td>\n",
       "      <td>intervenant-e</td>\n",
       "      <td>intervenant-e</td>\n",
       "      <td>NaN</td>\n",
       "      <td>NaN</td>\n",
       "      <td>NaN</td>\n",
       "      <td>...</td>\n",
       "      <td>NaN</td>\n",
       "      <td>NaN</td>\n",
       "      <td>NaN</td>\n",
       "      <td>NaN</td>\n",
       "      <td>NaN</td>\n",
       "      <td>NaN</td>\n",
       "      <td>NaN</td>\n",
       "      <td>NaN</td>\n",
       "      <td>NaN</td>\n",
       "      <td>2021-06-22 12:21:35</td>\n",
       "    </tr>\n",
       "    <tr>\n",
       "      <th>4</th>\n",
       "      <td>BC</td>\n",
       "      <td>Vire</td>\n",
       "      <td>2021-01-08</td>\n",
       "      <td>2021-05-03</td>\n",
       "      <td>115 days</td>\n",
       "      <td>prescripteur</td>\n",
       "      <td>prescripteur</td>\n",
       "      <td>NaN</td>\n",
       "      <td>NaN</td>\n",
       "      <td>NaN</td>\n",
       "      <td>...</td>\n",
       "      <td>NaN</td>\n",
       "      <td>NaN</td>\n",
       "      <td>NaN</td>\n",
       "      <td>NaN</td>\n",
       "      <td>NaN</td>\n",
       "      <td>NaN</td>\n",
       "      <td>NaN</td>\n",
       "      <td>Aucun</td>\n",
       "      <td>NaN</td>\n",
       "      <td>2021-06-22 12:23:50</td>\n",
       "    </tr>\n",
       "  </tbody>\n",
       "</table>\n",
       "<p>5 rows × 41 columns</p>\n",
       "</div>"
      ],
      "text/plain": [
       "  dispositif       site      debut        fin     jour         statue  \\\n",
       "0         BC  Avranches 2021-02-03 2021-06-04 121 days   beneficiaire   \n",
       "1         BC       Vire 2021-02-23 2021-06-08 105 days   prescripteur   \n",
       "2         BC       Vire 2021-02-23 2021-06-08 105 days   beneficiaire   \n",
       "3         BC       Vire 2021-02-23 2021-06-08 105 days  intervenant-e   \n",
       "4         BC       Vire 2021-01-08 2021-05-03 115 days   prescripteur   \n",
       "\n",
       "         branche fin1 fin2 fin3  ...               ben1               ben2  \\\n",
       "0   beneficiaire  NaN  NaN  NaN  ...  Très satisfaisant  Très satisfaisant   \n",
       "1   prescripteur  NaN  NaN  NaN  ...                NaN                NaN   \n",
       "2   beneficiaire  NaN  NaN  NaN  ...  Très satisfaisant  Très satisfaisant   \n",
       "3  intervenant-e  NaN  NaN  NaN  ...                NaN                NaN   \n",
       "4   prescripteur  NaN  NaN  NaN  ...                NaN                NaN   \n",
       "\n",
       "                ben3               ben4               ben5               ben6  \\\n",
       "0  Très satisfaisant  Très satisfaisant   Peu satisfaisant  Très satisfaisant   \n",
       "1                NaN                NaN                NaN                NaN   \n",
       "2  Très satisfaisant  Très satisfaisant  Très satisfaisant  Très satisfaisant   \n",
       "3                NaN                NaN                NaN                NaN   \n",
       "4                NaN                NaN                NaN                NaN   \n",
       "\n",
       "                ben7                                            comment  \\\n",
       "0                NaN  Apprécié les moyens mit à dispositions même si...   \n",
       "1                NaN  J'ai été ravie de la prise en charge de mon bi...   \n",
       "2  Très satisfaisant                                                NaN   \n",
       "3                NaN                                                NaN   \n",
       "4                NaN                                              Aucun   \n",
       "\n",
       "                                         proposition        register_date  \n",
       "0  Test plus précis a fin de cibler davantage 2 v...  2021-06-22 12:05:16  \n",
       "1                                                NaN  2021-06-22 12:18:15  \n",
       "2                                                NaN  2021-06-22 12:20:08  \n",
       "3                                                NaN  2021-06-22 12:21:35  \n",
       "4                                                NaN  2021-06-22 12:23:50  \n",
       "\n",
       "[5 rows x 41 columns]"
      ]
     },
     "execution_count": 349,
     "metadata": {},
     "output_type": "execute_result"
    }
   ],
   "source": [
    "df.head()"
   ]
  },
  {
   "cell_type": "code",
   "execution_count": 350,
   "metadata": {},
   "outputs": [],
   "source": [
    "import pickle"
   ]
  },
  {
   "cell_type": "code",
   "execution_count": 352,
   "metadata": {},
   "outputs": [],
   "source": [
    "df.to_pickle(\"etapData.pkl\")"
   ]
  },
  {
   "cell_type": "code",
   "execution_count": 353,
   "metadata": {},
   "outputs": [],
   "source": [
    "output = pd.read_pickle(\"etapData.pkl\")"
   ]
  },
  {
   "cell_type": "code",
   "execution_count": null,
   "metadata": {},
   "outputs": [],
   "source": []
  }
 ],
 "metadata": {
  "kernelspec": {
   "display_name": "Python 3",
   "language": "python",
   "name": "python3"
  },
  "language_info": {
   "codemirror_mode": {
    "name": "ipython",
    "version": 3
   },
   "file_extension": ".py",
   "mimetype": "text/x-python",
   "name": "python",
   "nbconvert_exporter": "python",
   "pygments_lexer": "ipython3",
   "version": "3.7.6"
  }
 },
 "nbformat": 4,
 "nbformat_minor": 4
}
