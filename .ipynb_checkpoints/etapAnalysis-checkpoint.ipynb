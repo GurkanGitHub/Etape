{
 "cells": [
  {
   "cell_type": "code",
   "execution_count": 1,
   "metadata": {},
   "outputs": [],
   "source": [
    "import pandas as pd\n",
    "import numpy as np\n",
    "import datetime\n",
    "import matplotlib.pyplot as plt\n",
    "import seaborn as sns\n",
    "sns.set_style(\"whitegrid\")\n",
    "import warnings\n",
    "warnings.filterwarnings(\"ignore\")"
   ]
  },
  {
   "cell_type": "code",
   "execution_count": 2,
   "metadata": {},
   "outputs": [],
   "source": [
    "df = pd.read_excel(\"D:/github/Etape/toutReponse.xlsx\")"
   ]
  },
  {
   "cell_type": "code",
   "execution_count": 3,
   "metadata": {},
   "outputs": [],
   "source": [
    "df = df.drop(\"id\", axis =1)"
   ]
  },
  {
   "cell_type": "code",
   "execution_count": 4,
   "metadata": {},
   "outputs": [
    {
     "data": {
      "text/html": [
       "<div>\n",
       "<style scoped>\n",
       "    .dataframe tbody tr th:only-of-type {\n",
       "        vertical-align: middle;\n",
       "    }\n",
       "\n",
       "    .dataframe tbody tr th {\n",
       "        vertical-align: top;\n",
       "    }\n",
       "\n",
       "    .dataframe thead th {\n",
       "        text-align: right;\n",
       "    }\n",
       "</style>\n",
       "<table border=\"1\" class=\"dataframe\">\n",
       "  <thead>\n",
       "    <tr style=\"text-align: right;\">\n",
       "      <th></th>\n",
       "      <th>dispositif</th>\n",
       "      <th>site</th>\n",
       "      <th>debut</th>\n",
       "      <th>fin</th>\n",
       "      <th>statue</th>\n",
       "      <th>branche</th>\n",
       "      <th>fin1</th>\n",
       "      <th>fin2</th>\n",
       "      <th>fin3</th>\n",
       "      <th>fin4</th>\n",
       "      <th>...</th>\n",
       "      <th>ben1</th>\n",
       "      <th>ben2</th>\n",
       "      <th>ben3</th>\n",
       "      <th>ben4</th>\n",
       "      <th>ben5</th>\n",
       "      <th>ben6</th>\n",
       "      <th>ben7</th>\n",
       "      <th>comment</th>\n",
       "      <th>proposition</th>\n",
       "      <th>register_date</th>\n",
       "    </tr>\n",
       "  </thead>\n",
       "  <tbody>\n",
       "    <tr>\n",
       "      <th>0</th>\n",
       "      <td>Bilan de competences</td>\n",
       "      <td>Avranches</td>\n",
       "      <td>2021-02-03</td>\n",
       "      <td>2021-06-04</td>\n",
       "      <td>beneficiaire</td>\n",
       "      <td>beneficiaire</td>\n",
       "      <td>NaN</td>\n",
       "      <td>NaN</td>\n",
       "      <td>NaN</td>\n",
       "      <td>NaN</td>\n",
       "      <td>...</td>\n",
       "      <td>Très satisfaisant</td>\n",
       "      <td>Très satisfaisant</td>\n",
       "      <td>Très satisfaisant</td>\n",
       "      <td>Très satisfaisant</td>\n",
       "      <td>Peu satisfaisant</td>\n",
       "      <td>Très satisfaisant</td>\n",
       "      <td>NaN</td>\n",
       "      <td>Apprécié les moyens mit à dispositions même si...</td>\n",
       "      <td>Test plus précis a fin de cibler davantage 2 v...</td>\n",
       "      <td>2021-06-22 12:05:16</td>\n",
       "    </tr>\n",
       "    <tr>\n",
       "      <th>1</th>\n",
       "      <td>Bilan de competences</td>\n",
       "      <td>Vire</td>\n",
       "      <td>2021-02-23</td>\n",
       "      <td>2021-06-08</td>\n",
       "      <td>prescripteur</td>\n",
       "      <td>prescripteur</td>\n",
       "      <td>NaN</td>\n",
       "      <td>NaN</td>\n",
       "      <td>NaN</td>\n",
       "      <td>NaN</td>\n",
       "      <td>...</td>\n",
       "      <td>NaN</td>\n",
       "      <td>NaN</td>\n",
       "      <td>NaN</td>\n",
       "      <td>NaN</td>\n",
       "      <td>NaN</td>\n",
       "      <td>NaN</td>\n",
       "      <td>NaN</td>\n",
       "      <td>J'ai été ravie de la prise en charge de mon bi...</td>\n",
       "      <td>NaN</td>\n",
       "      <td>2021-06-22 12:18:15</td>\n",
       "    </tr>\n",
       "    <tr>\n",
       "      <th>2</th>\n",
       "      <td>Bilan de competences</td>\n",
       "      <td>Vire</td>\n",
       "      <td>2021-02-23</td>\n",
       "      <td>2021-06-08</td>\n",
       "      <td>beneficiaire</td>\n",
       "      <td>beneficiaire</td>\n",
       "      <td>NaN</td>\n",
       "      <td>NaN</td>\n",
       "      <td>NaN</td>\n",
       "      <td>NaN</td>\n",
       "      <td>...</td>\n",
       "      <td>Très satisfaisant</td>\n",
       "      <td>Très satisfaisant</td>\n",
       "      <td>Très satisfaisant</td>\n",
       "      <td>Très satisfaisant</td>\n",
       "      <td>Très satisfaisant</td>\n",
       "      <td>Très satisfaisant</td>\n",
       "      <td>Très satisfaisant</td>\n",
       "      <td>NaN</td>\n",
       "      <td>NaN</td>\n",
       "      <td>2021-06-22 12:20:08</td>\n",
       "    </tr>\n",
       "    <tr>\n",
       "      <th>3</th>\n",
       "      <td>Bilan de competences</td>\n",
       "      <td>Vire</td>\n",
       "      <td>2021-02-23</td>\n",
       "      <td>2021-06-08</td>\n",
       "      <td>intervenant-e</td>\n",
       "      <td>intervenant-e</td>\n",
       "      <td>NaN</td>\n",
       "      <td>NaN</td>\n",
       "      <td>NaN</td>\n",
       "      <td>NaN</td>\n",
       "      <td>...</td>\n",
       "      <td>NaN</td>\n",
       "      <td>NaN</td>\n",
       "      <td>NaN</td>\n",
       "      <td>NaN</td>\n",
       "      <td>NaN</td>\n",
       "      <td>NaN</td>\n",
       "      <td>NaN</td>\n",
       "      <td>NaN</td>\n",
       "      <td>NaN</td>\n",
       "      <td>2021-06-22 12:21:35</td>\n",
       "    </tr>\n",
       "    <tr>\n",
       "      <th>4</th>\n",
       "      <td>Bilan de competences</td>\n",
       "      <td>Vire</td>\n",
       "      <td>2021-01-08</td>\n",
       "      <td>0021-05-03</td>\n",
       "      <td>prescripteur</td>\n",
       "      <td>prescripteur</td>\n",
       "      <td>NaN</td>\n",
       "      <td>NaN</td>\n",
       "      <td>NaN</td>\n",
       "      <td>NaN</td>\n",
       "      <td>...</td>\n",
       "      <td>NaN</td>\n",
       "      <td>NaN</td>\n",
       "      <td>NaN</td>\n",
       "      <td>NaN</td>\n",
       "      <td>NaN</td>\n",
       "      <td>NaN</td>\n",
       "      <td>NaN</td>\n",
       "      <td>Aucun</td>\n",
       "      <td>NaN</td>\n",
       "      <td>2021-06-22 12:23:50</td>\n",
       "    </tr>\n",
       "  </tbody>\n",
       "</table>\n",
       "<p>5 rows × 40 columns</p>\n",
       "</div>"
      ],
      "text/plain": [
       "             dispositif       site       debut         fin         statue  \\\n",
       "0  Bilan de competences  Avranches  2021-02-03  2021-06-04   beneficiaire   \n",
       "1  Bilan de competences       Vire  2021-02-23  2021-06-08   prescripteur   \n",
       "2  Bilan de competences       Vire  2021-02-23  2021-06-08   beneficiaire   \n",
       "3  Bilan de competences       Vire  2021-02-23  2021-06-08  intervenant-e   \n",
       "4  Bilan de competences       Vire  2021-01-08  0021-05-03   prescripteur   \n",
       "\n",
       "         branche fin1 fin2 fin3 fin4  ...               ben1  \\\n",
       "0   beneficiaire  NaN  NaN  NaN  NaN  ...  Très satisfaisant   \n",
       "1   prescripteur  NaN  NaN  NaN  NaN  ...                NaN   \n",
       "2   beneficiaire  NaN  NaN  NaN  NaN  ...  Très satisfaisant   \n",
       "3  intervenant-e  NaN  NaN  NaN  NaN  ...                NaN   \n",
       "4   prescripteur  NaN  NaN  NaN  NaN  ...                NaN   \n",
       "\n",
       "                ben2               ben3               ben4               ben5  \\\n",
       "0  Très satisfaisant  Très satisfaisant  Très satisfaisant   Peu satisfaisant   \n",
       "1                NaN                NaN                NaN                NaN   \n",
       "2  Très satisfaisant  Très satisfaisant  Très satisfaisant  Très satisfaisant   \n",
       "3                NaN                NaN                NaN                NaN   \n",
       "4                NaN                NaN                NaN                NaN   \n",
       "\n",
       "                ben6               ben7  \\\n",
       "0  Très satisfaisant                NaN   \n",
       "1                NaN                NaN   \n",
       "2  Très satisfaisant  Très satisfaisant   \n",
       "3                NaN                NaN   \n",
       "4                NaN                NaN   \n",
       "\n",
       "                                             comment  \\\n",
       "0  Apprécié les moyens mit à dispositions même si...   \n",
       "1  J'ai été ravie de la prise en charge de mon bi...   \n",
       "2                                                NaN   \n",
       "3                                                NaN   \n",
       "4                                              Aucun   \n",
       "\n",
       "                                         proposition        register_date  \n",
       "0  Test plus précis a fin de cibler davantage 2 v...  2021-06-22 12:05:16  \n",
       "1                                                NaN  2021-06-22 12:18:15  \n",
       "2                                                NaN  2021-06-22 12:20:08  \n",
       "3                                                NaN  2021-06-22 12:21:35  \n",
       "4                                                NaN  2021-06-22 12:23:50  \n",
       "\n",
       "[5 rows x 40 columns]"
      ]
     },
     "execution_count": 4,
     "metadata": {},
     "output_type": "execute_result"
    }
   ],
   "source": [
    "df.head()"
   ]
  },
  {
   "cell_type": "code",
   "execution_count": 5,
   "metadata": {},
   "outputs": [
    {
     "name": "stdout",
     "output_type": "stream",
     "text": [
      "<class 'pandas.core.frame.DataFrame'>\n",
      "RangeIndex: 162 entries, 0 to 161\n",
      "Data columns (total 40 columns):\n",
      " #   Column         Non-Null Count  Dtype \n",
      "---  ------         --------------  ----- \n",
      " 0   dispositif     159 non-null    object\n",
      " 1   site           152 non-null    object\n",
      " 2   debut          159 non-null    object\n",
      " 3   fin            160 non-null    object\n",
      " 4   statue         162 non-null    object\n",
      " 5   branche        162 non-null    object\n",
      " 6   fin1           7 non-null      object\n",
      " 7   fin2           7 non-null      object\n",
      " 8   fin3           7 non-null      object\n",
      " 9   fin4           8 non-null      object\n",
      " 10  fin5           8 non-null      object\n",
      " 11  intType        41 non-null     object\n",
      " 12  inter1         42 non-null     object\n",
      " 13  inter2         40 non-null     object\n",
      " 14  inter3         41 non-null     object\n",
      " 15  inter4         39 non-null     object\n",
      " 16  intForDis      41 non-null     object\n",
      " 17  inter5         14 non-null     object\n",
      " 18  intRisqS       41 non-null     object\n",
      " 19  intRisqH       25 non-null     object\n",
      " 20  intRisqJ       25 non-null     object\n",
      " 21  intRisqEn      25 non-null     object\n",
      " 22  intRisqEc      25 non-null     object\n",
      " 23  preUsager      19 non-null     object\n",
      " 24  pre1           19 non-null     object\n",
      " 25  pre2           19 non-null     object\n",
      " 26  pre3           19 non-null     object\n",
      " 27  pre4           19 non-null     object\n",
      " 28  pre5           19 non-null     object\n",
      " 29  pre6           19 non-null     object\n",
      " 30  ben1           96 non-null     object\n",
      " 31  ben2           96 non-null     object\n",
      " 32  ben3           96 non-null     object\n",
      " 33  ben4           97 non-null     object\n",
      " 34  ben5           96 non-null     object\n",
      " 35  ben6           95 non-null     object\n",
      " 36  ben7           32 non-null     object\n",
      " 37  comment        61 non-null     object\n",
      " 38  proposition    24 non-null     object\n",
      " 39  register_date  162 non-null    object\n",
      "dtypes: object(40)\n",
      "memory usage: 50.8+ KB\n"
     ]
    }
   ],
   "source": [
    "df.info()"
   ]
  },
  {
   "cell_type": "markdown",
   "metadata": {},
   "source": [
    "### Raccourcissement du nom de disposition."
   ]
  },
  {
   "cell_type": "code",
   "execution_count": 6,
   "metadata": {},
   "outputs": [],
   "source": [
    "map_dict = {\"Remobilisation\" : \"Remob\", \"Garantie Departementale d'Activite (GAD)\" : \"GDA\", \n",
    "            \"Primo insertion sociale\":\"PIS\", \"Primo insertion professionnelle\":\"PIP\", \n",
    "            \"Actions courtes type 'marchons pour ... '\":\"AC\", \"Formation civique OFII\":\"FCO\", \n",
    "            \"Jardins partages\": \"JP\", \"#avenir\":\"#avenir\", \"Accompagnement a la preparation de la VAE\":\"APV\", \n",
    "            \"Bilan de competences\":\"BC\",\"Reseau de soutien et de recherche d'emploi\":\"RSRE\", \n",
    "            \"Prestations specifiques\":\"PS\", \"Accompagnement des porteurs de projets\":\"APP\", \n",
    "            \"Formation des acteurs\":\"FA\", \"Interventions dans les centres de formation\":\"ICF\", \n",
    "            \"Interventions scolaires et universitaires\":\"ISU\", \"La dynimique de l'emploi\":\"DE\", \n",
    "            \"Présentation du Harcelement\":\"PH\"}\n",
    "df.dispositif = df.dispositif.map(map_dict)"
   ]
  },
  {
   "cell_type": "markdown",
   "metadata": {},
   "source": [
    "## Gérer les valeurs manquantes et mauvais"
   ]
  },
  {
   "cell_type": "code",
   "execution_count": 7,
   "metadata": {},
   "outputs": [
    {
     "data": {
      "text/plain": [
       "dispositif     3\n",
       "site          10\n",
       "debut          3\n",
       "fin            2\n",
       "statue         0\n",
       "branche        0\n",
       "dtype: int64"
      ]
     },
     "execution_count": 7,
     "metadata": {},
     "output_type": "execute_result"
    }
   ],
   "source": [
    "df.isnull().sum()[0:6]\n",
    "# pd.isnull(df).sum()\n",
    "# df.dropna(inplace=True)\n",
    "# sns.heatmap(df.isnull(), yticklabels=False, cbar=False, cmap=\"viridis\")\n",
    "#df.isnull().sum().sum()"
   ]
  },
  {
   "cell_type": "markdown",
   "metadata": {},
   "source": [
    "### Dispositif"
   ]
  },
  {
   "cell_type": "code",
   "execution_count": 8,
   "metadata": {},
   "outputs": [
    {
     "data": {
      "text/html": [
       "<div>\n",
       "<style scoped>\n",
       "    .dataframe tbody tr th:only-of-type {\n",
       "        vertical-align: middle;\n",
       "    }\n",
       "\n",
       "    .dataframe tbody tr th {\n",
       "        vertical-align: top;\n",
       "    }\n",
       "\n",
       "    .dataframe thead th {\n",
       "        text-align: right;\n",
       "    }\n",
       "</style>\n",
       "<table border=\"1\" class=\"dataframe\">\n",
       "  <thead>\n",
       "    <tr style=\"text-align: right;\">\n",
       "      <th></th>\n",
       "      <th>dispositif</th>\n",
       "      <th>site</th>\n",
       "      <th>debut</th>\n",
       "      <th>fin</th>\n",
       "      <th>statue</th>\n",
       "      <th>branche</th>\n",
       "      <th>fin1</th>\n",
       "      <th>fin2</th>\n",
       "      <th>fin3</th>\n",
       "      <th>fin4</th>\n",
       "      <th>...</th>\n",
       "      <th>ben1</th>\n",
       "      <th>ben2</th>\n",
       "      <th>ben3</th>\n",
       "      <th>ben4</th>\n",
       "      <th>ben5</th>\n",
       "      <th>ben6</th>\n",
       "      <th>ben7</th>\n",
       "      <th>comment</th>\n",
       "      <th>proposition</th>\n",
       "      <th>register_date</th>\n",
       "    </tr>\n",
       "  </thead>\n",
       "  <tbody>\n",
       "    <tr>\n",
       "      <th>7</th>\n",
       "      <td>NaN</td>\n",
       "      <td>Vire</td>\n",
       "      <td>2021-02-11</td>\n",
       "      <td>2021-05-03</td>\n",
       "      <td>beneficiaire</td>\n",
       "      <td>beneficiaire</td>\n",
       "      <td>NaN</td>\n",
       "      <td>NaN</td>\n",
       "      <td>NaN</td>\n",
       "      <td>NaN</td>\n",
       "      <td>...</td>\n",
       "      <td>Très satisfaisant</td>\n",
       "      <td>Très satisfaisant</td>\n",
       "      <td>Très satisfaisant</td>\n",
       "      <td>Très satisfaisant</td>\n",
       "      <td>Satisfaisant</td>\n",
       "      <td>Très satisfaisant</td>\n",
       "      <td>NaN</td>\n",
       "      <td>NaN</td>\n",
       "      <td>+ modernisation des test d'aptitudes +++</td>\n",
       "      <td>2021-06-22 12:30:05</td>\n",
       "    </tr>\n",
       "    <tr>\n",
       "      <th>18</th>\n",
       "      <td>NaN</td>\n",
       "      <td>Vire</td>\n",
       "      <td>2021-01-11</td>\n",
       "      <td>2021-04-23</td>\n",
       "      <td>intervenant-e</td>\n",
       "      <td>intervenant-e</td>\n",
       "      <td>NaN</td>\n",
       "      <td>NaN</td>\n",
       "      <td>NaN</td>\n",
       "      <td>NaN</td>\n",
       "      <td>...</td>\n",
       "      <td>NaN</td>\n",
       "      <td>NaN</td>\n",
       "      <td>NaN</td>\n",
       "      <td>NaN</td>\n",
       "      <td>NaN</td>\n",
       "      <td>NaN</td>\n",
       "      <td>NaN</td>\n",
       "      <td>NaN</td>\n",
       "      <td>NaN</td>\n",
       "      <td>2021-06-22 12:46:10</td>\n",
       "    </tr>\n",
       "    <tr>\n",
       "      <th>30</th>\n",
       "      <td>NaN</td>\n",
       "      <td>NaN</td>\n",
       "      <td>2020-12-02</td>\n",
       "      <td>2021-03-24</td>\n",
       "      <td>intervenant-e</td>\n",
       "      <td>intervenant-e</td>\n",
       "      <td>NaN</td>\n",
       "      <td>NaN</td>\n",
       "      <td>NaN</td>\n",
       "      <td>NaN</td>\n",
       "      <td>...</td>\n",
       "      <td>NaN</td>\n",
       "      <td>NaN</td>\n",
       "      <td>NaN</td>\n",
       "      <td>NaN</td>\n",
       "      <td>NaN</td>\n",
       "      <td>NaN</td>\n",
       "      <td>NaN</td>\n",
       "      <td>NaN</td>\n",
       "      <td>NaN</td>\n",
       "      <td>2021-06-22 13:01:54</td>\n",
       "    </tr>\n",
       "  </tbody>\n",
       "</table>\n",
       "<p>3 rows × 40 columns</p>\n",
       "</div>"
      ],
      "text/plain": [
       "   dispositif  site       debut         fin         statue        branche  \\\n",
       "7         NaN  Vire  2021-02-11  2021-05-03   beneficiaire   beneficiaire   \n",
       "18        NaN  Vire  2021-01-11  2021-04-23  intervenant-e  intervenant-e   \n",
       "30        NaN   NaN  2020-12-02  2021-03-24  intervenant-e  intervenant-e   \n",
       "\n",
       "   fin1 fin2 fin3 fin4  ...               ben1               ben2  \\\n",
       "7   NaN  NaN  NaN  NaN  ...  Très satisfaisant  Très satisfaisant   \n",
       "18  NaN  NaN  NaN  NaN  ...                NaN                NaN   \n",
       "30  NaN  NaN  NaN  NaN  ...                NaN                NaN   \n",
       "\n",
       "                 ben3               ben4          ben5               ben6  \\\n",
       "7   Très satisfaisant  Très satisfaisant  Satisfaisant  Très satisfaisant   \n",
       "18                NaN                NaN           NaN                NaN   \n",
       "30                NaN                NaN           NaN                NaN   \n",
       "\n",
       "   ben7 comment                               proposition        register_date  \n",
       "7   NaN     NaN  + modernisation des test d'aptitudes +++  2021-06-22 12:30:05  \n",
       "18  NaN     NaN                                       NaN  2021-06-22 12:46:10  \n",
       "30  NaN     NaN                                       NaN  2021-06-22 13:01:54  \n",
       "\n",
       "[3 rows x 40 columns]"
      ]
     },
     "execution_count": 8,
     "metadata": {},
     "output_type": "execute_result"
    }
   ],
   "source": [
    "df[df.dispositif.isnull()==True]"
   ]
  },
  {
   "cell_type": "code",
   "execution_count": 9,
   "metadata": {},
   "outputs": [],
   "source": [
    "df.at[7, \"dispositif\"] = \"BC\" #df[(df.debut == \"2021-02-11\") | (df.fin == \"2021-05-03\")], il ya 4 et tous sont BC.\n",
    "df.at[18, \"dispositif\"] =\"BC\" #df[(df.debut == \"2021-01-11\") | (df.fin == \"2021-04-23\")], il ya 4 et tous sont BC.\n",
    "df.at[30, \"dispositif\"] =\"BC\" #df[(df.debut == \"2020-12-02\") | (df.fin == \"2021-03-24\")], İL ya 3 et 2 autre sont BC"
   ]
  },
  {
   "cell_type": "code",
   "execution_count": 10,
   "metadata": {},
   "outputs": [
    {
     "data": {
      "text/plain": [
       "0"
      ]
     },
     "execution_count": 10,
     "metadata": {},
     "output_type": "execute_result"
    }
   ],
   "source": [
    "df.dispositif.isnull().sum()"
   ]
  },
  {
   "cell_type": "markdown",
   "metadata": {},
   "source": [
    "### Site"
   ]
  },
  {
   "cell_type": "code",
   "execution_count": 11,
   "metadata": {},
   "outputs": [
    {
     "data": {
      "text/html": [
       "<div>\n",
       "<style scoped>\n",
       "    .dataframe tbody tr th:only-of-type {\n",
       "        vertical-align: middle;\n",
       "    }\n",
       "\n",
       "    .dataframe tbody tr th {\n",
       "        vertical-align: top;\n",
       "    }\n",
       "\n",
       "    .dataframe thead th {\n",
       "        text-align: right;\n",
       "    }\n",
       "</style>\n",
       "<table border=\"1\" class=\"dataframe\">\n",
       "  <thead>\n",
       "    <tr style=\"text-align: right;\">\n",
       "      <th></th>\n",
       "      <th>dispositif</th>\n",
       "      <th>site</th>\n",
       "      <th>debut</th>\n",
       "      <th>fin</th>\n",
       "      <th>statue</th>\n",
       "      <th>branche</th>\n",
       "      <th>fin1</th>\n",
       "      <th>fin2</th>\n",
       "      <th>fin3</th>\n",
       "      <th>fin4</th>\n",
       "      <th>...</th>\n",
       "      <th>ben1</th>\n",
       "      <th>ben2</th>\n",
       "      <th>ben3</th>\n",
       "      <th>ben4</th>\n",
       "      <th>ben5</th>\n",
       "      <th>ben6</th>\n",
       "      <th>ben7</th>\n",
       "      <th>comment</th>\n",
       "      <th>proposition</th>\n",
       "      <th>register_date</th>\n",
       "    </tr>\n",
       "  </thead>\n",
       "  <tbody>\n",
       "    <tr>\n",
       "      <th>25</th>\n",
       "      <td>BC</td>\n",
       "      <td>NaN</td>\n",
       "      <td>2021-03-04</td>\n",
       "      <td>2021-06-11</td>\n",
       "      <td>prescripteur</td>\n",
       "      <td>prescripteur</td>\n",
       "      <td>NaN</td>\n",
       "      <td>NaN</td>\n",
       "      <td>NaN</td>\n",
       "      <td>NaN</td>\n",
       "      <td>...</td>\n",
       "      <td>NaN</td>\n",
       "      <td>NaN</td>\n",
       "      <td>NaN</td>\n",
       "      <td>NaN</td>\n",
       "      <td>NaN</td>\n",
       "      <td>NaN</td>\n",
       "      <td>NaN</td>\n",
       "      <td>NaN</td>\n",
       "      <td>NaN</td>\n",
       "      <td>2021-06-22 12:56:46</td>\n",
       "    </tr>\n",
       "    <tr>\n",
       "      <th>26</th>\n",
       "      <td>BC</td>\n",
       "      <td>NaN</td>\n",
       "      <td>2021-03-04</td>\n",
       "      <td>2021-06-11</td>\n",
       "      <td>beneficiaire</td>\n",
       "      <td>beneficiaire</td>\n",
       "      <td>NaN</td>\n",
       "      <td>NaN</td>\n",
       "      <td>NaN</td>\n",
       "      <td>NaN</td>\n",
       "      <td>...</td>\n",
       "      <td>Très satisfaisant</td>\n",
       "      <td>Très satisfaisant</td>\n",
       "      <td>Très satisfaisant</td>\n",
       "      <td>Très satisfaisant</td>\n",
       "      <td>Très satisfaisant</td>\n",
       "      <td>Très satisfaisant</td>\n",
       "      <td>Très satisfaisant</td>\n",
       "      <td>NaN</td>\n",
       "      <td>NaN</td>\n",
       "      <td>2021-06-22 12:57:32</td>\n",
       "    </tr>\n",
       "    <tr>\n",
       "      <th>30</th>\n",
       "      <td>BC</td>\n",
       "      <td>NaN</td>\n",
       "      <td>2020-12-02</td>\n",
       "      <td>2021-03-24</td>\n",
       "      <td>intervenant-e</td>\n",
       "      <td>intervenant-e</td>\n",
       "      <td>NaN</td>\n",
       "      <td>NaN</td>\n",
       "      <td>NaN</td>\n",
       "      <td>NaN</td>\n",
       "      <td>...</td>\n",
       "      <td>NaN</td>\n",
       "      <td>NaN</td>\n",
       "      <td>NaN</td>\n",
       "      <td>NaN</td>\n",
       "      <td>NaN</td>\n",
       "      <td>NaN</td>\n",
       "      <td>NaN</td>\n",
       "      <td>NaN</td>\n",
       "      <td>NaN</td>\n",
       "      <td>2021-06-22 13:01:54</td>\n",
       "    </tr>\n",
       "    <tr>\n",
       "      <th>51</th>\n",
       "      <td>BC</td>\n",
       "      <td>NaN</td>\n",
       "      <td>2020-09-01</td>\n",
       "      <td>2020-11-28</td>\n",
       "      <td>beneficiaire</td>\n",
       "      <td>beneficiaire</td>\n",
       "      <td>NaN</td>\n",
       "      <td>NaN</td>\n",
       "      <td>NaN</td>\n",
       "      <td>NaN</td>\n",
       "      <td>...</td>\n",
       "      <td>Très satisfaisant</td>\n",
       "      <td>Très satisfaisant</td>\n",
       "      <td>Très satisfaisant</td>\n",
       "      <td>Satisfaisant</td>\n",
       "      <td>Très satisfaisant</td>\n",
       "      <td>Très satisfaisant</td>\n",
       "      <td>Satisfaisant</td>\n",
       "      <td>NaN</td>\n",
       "      <td>Peut-être un peu plus de temps, plus de rendez...</td>\n",
       "      <td>2021-06-22 14:27:42</td>\n",
       "    </tr>\n",
       "    <tr>\n",
       "      <th>107</th>\n",
       "      <td>ISU</td>\n",
       "      <td>NaN</td>\n",
       "      <td>2020-12-01</td>\n",
       "      <td>2020-12-01</td>\n",
       "      <td>prescripteur</td>\n",
       "      <td>prescripteur</td>\n",
       "      <td>NaN</td>\n",
       "      <td>NaN</td>\n",
       "      <td>NaN</td>\n",
       "      <td>NaN</td>\n",
       "      <td>...</td>\n",
       "      <td>NaN</td>\n",
       "      <td>NaN</td>\n",
       "      <td>NaN</td>\n",
       "      <td>NaN</td>\n",
       "      <td>NaN</td>\n",
       "      <td>NaN</td>\n",
       "      <td>NaN</td>\n",
       "      <td>Bonne intention intervenants/ élèves. Théme in...</td>\n",
       "      <td>fait un contexte particulier</td>\n",
       "      <td>2021-06-30 10:31:12</td>\n",
       "    </tr>\n",
       "  </tbody>\n",
       "</table>\n",
       "<p>5 rows × 40 columns</p>\n",
       "</div>"
      ],
      "text/plain": [
       "    dispositif site       debut         fin         statue        branche  \\\n",
       "25          BC  NaN  2021-03-04  2021-06-11   prescripteur   prescripteur   \n",
       "26          BC  NaN  2021-03-04  2021-06-11   beneficiaire   beneficiaire   \n",
       "30          BC  NaN  2020-12-02  2021-03-24  intervenant-e  intervenant-e   \n",
       "51          BC  NaN  2020-09-01  2020-11-28   beneficiaire   beneficiaire   \n",
       "107        ISU  NaN  2020-12-01  2020-12-01   prescripteur   prescripteur   \n",
       "\n",
       "    fin1 fin2 fin3 fin4  ...               ben1               ben2  \\\n",
       "25   NaN  NaN  NaN  NaN  ...                NaN                NaN   \n",
       "26   NaN  NaN  NaN  NaN  ...  Très satisfaisant  Très satisfaisant   \n",
       "30   NaN  NaN  NaN  NaN  ...                NaN                NaN   \n",
       "51   NaN  NaN  NaN  NaN  ...  Très satisfaisant  Très satisfaisant   \n",
       "107  NaN  NaN  NaN  NaN  ...                NaN                NaN   \n",
       "\n",
       "                  ben3               ben4               ben5  \\\n",
       "25                 NaN                NaN                NaN   \n",
       "26   Très satisfaisant  Très satisfaisant  Très satisfaisant   \n",
       "30                 NaN                NaN                NaN   \n",
       "51   Très satisfaisant       Satisfaisant  Très satisfaisant   \n",
       "107                NaN                NaN                NaN   \n",
       "\n",
       "                  ben6               ben7  \\\n",
       "25                 NaN                NaN   \n",
       "26   Très satisfaisant  Très satisfaisant   \n",
       "30                 NaN                NaN   \n",
       "51   Très satisfaisant       Satisfaisant   \n",
       "107                NaN                NaN   \n",
       "\n",
       "                                               comment  \\\n",
       "25                                                 NaN   \n",
       "26                                                 NaN   \n",
       "30                                                 NaN   \n",
       "51                                                 NaN   \n",
       "107  Bonne intention intervenants/ élèves. Théme in...   \n",
       "\n",
       "                                           proposition        register_date  \n",
       "25                                                 NaN  2021-06-22 12:56:46  \n",
       "26                                                 NaN  2021-06-22 12:57:32  \n",
       "30                                                 NaN  2021-06-22 13:01:54  \n",
       "51   Peut-être un peu plus de temps, plus de rendez...  2021-06-22 14:27:42  \n",
       "107                      fait un contexte particulier   2021-06-30 10:31:12  \n",
       "\n",
       "[5 rows x 40 columns]"
      ]
     },
     "execution_count": 11,
     "metadata": {},
     "output_type": "execute_result"
    }
   ],
   "source": [
    "df[df.site.isnull()==True].head()"
   ]
  },
  {
   "cell_type": "code",
   "execution_count": 12,
   "metadata": {},
   "outputs": [],
   "source": [
    "df.at[30, \"site\"] =\"Saint-Lo\" # df[(df.debut == \"2020-12-02\") | (df.fin == \"2021-03-24\")], İL ya 3 et 2 autre sont st.lo\n",
    "df.at[25, \"site\"] =\"Vire\" #df[(df.debut == \"2021-03-04\") | (df.fin == \"2021-06-11\")]\n",
    "df.at[26, \"site\"] =\"Vire\" #df[(df.debut == \"2021-03-04\") | (df.fin == \"2021-06-11\")]\n",
    "df.at[51, \"site\"] =\"Vire\"  #df[(df.debut == \"2020-09-01\") | (df.fin == \"2020-11-28\")] meme dates avec ça\n",
    "df.at[107, \"site\"] = \"Autre Lieu Delocalise\" # meme dates il ya 2 differant dispositif, je designe comme ca. \n",
    "df.at[108, \"site\"] = \"Autre Lieu Delocalise\" # meme dates il ya 2 differant dispositif, je designe comme ca. \n",
    "df.at[111, \"site\"] = \"Autre Lieu Delocalise\" #df[(df.debut == \"2021-04-06\") | (df.fin == \"2021-06-25\")], il ya 8 data meme\n",
    "df.at[119, \"site\"] = \"La Ferte-Mace\" #df[df.dispositif ==\"Actions courtes type 'marchons pour ... '\"] il ya 2 dispositif action courtes je donne autre lieu\n",
    "df.at[125, \"site\"] = \"Bayeux\"  #df[(df.debut == \"2021-05-17\") | (df.fin == \"2021-07-16\")] il ya 8 data meme dates avec bayeux\n",
    "df.at[158, \"site\"] = \"Avranches\" #df[(df.debut == \"2021-02-16\") | (df.fin == \"2021-09-02\")]  il ya 12 data meme dates avec avranches"
   ]
  },
  {
   "cell_type": "code",
   "execution_count": 13,
   "metadata": {},
   "outputs": [
    {
     "data": {
      "text/plain": [
       "0"
      ]
     },
     "execution_count": 13,
     "metadata": {},
     "output_type": "execute_result"
    }
   ],
   "source": [
    "df.site.isnull().sum()"
   ]
  },
  {
   "cell_type": "markdown",
   "metadata": {},
   "source": [
    "### Debut"
   ]
  },
  {
   "cell_type": "code",
   "execution_count": 14,
   "metadata": {},
   "outputs": [
    {
     "data": {
      "text/plain": [
       "2020-06-01    14\n",
       "2021-02-16    12\n",
       "2020-06-08    12\n",
       "2020-11-30     9\n",
       "2021-04-01     8\n",
       "Name: debut, dtype: int64"
      ]
     },
     "execution_count": 14,
     "metadata": {},
     "output_type": "execute_result"
    }
   ],
   "source": [
    "df.debut.value_counts(ascending=False, sort=True).head() # il ya une mal valeur 212020-01-08. "
   ]
  },
  {
   "cell_type": "code",
   "execution_count": 15,
   "metadata": {},
   "outputs": [],
   "source": [
    "df.debut.replace(to_replace = \"212020-01-08\", value = \"2021-01-08\", inplace=True) \n",
    "df.debut.replace(to_replace = \"2021-10-20\", value = \"2021-01-20\", inplace=True)"
   ]
  },
  {
   "cell_type": "code",
   "execution_count": 16,
   "metadata": {},
   "outputs": [
    {
     "data": {
      "text/html": [
       "<div>\n",
       "<style scoped>\n",
       "    .dataframe tbody tr th:only-of-type {\n",
       "        vertical-align: middle;\n",
       "    }\n",
       "\n",
       "    .dataframe tbody tr th {\n",
       "        vertical-align: top;\n",
       "    }\n",
       "\n",
       "    .dataframe thead th {\n",
       "        text-align: right;\n",
       "    }\n",
       "</style>\n",
       "<table border=\"1\" class=\"dataframe\">\n",
       "  <thead>\n",
       "    <tr style=\"text-align: right;\">\n",
       "      <th></th>\n",
       "      <th>dispositif</th>\n",
       "      <th>site</th>\n",
       "      <th>debut</th>\n",
       "      <th>fin</th>\n",
       "      <th>statue</th>\n",
       "      <th>branche</th>\n",
       "      <th>fin1</th>\n",
       "      <th>fin2</th>\n",
       "      <th>fin3</th>\n",
       "      <th>fin4</th>\n",
       "      <th>...</th>\n",
       "      <th>ben1</th>\n",
       "      <th>ben2</th>\n",
       "      <th>ben3</th>\n",
       "      <th>ben4</th>\n",
       "      <th>ben5</th>\n",
       "      <th>ben6</th>\n",
       "      <th>ben7</th>\n",
       "      <th>comment</th>\n",
       "      <th>proposition</th>\n",
       "      <th>register_date</th>\n",
       "    </tr>\n",
       "  </thead>\n",
       "  <tbody>\n",
       "    <tr>\n",
       "      <th>48</th>\n",
       "      <td>BC</td>\n",
       "      <td>Vire</td>\n",
       "      <td>NaN</td>\n",
       "      <td>NaN</td>\n",
       "      <td>beneficiaire</td>\n",
       "      <td>beneficiaire</td>\n",
       "      <td>NaN</td>\n",
       "      <td>NaN</td>\n",
       "      <td>NaN</td>\n",
       "      <td>NaN</td>\n",
       "      <td>...</td>\n",
       "      <td>Très satisfaisant</td>\n",
       "      <td>Très satisfaisant</td>\n",
       "      <td>Satisfaisant</td>\n",
       "      <td>Satisfaisant</td>\n",
       "      <td>Satisfaisant</td>\n",
       "      <td>Satisfaisant</td>\n",
       "      <td>Satisfaisant</td>\n",
       "      <td>NaN</td>\n",
       "      <td>NaN</td>\n",
       "      <td>2021-06-22 14:12:17</td>\n",
       "    </tr>\n",
       "    <tr>\n",
       "      <th>54</th>\n",
       "      <td>BC</td>\n",
       "      <td>Saint-Lo</td>\n",
       "      <td>NaN</td>\n",
       "      <td>NaN</td>\n",
       "      <td>beneficiaire</td>\n",
       "      <td>beneficiaire</td>\n",
       "      <td>NaN</td>\n",
       "      <td>NaN</td>\n",
       "      <td>NaN</td>\n",
       "      <td>NaN</td>\n",
       "      <td>...</td>\n",
       "      <td>Satisfaisant</td>\n",
       "      <td>Très satisfaisant</td>\n",
       "      <td>Très satisfaisant</td>\n",
       "      <td>Très satisfaisant</td>\n",
       "      <td>Très satisfaisant</td>\n",
       "      <td>Très satisfaisant</td>\n",
       "      <td>NaN</td>\n",
       "      <td>NaN</td>\n",
       "      <td>NaN</td>\n",
       "      <td>2021-06-23 09:16:58</td>\n",
       "    </tr>\n",
       "    <tr>\n",
       "      <th>104</th>\n",
       "      <td>PIP</td>\n",
       "      <td>Argentan</td>\n",
       "      <td>NaN</td>\n",
       "      <td>2021-06-15</td>\n",
       "      <td>beneficiaire</td>\n",
       "      <td>beneficiaire</td>\n",
       "      <td>NaN</td>\n",
       "      <td>NaN</td>\n",
       "      <td>NaN</td>\n",
       "      <td>NaN</td>\n",
       "      <td>...</td>\n",
       "      <td>Satisfaisant</td>\n",
       "      <td>Satisfaisant</td>\n",
       "      <td>Satisfaisant</td>\n",
       "      <td>Satisfaisant</td>\n",
       "      <td>Satisfaisant</td>\n",
       "      <td>Satisfaisant</td>\n",
       "      <td>NaN</td>\n",
       "      <td>NaN</td>\n",
       "      <td>NaN</td>\n",
       "      <td>2021-06-25 09:05:06</td>\n",
       "    </tr>\n",
       "  </tbody>\n",
       "</table>\n",
       "<p>3 rows × 40 columns</p>\n",
       "</div>"
      ],
      "text/plain": [
       "    dispositif      site debut         fin        statue       branche fin1  \\\n",
       "48          BC      Vire   NaN         NaN  beneficiaire  beneficiaire  NaN   \n",
       "54          BC  Saint-Lo   NaN         NaN  beneficiaire  beneficiaire  NaN   \n",
       "104        PIP  Argentan   NaN  2021-06-15  beneficiaire  beneficiaire  NaN   \n",
       "\n",
       "    fin2 fin3 fin4  ...               ben1               ben2  \\\n",
       "48   NaN  NaN  NaN  ...  Très satisfaisant  Très satisfaisant   \n",
       "54   NaN  NaN  NaN  ...       Satisfaisant  Très satisfaisant   \n",
       "104  NaN  NaN  NaN  ...       Satisfaisant       Satisfaisant   \n",
       "\n",
       "                  ben3               ben4               ben5  \\\n",
       "48        Satisfaisant       Satisfaisant       Satisfaisant   \n",
       "54   Très satisfaisant  Très satisfaisant  Très satisfaisant   \n",
       "104       Satisfaisant       Satisfaisant       Satisfaisant   \n",
       "\n",
       "                  ben6          ben7 comment proposition        register_date  \n",
       "48        Satisfaisant  Satisfaisant     NaN         NaN  2021-06-22 14:12:17  \n",
       "54   Très satisfaisant           NaN     NaN         NaN  2021-06-23 09:16:58  \n",
       "104       Satisfaisant           NaN     NaN         NaN  2021-06-25 09:05:06  \n",
       "\n",
       "[3 rows x 40 columns]"
      ]
     },
     "execution_count": 16,
     "metadata": {},
     "output_type": "execute_result"
    }
   ],
   "source": [
    "df[df.debut.isnull()==True]"
   ]
  },
  {
   "cell_type": "code",
   "execution_count": 17,
   "metadata": {},
   "outputs": [],
   "source": [
    "df.at[48, \"debut\"] = \"2020-01-09\" \n",
    "df.at[104, \"debut\"] = \"2021-01-20\"\n",
    "df.at[54, \"debut\"] = \"2020-09-17\""
   ]
  },
  {
   "cell_type": "code",
   "execution_count": 18,
   "metadata": {},
   "outputs": [
    {
     "data": {
      "text/plain": [
       "0"
      ]
     },
     "execution_count": 18,
     "metadata": {},
     "output_type": "execute_result"
    }
   ],
   "source": [
    "df.debut.isnull().sum()"
   ]
  },
  {
   "cell_type": "markdown",
   "metadata": {},
   "source": [
    "### Fin"
   ]
  },
  {
   "cell_type": "code",
   "execution_count": 19,
   "metadata": {},
   "outputs": [
    {
     "data": {
      "text/plain": [
       "2020-11-02    13\n",
       "2020-11-17    12\n",
       "2021-09-02    12\n",
       "2021-06-15     9\n",
       "2021-05-10     8\n",
       "Name: fin, dtype: int64"
      ]
     },
     "execution_count": 19,
     "metadata": {},
     "output_type": "execute_result"
    }
   ],
   "source": [
    "df.fin.value_counts(dropna=False).head()"
   ]
  },
  {
   "cell_type": "code",
   "execution_count": 20,
   "metadata": {},
   "outputs": [],
   "source": [
    "df.fin.replace(to_replace = \"0021-05-03\", value = \"2021-05-03\", inplace=True)"
   ]
  },
  {
   "cell_type": "code",
   "execution_count": 21,
   "metadata": {},
   "outputs": [],
   "source": [
    "df.at[48, \"fin\"] = \"2020-06-15\"\n",
    "df.at[54, \"fin\"] = \"2021-02-01\"\n",
    "df.at[93, \"fin\"] = \"2021-05-10\" # debut est 2020-11-30, cest pas possible fin au 2020-05-10\n",
    "df.at[97, \"fin\"] = \"2021-03-01\" # debut est 2020-08-01, cest pas possible fin au 2020-03-01"
   ]
  },
  {
   "cell_type": "code",
   "execution_count": 22,
   "metadata": {},
   "outputs": [
    {
     "data": {
      "text/html": [
       "<div>\n",
       "<style scoped>\n",
       "    .dataframe tbody tr th:only-of-type {\n",
       "        vertical-align: middle;\n",
       "    }\n",
       "\n",
       "    .dataframe tbody tr th {\n",
       "        vertical-align: top;\n",
       "    }\n",
       "\n",
       "    .dataframe thead th {\n",
       "        text-align: right;\n",
       "    }\n",
       "</style>\n",
       "<table border=\"1\" class=\"dataframe\">\n",
       "  <thead>\n",
       "    <tr style=\"text-align: right;\">\n",
       "      <th></th>\n",
       "      <th>dispositif</th>\n",
       "      <th>site</th>\n",
       "      <th>debut</th>\n",
       "      <th>fin</th>\n",
       "      <th>statue</th>\n",
       "      <th>branche</th>\n",
       "      <th>fin1</th>\n",
       "      <th>fin2</th>\n",
       "      <th>fin3</th>\n",
       "      <th>fin4</th>\n",
       "      <th>...</th>\n",
       "      <th>ben1</th>\n",
       "      <th>ben2</th>\n",
       "      <th>ben3</th>\n",
       "      <th>ben4</th>\n",
       "      <th>ben5</th>\n",
       "      <th>ben6</th>\n",
       "      <th>ben7</th>\n",
       "      <th>comment</th>\n",
       "      <th>proposition</th>\n",
       "      <th>register_date</th>\n",
       "    </tr>\n",
       "  </thead>\n",
       "  <tbody>\n",
       "    <tr>\n",
       "      <th>93</th>\n",
       "      <td>PIS</td>\n",
       "      <td>La Ferte-Mace</td>\n",
       "      <td>2020-11-30</td>\n",
       "      <td>2021-05-10</td>\n",
       "      <td>intervenant-e</td>\n",
       "      <td>intervenant-e</td>\n",
       "      <td>NaN</td>\n",
       "      <td>NaN</td>\n",
       "      <td>NaN</td>\n",
       "      <td>NaN</td>\n",
       "      <td>...</td>\n",
       "      <td>NaN</td>\n",
       "      <td>NaN</td>\n",
       "      <td>NaN</td>\n",
       "      <td>NaN</td>\n",
       "      <td>NaN</td>\n",
       "      <td>NaN</td>\n",
       "      <td>NaN</td>\n",
       "      <td>Thème de prestation a été réalisée à la demand...</td>\n",
       "      <td>NaN</td>\n",
       "      <td>2021-06-23 13:10:30</td>\n",
       "    </tr>\n",
       "  </tbody>\n",
       "</table>\n",
       "<p>1 rows × 40 columns</p>\n",
       "</div>"
      ],
      "text/plain": [
       "   dispositif           site       debut         fin         statue  \\\n",
       "93        PIS  La Ferte-Mace  2020-11-30  2021-05-10  intervenant-e   \n",
       "\n",
       "          branche fin1 fin2 fin3 fin4  ... ben1 ben2 ben3 ben4 ben5 ben6 ben7  \\\n",
       "93  intervenant-e  NaN  NaN  NaN  NaN  ...  NaN  NaN  NaN  NaN  NaN  NaN  NaN   \n",
       "\n",
       "                                              comment proposition  \\\n",
       "93  Thème de prestation a été réalisée à la demand...         NaN   \n",
       "\n",
       "          register_date  \n",
       "93  2021-06-23 13:10:30  \n",
       "\n",
       "[1 rows x 40 columns]"
      ]
     },
     "execution_count": 22,
     "metadata": {},
     "output_type": "execute_result"
    }
   ],
   "source": [
    "df[93:94]"
   ]
  },
  {
   "cell_type": "code",
   "execution_count": 23,
   "metadata": {},
   "outputs": [
    {
     "data": {
      "text/plain": [
       "0"
      ]
     },
     "execution_count": 23,
     "metadata": {},
     "output_type": "execute_result"
    }
   ],
   "source": [
    "df.fin.isnull().sum()"
   ]
  },
  {
   "cell_type": "markdown",
   "metadata": {},
   "source": [
    "## Création de nouvelles colonnes"
   ]
  },
  {
   "cell_type": "markdown",
   "metadata": {},
   "source": [
    "### Combien de jours l'action s'est-elle poursuivie ?"
   ]
  },
  {
   "cell_type": "code",
   "execution_count": 24,
   "metadata": {},
   "outputs": [],
   "source": [
    "df.debut = pd.to_datetime(df.debut, format = \"%Y-%m-%d\")\n",
    "df.fin = pd.to_datetime(df.fin, format = \"%Y-%m-%d\")"
   ]
  },
  {
   "cell_type": "code",
   "execution_count": 25,
   "metadata": {},
   "outputs": [],
   "source": [
    "df[\"jour\"] = df.fin-df.debut"
   ]
  },
  {
   "cell_type": "code",
   "execution_count": 26,
   "metadata": {},
   "outputs": [],
   "source": [
    "df[\"jourChiffres\"]=pd.to_timedelta(df.jour, errors=\"coerce\").dt.days"
   ]
  },
  {
   "cell_type": "code",
   "execution_count": 27,
   "metadata": {},
   "outputs": [
    {
     "data": {
      "text/plain": [
       "Timedelta('105 days 00:00:00')"
      ]
     },
     "execution_count": 27,
     "metadata": {},
     "output_type": "execute_result"
    }
   ],
   "source": [
    "df.loc[1, \"jour\"]"
   ]
  },
  {
   "cell_type": "code",
   "execution_count": 28,
   "metadata": {},
   "outputs": [
    {
     "data": {
      "text/plain": [
       "105"
      ]
     },
     "execution_count": 28,
     "metadata": {},
     "output_type": "execute_result"
    }
   ],
   "source": [
    "df.loc[1, \"jourChiffres\"]"
   ]
  },
  {
   "cell_type": "markdown",
   "metadata": {},
   "source": [
    "### En quelle année, mois et jour l'action s'est-elle faite?"
   ]
  },
  {
   "cell_type": "code",
   "execution_count": 29,
   "metadata": {},
   "outputs": [],
   "source": [
    "df[\"annéeDebut\"] = df[\"debut\"].dt.year\n",
    "df[\"moisDebut\"] = df[\"debut\"].dt.month\n",
    "df[\"jourDebut\"] = df[\"debut\"].dt.day\n",
    "df[\"annéeFin\"] = df[\"fin\"].dt.year\n",
    "df[\"moisFin\"] = df[\"fin\"].dt.month\n",
    "df[\"jourFin\"] = df[\"fin\"].dt.day"
   ]
  },
  {
   "cell_type": "code",
   "execution_count": 30,
   "metadata": {},
   "outputs": [
    {
     "data": {
      "text/html": [
       "<div>\n",
       "<style scoped>\n",
       "    .dataframe tbody tr th:only-of-type {\n",
       "        vertical-align: middle;\n",
       "    }\n",
       "\n",
       "    .dataframe tbody tr th {\n",
       "        vertical-align: top;\n",
       "    }\n",
       "\n",
       "    .dataframe thead th {\n",
       "        text-align: right;\n",
       "    }\n",
       "</style>\n",
       "<table border=\"1\" class=\"dataframe\">\n",
       "  <thead>\n",
       "    <tr style=\"text-align: right;\">\n",
       "      <th></th>\n",
       "      <th>dispositif</th>\n",
       "      <th>site</th>\n",
       "      <th>debut</th>\n",
       "      <th>fin</th>\n",
       "      <th>statue</th>\n",
       "      <th>branche</th>\n",
       "      <th>fin1</th>\n",
       "      <th>fin2</th>\n",
       "      <th>fin3</th>\n",
       "      <th>fin4</th>\n",
       "      <th>...</th>\n",
       "      <th>proposition</th>\n",
       "      <th>register_date</th>\n",
       "      <th>jour</th>\n",
       "      <th>jourChiffres</th>\n",
       "      <th>annéeDebut</th>\n",
       "      <th>moisDebut</th>\n",
       "      <th>jourDebut</th>\n",
       "      <th>annéeFin</th>\n",
       "      <th>moisFin</th>\n",
       "      <th>jourFin</th>\n",
       "    </tr>\n",
       "  </thead>\n",
       "  <tbody>\n",
       "    <tr>\n",
       "      <th>1</th>\n",
       "      <td>BC</td>\n",
       "      <td>Vire</td>\n",
       "      <td>2021-02-23</td>\n",
       "      <td>2021-06-08</td>\n",
       "      <td>prescripteur</td>\n",
       "      <td>prescripteur</td>\n",
       "      <td>NaN</td>\n",
       "      <td>NaN</td>\n",
       "      <td>NaN</td>\n",
       "      <td>NaN</td>\n",
       "      <td>...</td>\n",
       "      <td>NaN</td>\n",
       "      <td>2021-06-22 12:18:15</td>\n",
       "      <td>105 days</td>\n",
       "      <td>105</td>\n",
       "      <td>2021</td>\n",
       "      <td>2</td>\n",
       "      <td>23</td>\n",
       "      <td>2021</td>\n",
       "      <td>6</td>\n",
       "      <td>8</td>\n",
       "    </tr>\n",
       "  </tbody>\n",
       "</table>\n",
       "<p>1 rows × 48 columns</p>\n",
       "</div>"
      ],
      "text/plain": [
       "  dispositif  site      debut        fin        statue       branche fin1  \\\n",
       "1         BC  Vire 2021-02-23 2021-06-08  prescripteur  prescripteur  NaN   \n",
       "\n",
       "  fin2 fin3 fin4  ... proposition        register_date     jour jourChiffres  \\\n",
       "1  NaN  NaN  NaN  ...         NaN  2021-06-22 12:18:15 105 days          105   \n",
       "\n",
       "  annéeDebut moisDebut jourDebut annéeFin moisFin jourFin  \n",
       "1       2021         2        23     2021       6       8  \n",
       "\n",
       "[1 rows x 48 columns]"
      ]
     },
     "execution_count": 30,
     "metadata": {},
     "output_type": "execute_result"
    }
   ],
   "source": [
    "df[1:2]"
   ]
  },
  {
   "cell_type": "markdown",
   "metadata": {},
   "source": [
    "### Création d'une nouvelle colonne appelée \"période\"."
   ]
  },
  {
   "cell_type": "code",
   "execution_count": 31,
   "metadata": {},
   "outputs": [],
   "source": [
    "df[\"périodeDebut\"] = df[\"moisDebut\"] >= 7\n",
    "df[\"périodeDebut\"] = df[\"périodeDebut\"] + 1\n",
    "df[\"périodeFin\"] = df[\"moisFin\"] >= 7\n",
    "df[\"périodeFin\"] = df[\"périodeFin\"] + 1"
   ]
  },
  {
   "cell_type": "code",
   "execution_count": 32,
   "metadata": {},
   "outputs": [
    {
     "data": {
      "text/html": [
       "<div>\n",
       "<style scoped>\n",
       "    .dataframe tbody tr th:only-of-type {\n",
       "        vertical-align: middle;\n",
       "    }\n",
       "\n",
       "    .dataframe tbody tr th {\n",
       "        vertical-align: top;\n",
       "    }\n",
       "\n",
       "    .dataframe thead th {\n",
       "        text-align: right;\n",
       "    }\n",
       "</style>\n",
       "<table border=\"1\" class=\"dataframe\">\n",
       "  <thead>\n",
       "    <tr style=\"text-align: right;\">\n",
       "      <th></th>\n",
       "      <th>dispositif</th>\n",
       "      <th>site</th>\n",
       "      <th>debut</th>\n",
       "      <th>fin</th>\n",
       "      <th>statue</th>\n",
       "      <th>branche</th>\n",
       "      <th>fin1</th>\n",
       "      <th>fin2</th>\n",
       "      <th>fin3</th>\n",
       "      <th>fin4</th>\n",
       "      <th>...</th>\n",
       "      <th>jour</th>\n",
       "      <th>jourChiffres</th>\n",
       "      <th>annéeDebut</th>\n",
       "      <th>moisDebut</th>\n",
       "      <th>jourDebut</th>\n",
       "      <th>annéeFin</th>\n",
       "      <th>moisFin</th>\n",
       "      <th>jourFin</th>\n",
       "      <th>périodeDebut</th>\n",
       "      <th>périodeFin</th>\n",
       "    </tr>\n",
       "  </thead>\n",
       "  <tbody>\n",
       "    <tr>\n",
       "      <th>1</th>\n",
       "      <td>BC</td>\n",
       "      <td>Vire</td>\n",
       "      <td>2021-02-23</td>\n",
       "      <td>2021-06-08</td>\n",
       "      <td>prescripteur</td>\n",
       "      <td>prescripteur</td>\n",
       "      <td>NaN</td>\n",
       "      <td>NaN</td>\n",
       "      <td>NaN</td>\n",
       "      <td>NaN</td>\n",
       "      <td>...</td>\n",
       "      <td>105 days</td>\n",
       "      <td>105</td>\n",
       "      <td>2021</td>\n",
       "      <td>2</td>\n",
       "      <td>23</td>\n",
       "      <td>2021</td>\n",
       "      <td>6</td>\n",
       "      <td>8</td>\n",
       "      <td>1</td>\n",
       "      <td>1</td>\n",
       "    </tr>\n",
       "  </tbody>\n",
       "</table>\n",
       "<p>1 rows × 50 columns</p>\n",
       "</div>"
      ],
      "text/plain": [
       "  dispositif  site      debut        fin        statue       branche fin1  \\\n",
       "1         BC  Vire 2021-02-23 2021-06-08  prescripteur  prescripteur  NaN   \n",
       "\n",
       "  fin2 fin3 fin4  ...     jour jourChiffres annéeDebut moisDebut jourDebut  \\\n",
       "1  NaN  NaN  NaN  ... 105 days          105       2021         2        23   \n",
       "\n",
       "  annéeFin moisFin jourFin périodeDebut périodeFin  \n",
       "1     2021       6       8            1          1  \n",
       "\n",
       "[1 rows x 50 columns]"
      ]
     },
     "execution_count": 32,
     "metadata": {},
     "output_type": "execute_result"
    }
   ],
   "source": [
    "df[1:2]"
   ]
  },
  {
   "cell_type": "markdown",
   "metadata": {},
   "source": [
    "### Création d'une nouvelle colonne appelée période annuelle."
   ]
  },
  {
   "cell_type": "code",
   "execution_count": 33,
   "metadata": {},
   "outputs": [],
   "source": [
    "df[\"périodeAnnuelleDebut\"] = df[\"annéeDebut\"].astype(str) + \"-\" + df[\"périodeDebut\"].astype(str)"
   ]
  },
  {
   "cell_type": "code",
   "execution_count": 34,
   "metadata": {},
   "outputs": [],
   "source": [
    "df[\"périodeAnnuelleFin\"] = df[\"annéeFin\"].astype(str) + \"-\" + df[\"périodeFin\"].astype(str)"
   ]
  },
  {
   "cell_type": "code",
   "execution_count": 35,
   "metadata": {},
   "outputs": [
    {
     "data": {
      "text/html": [
       "<div>\n",
       "<style scoped>\n",
       "    .dataframe tbody tr th:only-of-type {\n",
       "        vertical-align: middle;\n",
       "    }\n",
       "\n",
       "    .dataframe tbody tr th {\n",
       "        vertical-align: top;\n",
       "    }\n",
       "\n",
       "    .dataframe thead th {\n",
       "        text-align: right;\n",
       "    }\n",
       "</style>\n",
       "<table border=\"1\" class=\"dataframe\">\n",
       "  <thead>\n",
       "    <tr style=\"text-align: right;\">\n",
       "      <th></th>\n",
       "      <th>dispositif</th>\n",
       "      <th>site</th>\n",
       "      <th>debut</th>\n",
       "      <th>fin</th>\n",
       "      <th>statue</th>\n",
       "      <th>branche</th>\n",
       "      <th>fin1</th>\n",
       "      <th>fin2</th>\n",
       "      <th>fin3</th>\n",
       "      <th>fin4</th>\n",
       "      <th>...</th>\n",
       "      <th>annéeDebut</th>\n",
       "      <th>moisDebut</th>\n",
       "      <th>jourDebut</th>\n",
       "      <th>annéeFin</th>\n",
       "      <th>moisFin</th>\n",
       "      <th>jourFin</th>\n",
       "      <th>périodeDebut</th>\n",
       "      <th>périodeFin</th>\n",
       "      <th>périodeAnnuelleDebut</th>\n",
       "      <th>périodeAnnuelleFin</th>\n",
       "    </tr>\n",
       "  </thead>\n",
       "  <tbody>\n",
       "    <tr>\n",
       "      <th>1</th>\n",
       "      <td>BC</td>\n",
       "      <td>Vire</td>\n",
       "      <td>2021-02-23</td>\n",
       "      <td>2021-06-08</td>\n",
       "      <td>prescripteur</td>\n",
       "      <td>prescripteur</td>\n",
       "      <td>NaN</td>\n",
       "      <td>NaN</td>\n",
       "      <td>NaN</td>\n",
       "      <td>NaN</td>\n",
       "      <td>...</td>\n",
       "      <td>2021</td>\n",
       "      <td>2</td>\n",
       "      <td>23</td>\n",
       "      <td>2021</td>\n",
       "      <td>6</td>\n",
       "      <td>8</td>\n",
       "      <td>1</td>\n",
       "      <td>1</td>\n",
       "      <td>2021-1</td>\n",
       "      <td>2021-1</td>\n",
       "    </tr>\n",
       "  </tbody>\n",
       "</table>\n",
       "<p>1 rows × 52 columns</p>\n",
       "</div>"
      ],
      "text/plain": [
       "  dispositif  site      debut        fin        statue       branche fin1  \\\n",
       "1         BC  Vire 2021-02-23 2021-06-08  prescripteur  prescripteur  NaN   \n",
       "\n",
       "  fin2 fin3 fin4  ... annéeDebut moisDebut jourDebut annéeFin moisFin jourFin  \\\n",
       "1  NaN  NaN  NaN  ...       2021         2        23     2021       6       8   \n",
       "\n",
       "  périodeDebut périodeFin périodeAnnuelleDebut périodeAnnuelleFin  \n",
       "1            1          1               2021-1             2021-1  \n",
       "\n",
       "[1 rows x 52 columns]"
      ]
     },
     "execution_count": 35,
     "metadata": {},
     "output_type": "execute_result"
    }
   ],
   "source": [
    "df[1:2]"
   ]
  },
  {
   "cell_type": "markdown",
   "metadata": {},
   "source": [
    "## Nouvelle table "
   ]
  },
  {
   "cell_type": "code",
   "execution_count": 36,
   "metadata": {},
   "outputs": [
    {
     "data": {
      "text/plain": [
       "Index(['dispositif', 'site', 'debut', 'fin', 'statue', 'branche', 'fin1',\n",
       "       'fin2', 'fin3', 'fin4', 'fin5', 'intType', 'inter1', 'inter2', 'inter3',\n",
       "       'inter4', 'intForDis', 'inter5', 'intRisqS', 'intRisqH', 'intRisqJ',\n",
       "       'intRisqEn', 'intRisqEc', 'preUsager', 'pre1', 'pre2', 'pre3', 'pre4',\n",
       "       'pre5', 'pre6', 'ben1', 'ben2', 'ben3', 'ben4', 'ben5', 'ben6', 'ben7',\n",
       "       'comment', 'proposition', 'register_date', 'jour', 'jourChiffres',\n",
       "       'annéeDebut', 'moisDebut', 'jourDebut', 'annéeFin', 'moisFin',\n",
       "       'jourFin', 'périodeDebut', 'périodeFin', 'périodeAnnuelleDebut',\n",
       "       'périodeAnnuelleFin'],\n",
       "      dtype='object')"
      ]
     },
     "execution_count": 36,
     "metadata": {},
     "output_type": "execute_result"
    }
   ],
   "source": [
    "df.columns"
   ]
  },
  {
   "cell_type": "code",
   "execution_count": 37,
   "metadata": {},
   "outputs": [],
   "source": [
    "df = df[['dispositif', 'site', \n",
    "    'debut', 'annéeDebut','moisDebut', 'jourDebut','périodeDebut', 'périodeAnnuelleDebut',\n",
    "    'fin', 'annéeFin', 'moisFin', 'jourFin','périodeFin', 'périodeAnnuelleFin', \n",
    "    'jour', 'jourChiffres', 'statue', 'branche', 'fin1', 'fin2', 'fin3', 'fin4', 'fin5', \n",
    "    'intType', 'inter1', 'inter2', 'inter3', 'inter4', 'intForDis', 'inter5', \n",
    "    'intRisqS', 'intRisqH', 'intRisqJ','intRisqEn', 'intRisqEc', 'preUsager', \n",
    "    'pre1', 'pre2', 'pre3', 'pre4','pre5', 'pre6', \n",
    "    'ben1', 'ben2', 'ben3', 'ben4', 'ben5', 'ben6', 'ben7',\n",
    "       'comment', 'proposition', 'register_date']]"
   ]
  },
  {
   "cell_type": "code",
   "execution_count": 38,
   "metadata": {},
   "outputs": [
    {
     "data": {
      "text/html": [
       "<div>\n",
       "<style scoped>\n",
       "    .dataframe tbody tr th:only-of-type {\n",
       "        vertical-align: middle;\n",
       "    }\n",
       "\n",
       "    .dataframe tbody tr th {\n",
       "        vertical-align: top;\n",
       "    }\n",
       "\n",
       "    .dataframe thead th {\n",
       "        text-align: right;\n",
       "    }\n",
       "</style>\n",
       "<table border=\"1\" class=\"dataframe\">\n",
       "  <thead>\n",
       "    <tr style=\"text-align: right;\">\n",
       "      <th></th>\n",
       "      <th>dispositif</th>\n",
       "      <th>site</th>\n",
       "      <th>debut</th>\n",
       "      <th>annéeDebut</th>\n",
       "      <th>moisDebut</th>\n",
       "      <th>jourDebut</th>\n",
       "      <th>périodeDebut</th>\n",
       "      <th>périodeAnnuelleDebut</th>\n",
       "      <th>fin</th>\n",
       "      <th>annéeFin</th>\n",
       "      <th>...</th>\n",
       "      <th>ben1</th>\n",
       "      <th>ben2</th>\n",
       "      <th>ben3</th>\n",
       "      <th>ben4</th>\n",
       "      <th>ben5</th>\n",
       "      <th>ben6</th>\n",
       "      <th>ben7</th>\n",
       "      <th>comment</th>\n",
       "      <th>proposition</th>\n",
       "      <th>register_date</th>\n",
       "    </tr>\n",
       "  </thead>\n",
       "  <tbody>\n",
       "    <tr>\n",
       "      <th>1</th>\n",
       "      <td>BC</td>\n",
       "      <td>Vire</td>\n",
       "      <td>2021-02-23</td>\n",
       "      <td>2021</td>\n",
       "      <td>2</td>\n",
       "      <td>23</td>\n",
       "      <td>1</td>\n",
       "      <td>2021-1</td>\n",
       "      <td>2021-06-08</td>\n",
       "      <td>2021</td>\n",
       "      <td>...</td>\n",
       "      <td>NaN</td>\n",
       "      <td>NaN</td>\n",
       "      <td>NaN</td>\n",
       "      <td>NaN</td>\n",
       "      <td>NaN</td>\n",
       "      <td>NaN</td>\n",
       "      <td>NaN</td>\n",
       "      <td>J'ai été ravie de la prise en charge de mon bi...</td>\n",
       "      <td>NaN</td>\n",
       "      <td>2021-06-22 12:18:15</td>\n",
       "    </tr>\n",
       "  </tbody>\n",
       "</table>\n",
       "<p>1 rows × 52 columns</p>\n",
       "</div>"
      ],
      "text/plain": [
       "  dispositif  site      debut  annéeDebut  moisDebut  jourDebut  périodeDebut  \\\n",
       "1         BC  Vire 2021-02-23        2021          2         23             1   \n",
       "\n",
       "  périodeAnnuelleDebut        fin  annéeFin  ...  ben1  ben2  ben3 ben4 ben5  \\\n",
       "1               2021-1 2021-06-08      2021  ...   NaN   NaN   NaN  NaN  NaN   \n",
       "\n",
       "   ben6 ben7                                            comment proposition  \\\n",
       "1   NaN  NaN  J'ai été ravie de la prise en charge de mon bi...         NaN   \n",
       "\n",
       "         register_date  \n",
       "1  2021-06-22 12:18:15  \n",
       "\n",
       "[1 rows x 52 columns]"
      ]
     },
     "execution_count": 38,
     "metadata": {},
     "output_type": "execute_result"
    }
   ],
   "source": [
    "df[1:2]"
   ]
  },
  {
   "cell_type": "markdown",
   "metadata": {},
   "source": [
    "## Analyse de questionnaire"
   ]
  },
  {
   "cell_type": "markdown",
   "metadata": {},
   "source": [
    "### Combien d'enquêtes avons-nous ?"
   ]
  },
  {
   "cell_type": "code",
   "execution_count": 39,
   "metadata": {},
   "outputs": [
    {
     "name": "stdout",
     "output_type": "stream",
     "text": [
      "Il y a 162 enquêtes dans la base de données.\n",
      "Ces enquêtes sont réalisées entre 2020-06-15 et 2021-10-01\n"
     ]
    }
   ],
   "source": [
    "print(\"Il y a\", len(df.index), \"enquêtes dans la base de données.\")\n",
    "print(\"Ces enquêtes sont réalisées entre\", str(df.fin.min())[0:10], \"et\", str(df.fin.max())[0:10])"
   ]
  },
  {
   "cell_type": "markdown",
   "metadata": {},
   "source": [
    "### Nom et Nombre total de dispositif sont:"
   ]
  },
  {
   "cell_type": "code",
   "execution_count": 40,
   "metadata": {},
   "outputs": [
    {
     "name": "stdout",
     "output_type": "stream",
     "text": [
      "Nom de dispositif sont: ['BC' 'PIS' 'Remob' 'PIP' 'GDA' 'ISU' 'PH' 'DE' 'PS' 'AC' 'FA']\n",
      "Nombre de dispositif sont:  11\n"
     ]
    }
   ],
   "source": [
    "print(\"Nom de dispositif sont:\", df.dispositif.unique())\n",
    "print(\"Nombre de dispositif sont: \", df.dispositif.nunique())"
   ]
  },
  {
   "cell_type": "markdown",
   "metadata": {},
   "source": [
    "### Dispersion du type de dispositif parmi tout questionnaires"
   ]
  },
  {
   "cell_type": "code",
   "execution_count": 41,
   "metadata": {},
   "outputs": [
    {
     "name": "stdout",
     "output_type": "stream",
     "text": [
      "BC       60\n",
      "PIP      28\n",
      "PIS      23\n",
      "PS       15\n",
      "Remob    13\n",
      "DE       11\n",
      "FA        5\n",
      "AC        2\n",
      "GDA       2\n",
      "ISU       2\n",
      "PH        1\n",
      "Name: dispositif, dtype: int64\n"
     ]
    },
    {
     "data": {
      "text/plain": [
       "Text(0.5, 1.0, 'dispersion du type de dispositif')"
      ]
     },
     "execution_count": 41,
     "metadata": {},
     "output_type": "execute_result"
    },
    {
     "data": {
      "image/png": "[encoded data removed]",
      "text/plain": [
       "<Figure size 864x576 with 1 Axes>"
      ]
     },
     "metadata": {},
     "output_type": "display_data"
    }
   ],
   "source": [
    "print(df.dispositif.value_counts(dropna=True))\n",
    "fontdict = {\"size\":20, \"color\":\"red\", \"alpha\":1, \"backgroundcolor\":\"lightgray\", \"style\": \"italic\", \"weight\":\"black\", \"family\": \"fantasy\"}\n",
    "dispTotal = df.dispositif.value_counts().plot(kind=\"bar\", figsize=(12,8), fontsize =14)\n",
    "dispTotal.set_xlabel(\"Dispositif\", fontdict = fontdict)\n",
    "dispTotal.set_ylabel(\"Nombre\", fontdict= fontdict)\n",
    "dispTotal.set_title(label = \"dispersion du type de dispositif\", fontdict= fontdict)"
   ]
  },
  {
   "cell_type": "markdown",
   "metadata": {},
   "source": [
    "### Taux de pourcentage de du type de dispositif sont:"
   ]
  },
  {
   "cell_type": "code",
   "execution_count": 42,
   "metadata": {},
   "outputs": [
    {
     "name": "stdout",
     "output_type": "stream",
     "text": [
      "BC       0.37\n",
      "PIP      0.17\n",
      "PIS      0.14\n",
      "PS       0.09\n",
      "Remob    0.08\n",
      "DE       0.07\n",
      "FA       0.03\n",
      "AC       0.01\n",
      "GDA      0.01\n",
      "ISU      0.01\n",
      "PH       0.01\n",
      "Name: dispositif, dtype: float64\n"
     ]
    },
    {
     "data": {
      "text/plain": [
       "Text(0.5, 1.0, 'Taux de pourcentage de dispositif')"
      ]
     },
     "execution_count": 42,
     "metadata": {},
     "output_type": "execute_result"
    },
    {
     "data": {
      "image/png": "[encoded data removed]",
      "text/plain": [
       "<Figure size 864x576 with 1 Axes>"
      ]
     },
     "metadata": {},
     "output_type": "display_data"
    }
   ],
   "source": [
    "print(round((df.dispositif.value_counts(normalize=True)), 2))\n",
    "dispTaux = round(df.dispositif.value_counts(normalize=True), 2).plot(kind=\"pie\", figsize = (12,8), fontsize=13)\n",
    "dispTaux.set_title(\"Taux de pourcentage de dispositif\", fontdict=fontdict)"
   ]
  },
  {
   "cell_type": "markdown",
   "metadata": {},
   "source": [
    "## Analyse de site"
   ]
  },
  {
   "cell_type": "markdown",
   "metadata": {},
   "source": [
    "### Nom et Nombre total de site sont:"
   ]
  },
  {
   "cell_type": "code",
   "execution_count": 43,
   "metadata": {},
   "outputs": [
    {
     "name": "stdout",
     "output_type": "stream",
     "text": [
      "Nom de sites sont: ['Avranches' 'Vire' 'Argentan' 'Saint-Lo' 'La Ferte-Mace' 'Flers'\n",
      " 'Domfront' 'Autre Lieu Delocalise' 'Bayeux' 'Falaise' 'Caen']\n",
      "Nombre de site est:  11\n"
     ]
    }
   ],
   "source": [
    "print(\"Nom de sites sont:\", df.site.unique())\n",
    "print(\"Nombre de site est: \", df.site.nunique())"
   ]
  },
  {
   "cell_type": "markdown",
   "metadata": {},
   "source": [
    "### Dispersion de site:"
   ]
  },
  {
   "cell_type": "code",
   "execution_count": 44,
   "metadata": {},
   "outputs": [
    {
     "name": "stdout",
     "output_type": "stream",
     "text": [
      "Vire                     49\n",
      "Argentan                 25\n",
      "Avranches                14\n",
      "Domfront                 13\n",
      "Saint-Lo                 12\n",
      "La Ferte-Mace            12\n",
      "Autre Lieu Delocalise    12\n",
      "Bayeux                    9\n",
      "Flers                     8\n",
      "Falaise                   6\n",
      "Caen                      2\n",
      "Name: site, dtype: int64\n"
     ]
    },
    {
     "data": {
      "text/plain": [
       "Text(0.5, 1.0, 'Nombres total de site')"
      ]
     },
     "execution_count": 44,
     "metadata": {},
     "output_type": "execute_result"
    },
    {
     "data": {
      "image/png": "[encoded data removed]",
      "text/plain": [
       "<Figure size 720x432 with 1 Axes>"
      ]
     },
     "metadata": {},
     "output_type": "display_data"
    }
   ],
   "source": [
    "print(df.site.value_counts())\n",
    "siteTotal = df.site.value_counts().plot(kind = \"bar\", title = \"Nombre total de site\", figsize=(10,6), fontsize=14)\n",
    "siteTotal.set_xlabel(\"Site de activites\", fontdict=fontdict)\n",
    "siteTotal.set_ylabel(\"Nombres de occurrences\", fontdict=fontdict)\n",
    "siteTotal.set_title(\"Nombres total de site\", fontdict=fontdict)"
   ]
  },
  {
   "cell_type": "markdown",
   "metadata": {},
   "source": [
    "### Taux de pourcentage de site sont:"
   ]
  },
  {
   "cell_type": "code",
   "execution_count": 45,
   "metadata": {},
   "outputs": [
    {
     "name": "stdout",
     "output_type": "stream",
     "text": [
      "Vire                     0.30\n",
      "Argentan                 0.15\n",
      "Avranches                0.09\n",
      "Domfront                 0.08\n",
      "Saint-Lo                 0.07\n",
      "La Ferte-Mace            0.07\n",
      "Autre Lieu Delocalise    0.07\n",
      "Bayeux                   0.06\n",
      "Flers                    0.05\n",
      "Falaise                  0.04\n",
      "Caen                     0.01\n",
      "Name: site, dtype: float64\n"
     ]
    },
    {
     "data": {
      "text/plain": [
       "Text(0.5, 1.0, 'Taux de pourcentage de site')"
      ]
     },
     "execution_count": 45,
     "metadata": {},
     "output_type": "execute_result"
    },
    {
     "data": {
      "image/png": "[encoded data removed]",
      "text/plain": [
       "<Figure size 864x576 with 1 Axes>"
      ]
     },
     "metadata": {},
     "output_type": "display_data"
    }
   ],
   "source": [
    "print(round((df.site.value_counts(normalize=True)), 2))\n",
    "siteTaux = round(df.site.value_counts(normalize=True), 2).plot(kind=\"pie\", figsize = (12,8), fontsize=12)\n",
    "siteTaux.set_title(\"Taux de pourcentage de site\", fontdict=fontdict)"
   ]
  },
  {
   "cell_type": "markdown",
   "metadata": {},
   "source": [
    "## Analyse de debut"
   ]
  },
  {
   "cell_type": "markdown",
   "metadata": {},
   "source": [
    "### Nombre de demandes d'enquête par année par rapport de debut de disposition"
   ]
  },
  {
   "cell_type": "code",
   "execution_count": 46,
   "metadata": {},
   "outputs": [
    {
     "name": "stdout",
     "output_type": "stream",
     "text": [
      "Nombre de demandes d'enquête par année : \n",
      " 2021    83\n",
      "2020    78\n",
      "2019     1\n",
      "Name: annéeDebut, dtype: int64\n"
     ]
    },
    {
     "data": {
      "text/plain": [
       "<matplotlib.axes._subplots.AxesSubplot at 0x22c3f357408>"
      ]
     },
     "execution_count": 46,
     "metadata": {},
     "output_type": "execute_result"
    },
    {
     "data": {
      "image/png": "[encoded data removed]",
      "text/plain": [
       "<Figure size 432x288 with 1 Axes>"
      ]
     },
     "metadata": {},
     "output_type": "display_data"
    }
   ],
   "source": [
    "print(\"Nombre de demandes d'enquête par année :\",\"\\n\", df.annéeDebut.value_counts())\n",
    "df.annéeDebut.value_counts().plot(kind=\"bar\")"
   ]
  },
  {
   "cell_type": "markdown",
   "metadata": {},
   "source": [
    "### Nombre de demandes d'enquête par mois par rapport de debut de disposition"
   ]
  },
  {
   "cell_type": "code",
   "execution_count": 47,
   "metadata": {},
   "outputs": [
    {
     "data": {
      "text/plain": [
       "Text(0.5, 1.0, 'Les debuts de disposition par rapport de mois')"
      ]
     },
     "execution_count": 47,
     "metadata": {},
     "output_type": "execute_result"
    },
    {
     "data": {
      "image/png": "[encoded data removed]",
      "text/plain": [
       "<Figure size 864x432 with 1 Axes>"
      ]
     },
     "metadata": {},
     "output_type": "display_data"
    }
   ],
   "source": [
    "debutMois = df.groupby(\"annéeDebut\")[\"moisDebut\"].value_counts(ascending=False, sort=False).plot(kind=\"bar\", figsize=(12,6))\n",
    "debutMois.set_xlabel(\"Mois\", fontdict=fontdict)\n",
    "debutMois.set_ylabel(\"Nombre\", fontdict=fontdict)\n",
    "debutMois.set_title(\"Les debuts de disposition par rapport de mois\", fontdict=fontdict)"
   ]
  },
  {
   "cell_type": "markdown",
   "metadata": {},
   "source": [
    "### Periode des debuts"
   ]
  },
  {
   "cell_type": "code",
   "execution_count": 48,
   "metadata": {},
   "outputs": [
    {
     "name": "stdout",
     "output_type": "stream",
     "text": [
      "Répartition des périodes selon les dates de début est : périodeAnnuelleDebut\n",
      "2019-2     1\n",
      "2020-1    41\n",
      "2020-2    37\n",
      "2021-1    77\n",
      "2021-2     6\n",
      "Name: dispositif, dtype: int64\n"
     ]
    },
    {
     "data": {
      "text/plain": [
       "Text(0.5, 1.0, 'Répartition des périodes selon les dates de début')"
      ]
     },
     "execution_count": 48,
     "metadata": {},
     "output_type": "execute_result"
    },
    {
     "data": {
      "image/png": "[encoded data removed]",
      "text/plain": [
       "<Figure size 720x360 with 1 Axes>"
      ]
     },
     "metadata": {},
     "output_type": "display_data"
    }
   ],
   "source": [
    "print(\"Répartition des périodes selon les dates de début est :\", df.groupby(\"périodeAnnuelleDebut\")[\"dispositif\"].count())\n",
    "périodeDebut = df.groupby(\"périodeAnnuelleDebut\")[\"dispositif\"].count().plot(kind=\"bar\", figsize=(10,5))\n",
    "périodeDebut.set_xlabel(\"Période\", fontdict=fontdict)\n",
    "périodeDebut.set_ylabel(\"Nombre\", fontdict=fontdict)\n",
    "périodeDebut.set_title(\"Répartition des périodes selon les dates de début\", fontdict=fontdict)"
   ]
  },
  {
   "cell_type": "markdown",
   "metadata": {},
   "source": [
    "## Analyse de fin"
   ]
  },
  {
   "cell_type": "markdown",
   "metadata": {},
   "source": [
    "### Nombre de demandes d'enquête par année par rapport de fin de disposition"
   ]
  },
  {
   "cell_type": "code",
   "execution_count": 49,
   "metadata": {},
   "outputs": [
    {
     "name": "stdout",
     "output_type": "stream",
     "text": [
      "Nombre de demandes d'enquête par année : \n",
      " 2021    112\n",
      "2020     50\n",
      "Name: annéeFin, dtype: int64\n"
     ]
    },
    {
     "data": {
      "text/plain": [
       "<matplotlib.axes._subplots.AxesSubplot at 0x22c3f6d1908>"
      ]
     },
     "execution_count": 49,
     "metadata": {},
     "output_type": "execute_result"
    },
    {
     "data": {
      "image/png": "[encoded data removed]",
      "text/plain": [
       "<Figure size 432x288 with 1 Axes>"
      ]
     },
     "metadata": {},
     "output_type": "display_data"
    }
   ],
   "source": [
    "print(\"Nombre de demandes d'enquête par année :\",\"\\n\", df.annéeFin.value_counts())\n",
    "df.annéeFin.value_counts().plot(kind=\"bar\")"
   ]
  },
  {
   "cell_type": "markdown",
   "metadata": {},
   "source": [
    "### Nombre de demandes d'enquête par mois par rapport de fin de disposition"
   ]
  },
  {
   "cell_type": "code",
   "execution_count": 50,
   "metadata": {},
   "outputs": [
    {
     "data": {
      "text/plain": [
       "Text(0.5, 1.0, 'Les fins de disposition par rapport de mois')"
      ]
     },
     "execution_count": 50,
     "metadata": {},
     "output_type": "execute_result"
    },
    {
     "data": {
      "image/png": "[encoded data removed]",
      "text/plain": [
       "<Figure size 864x432 with 1 Axes>"
      ]
     },
     "metadata": {},
     "output_type": "display_data"
    }
   ],
   "source": [
    "finMois = df.groupby(\"annéeFin\")[\"moisFin\"].value_counts(ascending=False, sort=False).plot(kind=\"bar\", figsize=(12,6))\n",
    "finMois.set_xlabel(\"Mois\", fontdict=fontdict)\n",
    "finMois.set_ylabel(\"Nombre\", fontdict=fontdict)\n",
    "finMois.set_title(\"Les fins de disposition par rapport de mois\", fontdict=fontdict)"
   ]
  },
  {
   "cell_type": "markdown",
   "metadata": {},
   "source": [
    "### Periode des fins"
   ]
  },
  {
   "cell_type": "code",
   "execution_count": 51,
   "metadata": {},
   "outputs": [
    {
     "name": "stdout",
     "output_type": "stream",
     "text": [
      "Répartition des périodes selon les dates de fin est : périodeAnnuelleFin\n",
      "2020-1     5\n",
      "2020-2    45\n",
      "2021-1    70\n",
      "2021-2    42\n",
      "Name: dispositif, dtype: int64\n"
     ]
    },
    {
     "data": {
      "text/plain": [
       "Text(0.5, 1.0, 'Répartition des périodes selon les dates de début')"
      ]
     },
     "execution_count": 51,
     "metadata": {},
     "output_type": "execute_result"
    },
    {
     "data": {
      "image/png": "[encoded data removed]",
      "text/plain": [
       "<Figure size 720x360 with 1 Axes>"
      ]
     },
     "metadata": {},
     "output_type": "display_data"
    }
   ],
   "source": [
    "print(\"Répartition des périodes selon les dates de fin est :\", df.groupby(\"périodeAnnuelleFin\")[\"dispositif\"].count())\n",
    "périodeFin = df.groupby(\"périodeAnnuelleFin\")[\"dispositif\"].count().plot(kind=\"bar\", figsize=(10,5))\n",
    "périodeFin.set_xlabel(\"Période\", fontdict=fontdict)\n",
    "périodeFin.set_ylabel(\"Nombre\", fontdict=fontdict)\n",
    "périodeFin.set_title(\"Répartition des périodes selon les dates de début\", fontdict=fontdict)"
   ]
  },
  {
   "cell_type": "markdown",
   "metadata": {},
   "source": [
    "## Analyse de jour"
   ]
  },
  {
   "cell_type": "code",
   "execution_count": 52,
   "metadata": {},
   "outputs": [
    {
     "data": {
      "text/plain": [
       "Text(0.5, 1.0, 'Répartition des jours')"
      ]
     },
     "execution_count": 52,
     "metadata": {},
     "output_type": "execute_result"
    },
    {
     "data": {
      "image/png": "[encoded data removed]",
      "text/plain": [
       "<Figure size 864x576 with 1 Axes>"
      ]
     },
     "metadata": {},
     "output_type": "display_data"
    }
   ],
   "source": [
    "jour = df.jourChiffres.value_counts(ascending=False, sort=True).plot(kind=\"bar\", figsize=(12,8))\n",
    "jour.set_xlabel(\"Nombre de jour\", fontdict=fontdict)\n",
    "jour.set_ylabel(\"Quantite\", fontdict=fontdict)\n",
    "jour.set_title(\"Répartition des jours\", fontdict=fontdict)"
   ]
  },
  {
   "cell_type": "markdown",
   "metadata": {},
   "source": [
    "# Tableau général"
   ]
  },
  {
   "cell_type": "code",
   "execution_count": 74,
   "metadata": {},
   "outputs": [],
   "source": [
    "#df.groupby(\"dispositif\")[\"statue\"].value_counts()"
   ]
  },
  {
   "cell_type": "code",
   "execution_count": 53,
   "metadata": {},
   "outputs": [
    {
     "data": {
      "text/plain": [
       "dispositif  site                   statue       \n",
       "AC          La Ferte-Mace          beneficiaire      1\n",
       "                                   intervenant-e     1\n",
       "BC          Argentan               beneficiaire      1\n",
       "                                   intervenant-e     1\n",
       "                                   prescripteur      1\n",
       "            Avranches              beneficiaire      1\n",
       "            Flers                  beneficiaire      2\n",
       "            Saint-Lo               beneficiaire      6\n",
       "                                   intervenant-e     3\n",
       "                                   prescripteur      3\n",
       "            Vire                   intervenant-e    19\n",
       "                                   beneficiaire     15\n",
       "                                   prescripteur      8\n",
       "DE          Autre Lieu Delocalise  beneficiaire      9\n",
       "            Caen                   financeur         1\n",
       "                                   prescripteur      1\n",
       "FA          Autre Lieu Delocalise  intervenant-e     1\n",
       "            Vire                   beneficiaire      2\n",
       "                                   financeur         1\n",
       "                                   intervenant-e     1\n",
       "GDA         Vire                   beneficiaire      2\n",
       "ISU         Autre Lieu Delocalise  prescripteur      1\n",
       "            Vire                   beneficiaire      1\n",
       "PH          Autre Lieu Delocalise  financeur         1\n",
       "PIP         Argentan               beneficiaire      7\n",
       "                                   financeur         1\n",
       "                                   prescripteur      1\n",
       "            Domfront               beneficiaire     13\n",
       "            Flers                  beneficiaire      6\n",
       "PIS         Argentan               beneficiaire      9\n",
       "                                   intervenant-e     4\n",
       "            La Ferte-Mace          beneficiaire      8\n",
       "                                   intervenant-e     2\n",
       "PS          Bayeux                 beneficiaire      4\n",
       "                                   intervenant-e     3\n",
       "                                   financeur         1\n",
       "                                   prescripteur      1\n",
       "            Falaise                beneficiaire      6\n",
       "Remob       Avranches              intervenant-e     7\n",
       "                                   beneficiaire      4\n",
       "                                   financeur         1\n",
       "                                   prescripteur      1\n",
       "Name: statue, dtype: int64"
      ]
     },
     "execution_count": 53,
     "metadata": {},
     "output_type": "execute_result"
    }
   ],
   "source": [
    "df.groupby([\"dispositif\", \"site\"])[\"statue\"].value_counts()"
   ]
  },
  {
   "cell_type": "markdown",
   "metadata": {},
   "source": [
    "# Analysis de Questionnaire de Finaceur"
   ]
  },
  {
   "cell_type": "code",
   "execution_count": 54,
   "metadata": {},
   "outputs": [],
   "source": [
    "dfFin = df[df.statue ==\"financeur\"]"
   ]
  },
  {
   "cell_type": "code",
   "execution_count": 55,
   "metadata": {},
   "outputs": [
    {
     "data": {
      "text/html": [
       "<div>\n",
       "<style scoped>\n",
       "    .dataframe tbody tr th:only-of-type {\n",
       "        vertical-align: middle;\n",
       "    }\n",
       "\n",
       "    .dataframe tbody tr th {\n",
       "        vertical-align: top;\n",
       "    }\n",
       "\n",
       "    .dataframe thead th {\n",
       "        text-align: right;\n",
       "    }\n",
       "</style>\n",
       "<table border=\"1\" class=\"dataframe\">\n",
       "  <thead>\n",
       "    <tr style=\"text-align: right;\">\n",
       "      <th></th>\n",
       "      <th>dispositif</th>\n",
       "      <th>site</th>\n",
       "      <th>debut</th>\n",
       "      <th>annéeDebut</th>\n",
       "      <th>moisDebut</th>\n",
       "      <th>jourDebut</th>\n",
       "      <th>périodeDebut</th>\n",
       "      <th>périodeAnnuelleDebut</th>\n",
       "      <th>fin</th>\n",
       "      <th>annéeFin</th>\n",
       "      <th>...</th>\n",
       "      <th>ben1</th>\n",
       "      <th>ben2</th>\n",
       "      <th>ben3</th>\n",
       "      <th>ben4</th>\n",
       "      <th>ben5</th>\n",
       "      <th>ben6</th>\n",
       "      <th>ben7</th>\n",
       "      <th>comment</th>\n",
       "      <th>proposition</th>\n",
       "      <th>register_date</th>\n",
       "    </tr>\n",
       "  </thead>\n",
       "  <tbody>\n",
       "    <tr>\n",
       "      <th>99</th>\n",
       "      <td>PIP</td>\n",
       "      <td>Argentan</td>\n",
       "      <td>2021-01-20</td>\n",
       "      <td>2021</td>\n",
       "      <td>1</td>\n",
       "      <td>20</td>\n",
       "      <td>1</td>\n",
       "      <td>2021-1</td>\n",
       "      <td>2021-06-15</td>\n",
       "      <td>2021</td>\n",
       "      <td>...</td>\n",
       "      <td>NaN</td>\n",
       "      <td>NaN</td>\n",
       "      <td>NaN</td>\n",
       "      <td>NaN</td>\n",
       "      <td>NaN</td>\n",
       "      <td>NaN</td>\n",
       "      <td>NaN</td>\n",
       "      <td>La prestation correspond aux attentes du marché.</td>\n",
       "      <td>NaN</td>\n",
       "      <td>2021-06-25 08:58:23</td>\n",
       "    </tr>\n",
       "    <tr>\n",
       "      <th>108</th>\n",
       "      <td>PH</td>\n",
       "      <td>Autre Lieu Delocalise</td>\n",
       "      <td>2020-12-01</td>\n",
       "      <td>2020</td>\n",
       "      <td>12</td>\n",
       "      <td>1</td>\n",
       "      <td>2</td>\n",
       "      <td>2020-2</td>\n",
       "      <td>2020-12-01</td>\n",
       "      <td>2020</td>\n",
       "      <td>...</td>\n",
       "      <td>NaN</td>\n",
       "      <td>NaN</td>\n",
       "      <td>NaN</td>\n",
       "      <td>NaN</td>\n",
       "      <td>NaN</td>\n",
       "      <td>NaN</td>\n",
       "      <td>NaN</td>\n",
       "      <td>renouvellement de cette action aupres des 6ème...</td>\n",
       "      <td>NaN</td>\n",
       "      <td>2021-06-30 10:32:36</td>\n",
       "    </tr>\n",
       "    <tr>\n",
       "      <th>127</th>\n",
       "      <td>PS</td>\n",
       "      <td>Bayeux</td>\n",
       "      <td>2021-05-17</td>\n",
       "      <td>2021</td>\n",
       "      <td>5</td>\n",
       "      <td>17</td>\n",
       "      <td>1</td>\n",
       "      <td>2021-1</td>\n",
       "      <td>2021-07-16</td>\n",
       "      <td>2021</td>\n",
       "      <td>...</td>\n",
       "      <td>NaN</td>\n",
       "      <td>NaN</td>\n",
       "      <td>NaN</td>\n",
       "      <td>NaN</td>\n",
       "      <td>NaN</td>\n",
       "      <td>NaN</td>\n",
       "      <td>NaN</td>\n",
       "      <td>Accès à l'emploi pour 5p./10 soit 50%  : 2 ACI...</td>\n",
       "      <td>Travailler sur la mixité des emplois. Elargir ...</td>\n",
       "      <td>2021-07-16 14:39:02</td>\n",
       "    </tr>\n",
       "    <tr>\n",
       "      <th>145</th>\n",
       "      <td>FA</td>\n",
       "      <td>Vire</td>\n",
       "      <td>2021-08-30</td>\n",
       "      <td>2021</td>\n",
       "      <td>8</td>\n",
       "      <td>30</td>\n",
       "      <td>2</td>\n",
       "      <td>2021-2</td>\n",
       "      <td>2021-08-30</td>\n",
       "      <td>2021</td>\n",
       "      <td>...</td>\n",
       "      <td>NaN</td>\n",
       "      <td>NaN</td>\n",
       "      <td>NaN</td>\n",
       "      <td>NaN</td>\n",
       "      <td>NaN</td>\n",
       "      <td>NaN</td>\n",
       "      <td>NaN</td>\n",
       "      <td>NaN</td>\n",
       "      <td>NaN</td>\n",
       "      <td>2021-08-30 14:03:26</td>\n",
       "    </tr>\n",
       "    <tr>\n",
       "      <th>149</th>\n",
       "      <td>Remob</td>\n",
       "      <td>Avranches</td>\n",
       "      <td>2021-02-16</td>\n",
       "      <td>2021</td>\n",
       "      <td>2</td>\n",
       "      <td>16</td>\n",
       "      <td>1</td>\n",
       "      <td>2021-1</td>\n",
       "      <td>2021-09-02</td>\n",
       "      <td>2021</td>\n",
       "      <td>...</td>\n",
       "      <td>NaN</td>\n",
       "      <td>NaN</td>\n",
       "      <td>NaN</td>\n",
       "      <td>NaN</td>\n",
       "      <td>NaN</td>\n",
       "      <td>NaN</td>\n",
       "      <td>NaN</td>\n",
       "      <td>Bon déroulement du bilan, à poursuivre. Bonne ...</td>\n",
       "      <td>Valoriser la progression durant l'action.</td>\n",
       "      <td>2021-09-07 09:43:37</td>\n",
       "    </tr>\n",
       "    <tr>\n",
       "      <th>161</th>\n",
       "      <td>DE</td>\n",
       "      <td>Caen</td>\n",
       "      <td>2021-06-14</td>\n",
       "      <td>2021</td>\n",
       "      <td>6</td>\n",
       "      <td>14</td>\n",
       "      <td>1</td>\n",
       "      <td>2021-1</td>\n",
       "      <td>2021-09-30</td>\n",
       "      <td>2021</td>\n",
       "      <td>...</td>\n",
       "      <td>NaN</td>\n",
       "      <td>NaN</td>\n",
       "      <td>NaN</td>\n",
       "      <td>NaN</td>\n",
       "      <td>NaN</td>\n",
       "      <td>NaN</td>\n",
       "      <td>NaN</td>\n",
       "      <td>A refaire, la délocalisation a été très appréc...</td>\n",
       "      <td>moins de sophrologie et pourquoi pas le SST</td>\n",
       "      <td>2021-09-29 13:25:31</td>\n",
       "    </tr>\n",
       "  </tbody>\n",
       "</table>\n",
       "<p>6 rows × 52 columns</p>\n",
       "</div>"
      ],
      "text/plain": [
       "    dispositif                   site      debut  annéeDebut  moisDebut  \\\n",
       "99         PIP               Argentan 2021-01-20        2021          1   \n",
       "108         PH  Autre Lieu Delocalise 2020-12-01        2020         12   \n",
       "127         PS                 Bayeux 2021-05-17        2021          5   \n",
       "145         FA                   Vire 2021-08-30        2021          8   \n",
       "149      Remob              Avranches 2021-02-16        2021          2   \n",
       "161         DE                   Caen 2021-06-14        2021          6   \n",
       "\n",
       "     jourDebut  périodeDebut périodeAnnuelleDebut        fin  annéeFin  ...  \\\n",
       "99          20             1               2021-1 2021-06-15      2021  ...   \n",
       "108          1             2               2020-2 2020-12-01      2020  ...   \n",
       "127         17             1               2021-1 2021-07-16      2021  ...   \n",
       "145         30             2               2021-2 2021-08-30      2021  ...   \n",
       "149         16             1               2021-1 2021-09-02      2021  ...   \n",
       "161         14             1               2021-1 2021-09-30      2021  ...   \n",
       "\n",
       "     ben1  ben2  ben3 ben4 ben5  ben6 ben7  \\\n",
       "99    NaN   NaN   NaN  NaN  NaN   NaN  NaN   \n",
       "108   NaN   NaN   NaN  NaN  NaN   NaN  NaN   \n",
       "127   NaN   NaN   NaN  NaN  NaN   NaN  NaN   \n",
       "145   NaN   NaN   NaN  NaN  NaN   NaN  NaN   \n",
       "149   NaN   NaN   NaN  NaN  NaN   NaN  NaN   \n",
       "161   NaN   NaN   NaN  NaN  NaN   NaN  NaN   \n",
       "\n",
       "                                               comment  \\\n",
       "99    La prestation correspond aux attentes du marché.   \n",
       "108  renouvellement de cette action aupres des 6ème...   \n",
       "127  Accès à l'emploi pour 5p./10 soit 50%  : 2 ACI...   \n",
       "145                                                NaN   \n",
       "149  Bon déroulement du bilan, à poursuivre. Bonne ...   \n",
       "161  A refaire, la délocalisation a été très appréc...   \n",
       "\n",
       "                                           proposition        register_date  \n",
       "99                                                 NaN  2021-06-25 08:58:23  \n",
       "108                                                NaN  2021-06-30 10:32:36  \n",
       "127  Travailler sur la mixité des emplois. Elargir ...  2021-07-16 14:39:02  \n",
       "145                                                NaN  2021-08-30 14:03:26  \n",
       "149          Valoriser la progression durant l'action.  2021-09-07 09:43:37  \n",
       "161        moins de sophrologie et pourquoi pas le SST  2021-09-29 13:25:31  \n",
       "\n",
       "[6 rows x 52 columns]"
      ]
     },
     "execution_count": 55,
     "metadata": {},
     "output_type": "execute_result"
    }
   ],
   "source": [
    "dfFin"
   ]
  },
  {
   "cell_type": "code",
   "execution_count": 56,
   "metadata": {},
   "outputs": [
    {
     "data": {
      "text/plain": [
       "Index(['dispositif', 'site', 'debut', 'annéeDebut', 'moisDebut', 'jourDebut',\n",
       "       'périodeDebut', 'périodeAnnuelleDebut', 'fin', 'annéeFin', 'moisFin',\n",
       "       'jourFin', 'périodeFin', 'périodeAnnuelleFin', 'jour', 'jourChiffres',\n",
       "       'statue', 'branche', 'fin1', 'fin2', 'fin3', 'fin4', 'fin5', 'intType',\n",
       "       'inter1', 'inter2', 'inter3', 'inter4', 'intForDis', 'inter5',\n",
       "       'intRisqS', 'intRisqH', 'intRisqJ', 'intRisqEn', 'intRisqEc',\n",
       "       'preUsager', 'pre1', 'pre2', 'pre3', 'pre4', 'pre5', 'pre6', 'ben1',\n",
       "       'ben2', 'ben3', 'ben4', 'ben5', 'ben6', 'ben7', 'comment',\n",
       "       'proposition', 'register_date'],\n",
       "      dtype='object')"
      ]
     },
     "execution_count": 56,
     "metadata": {},
     "output_type": "execute_result"
    }
   ],
   "source": [
    "df.columns"
   ]
  },
  {
   "cell_type": "code",
   "execution_count": 57,
   "metadata": {},
   "outputs": [],
   "source": [
    "dfFin.drop(columns=['intType',\n",
    "       'inter1', 'inter2', 'inter3', 'inter4', 'intForDis', 'inter5',\n",
    "       'intRisqS', 'intRisqH', 'intRisqJ', 'intRisqEn', 'intRisqEc',\n",
    "       'preUsager', 'pre1', 'pre2', 'pre3', 'pre4', 'pre5', 'pre6', 'ben1',\n",
    "       'ben2', 'ben3', 'ben4', 'ben5', 'ben6', 'ben7'], axis = 1, inplace = True)"
   ]
  },
  {
   "cell_type": "code",
   "execution_count": 58,
   "metadata": {},
   "outputs": [
    {
     "data": {
      "text/html": [
       "<div>\n",
       "<style scoped>\n",
       "    .dataframe tbody tr th:only-of-type {\n",
       "        vertical-align: middle;\n",
       "    }\n",
       "\n",
       "    .dataframe tbody tr th {\n",
       "        vertical-align: top;\n",
       "    }\n",
       "\n",
       "    .dataframe thead th {\n",
       "        text-align: right;\n",
       "    }\n",
       "</style>\n",
       "<table border=\"1\" class=\"dataframe\">\n",
       "  <thead>\n",
       "    <tr style=\"text-align: right;\">\n",
       "      <th></th>\n",
       "      <th>dispositif</th>\n",
       "      <th>site</th>\n",
       "      <th>debut</th>\n",
       "      <th>annéeDebut</th>\n",
       "      <th>moisDebut</th>\n",
       "      <th>jourDebut</th>\n",
       "      <th>périodeDebut</th>\n",
       "      <th>périodeAnnuelleDebut</th>\n",
       "      <th>fin</th>\n",
       "      <th>annéeFin</th>\n",
       "      <th>...</th>\n",
       "      <th>statue</th>\n",
       "      <th>branche</th>\n",
       "      <th>fin1</th>\n",
       "      <th>fin2</th>\n",
       "      <th>fin3</th>\n",
       "      <th>fin4</th>\n",
       "      <th>fin5</th>\n",
       "      <th>comment</th>\n",
       "      <th>proposition</th>\n",
       "      <th>register_date</th>\n",
       "    </tr>\n",
       "  </thead>\n",
       "  <tbody>\n",
       "    <tr>\n",
       "      <th>99</th>\n",
       "      <td>PIP</td>\n",
       "      <td>Argentan</td>\n",
       "      <td>2021-01-20</td>\n",
       "      <td>2021</td>\n",
       "      <td>1</td>\n",
       "      <td>20</td>\n",
       "      <td>1</td>\n",
       "      <td>2021-1</td>\n",
       "      <td>2021-06-15</td>\n",
       "      <td>2021</td>\n",
       "      <td>...</td>\n",
       "      <td>financeur</td>\n",
       "      <td>financeur</td>\n",
       "      <td>Très satisfaisant</td>\n",
       "      <td>Très satisfaisant</td>\n",
       "      <td>Satisfaisant</td>\n",
       "      <td>Satisfaisant</td>\n",
       "      <td>Très satisfaisant</td>\n",
       "      <td>La prestation correspond aux attentes du marché.</td>\n",
       "      <td>NaN</td>\n",
       "      <td>2021-06-25 08:58:23</td>\n",
       "    </tr>\n",
       "    <tr>\n",
       "      <th>108</th>\n",
       "      <td>PH</td>\n",
       "      <td>Autre Lieu Delocalise</td>\n",
       "      <td>2020-12-01</td>\n",
       "      <td>2020</td>\n",
       "      <td>12</td>\n",
       "      <td>1</td>\n",
       "      <td>2</td>\n",
       "      <td>2020-2</td>\n",
       "      <td>2020-12-01</td>\n",
       "      <td>2020</td>\n",
       "      <td>...</td>\n",
       "      <td>financeur</td>\n",
       "      <td>financeur</td>\n",
       "      <td>Très satisfaisant</td>\n",
       "      <td>Très satisfaisant</td>\n",
       "      <td>Très satisfaisant</td>\n",
       "      <td>Très satisfaisant</td>\n",
       "      <td>Très satisfaisant</td>\n",
       "      <td>renouvellement de cette action aupres des 6ème...</td>\n",
       "      <td>NaN</td>\n",
       "      <td>2021-06-30 10:32:36</td>\n",
       "    </tr>\n",
       "    <tr>\n",
       "      <th>127</th>\n",
       "      <td>PS</td>\n",
       "      <td>Bayeux</td>\n",
       "      <td>2021-05-17</td>\n",
       "      <td>2021</td>\n",
       "      <td>5</td>\n",
       "      <td>17</td>\n",
       "      <td>1</td>\n",
       "      <td>2021-1</td>\n",
       "      <td>2021-07-16</td>\n",
       "      <td>2021</td>\n",
       "      <td>...</td>\n",
       "      <td>financeur</td>\n",
       "      <td>financeur</td>\n",
       "      <td>Très satisfaisant</td>\n",
       "      <td>Très satisfaisant</td>\n",
       "      <td>Très satisfaisant</td>\n",
       "      <td>Satisfaisant</td>\n",
       "      <td>Très satisfaisant</td>\n",
       "      <td>Accès à l'emploi pour 5p./10 soit 50%  : 2 ACI...</td>\n",
       "      <td>Travailler sur la mixité des emplois. Elargir ...</td>\n",
       "      <td>2021-07-16 14:39:02</td>\n",
       "    </tr>\n",
       "    <tr>\n",
       "      <th>145</th>\n",
       "      <td>FA</td>\n",
       "      <td>Vire</td>\n",
       "      <td>2021-08-30</td>\n",
       "      <td>2021</td>\n",
       "      <td>8</td>\n",
       "      <td>30</td>\n",
       "      <td>2</td>\n",
       "      <td>2021-2</td>\n",
       "      <td>2021-08-30</td>\n",
       "      <td>2021</td>\n",
       "      <td>...</td>\n",
       "      <td>financeur</td>\n",
       "      <td>financeur</td>\n",
       "      <td>Très satisfaisant</td>\n",
       "      <td>Très satisfaisant</td>\n",
       "      <td>Très satisfaisant</td>\n",
       "      <td>Très satisfaisant</td>\n",
       "      <td>Très satisfaisant</td>\n",
       "      <td>NaN</td>\n",
       "      <td>NaN</td>\n",
       "      <td>2021-08-30 14:03:26</td>\n",
       "    </tr>\n",
       "    <tr>\n",
       "      <th>149</th>\n",
       "      <td>Remob</td>\n",
       "      <td>Avranches</td>\n",
       "      <td>2021-02-16</td>\n",
       "      <td>2021</td>\n",
       "      <td>2</td>\n",
       "      <td>16</td>\n",
       "      <td>1</td>\n",
       "      <td>2021-1</td>\n",
       "      <td>2021-09-02</td>\n",
       "      <td>2021</td>\n",
       "      <td>...</td>\n",
       "      <td>financeur</td>\n",
       "      <td>financeur</td>\n",
       "      <td>on</td>\n",
       "      <td>Satisfaisant</td>\n",
       "      <td>Satisfaisant</td>\n",
       "      <td>Très satisfaisant</td>\n",
       "      <td>Très satisfaisant</td>\n",
       "      <td>Bon déroulement du bilan, à poursuivre. Bonne ...</td>\n",
       "      <td>Valoriser la progression durant l'action.</td>\n",
       "      <td>2021-09-07 09:43:37</td>\n",
       "    </tr>\n",
       "    <tr>\n",
       "      <th>161</th>\n",
       "      <td>DE</td>\n",
       "      <td>Caen</td>\n",
       "      <td>2021-06-14</td>\n",
       "      <td>2021</td>\n",
       "      <td>6</td>\n",
       "      <td>14</td>\n",
       "      <td>1</td>\n",
       "      <td>2021-1</td>\n",
       "      <td>2021-09-30</td>\n",
       "      <td>2021</td>\n",
       "      <td>...</td>\n",
       "      <td>financeur</td>\n",
       "      <td>financeur</td>\n",
       "      <td>Très satisfaisant</td>\n",
       "      <td>Très satisfaisant</td>\n",
       "      <td>Très satisfaisant</td>\n",
       "      <td>Très satisfaisant</td>\n",
       "      <td>Très satisfaisant</td>\n",
       "      <td>A refaire, la délocalisation a été très appréc...</td>\n",
       "      <td>moins de sophrologie et pourquoi pas le SST</td>\n",
       "      <td>2021-09-29 13:25:31</td>\n",
       "    </tr>\n",
       "  </tbody>\n",
       "</table>\n",
       "<p>6 rows × 26 columns</p>\n",
       "</div>"
      ],
      "text/plain": [
       "    dispositif                   site      debut  annéeDebut  moisDebut  \\\n",
       "99         PIP               Argentan 2021-01-20        2021          1   \n",
       "108         PH  Autre Lieu Delocalise 2020-12-01        2020         12   \n",
       "127         PS                 Bayeux 2021-05-17        2021          5   \n",
       "145         FA                   Vire 2021-08-30        2021          8   \n",
       "149      Remob              Avranches 2021-02-16        2021          2   \n",
       "161         DE                   Caen 2021-06-14        2021          6   \n",
       "\n",
       "     jourDebut  périodeDebut périodeAnnuelleDebut        fin  annéeFin  ...  \\\n",
       "99          20             1               2021-1 2021-06-15      2021  ...   \n",
       "108          1             2               2020-2 2020-12-01      2020  ...   \n",
       "127         17             1               2021-1 2021-07-16      2021  ...   \n",
       "145         30             2               2021-2 2021-08-30      2021  ...   \n",
       "149         16             1               2021-1 2021-09-02      2021  ...   \n",
       "161         14             1               2021-1 2021-09-30      2021  ...   \n",
       "\n",
       "        statue    branche               fin1               fin2  \\\n",
       "99   financeur  financeur  Très satisfaisant  Très satisfaisant   \n",
       "108  financeur  financeur  Très satisfaisant  Très satisfaisant   \n",
       "127  financeur  financeur  Très satisfaisant  Très satisfaisant   \n",
       "145  financeur  financeur  Très satisfaisant  Très satisfaisant   \n",
       "149  financeur  financeur                 on       Satisfaisant   \n",
       "161  financeur  financeur  Très satisfaisant  Très satisfaisant   \n",
       "\n",
       "                  fin3               fin4               fin5  \\\n",
       "99        Satisfaisant       Satisfaisant  Très satisfaisant   \n",
       "108  Très satisfaisant  Très satisfaisant  Très satisfaisant   \n",
       "127  Très satisfaisant       Satisfaisant  Très satisfaisant   \n",
       "145  Très satisfaisant  Très satisfaisant  Très satisfaisant   \n",
       "149       Satisfaisant  Très satisfaisant  Très satisfaisant   \n",
       "161  Très satisfaisant  Très satisfaisant  Très satisfaisant   \n",
       "\n",
       "                                               comment  \\\n",
       "99    La prestation correspond aux attentes du marché.   \n",
       "108  renouvellement de cette action aupres des 6ème...   \n",
       "127  Accès à l'emploi pour 5p./10 soit 50%  : 2 ACI...   \n",
       "145                                                NaN   \n",
       "149  Bon déroulement du bilan, à poursuivre. Bonne ...   \n",
       "161  A refaire, la délocalisation a été très appréc...   \n",
       "\n",
       "                                           proposition        register_date  \n",
       "99                                                 NaN  2021-06-25 08:58:23  \n",
       "108                                                NaN  2021-06-30 10:32:36  \n",
       "127  Travailler sur la mixité des emplois. Elargir ...  2021-07-16 14:39:02  \n",
       "145                                                NaN  2021-08-30 14:03:26  \n",
       "149          Valoriser la progression durant l'action.  2021-09-07 09:43:37  \n",
       "161        moins de sophrologie et pourquoi pas le SST  2021-09-29 13:25:31  \n",
       "\n",
       "[6 rows x 26 columns]"
      ]
     },
     "execution_count": 58,
     "metadata": {},
     "output_type": "execute_result"
    }
   ],
   "source": [
    "dfFin"
   ]
  },
  {
   "cell_type": "code",
   "execution_count": 59,
   "metadata": {},
   "outputs": [],
   "source": [
    "dfFin.rename(columns={\"fin1\":\"Disponibilité\", \"fin2\": \"Administratif\", \"fin3\": \"Respect\", \"fin4\":\"Cohérence\", \"fin5\": \"Supports\"}, inplace=True)"
   ]
  },
  {
   "cell_type": "code",
   "execution_count": 60,
   "metadata": {},
   "outputs": [
    {
     "data": {
      "text/html": [
       "<div>\n",
       "<style scoped>\n",
       "    .dataframe tbody tr th:only-of-type {\n",
       "        vertical-align: middle;\n",
       "    }\n",
       "\n",
       "    .dataframe tbody tr th {\n",
       "        vertical-align: top;\n",
       "    }\n",
       "\n",
       "    .dataframe thead th {\n",
       "        text-align: right;\n",
       "    }\n",
       "</style>\n",
       "<table border=\"1\" class=\"dataframe\">\n",
       "  <thead>\n",
       "    <tr style=\"text-align: right;\">\n",
       "      <th></th>\n",
       "      <th>dispositif</th>\n",
       "      <th>site</th>\n",
       "      <th>debut</th>\n",
       "      <th>annéeDebut</th>\n",
       "      <th>moisDebut</th>\n",
       "      <th>jourDebut</th>\n",
       "      <th>périodeDebut</th>\n",
       "      <th>périodeAnnuelleDebut</th>\n",
       "      <th>fin</th>\n",
       "      <th>annéeFin</th>\n",
       "      <th>...</th>\n",
       "      <th>statue</th>\n",
       "      <th>branche</th>\n",
       "      <th>Disponibilité</th>\n",
       "      <th>Administratif</th>\n",
       "      <th>Respect</th>\n",
       "      <th>Cohérence</th>\n",
       "      <th>Supports</th>\n",
       "      <th>comment</th>\n",
       "      <th>proposition</th>\n",
       "      <th>register_date</th>\n",
       "    </tr>\n",
       "  </thead>\n",
       "  <tbody>\n",
       "    <tr>\n",
       "      <th>99</th>\n",
       "      <td>PIP</td>\n",
       "      <td>Argentan</td>\n",
       "      <td>2021-01-20</td>\n",
       "      <td>2021</td>\n",
       "      <td>1</td>\n",
       "      <td>20</td>\n",
       "      <td>1</td>\n",
       "      <td>2021-1</td>\n",
       "      <td>2021-06-15</td>\n",
       "      <td>2021</td>\n",
       "      <td>...</td>\n",
       "      <td>financeur</td>\n",
       "      <td>financeur</td>\n",
       "      <td>Très satisfaisant</td>\n",
       "      <td>Très satisfaisant</td>\n",
       "      <td>Satisfaisant</td>\n",
       "      <td>Satisfaisant</td>\n",
       "      <td>Très satisfaisant</td>\n",
       "      <td>La prestation correspond aux attentes du marché.</td>\n",
       "      <td>NaN</td>\n",
       "      <td>2021-06-25 08:58:23</td>\n",
       "    </tr>\n",
       "    <tr>\n",
       "      <th>108</th>\n",
       "      <td>PH</td>\n",
       "      <td>Autre Lieu Delocalise</td>\n",
       "      <td>2020-12-01</td>\n",
       "      <td>2020</td>\n",
       "      <td>12</td>\n",
       "      <td>1</td>\n",
       "      <td>2</td>\n",
       "      <td>2020-2</td>\n",
       "      <td>2020-12-01</td>\n",
       "      <td>2020</td>\n",
       "      <td>...</td>\n",
       "      <td>financeur</td>\n",
       "      <td>financeur</td>\n",
       "      <td>Très satisfaisant</td>\n",
       "      <td>Très satisfaisant</td>\n",
       "      <td>Très satisfaisant</td>\n",
       "      <td>Très satisfaisant</td>\n",
       "      <td>Très satisfaisant</td>\n",
       "      <td>renouvellement de cette action aupres des 6ème...</td>\n",
       "      <td>NaN</td>\n",
       "      <td>2021-06-30 10:32:36</td>\n",
       "    </tr>\n",
       "    <tr>\n",
       "      <th>127</th>\n",
       "      <td>PS</td>\n",
       "      <td>Bayeux</td>\n",
       "      <td>2021-05-17</td>\n",
       "      <td>2021</td>\n",
       "      <td>5</td>\n",
       "      <td>17</td>\n",
       "      <td>1</td>\n",
       "      <td>2021-1</td>\n",
       "      <td>2021-07-16</td>\n",
       "      <td>2021</td>\n",
       "      <td>...</td>\n",
       "      <td>financeur</td>\n",
       "      <td>financeur</td>\n",
       "      <td>Très satisfaisant</td>\n",
       "      <td>Très satisfaisant</td>\n",
       "      <td>Très satisfaisant</td>\n",
       "      <td>Satisfaisant</td>\n",
       "      <td>Très satisfaisant</td>\n",
       "      <td>Accès à l'emploi pour 5p./10 soit 50%  : 2 ACI...</td>\n",
       "      <td>Travailler sur la mixité des emplois. Elargir ...</td>\n",
       "      <td>2021-07-16 14:39:02</td>\n",
       "    </tr>\n",
       "    <tr>\n",
       "      <th>145</th>\n",
       "      <td>FA</td>\n",
       "      <td>Vire</td>\n",
       "      <td>2021-08-30</td>\n",
       "      <td>2021</td>\n",
       "      <td>8</td>\n",
       "      <td>30</td>\n",
       "      <td>2</td>\n",
       "      <td>2021-2</td>\n",
       "      <td>2021-08-30</td>\n",
       "      <td>2021</td>\n",
       "      <td>...</td>\n",
       "      <td>financeur</td>\n",
       "      <td>financeur</td>\n",
       "      <td>Très satisfaisant</td>\n",
       "      <td>Très satisfaisant</td>\n",
       "      <td>Très satisfaisant</td>\n",
       "      <td>Très satisfaisant</td>\n",
       "      <td>Très satisfaisant</td>\n",
       "      <td>NaN</td>\n",
       "      <td>NaN</td>\n",
       "      <td>2021-08-30 14:03:26</td>\n",
       "    </tr>\n",
       "    <tr>\n",
       "      <th>149</th>\n",
       "      <td>Remob</td>\n",
       "      <td>Avranches</td>\n",
       "      <td>2021-02-16</td>\n",
       "      <td>2021</td>\n",
       "      <td>2</td>\n",
       "      <td>16</td>\n",
       "      <td>1</td>\n",
       "      <td>2021-1</td>\n",
       "      <td>2021-09-02</td>\n",
       "      <td>2021</td>\n",
       "      <td>...</td>\n",
       "      <td>financeur</td>\n",
       "      <td>financeur</td>\n",
       "      <td>on</td>\n",
       "      <td>Satisfaisant</td>\n",
       "      <td>Satisfaisant</td>\n",
       "      <td>Très satisfaisant</td>\n",
       "      <td>Très satisfaisant</td>\n",
       "      <td>Bon déroulement du bilan, à poursuivre. Bonne ...</td>\n",
       "      <td>Valoriser la progression durant l'action.</td>\n",
       "      <td>2021-09-07 09:43:37</td>\n",
       "    </tr>\n",
       "    <tr>\n",
       "      <th>161</th>\n",
       "      <td>DE</td>\n",
       "      <td>Caen</td>\n",
       "      <td>2021-06-14</td>\n",
       "      <td>2021</td>\n",
       "      <td>6</td>\n",
       "      <td>14</td>\n",
       "      <td>1</td>\n",
       "      <td>2021-1</td>\n",
       "      <td>2021-09-30</td>\n",
       "      <td>2021</td>\n",
       "      <td>...</td>\n",
       "      <td>financeur</td>\n",
       "      <td>financeur</td>\n",
       "      <td>Très satisfaisant</td>\n",
       "      <td>Très satisfaisant</td>\n",
       "      <td>Très satisfaisant</td>\n",
       "      <td>Très satisfaisant</td>\n",
       "      <td>Très satisfaisant</td>\n",
       "      <td>A refaire, la délocalisation a été très appréc...</td>\n",
       "      <td>moins de sophrologie et pourquoi pas le SST</td>\n",
       "      <td>2021-09-29 13:25:31</td>\n",
       "    </tr>\n",
       "  </tbody>\n",
       "</table>\n",
       "<p>6 rows × 26 columns</p>\n",
       "</div>"
      ],
      "text/plain": [
       "    dispositif                   site      debut  annéeDebut  moisDebut  \\\n",
       "99         PIP               Argentan 2021-01-20        2021          1   \n",
       "108         PH  Autre Lieu Delocalise 2020-12-01        2020         12   \n",
       "127         PS                 Bayeux 2021-05-17        2021          5   \n",
       "145         FA                   Vire 2021-08-30        2021          8   \n",
       "149      Remob              Avranches 2021-02-16        2021          2   \n",
       "161         DE                   Caen 2021-06-14        2021          6   \n",
       "\n",
       "     jourDebut  périodeDebut périodeAnnuelleDebut        fin  annéeFin  ...  \\\n",
       "99          20             1               2021-1 2021-06-15      2021  ...   \n",
       "108          1             2               2020-2 2020-12-01      2020  ...   \n",
       "127         17             1               2021-1 2021-07-16      2021  ...   \n",
       "145         30             2               2021-2 2021-08-30      2021  ...   \n",
       "149         16             1               2021-1 2021-09-02      2021  ...   \n",
       "161         14             1               2021-1 2021-09-30      2021  ...   \n",
       "\n",
       "        statue    branche      Disponibilité      Administratif  \\\n",
       "99   financeur  financeur  Très satisfaisant  Très satisfaisant   \n",
       "108  financeur  financeur  Très satisfaisant  Très satisfaisant   \n",
       "127  financeur  financeur  Très satisfaisant  Très satisfaisant   \n",
       "145  financeur  financeur  Très satisfaisant  Très satisfaisant   \n",
       "149  financeur  financeur                 on       Satisfaisant   \n",
       "161  financeur  financeur  Très satisfaisant  Très satisfaisant   \n",
       "\n",
       "               Respect          Cohérence           Supports  \\\n",
       "99        Satisfaisant       Satisfaisant  Très satisfaisant   \n",
       "108  Très satisfaisant  Très satisfaisant  Très satisfaisant   \n",
       "127  Très satisfaisant       Satisfaisant  Très satisfaisant   \n",
       "145  Très satisfaisant  Très satisfaisant  Très satisfaisant   \n",
       "149       Satisfaisant  Très satisfaisant  Très satisfaisant   \n",
       "161  Très satisfaisant  Très satisfaisant  Très satisfaisant   \n",
       "\n",
       "                                               comment  \\\n",
       "99    La prestation correspond aux attentes du marché.   \n",
       "108  renouvellement de cette action aupres des 6ème...   \n",
       "127  Accès à l'emploi pour 5p./10 soit 50%  : 2 ACI...   \n",
       "145                                                NaN   \n",
       "149  Bon déroulement du bilan, à poursuivre. Bonne ...   \n",
       "161  A refaire, la délocalisation a été très appréc...   \n",
       "\n",
       "                                           proposition        register_date  \n",
       "99                                                 NaN  2021-06-25 08:58:23  \n",
       "108                                                NaN  2021-06-30 10:32:36  \n",
       "127  Travailler sur la mixité des emplois. Elargir ...  2021-07-16 14:39:02  \n",
       "145                                                NaN  2021-08-30 14:03:26  \n",
       "149          Valoriser la progression durant l'action.  2021-09-07 09:43:37  \n",
       "161        moins de sophrologie et pourquoi pas le SST  2021-09-29 13:25:31  \n",
       "\n",
       "[6 rows x 26 columns]"
      ]
     },
     "execution_count": 60,
     "metadata": {},
     "output_type": "execute_result"
    }
   ],
   "source": [
    "dfFin"
   ]
  },
  {
   "cell_type": "code",
   "execution_count": 61,
   "metadata": {},
   "outputs": [],
   "source": [
    "map_dict_fin = {\"Très satisfaisant\":5, \"Satisfaisant\":4, \"Moyennement satisfaisant\":3, \"Pas satisfaisant\":2, \"Non concerné\":1}"
   ]
  },
  {
   "cell_type": "code",
   "execution_count": 62,
   "metadata": {},
   "outputs": [],
   "source": [
    "dfFin.Disponibilité = dfFin.Disponibilité.map(map_dict_fin)\n",
    "dfFin.Administratif = dfFin.Administratif.map(map_dict_fin)\n",
    "dfFin.Respect = dfFin.Respect.map(map_dict_fin)\n",
    "dfFin.Cohérence = dfFin.Cohérence.map(map_dict_fin)\n",
    "dfFin.Supports = dfFin.Supports.map(map_dict_fin)"
   ]
  },
  {
   "cell_type": "code",
   "execution_count": 63,
   "metadata": {},
   "outputs": [
    {
     "name": "stdout",
     "output_type": "stream",
     "text": [
      "<class 'pandas.core.frame.DataFrame'>\n",
      "Int64Index: 6 entries, 99 to 161\n",
      "Data columns (total 26 columns):\n",
      " #   Column                Non-Null Count  Dtype          \n",
      "---  ------                --------------  -----          \n",
      " 0   dispositif            6 non-null      object         \n",
      " 1   site                  6 non-null      object         \n",
      " 2   debut                 6 non-null      datetime64[ns] \n",
      " 3   annéeDebut            6 non-null      int64          \n",
      " 4   moisDebut             6 non-null      int64          \n",
      " 5   jourDebut             6 non-null      int64          \n",
      " 6   périodeDebut          6 non-null      int32          \n",
      " 7   périodeAnnuelleDebut  6 non-null      object         \n",
      " 8   fin                   6 non-null      datetime64[ns] \n",
      " 9   annéeFin              6 non-null      int64          \n",
      " 10  moisFin               6 non-null      int64          \n",
      " 11  jourFin               6 non-null      int64          \n",
      " 12  périodeFin            6 non-null      int32          \n",
      " 13  périodeAnnuelleFin    6 non-null      object         \n",
      " 14  jour                  6 non-null      timedelta64[ns]\n",
      " 15  jourChiffres          6 non-null      int64          \n",
      " 16  statue                6 non-null      object         \n",
      " 17  branche               6 non-null      object         \n",
      " 18  Disponibilité         5 non-null      float64        \n",
      " 19  Administratif         6 non-null      int64          \n",
      " 20  Respect               6 non-null      int64          \n",
      " 21  Cohérence             6 non-null      int64          \n",
      " 22  Supports              6 non-null      int64          \n",
      " 23  comment               5 non-null      object         \n",
      " 24  proposition           3 non-null      object         \n",
      " 25  register_date         6 non-null      object         \n",
      "dtypes: datetime64[ns](2), float64(1), int32(2), int64(11), object(9), timedelta64[ns](1)\n",
      "memory usage: 1.2+ KB\n"
     ]
    }
   ],
   "source": [
    "dfFin.info()"
   ]
  },
  {
   "cell_type": "markdown",
   "metadata": {},
   "source": [
    "## Gérer les valeurs manquantes "
   ]
  },
  {
   "cell_type": "code",
   "execution_count": 64,
   "metadata": {},
   "outputs": [],
   "source": [
    "dfFin.Disponibilité.fillna(dfFin.Disponibilité.mean(), inplace =True)\n",
    "dfFin.Administratif.fillna(dfFin.Administratif.mean(), inplace =True)\n",
    "dfFin.Respect.fillna(dfFin.Administratif.mean(), inplace =True)\n",
    "dfFin.Cohérence.fillna(dfFin.Administratif.mean(), inplace =True)\n",
    "dfFin.Supports.fillna(dfFin.Administratif.mean(), inplace =True)"
   ]
  },
  {
   "cell_type": "code",
   "execution_count": 65,
   "metadata": {},
   "outputs": [],
   "source": [
    "dfFin[\"Disponibilité\"] = dfFin.Disponibilité.astype(\"int64\")"
   ]
  },
  {
   "cell_type": "markdown",
   "metadata": {},
   "source": [
    "### Les Avarages Pour Financeur"
   ]
  },
  {
   "cell_type": "markdown",
   "metadata": {},
   "source": [
    "#### Question 1: Disponibilité et écoute de votre interlocuteur"
   ]
  },
  {
   "cell_type": "code",
   "execution_count": 66,
   "metadata": {
    "scrolled": true
   },
   "outputs": [
    {
     "name": "stdout",
     "output_type": "stream",
     "text": [
      "Le nombre total de réponses sur Disponibilité est : 5    6\n",
      "Name: Disponibilité, dtype: int64\n",
      "Pourcentage pour Disponibilité est:  5    100.0\n",
      "Name: Disponibilité, dtype: float64\n"
     ]
    },
    {
     "data": {
      "text/plain": [
       "<matplotlib.axes._subplots.AxesSubplot at 0x22c3fc69e48>"
      ]
     },
     "execution_count": 66,
     "metadata": {},
     "output_type": "execute_result"
    },
    {
     "data": {
      "image/png": "[encoded data removed]",
      "text/plain": [
       "<Figure size 432x288 with 1 Axes>"
      ]
     },
     "metadata": {},
     "output_type": "display_data"
    }
   ],
   "source": [
    "print(\"Le nombre total de réponses sur Disponibilité est :\", dfFin[\"Disponibilité\"].value_counts())\n",
    "print(\"Pourcentage pour Disponibilité est: \", round(dfFin[\"Disponibilité\"].value_counts(normalize=True)*100,1))\n",
    "dfFin.Disponibilité.value_counts().plot(kind=\"bar\")"
   ]
  },
  {
   "cell_type": "markdown",
   "metadata": {},
   "source": [
    "#### Question 2: Suivi administratif de la prestation (convention, attestations, facturation…)"
   ]
  },
  {
   "cell_type": "code",
   "execution_count": 67,
   "metadata": {},
   "outputs": [
    {
     "name": "stdout",
     "output_type": "stream",
     "text": [
      "Le nombre total de réponses sur Administratif est : 5    5\n",
      "4    1\n",
      "Name: Administratif, dtype: int64\n",
      "Avarage pour Administratif est:  5    83.3\n",
      "4    16.7\n",
      "Name: Administratif, dtype: float64\n"
     ]
    },
    {
     "data": {
      "text/plain": [
       "<matplotlib.axes._subplots.AxesSubplot at 0x22c3fcc11c8>"
      ]
     },
     "execution_count": 67,
     "metadata": {},
     "output_type": "execute_result"
    },
    {
     "data": {
      "image/png": "[encoded data removed]",
      "text/plain": [
       "<Figure size 432x288 with 1 Axes>"
      ]
     },
     "metadata": {},
     "output_type": "display_data"
    }
   ],
   "source": [
    "print(\"Le nombre total de réponses sur Administratif est :\", dfFin[\"Administratif\"].value_counts())\n",
    "print(\"Avarage pour Administratif est: \", round(dfFin[\"Administratif\"].value_counts(normalize=True)*100,1))\n",
    "dfFin.Administratif.value_counts().plot(kind=\"bar\")"
   ]
  },
  {
   "cell_type": "markdown",
   "metadata": {},
   "source": [
    "#### Question 3: Respect des engagements pris"
   ]
  },
  {
   "cell_type": "code",
   "execution_count": 68,
   "metadata": {},
   "outputs": [
    {
     "name": "stdout",
     "output_type": "stream",
     "text": [
      "Le nombre total de réponses sur Respect est : 5    4\n",
      "4    2\n",
      "Name: Respect, dtype: int64\n",
      "Avarage pour Respect est:  5    66.7\n",
      "4    33.3\n",
      "Name: Respect, dtype: float64\n"
     ]
    },
    {
     "data": {
      "text/plain": [
       "<matplotlib.axes._subplots.AxesSubplot at 0x22c3fe5b588>"
      ]
     },
     "execution_count": 68,
     "metadata": {},
     "output_type": "execute_result"
    },
    {
     "data": {
      "image/png": "[encoded data removed]",
      "text/plain": [
       "<Figure size 432x288 with 1 Axes>"
      ]
     },
     "metadata": {},
     "output_type": "display_data"
    }
   ],
   "source": [
    "print(\"Le nombre total de réponses sur Respect est :\", dfFin[\"Respect\"].value_counts())\n",
    "print(\"Avarage pour Respect est: \", round(dfFin[\"Respect\"].value_counts(normalize=True)*100,1))\n",
    "dfFin.Respect.value_counts().plot(kind=\"bar\")"
   ]
  },
  {
   "cell_type": "markdown",
   "metadata": {},
   "source": [
    "#### Question 4: Cohérence des objectifs et des contenus au regard de vos besoins"
   ]
  },
  {
   "cell_type": "code",
   "execution_count": 69,
   "metadata": {},
   "outputs": [
    {
     "name": "stdout",
     "output_type": "stream",
     "text": [
      "Le nombre total de réponses sur Cohérence est : 5    4\n",
      "4    2\n",
      "Name: Cohérence, dtype: int64\n",
      "Avarage pour Cohérence est:  5    66.7\n",
      "4    33.3\n",
      "Name: Cohérence, dtype: float64\n"
     ]
    },
    {
     "data": {
      "text/plain": [
       "<matplotlib.axes._subplots.AxesSubplot at 0x22c3fee2bc8>"
      ]
     },
     "execution_count": 69,
     "metadata": {},
     "output_type": "execute_result"
    },
    {
     "data": {
      "image/png": "[encoded data removed]",
      "text/plain": [
       "<Figure size 432x288 with 1 Axes>"
      ]
     },
     "metadata": {},
     "output_type": "display_data"
    }
   ],
   "source": [
    "print(\"Le nombre total de réponses sur Cohérence est :\", dfFin[\"Cohérence\"].value_counts())\n",
    "print(\"Avarage pour Cohérence est: \", round(dfFin[\"Cohérence\"].value_counts(normalize=True)*100,1))\n",
    "dfFin.Cohérence.value_counts().plot(kind=\"bar\")"
   ]
  },
  {
   "cell_type": "markdown",
   "metadata": {},
   "source": [
    "#### Question 5: Supports et moyens pédagogiques mis en œuvre au regard de vos attentes"
   ]
  },
  {
   "cell_type": "code",
   "execution_count": 70,
   "metadata": {},
   "outputs": [
    {
     "name": "stdout",
     "output_type": "stream",
     "text": [
      "Le nombre total de réponses sur Supports est : 5    6\n",
      "Name: Supports, dtype: int64\n",
      "Avarage pour Supports est:  5    100.0\n",
      "Name: Supports, dtype: float64\n"
     ]
    },
    {
     "data": {
      "text/plain": [
       "<matplotlib.axes._subplots.AxesSubplot at 0x22c3ff54248>"
      ]
     },
     "execution_count": 70,
     "metadata": {},
     "output_type": "execute_result"
    },
    {
     "data": {
      "image/png": "[encoded data removed]",
      "text/plain": [
       "<Figure size 432x288 with 1 Axes>"
      ]
     },
     "metadata": {},
     "output_type": "display_data"
    }
   ],
   "source": [
    "print(\"Le nombre total de réponses sur Supports est :\", dfFin[\"Supports\"].value_counts())\n",
    "print(\"Avarage pour Supports est: \", round(dfFin[\"Supports\"].value_counts(normalize=True)*100,1))\n",
    "dfFin.Supports.value_counts().plot(kind=\"bar\")"
   ]
  },
  {
   "cell_type": "markdown",
   "metadata": {},
   "source": [
    "## Financeur tout les questions"
   ]
  },
  {
   "cell_type": "code",
   "execution_count": 71,
   "metadata": {},
   "outputs": [
    {
     "data": {
      "text/html": [
       "<div>\n",
       "<style scoped>\n",
       "    .dataframe tbody tr th:only-of-type {\n",
       "        vertical-align: middle;\n",
       "    }\n",
       "\n",
       "    .dataframe tbody tr th {\n",
       "        vertical-align: top;\n",
       "    }\n",
       "\n",
       "    .dataframe thead tr th {\n",
       "        text-align: left;\n",
       "    }\n",
       "\n",
       "    .dataframe thead tr:last-of-type th {\n",
       "        text-align: right;\n",
       "    }\n",
       "</style>\n",
       "<table border=\"1\" class=\"dataframe\">\n",
       "  <thead>\n",
       "    <tr>\n",
       "      <th></th>\n",
       "      <th></th>\n",
       "      <th colspan=\"2\" halign=\"left\">Disponibilité</th>\n",
       "      <th colspan=\"2\" halign=\"left\">Administratif</th>\n",
       "      <th colspan=\"2\" halign=\"left\">Respect</th>\n",
       "      <th colspan=\"2\" halign=\"left\">Cohérence</th>\n",
       "      <th colspan=\"2\" halign=\"left\">Supports</th>\n",
       "    </tr>\n",
       "    <tr>\n",
       "      <th></th>\n",
       "      <th></th>\n",
       "      <th>count</th>\n",
       "      <th>mean</th>\n",
       "      <th>count</th>\n",
       "      <th>mean</th>\n",
       "      <th>count</th>\n",
       "      <th>mean</th>\n",
       "      <th>count</th>\n",
       "      <th>mean</th>\n",
       "      <th>count</th>\n",
       "      <th>mean</th>\n",
       "    </tr>\n",
       "    <tr>\n",
       "      <th>dispositif</th>\n",
       "      <th>site</th>\n",
       "      <th></th>\n",
       "      <th></th>\n",
       "      <th></th>\n",
       "      <th></th>\n",
       "      <th></th>\n",
       "      <th></th>\n",
       "      <th></th>\n",
       "      <th></th>\n",
       "      <th></th>\n",
       "      <th></th>\n",
       "    </tr>\n",
       "  </thead>\n",
       "  <tbody>\n",
       "    <tr>\n",
       "      <th>DE</th>\n",
       "      <th>Caen</th>\n",
       "      <td>1</td>\n",
       "      <td>5</td>\n",
       "      <td>1</td>\n",
       "      <td>5</td>\n",
       "      <td>1</td>\n",
       "      <td>5</td>\n",
       "      <td>1</td>\n",
       "      <td>5</td>\n",
       "      <td>1</td>\n",
       "      <td>5</td>\n",
       "    </tr>\n",
       "    <tr>\n",
       "      <th>FA</th>\n",
       "      <th>Vire</th>\n",
       "      <td>1</td>\n",
       "      <td>5</td>\n",
       "      <td>1</td>\n",
       "      <td>5</td>\n",
       "      <td>1</td>\n",
       "      <td>5</td>\n",
       "      <td>1</td>\n",
       "      <td>5</td>\n",
       "      <td>1</td>\n",
       "      <td>5</td>\n",
       "    </tr>\n",
       "    <tr>\n",
       "      <th>PH</th>\n",
       "      <th>Autre Lieu Delocalise</th>\n",
       "      <td>1</td>\n",
       "      <td>5</td>\n",
       "      <td>1</td>\n",
       "      <td>5</td>\n",
       "      <td>1</td>\n",
       "      <td>5</td>\n",
       "      <td>1</td>\n",
       "      <td>5</td>\n",
       "      <td>1</td>\n",
       "      <td>5</td>\n",
       "    </tr>\n",
       "    <tr>\n",
       "      <th>PIP</th>\n",
       "      <th>Argentan</th>\n",
       "      <td>1</td>\n",
       "      <td>5</td>\n",
       "      <td>1</td>\n",
       "      <td>5</td>\n",
       "      <td>1</td>\n",
       "      <td>4</td>\n",
       "      <td>1</td>\n",
       "      <td>4</td>\n",
       "      <td>1</td>\n",
       "      <td>5</td>\n",
       "    </tr>\n",
       "    <tr>\n",
       "      <th>PS</th>\n",
       "      <th>Bayeux</th>\n",
       "      <td>1</td>\n",
       "      <td>5</td>\n",
       "      <td>1</td>\n",
       "      <td>5</td>\n",
       "      <td>1</td>\n",
       "      <td>5</td>\n",
       "      <td>1</td>\n",
       "      <td>4</td>\n",
       "      <td>1</td>\n",
       "      <td>5</td>\n",
       "    </tr>\n",
       "    <tr>\n",
       "      <th>Remob</th>\n",
       "      <th>Avranches</th>\n",
       "      <td>1</td>\n",
       "      <td>5</td>\n",
       "      <td>1</td>\n",
       "      <td>4</td>\n",
       "      <td>1</td>\n",
       "      <td>4</td>\n",
       "      <td>1</td>\n",
       "      <td>5</td>\n",
       "      <td>1</td>\n",
       "      <td>5</td>\n",
       "    </tr>\n",
       "  </tbody>\n",
       "</table>\n",
       "</div>"
      ],
      "text/plain": [
       "                                 Disponibilité      Administratif       \\\n",
       "                                         count mean         count mean   \n",
       "dispositif site                                                          \n",
       "DE         Caen                              1    5             1    5   \n",
       "FA         Vire                              1    5             1    5   \n",
       "PH         Autre Lieu Delocalise             1    5             1    5   \n",
       "PIP        Argentan                          1    5             1    5   \n",
       "PS         Bayeux                            1    5             1    5   \n",
       "Remob      Avranches                         1    5             1    4   \n",
       "\n",
       "                                 Respect      Cohérence      Supports       \n",
       "                                   count mean     count mean    count mean  \n",
       "dispositif site                                                             \n",
       "DE         Caen                        1    5         1    5        1    5  \n",
       "FA         Vire                        1    5         1    5        1    5  \n",
       "PH         Autre Lieu Delocalise       1    5         1    5        1    5  \n",
       "PIP        Argentan                    1    4         1    4        1    5  \n",
       "PS         Bayeux                      1    5         1    4        1    5  \n",
       "Remob      Avranches                   1    4         1    5        1    5  "
      ]
     },
     "execution_count": 71,
     "metadata": {},
     "output_type": "execute_result"
    }
   ],
   "source": [
    "dfFin.groupby([\"dispositif\", \"site\"])[\"Disponibilité\",\"Administratif\", \"Respect\", \"Cohérence\", \"Supports\"].agg([\"count\", \"mean\"])"
   ]
  },
  {
   "cell_type": "code",
   "execution_count": 110,
   "metadata": {},
   "outputs": [
    {
     "name": "stdout",
     "output_type": "stream",
     "text": [
      "5    1.0\n",
      "Name: Disponibilité, dtype: float64\n",
      "5    0.8\n",
      "4    0.2\n",
      "Name: Administratif, dtype: float64\n",
      "5    0.7\n",
      "4    0.3\n",
      "Name: Respect, dtype: float64\n",
      "5    0.7\n",
      "4    0.3\n",
      "Name: Cohérence, dtype: float64\n",
      "5    1.0\n",
      "Name: Supports, dtype: float64\n"
     ]
    }
   ],
   "source": [
    "print(round(dfFin[\"Disponibilité\"].value_counts(normalize=True),1))\n",
    "print(round(dfFin[\"Administratif\"].value_counts(normalize=True),1))\n",
    "print(round(dfFin[\"Respect\"].value_counts(normalize=True),1))\n",
    "print(round(dfFin[\"Cohérence\"].value_counts(normalize=True),1))\n",
    "print(round(dfFin[\"Supports\"].value_counts(normalize=True),1))"
   ]
  },
  {
   "cell_type": "code",
   "execution_count": 111,
   "metadata": {},
   "outputs": [
    {
     "name": "stdout",
     "output_type": "stream",
     "text": [
      "Avarage pour Disponibilité est:  5.0\n",
      "Avarage pour Administratif est:  4.8\n",
      "Avarage pour Respect est:  4.7\n",
      "Avarage pour Cohérence est:  4.7\n",
      "Avarage pour Supports est:  5.0\n"
     ]
    }
   ],
   "source": [
    "print(\"Avarage pour Disponibilité est: \", round(dfFin.Disponibilité.mean(), 1))\n",
    "print(\"Avarage pour Administratif est: \", round(dfFin.Administratif.mean(), 1))\n",
    "print(\"Avarage pour Respect est: \", round(dfFin.Respect.mean(),1))\n",
    "print(\"Avarage pour Cohérence est: \", round(dfFin.Cohérence.mean(), 1))\n",
    "print(\"Avarage pour Supports est: \", round(dfFin.Supports.mean(), 1))"
   ]
  },
  {
   "cell_type": "code",
   "execution_count": 112,
   "metadata": {},
   "outputs": [
    {
     "name": "stdout",
     "output_type": "stream",
     "text": [
      "5    5\n",
      "4    1\n",
      "Name: Administratif, dtype: int64\n",
      "5    4\n",
      "4    2\n",
      "Name: Respect, dtype: int64\n",
      "5    4\n",
      "4    2\n",
      "Name: Cohérence, dtype: int64\n",
      "5    6\n",
      "Name: Supports, dtype: int64\n"
     ]
    }
   ],
   "source": [
    "print(dfFin[\"Administratif\"].value_counts())\n",
    "print(dfFin[\"Respect\"].value_counts())\n",
    "print(dfFin[\"Cohérence\"].value_counts())\n",
    "print(dfFin[\"Supports\"].value_counts())"
   ]
  },
  {
   "cell_type": "code",
   "execution_count": 26,
   "metadata": {},
   "outputs": [
    {
     "data": {
      "text/plain": [
       "<matplotlib.axes._subplots.AxesSubplot at 0x2a1a129e348>"
      ]
     },
     "execution_count": 26,
     "metadata": {},
     "output_type": "execute_result"
    },
    {
     "data": {
      "image/png": "[encoded data removed]",
      "text/plain": [
       "<Figure size 432x288 with 1 Axes>"
      ]
     },
     "metadata": {},
     "output_type": "display_data"
    }
   ],
   "source": [
    "dfFin.plot.bar()"
   ]
  },
  {
   "cell_type": "code",
   "execution_count": null,
   "metadata": {},
   "outputs": [],
   "source": []
  },
  {
   "cell_type": "markdown",
   "metadata": {},
   "source": [
    "# Analysis de Questionnaire de Intervenant-e"
   ]
  },
  {
   "cell_type": "code",
   "execution_count": 75,
   "metadata": {},
   "outputs": [
    {
     "data": {
      "text/plain": [
       "beneficiaire     97\n",
       "intervenant-e    42\n",
       "prescripteur     17\n",
       "financeur         6\n",
       "Name: statue, dtype: int64"
      ]
     },
     "execution_count": 75,
     "metadata": {},
     "output_type": "execute_result"
    }
   ],
   "source": [
    "df.statue.value_counts()"
   ]
  },
  {
   "cell_type": "code",
   "execution_count": 77,
   "metadata": {},
   "outputs": [],
   "source": [
    "dfInt = df[df.statue ==\"intervenant-e\"]"
   ]
  },
  {
   "cell_type": "code",
   "execution_count": 79,
   "metadata": {},
   "outputs": [],
   "source": [
    "dfInt.drop(columns=['fin1', 'fin2', 'fin3', 'fin4', 'fin5',\n",
    "           'preUsager', 'pre1', 'pre2', 'pre3', 'pre4', 'pre5', 'pre6', 'ben1',\n",
    "       'ben2', 'ben3', 'ben4', 'ben5', 'ben6', 'ben7'], axis=1, inplace=True)"
   ]
  },
  {
   "cell_type": "code",
   "execution_count": 82,
   "metadata": {},
   "outputs": [
    {
     "data": {
      "text/plain": [
       "Index(['dispositif', 'site', 'debut', 'annéeDebut', 'moisDebut', 'jourDebut',\n",
       "       'périodeDebut', 'périodeAnnuelleDebut', 'fin', 'annéeFin', 'moisFin',\n",
       "       'jourFin', 'périodeFin', 'périodeAnnuelleFin', 'jour', 'jourChiffres',\n",
       "       'statue', 'branche', 'intType', 'inter1', 'inter2', 'inter3', 'inter4',\n",
       "       'intForDis', 'inter5', 'intRisqS', 'intRisqH', 'intRisqJ', 'intRisqEn',\n",
       "       'intRisqEc', 'comment', 'proposition', 'register_date'],\n",
       "      dtype='object')"
      ]
     },
     "execution_count": 82,
     "metadata": {},
     "output_type": "execute_result"
    }
   ],
   "source": [
    "dfInt.columns"
   ]
  },
  {
   "cell_type": "code",
   "execution_count": null,
   "metadata": {},
   "outputs": [],
   "source": [
    "dfInt.rename(columns={'intType': \"Type\", \"inter1\":\"Disponibilité\", \"inter2\": \"Administratif\", \"inter3\": \"Respect\", \n",
    "                      \"inter4\":\"Cohérence\", \"intForDis\": \"Formation Distance\", \"inter5\": \"\", \"intRisqS\":\"Risque Social\",\n",
    "                      \"intRisqH\":\"\" ,\"intRisqJ\":\"\",\"intRisqEn\": \"\",\"intRisqEc\":\"\"}, inplace=True)"
   ]
  },
  {
   "cell_type": "code",
   "execution_count": null,
   "metadata": {},
   "outputs": [],
   "source": []
  },
  {
   "cell_type": "code",
   "execution_count": null,
   "metadata": {},
   "outputs": [],
   "source": []
  },
  {
   "cell_type": "code",
   "execution_count": null,
   "metadata": {},
   "outputs": [],
   "source": []
  },
  {
   "cell_type": "code",
   "execution_count": null,
   "metadata": {},
   "outputs": [],
   "source": []
  },
  {
   "cell_type": "code",
   "execution_count": null,
   "metadata": {},
   "outputs": [],
   "source": []
  },
  {
   "cell_type": "code",
   "execution_count": 350,
   "metadata": {},
   "outputs": [],
   "source": [
    "import pickle"
   ]
  },
  {
   "cell_type": "code",
   "execution_count": 352,
   "metadata": {},
   "outputs": [],
   "source": [
    "df.to_pickle(\"etapData.pkl\")"
   ]
  },
  {
   "cell_type": "code",
   "execution_count": 353,
   "metadata": {},
   "outputs": [],
   "source": [
    "output = pd.read_pickle(\"etapData.pkl\")"
   ]
  },
  {
   "cell_type": "code",
   "execution_count": null,
   "metadata": {},
   "outputs": [],
   "source": []
  }
 ],
 "metadata": {
  "kernelspec": {
   "display_name": "Python 3",
   "language": "python",
   "name": "python3"
  },
  "language_info": {
   "codemirror_mode": {
    "name": "ipython",
    "version": 3
   },
   "file_extension": ".py",
   "mimetype": "text/x-python",
   "name": "python",
   "nbconvert_exporter": "python",
   "pygments_lexer": "ipython3",
   "version": "3.7.6"
  }
 },
 "nbformat": 4,
 "nbformat_minor": 4
}
