{
 "cells": [
  {
   "cell_type": "code",
   "execution_count": 1,
   "metadata": {},
   "outputs": [],
   "source": [
    "import pandas as pd\n",
    "import numpy as np\n",
    "import datetime\n",
    "import matplotlib.pyplot as plt\n",
    "import seaborn as sns\n",
    "sns.set_style(\"whitegrid\")\n",
    "import warnings\n",
    "warnings.filterwarnings(\"ignore\")"
   ]
  },
  {
   "cell_type": "code",
   "execution_count": 17,
   "metadata": {},
   "outputs": [],
   "source": [
    "df = pd.read_excel(\"D:/github/Etape/toutReponse.xlsx\")"
   ]
  },
  {
   "cell_type": "code",
   "execution_count": 18,
   "metadata": {},
   "outputs": [],
   "source": [
    "df = df.drop(\"id\", axis =1)"
   ]
  },
  {
   "cell_type": "code",
   "execution_count": 19,
   "metadata": {},
   "outputs": [
    {
     "data": {
      "text/html": [
       "<div>\n",
       "<style scoped>\n",
       "    .dataframe tbody tr th:only-of-type {\n",
       "        vertical-align: middle;\n",
       "    }\n",
       "\n",
       "    .dataframe tbody tr th {\n",
       "        vertical-align: top;\n",
       "    }\n",
       "\n",
       "    .dataframe thead th {\n",
       "        text-align: right;\n",
       "    }\n",
       "</style>\n",
       "<table border=\"1\" class=\"dataframe\">\n",
       "  <thead>\n",
       "    <tr style=\"text-align: right;\">\n",
       "      <th></th>\n",
       "      <th>dispositif</th>\n",
       "      <th>site</th>\n",
       "      <th>debut</th>\n",
       "      <th>fin</th>\n",
       "      <th>statue</th>\n",
       "      <th>branche</th>\n",
       "      <th>fin1</th>\n",
       "      <th>fin2</th>\n",
       "      <th>fin3</th>\n",
       "      <th>fin4</th>\n",
       "      <th>...</th>\n",
       "      <th>ben1</th>\n",
       "      <th>ben2</th>\n",
       "      <th>ben3</th>\n",
       "      <th>ben4</th>\n",
       "      <th>ben5</th>\n",
       "      <th>ben6</th>\n",
       "      <th>ben7</th>\n",
       "      <th>comment</th>\n",
       "      <th>proposition</th>\n",
       "      <th>register_date</th>\n",
       "    </tr>\n",
       "  </thead>\n",
       "  <tbody>\n",
       "    <tr>\n",
       "      <th>0</th>\n",
       "      <td>Bilan de competences</td>\n",
       "      <td>Avranches</td>\n",
       "      <td>2021-02-03</td>\n",
       "      <td>2021-06-04</td>\n",
       "      <td>beneficiaire</td>\n",
       "      <td>beneficiaire</td>\n",
       "      <td>NaN</td>\n",
       "      <td>NaN</td>\n",
       "      <td>NaN</td>\n",
       "      <td>NaN</td>\n",
       "      <td>...</td>\n",
       "      <td>Très satisfaisant</td>\n",
       "      <td>Très satisfaisant</td>\n",
       "      <td>Très satisfaisant</td>\n",
       "      <td>Très satisfaisant</td>\n",
       "      <td>Peu satisfaisant</td>\n",
       "      <td>Très satisfaisant</td>\n",
       "      <td>NaN</td>\n",
       "      <td>Apprécié les moyens mit à dispositions même si...</td>\n",
       "      <td>Test plus précis a fin de cibler davantage 2 v...</td>\n",
       "      <td>2021-06-22 12:05:16</td>\n",
       "    </tr>\n",
       "    <tr>\n",
       "      <th>1</th>\n",
       "      <td>Bilan de competences</td>\n",
       "      <td>Vire</td>\n",
       "      <td>2021-02-23</td>\n",
       "      <td>2021-06-08</td>\n",
       "      <td>prescripteur</td>\n",
       "      <td>prescripteur</td>\n",
       "      <td>NaN</td>\n",
       "      <td>NaN</td>\n",
       "      <td>NaN</td>\n",
       "      <td>NaN</td>\n",
       "      <td>...</td>\n",
       "      <td>NaN</td>\n",
       "      <td>NaN</td>\n",
       "      <td>NaN</td>\n",
       "      <td>NaN</td>\n",
       "      <td>NaN</td>\n",
       "      <td>NaN</td>\n",
       "      <td>NaN</td>\n",
       "      <td>J'ai été ravie de la prise en charge de mon bi...</td>\n",
       "      <td>NaN</td>\n",
       "      <td>2021-06-22 12:18:15</td>\n",
       "    </tr>\n",
       "    <tr>\n",
       "      <th>2</th>\n",
       "      <td>Bilan de competences</td>\n",
       "      <td>Vire</td>\n",
       "      <td>2021-02-23</td>\n",
       "      <td>2021-06-08</td>\n",
       "      <td>beneficiaire</td>\n",
       "      <td>beneficiaire</td>\n",
       "      <td>NaN</td>\n",
       "      <td>NaN</td>\n",
       "      <td>NaN</td>\n",
       "      <td>NaN</td>\n",
       "      <td>...</td>\n",
       "      <td>Très satisfaisant</td>\n",
       "      <td>Très satisfaisant</td>\n",
       "      <td>Très satisfaisant</td>\n",
       "      <td>Très satisfaisant</td>\n",
       "      <td>Très satisfaisant</td>\n",
       "      <td>Très satisfaisant</td>\n",
       "      <td>Très satisfaisant</td>\n",
       "      <td>NaN</td>\n",
       "      <td>NaN</td>\n",
       "      <td>2021-06-22 12:20:08</td>\n",
       "    </tr>\n",
       "    <tr>\n",
       "      <th>3</th>\n",
       "      <td>Bilan de competences</td>\n",
       "      <td>Vire</td>\n",
       "      <td>2021-02-23</td>\n",
       "      <td>2021-06-08</td>\n",
       "      <td>intervenant-e</td>\n",
       "      <td>intervenant-e</td>\n",
       "      <td>NaN</td>\n",
       "      <td>NaN</td>\n",
       "      <td>NaN</td>\n",
       "      <td>NaN</td>\n",
       "      <td>...</td>\n",
       "      <td>NaN</td>\n",
       "      <td>NaN</td>\n",
       "      <td>NaN</td>\n",
       "      <td>NaN</td>\n",
       "      <td>NaN</td>\n",
       "      <td>NaN</td>\n",
       "      <td>NaN</td>\n",
       "      <td>NaN</td>\n",
       "      <td>NaN</td>\n",
       "      <td>2021-06-22 12:21:35</td>\n",
       "    </tr>\n",
       "    <tr>\n",
       "      <th>4</th>\n",
       "      <td>Bilan de competences</td>\n",
       "      <td>Vire</td>\n",
       "      <td>2021-01-08</td>\n",
       "      <td>0021-05-03</td>\n",
       "      <td>prescripteur</td>\n",
       "      <td>prescripteur</td>\n",
       "      <td>NaN</td>\n",
       "      <td>NaN</td>\n",
       "      <td>NaN</td>\n",
       "      <td>NaN</td>\n",
       "      <td>...</td>\n",
       "      <td>NaN</td>\n",
       "      <td>NaN</td>\n",
       "      <td>NaN</td>\n",
       "      <td>NaN</td>\n",
       "      <td>NaN</td>\n",
       "      <td>NaN</td>\n",
       "      <td>NaN</td>\n",
       "      <td>Aucun</td>\n",
       "      <td>NaN</td>\n",
       "      <td>2021-06-22 12:23:50</td>\n",
       "    </tr>\n",
       "  </tbody>\n",
       "</table>\n",
       "<p>5 rows × 40 columns</p>\n",
       "</div>"
      ],
      "text/plain": [
       "             dispositif       site       debut         fin         statue  \\\n",
       "0  Bilan de competences  Avranches  2021-02-03  2021-06-04   beneficiaire   \n",
       "1  Bilan de competences       Vire  2021-02-23  2021-06-08   prescripteur   \n",
       "2  Bilan de competences       Vire  2021-02-23  2021-06-08   beneficiaire   \n",
       "3  Bilan de competences       Vire  2021-02-23  2021-06-08  intervenant-e   \n",
       "4  Bilan de competences       Vire  2021-01-08  0021-05-03   prescripteur   \n",
       "\n",
       "         branche fin1 fin2 fin3 fin4  ...               ben1  \\\n",
       "0   beneficiaire  NaN  NaN  NaN  NaN  ...  Très satisfaisant   \n",
       "1   prescripteur  NaN  NaN  NaN  NaN  ...                NaN   \n",
       "2   beneficiaire  NaN  NaN  NaN  NaN  ...  Très satisfaisant   \n",
       "3  intervenant-e  NaN  NaN  NaN  NaN  ...                NaN   \n",
       "4   prescripteur  NaN  NaN  NaN  NaN  ...                NaN   \n",
       "\n",
       "                ben2               ben3               ben4               ben5  \\\n",
       "0  Très satisfaisant  Très satisfaisant  Très satisfaisant   Peu satisfaisant   \n",
       "1                NaN                NaN                NaN                NaN   \n",
       "2  Très satisfaisant  Très satisfaisant  Très satisfaisant  Très satisfaisant   \n",
       "3                NaN                NaN                NaN                NaN   \n",
       "4                NaN                NaN                NaN                NaN   \n",
       "\n",
       "                ben6               ben7  \\\n",
       "0  Très satisfaisant                NaN   \n",
       "1                NaN                NaN   \n",
       "2  Très satisfaisant  Très satisfaisant   \n",
       "3                NaN                NaN   \n",
       "4                NaN                NaN   \n",
       "\n",
       "                                             comment  \\\n",
       "0  Apprécié les moyens mit à dispositions même si...   \n",
       "1  J'ai été ravie de la prise en charge de mon bi...   \n",
       "2                                                NaN   \n",
       "3                                                NaN   \n",
       "4                                              Aucun   \n",
       "\n",
       "                                         proposition        register_date  \n",
       "0  Test plus précis a fin de cibler davantage 2 v...  2021-06-22 12:05:16  \n",
       "1                                                NaN  2021-06-22 12:18:15  \n",
       "2                                                NaN  2021-06-22 12:20:08  \n",
       "3                                                NaN  2021-06-22 12:21:35  \n",
       "4                                                NaN  2021-06-22 12:23:50  \n",
       "\n",
       "[5 rows x 40 columns]"
      ]
     },
     "execution_count": 19,
     "metadata": {},
     "output_type": "execute_result"
    }
   ],
   "source": [
    "df.head()"
   ]
  },
  {
   "cell_type": "code",
   "execution_count": 20,
   "metadata": {},
   "outputs": [
    {
     "data": {
      "text/plain": [
       "Bilan de competences                         60\n",
       "Primo insertion sociale                      37\n",
       "Prestations specifiques                      28\n",
       "Primo insertion professionnelle              28\n",
       "Remobilisation                               13\n",
       "Garantie Departementale d'Activite (GAD)     12\n",
       "La dynimique de l'emploi                     11\n",
       "Formation des acteurs                        10\n",
       "Actions courtes type 'marchons pour ... '     3\n",
       "Interventions scolaires et universitaires     2\n",
       "Présentation du Harcelement                   2\n",
       "Name: dispositif, dtype: int64"
      ]
     },
     "execution_count": 20,
     "metadata": {},
     "output_type": "execute_result"
    }
   ],
   "source": [
    "df.dispositif.value_counts()"
   ]
  },
  {
   "cell_type": "markdown",
   "metadata": {},
   "source": [
    "### remplacement de La dynimique de l'emploi en Prestations specifiques"
   ]
  },
  {
   "cell_type": "code",
   "execution_count": 22,
   "metadata": {},
   "outputs": [
    {
     "data": {
      "text/plain": [
       "Bilan de competences                         60\n",
       "Prestations specifiques                      39\n",
       "Primo insertion sociale                      37\n",
       "Primo insertion professionnelle              28\n",
       "Remobilisation                               13\n",
       "Garantie Departementale d'Activite (GAD)     12\n",
       "Formation des acteurs                        10\n",
       "Actions courtes type 'marchons pour ... '     3\n",
       "Interventions scolaires et universitaires     2\n",
       "Présentation du Harcelement                   2\n",
       "Name: dispositif, dtype: int64"
      ]
     },
     "execution_count": 22,
     "metadata": {},
     "output_type": "execute_result"
    }
   ],
   "source": [
    "df.dispositif.replace(\"La dynimique de l'emploi\", \"Prestations specifiques\", inplace = True)\n",
    "df.dispositif.value_counts()"
   ]
  },
  {
   "cell_type": "code",
   "execution_count": 23,
   "metadata": {},
   "outputs": [
    {
     "name": "stdout",
     "output_type": "stream",
     "text": [
      "<class 'pandas.core.frame.DataFrame'>\n",
      "RangeIndex: 209 entries, 0 to 208\n",
      "Data columns (total 40 columns):\n",
      " #   Column         Non-Null Count  Dtype \n",
      "---  ------         --------------  ----- \n",
      " 0   dispositif     206 non-null    object\n",
      " 1   site           199 non-null    object\n",
      " 2   debut          206 non-null    object\n",
      " 3   fin            207 non-null    object\n",
      " 4   statue         209 non-null    object\n",
      " 5   branche        209 non-null    object\n",
      " 6   fin1           8 non-null      object\n",
      " 7   fin2           8 non-null      object\n",
      " 8   fin3           8 non-null      object\n",
      " 9   fin4           9 non-null      object\n",
      " 10  fin5           9 non-null      object\n",
      " 11  intType        53 non-null     object\n",
      " 12  inter1         54 non-null     object\n",
      " 13  inter2         52 non-null     object\n",
      " 14  inter3         53 non-null     object\n",
      " 15  inter4         51 non-null     object\n",
      " 16  intForDis      53 non-null     object\n",
      " 17  inter5         18 non-null     object\n",
      " 18  intRisqS       53 non-null     object\n",
      " 19  intRisqH       37 non-null     object\n",
      " 20  intRisqJ       36 non-null     object\n",
      " 21  intRisqEn      37 non-null     object\n",
      " 22  intRisqEc      37 non-null     object\n",
      " 23  preUsager      24 non-null     object\n",
      " 24  pre1           25 non-null     object\n",
      " 25  pre2           25 non-null     object\n",
      " 26  pre3           25 non-null     object\n",
      " 27  pre4           25 non-null     object\n",
      " 28  pre5           25 non-null     object\n",
      " 29  pre6           25 non-null     object\n",
      " 30  ben1           124 non-null    object\n",
      " 31  ben2           124 non-null    object\n",
      " 32  ben3           124 non-null    object\n",
      " 33  ben4           125 non-null    object\n",
      " 34  ben5           124 non-null    object\n",
      " 35  ben6           122 non-null    object\n",
      " 36  ben7           41 non-null     object\n",
      " 37  comment        86 non-null     object\n",
      " 38  proposition    33 non-null     object\n",
      " 39  register_date  209 non-null    object\n",
      "dtypes: object(40)\n",
      "memory usage: 65.4+ KB\n"
     ]
    }
   ],
   "source": [
    "df.info()"
   ]
  },
  {
   "cell_type": "markdown",
   "metadata": {},
   "source": [
    "### Raccourcissement du nom de disposition."
   ]
  },
  {
   "cell_type": "code",
   "execution_count": 24,
   "metadata": {},
   "outputs": [],
   "source": [
    "map_dict = {\"Remobilisation\" : \"Remob\", \"Garantie Departementale d'Activite (GAD)\" : \"GDA\", \n",
    "            \"Primo insertion sociale\":\"PIS\", \"Primo insertion professionnelle\":\"PIP\", \n",
    "            \"Actions courtes type 'marchons pour ... '\":\"AC\", \"Formation civique OFII\":\"FCO\", \n",
    "            \"Jardins partages\": \"JP\", \"#avenir\":\"#avenir\", \"Accompagnement a la preparation de la VAE\":\"APV\", \n",
    "            \"Bilan de competences\":\"BC\",\"Reseau de soutien et de recherche d'emploi\":\"RSRE\", \n",
    "            \"Prestations specifiques\":\"PS\", \"Accompagnement des porteurs de projets\":\"APP\", \n",
    "            \"Formation des acteurs\":\"FA\", \"Interventions dans les centres de formation\":\"ICF\", \n",
    "            \"Interventions scolaires et universitaires\":\"ISU\", \"La dynimique de l'emploi\":\"DE\", \n",
    "            \"Présentation du Harcelement\":\"PH\"}\n",
    "df.dispositif = df.dispositif.map(map_dict)"
   ]
  },
  {
   "cell_type": "markdown",
   "metadata": {},
   "source": [
    "## Gérer les valeurs manquantes et mauvais"
   ]
  },
  {
   "cell_type": "code",
   "execution_count": 25,
   "metadata": {},
   "outputs": [
    {
     "data": {
      "text/plain": [
       "dispositif     3\n",
       "site          10\n",
       "debut          3\n",
       "fin            2\n",
       "statue         0\n",
       "branche        0\n",
       "dtype: int64"
      ]
     },
     "execution_count": 25,
     "metadata": {},
     "output_type": "execute_result"
    }
   ],
   "source": [
    "df.isnull().sum()[0:6]\n",
    "# pd.isnull(df).sum()\n",
    "# df.dropna(inplace=True)\n",
    "# sns.heatmap(df.isnull(), yticklabels=False, cbar=False, cmap=\"viridis\")\n",
    "#df.isnull().sum().sum()"
   ]
  },
  {
   "cell_type": "markdown",
   "metadata": {},
   "source": [
    "### Dispositif"
   ]
  },
  {
   "cell_type": "code",
   "execution_count": 26,
   "metadata": {},
   "outputs": [
    {
     "data": {
      "text/html": [
       "<div>\n",
       "<style scoped>\n",
       "    .dataframe tbody tr th:only-of-type {\n",
       "        vertical-align: middle;\n",
       "    }\n",
       "\n",
       "    .dataframe tbody tr th {\n",
       "        vertical-align: top;\n",
       "    }\n",
       "\n",
       "    .dataframe thead th {\n",
       "        text-align: right;\n",
       "    }\n",
       "</style>\n",
       "<table border=\"1\" class=\"dataframe\">\n",
       "  <thead>\n",
       "    <tr style=\"text-align: right;\">\n",
       "      <th></th>\n",
       "      <th>dispositif</th>\n",
       "      <th>site</th>\n",
       "      <th>debut</th>\n",
       "      <th>fin</th>\n",
       "      <th>statue</th>\n",
       "      <th>branche</th>\n",
       "      <th>fin1</th>\n",
       "      <th>fin2</th>\n",
       "      <th>fin3</th>\n",
       "      <th>fin4</th>\n",
       "      <th>...</th>\n",
       "      <th>ben1</th>\n",
       "      <th>ben2</th>\n",
       "      <th>ben3</th>\n",
       "      <th>ben4</th>\n",
       "      <th>ben5</th>\n",
       "      <th>ben6</th>\n",
       "      <th>ben7</th>\n",
       "      <th>comment</th>\n",
       "      <th>proposition</th>\n",
       "      <th>register_date</th>\n",
       "    </tr>\n",
       "  </thead>\n",
       "  <tbody>\n",
       "    <tr>\n",
       "      <th>7</th>\n",
       "      <td>NaN</td>\n",
       "      <td>Vire</td>\n",
       "      <td>2021-02-11</td>\n",
       "      <td>2021-05-03</td>\n",
       "      <td>beneficiaire</td>\n",
       "      <td>beneficiaire</td>\n",
       "      <td>NaN</td>\n",
       "      <td>NaN</td>\n",
       "      <td>NaN</td>\n",
       "      <td>NaN</td>\n",
       "      <td>...</td>\n",
       "      <td>Très satisfaisant</td>\n",
       "      <td>Très satisfaisant</td>\n",
       "      <td>Très satisfaisant</td>\n",
       "      <td>Très satisfaisant</td>\n",
       "      <td>Satisfaisant</td>\n",
       "      <td>Très satisfaisant</td>\n",
       "      <td>NaN</td>\n",
       "      <td>NaN</td>\n",
       "      <td>+ modernisation des test d'aptitudes +++</td>\n",
       "      <td>2021-06-22 12:30:05</td>\n",
       "    </tr>\n",
       "    <tr>\n",
       "      <th>18</th>\n",
       "      <td>NaN</td>\n",
       "      <td>Vire</td>\n",
       "      <td>2021-01-11</td>\n",
       "      <td>2021-04-23</td>\n",
       "      <td>intervenant-e</td>\n",
       "      <td>intervenant-e</td>\n",
       "      <td>NaN</td>\n",
       "      <td>NaN</td>\n",
       "      <td>NaN</td>\n",
       "      <td>NaN</td>\n",
       "      <td>...</td>\n",
       "      <td>NaN</td>\n",
       "      <td>NaN</td>\n",
       "      <td>NaN</td>\n",
       "      <td>NaN</td>\n",
       "      <td>NaN</td>\n",
       "      <td>NaN</td>\n",
       "      <td>NaN</td>\n",
       "      <td>NaN</td>\n",
       "      <td>NaN</td>\n",
       "      <td>2021-06-22 12:46:10</td>\n",
       "    </tr>\n",
       "    <tr>\n",
       "      <th>30</th>\n",
       "      <td>NaN</td>\n",
       "      <td>NaN</td>\n",
       "      <td>2020-12-02</td>\n",
       "      <td>2021-03-24</td>\n",
       "      <td>intervenant-e</td>\n",
       "      <td>intervenant-e</td>\n",
       "      <td>NaN</td>\n",
       "      <td>NaN</td>\n",
       "      <td>NaN</td>\n",
       "      <td>NaN</td>\n",
       "      <td>...</td>\n",
       "      <td>NaN</td>\n",
       "      <td>NaN</td>\n",
       "      <td>NaN</td>\n",
       "      <td>NaN</td>\n",
       "      <td>NaN</td>\n",
       "      <td>NaN</td>\n",
       "      <td>NaN</td>\n",
       "      <td>NaN</td>\n",
       "      <td>NaN</td>\n",
       "      <td>2021-06-22 13:01:54</td>\n",
       "    </tr>\n",
       "  </tbody>\n",
       "</table>\n",
       "<p>3 rows × 40 columns</p>\n",
       "</div>"
      ],
      "text/plain": [
       "   dispositif  site       debut         fin         statue        branche  \\\n",
       "7         NaN  Vire  2021-02-11  2021-05-03   beneficiaire   beneficiaire   \n",
       "18        NaN  Vire  2021-01-11  2021-04-23  intervenant-e  intervenant-e   \n",
       "30        NaN   NaN  2020-12-02  2021-03-24  intervenant-e  intervenant-e   \n",
       "\n",
       "   fin1 fin2 fin3 fin4  ...               ben1               ben2  \\\n",
       "7   NaN  NaN  NaN  NaN  ...  Très satisfaisant  Très satisfaisant   \n",
       "18  NaN  NaN  NaN  NaN  ...                NaN                NaN   \n",
       "30  NaN  NaN  NaN  NaN  ...                NaN                NaN   \n",
       "\n",
       "                 ben3               ben4          ben5               ben6  \\\n",
       "7   Très satisfaisant  Très satisfaisant  Satisfaisant  Très satisfaisant   \n",
       "18                NaN                NaN           NaN                NaN   \n",
       "30                NaN                NaN           NaN                NaN   \n",
       "\n",
       "   ben7 comment                               proposition        register_date  \n",
       "7   NaN     NaN  + modernisation des test d'aptitudes +++  2021-06-22 12:30:05  \n",
       "18  NaN     NaN                                       NaN  2021-06-22 12:46:10  \n",
       "30  NaN     NaN                                       NaN  2021-06-22 13:01:54  \n",
       "\n",
       "[3 rows x 40 columns]"
      ]
     },
     "execution_count": 26,
     "metadata": {},
     "output_type": "execute_result"
    }
   ],
   "source": [
    "df[df.dispositif.isnull()==True]"
   ]
  },
  {
   "cell_type": "code",
   "execution_count": 27,
   "metadata": {},
   "outputs": [],
   "source": [
    "df.at[7, \"dispositif\"] = \"BC\" #df[(df.debut == \"2021-02-11\") | (df.fin == \"2021-05-03\")], il ya 4 et tous sont BC.\n",
    "df.at[18, \"dispositif\"] =\"BC\" #df[(df.debut == \"2021-01-11\") | (df.fin == \"2021-04-23\")], il ya 4 et tous sont BC.\n",
    "df.at[30, \"dispositif\"] =\"BC\" #df[(df.debut == \"2020-12-02\") | (df.fin == \"2021-03-24\")], İL ya 3 et 2 autre sont BC"
   ]
  },
  {
   "cell_type": "code",
   "execution_count": 28,
   "metadata": {},
   "outputs": [
    {
     "data": {
      "text/plain": [
       "0"
      ]
     },
     "execution_count": 28,
     "metadata": {},
     "output_type": "execute_result"
    }
   ],
   "source": [
    "df.dispositif.isnull().sum()"
   ]
  },
  {
   "cell_type": "markdown",
   "metadata": {},
   "source": [
    "### Site"
   ]
  },
  {
   "cell_type": "code",
   "execution_count": 29,
   "metadata": {},
   "outputs": [
    {
     "data": {
      "text/html": [
       "<div>\n",
       "<style scoped>\n",
       "    .dataframe tbody tr th:only-of-type {\n",
       "        vertical-align: middle;\n",
       "    }\n",
       "\n",
       "    .dataframe tbody tr th {\n",
       "        vertical-align: top;\n",
       "    }\n",
       "\n",
       "    .dataframe thead th {\n",
       "        text-align: right;\n",
       "    }\n",
       "</style>\n",
       "<table border=\"1\" class=\"dataframe\">\n",
       "  <thead>\n",
       "    <tr style=\"text-align: right;\">\n",
       "      <th></th>\n",
       "      <th>dispositif</th>\n",
       "      <th>site</th>\n",
       "      <th>debut</th>\n",
       "      <th>fin</th>\n",
       "      <th>statue</th>\n",
       "      <th>branche</th>\n",
       "      <th>fin1</th>\n",
       "      <th>fin2</th>\n",
       "      <th>fin3</th>\n",
       "      <th>fin4</th>\n",
       "      <th>...</th>\n",
       "      <th>ben1</th>\n",
       "      <th>ben2</th>\n",
       "      <th>ben3</th>\n",
       "      <th>ben4</th>\n",
       "      <th>ben5</th>\n",
       "      <th>ben6</th>\n",
       "      <th>ben7</th>\n",
       "      <th>comment</th>\n",
       "      <th>proposition</th>\n",
       "      <th>register_date</th>\n",
       "    </tr>\n",
       "  </thead>\n",
       "  <tbody>\n",
       "    <tr>\n",
       "      <th>25</th>\n",
       "      <td>BC</td>\n",
       "      <td>NaN</td>\n",
       "      <td>2021-03-04</td>\n",
       "      <td>2021-06-11</td>\n",
       "      <td>prescripteur</td>\n",
       "      <td>prescripteur</td>\n",
       "      <td>NaN</td>\n",
       "      <td>NaN</td>\n",
       "      <td>NaN</td>\n",
       "      <td>NaN</td>\n",
       "      <td>...</td>\n",
       "      <td>NaN</td>\n",
       "      <td>NaN</td>\n",
       "      <td>NaN</td>\n",
       "      <td>NaN</td>\n",
       "      <td>NaN</td>\n",
       "      <td>NaN</td>\n",
       "      <td>NaN</td>\n",
       "      <td>NaN</td>\n",
       "      <td>NaN</td>\n",
       "      <td>2021-06-22 12:56:46</td>\n",
       "    </tr>\n",
       "    <tr>\n",
       "      <th>26</th>\n",
       "      <td>BC</td>\n",
       "      <td>NaN</td>\n",
       "      <td>2021-03-04</td>\n",
       "      <td>2021-06-11</td>\n",
       "      <td>beneficiaire</td>\n",
       "      <td>beneficiaire</td>\n",
       "      <td>NaN</td>\n",
       "      <td>NaN</td>\n",
       "      <td>NaN</td>\n",
       "      <td>NaN</td>\n",
       "      <td>...</td>\n",
       "      <td>Très satisfaisant</td>\n",
       "      <td>Très satisfaisant</td>\n",
       "      <td>Très satisfaisant</td>\n",
       "      <td>Très satisfaisant</td>\n",
       "      <td>Très satisfaisant</td>\n",
       "      <td>Très satisfaisant</td>\n",
       "      <td>Très satisfaisant</td>\n",
       "      <td>NaN</td>\n",
       "      <td>NaN</td>\n",
       "      <td>2021-06-22 12:57:32</td>\n",
       "    </tr>\n",
       "    <tr>\n",
       "      <th>30</th>\n",
       "      <td>BC</td>\n",
       "      <td>NaN</td>\n",
       "      <td>2020-12-02</td>\n",
       "      <td>2021-03-24</td>\n",
       "      <td>intervenant-e</td>\n",
       "      <td>intervenant-e</td>\n",
       "      <td>NaN</td>\n",
       "      <td>NaN</td>\n",
       "      <td>NaN</td>\n",
       "      <td>NaN</td>\n",
       "      <td>...</td>\n",
       "      <td>NaN</td>\n",
       "      <td>NaN</td>\n",
       "      <td>NaN</td>\n",
       "      <td>NaN</td>\n",
       "      <td>NaN</td>\n",
       "      <td>NaN</td>\n",
       "      <td>NaN</td>\n",
       "      <td>NaN</td>\n",
       "      <td>NaN</td>\n",
       "      <td>2021-06-22 13:01:54</td>\n",
       "    </tr>\n",
       "    <tr>\n",
       "      <th>51</th>\n",
       "      <td>BC</td>\n",
       "      <td>NaN</td>\n",
       "      <td>2020-09-01</td>\n",
       "      <td>2020-11-28</td>\n",
       "      <td>beneficiaire</td>\n",
       "      <td>beneficiaire</td>\n",
       "      <td>NaN</td>\n",
       "      <td>NaN</td>\n",
       "      <td>NaN</td>\n",
       "      <td>NaN</td>\n",
       "      <td>...</td>\n",
       "      <td>Très satisfaisant</td>\n",
       "      <td>Très satisfaisant</td>\n",
       "      <td>Très satisfaisant</td>\n",
       "      <td>Satisfaisant</td>\n",
       "      <td>Très satisfaisant</td>\n",
       "      <td>Très satisfaisant</td>\n",
       "      <td>Satisfaisant</td>\n",
       "      <td>NaN</td>\n",
       "      <td>Peut-être un peu plus de temps, plus de rendez...</td>\n",
       "      <td>2021-06-22 14:27:42</td>\n",
       "    </tr>\n",
       "    <tr>\n",
       "      <th>107</th>\n",
       "      <td>ISU</td>\n",
       "      <td>NaN</td>\n",
       "      <td>2020-12-01</td>\n",
       "      <td>2020-12-01</td>\n",
       "      <td>prescripteur</td>\n",
       "      <td>prescripteur</td>\n",
       "      <td>NaN</td>\n",
       "      <td>NaN</td>\n",
       "      <td>NaN</td>\n",
       "      <td>NaN</td>\n",
       "      <td>...</td>\n",
       "      <td>NaN</td>\n",
       "      <td>NaN</td>\n",
       "      <td>NaN</td>\n",
       "      <td>NaN</td>\n",
       "      <td>NaN</td>\n",
       "      <td>NaN</td>\n",
       "      <td>NaN</td>\n",
       "      <td>Bonne intention intervenants/ élèves. Théme in...</td>\n",
       "      <td>fait un contexte particulier</td>\n",
       "      <td>2021-06-30 10:31:12</td>\n",
       "    </tr>\n",
       "  </tbody>\n",
       "</table>\n",
       "<p>5 rows × 40 columns</p>\n",
       "</div>"
      ],
      "text/plain": [
       "    dispositif site       debut         fin         statue        branche  \\\n",
       "25          BC  NaN  2021-03-04  2021-06-11   prescripteur   prescripteur   \n",
       "26          BC  NaN  2021-03-04  2021-06-11   beneficiaire   beneficiaire   \n",
       "30          BC  NaN  2020-12-02  2021-03-24  intervenant-e  intervenant-e   \n",
       "51          BC  NaN  2020-09-01  2020-11-28   beneficiaire   beneficiaire   \n",
       "107        ISU  NaN  2020-12-01  2020-12-01   prescripteur   prescripteur   \n",
       "\n",
       "    fin1 fin2 fin3 fin4  ...               ben1               ben2  \\\n",
       "25   NaN  NaN  NaN  NaN  ...                NaN                NaN   \n",
       "26   NaN  NaN  NaN  NaN  ...  Très satisfaisant  Très satisfaisant   \n",
       "30   NaN  NaN  NaN  NaN  ...                NaN                NaN   \n",
       "51   NaN  NaN  NaN  NaN  ...  Très satisfaisant  Très satisfaisant   \n",
       "107  NaN  NaN  NaN  NaN  ...                NaN                NaN   \n",
       "\n",
       "                  ben3               ben4               ben5  \\\n",
       "25                 NaN                NaN                NaN   \n",
       "26   Très satisfaisant  Très satisfaisant  Très satisfaisant   \n",
       "30                 NaN                NaN                NaN   \n",
       "51   Très satisfaisant       Satisfaisant  Très satisfaisant   \n",
       "107                NaN                NaN                NaN   \n",
       "\n",
       "                  ben6               ben7  \\\n",
       "25                 NaN                NaN   \n",
       "26   Très satisfaisant  Très satisfaisant   \n",
       "30                 NaN                NaN   \n",
       "51   Très satisfaisant       Satisfaisant   \n",
       "107                NaN                NaN   \n",
       "\n",
       "                                               comment  \\\n",
       "25                                                 NaN   \n",
       "26                                                 NaN   \n",
       "30                                                 NaN   \n",
       "51                                                 NaN   \n",
       "107  Bonne intention intervenants/ élèves. Théme in...   \n",
       "\n",
       "                                           proposition        register_date  \n",
       "25                                                 NaN  2021-06-22 12:56:46  \n",
       "26                                                 NaN  2021-06-22 12:57:32  \n",
       "30                                                 NaN  2021-06-22 13:01:54  \n",
       "51   Peut-être un peu plus de temps, plus de rendez...  2021-06-22 14:27:42  \n",
       "107                      fait un contexte particulier   2021-06-30 10:31:12  \n",
       "\n",
       "[5 rows x 40 columns]"
      ]
     },
     "execution_count": 29,
     "metadata": {},
     "output_type": "execute_result"
    }
   ],
   "source": [
    "df[df.site.isnull()==True].head()"
   ]
  },
  {
   "cell_type": "code",
   "execution_count": 30,
   "metadata": {},
   "outputs": [],
   "source": [
    "df.at[30, \"site\"] =\"Saint-Lo\" # df[(df.debut == \"2020-12-02\") | (df.fin == \"2021-03-24\")], İL ya 3 et 2 autre sont st.lo\n",
    "df.at[25, \"site\"] =\"Vire\" #df[(df.debut == \"2021-03-04\") | (df.fin == \"2021-06-11\")]\n",
    "df.at[26, \"site\"] =\"Vire\" #df[(df.debut == \"2021-03-04\") | (df.fin == \"2021-06-11\")]\n",
    "df.at[51, \"site\"] =\"Vire\"  #df[(df.debut == \"2020-09-01\") | (df.fin == \"2020-11-28\")] meme dates avec ça\n",
    "df.at[107, \"site\"] = \"Autre Lieu Delocalise\" # meme dates il ya 2 differant dispositif, je designe comme ca. \n",
    "df.at[108, \"site\"] = \"Autre Lieu Delocalise\" # meme dates il ya 2 differant dispositif, je designe comme ca. \n",
    "df.at[111, \"site\"] = \"Autre Lieu Delocalise\" #df[(df.debut == \"2021-04-06\") | (df.fin == \"2021-06-25\")], il ya 8 data meme\n",
    "df.at[119, \"site\"] = \"La Ferte-Mace\" #df[df.dispositif ==\"Actions courtes type 'marchons pour ... '\"] il ya 2 dispositif action courtes je donne autre lieu\n",
    "df.at[125, \"site\"] = \"Bayeux\"  #df[(df.debut == \"2021-05-17\") | (df.fin == \"2021-07-16\")] il ya 8 data meme dates avec bayeux\n",
    "df.at[158, \"site\"] = \"Avranches\" #df[(df.debut == \"2021-02-16\") | (df.fin == \"2021-09-02\")]  il ya 12 data meme dates avec avranches"
   ]
  },
  {
   "cell_type": "code",
   "execution_count": 31,
   "metadata": {},
   "outputs": [
    {
     "data": {
      "text/plain": [
       "0"
      ]
     },
     "execution_count": 31,
     "metadata": {},
     "output_type": "execute_result"
    }
   ],
   "source": [
    "df.site.isnull().sum()"
   ]
  },
  {
   "cell_type": "markdown",
   "metadata": {},
   "source": [
    "### Debut"
   ]
  },
  {
   "cell_type": "code",
   "execution_count": 32,
   "metadata": {},
   "outputs": [
    {
     "data": {
      "text/plain": [
       "2021-05-03      14\n",
       "2020-06-01      14\n",
       "2020-06-08      12\n",
       "2021-02-16      12\n",
       "2021-06-14      10\n",
       "2021-04-01      10\n",
       "2020-11-30       9\n",
       "2021-05-17       8\n",
       "2020-06-03       6\n",
       "2021-05-05       6\n",
       "2021-10-28       5\n",
       "2021-06-30       5\n",
       "2021-01-20       4\n",
       "2021-02-03       4\n",
       "2021-08-30       4\n",
       "2021-04-15       4\n",
       "2021-01-11       4\n",
       "2020-12-04       3\n",
       "2021-05-11       3\n",
       "2021-10-20       3\n",
       "2021-02-02       3\n",
       "2020-12-03       3\n",
       "2020-12-02       3\n",
       "2021-02-23       3\n",
       "2021-03-04       3\n",
       "2021-03-30       2\n",
       "2020-09-03       2\n",
       "2021-12-08       2\n",
       "2020-05-12       2\n",
       "2020-09-17       2\n",
       "2020-12-01       2\n",
       "2021-09-01       2\n",
       "2020-09-01       2\n",
       "2021-12-22       2\n",
       "2021-01-08       2\n",
       "2021-03-26       2\n",
       "2021-06-11       2\n",
       "2020-10-12       2\n",
       "2020-10-02       2\n",
       "2020-01-09       2\n",
       "2021-03-12       2\n",
       "2020-11-11       1\n",
       "2021-11-28       1\n",
       "2020-07-30       1\n",
       "2019-11-15       1\n",
       "2020-08-11       1\n",
       "2021-02-11       1\n",
       "2020-08-13       1\n",
       "2020-05-18       1\n",
       "2021-06-21       1\n",
       "2021-04-06       1\n",
       "2021-06-29       1\n",
       "2021-02-20       1\n",
       "2020-01-27       1\n",
       "2020-02-10       1\n",
       "2020-05-01       1\n",
       "2021-06-07       1\n",
       "212020-01-08     1\n",
       "2020-08-18       1\n",
       "2020-11-17       1\n",
       "Name: debut, dtype: int64"
      ]
     },
     "execution_count": 32,
     "metadata": {},
     "output_type": "execute_result"
    }
   ],
   "source": [
    "df.debut.value_counts(ascending=False, sort=True) # il ya une mal valeur 212020-01-08. "
   ]
  },
  {
   "cell_type": "code",
   "execution_count": 33,
   "metadata": {},
   "outputs": [],
   "source": [
    "df.debut.replace(to_replace = \"212020-01-08\", value = \"2021-01-08\", inplace=True) \n",
    "df.debut.replace(to_replace = \"2021-10-20\", value = \"2021-01-20\", inplace=True)"
   ]
  },
  {
   "cell_type": "code",
   "execution_count": 34,
   "metadata": {},
   "outputs": [
    {
     "data": {
      "text/html": [
       "<div>\n",
       "<style scoped>\n",
       "    .dataframe tbody tr th:only-of-type {\n",
       "        vertical-align: middle;\n",
       "    }\n",
       "\n",
       "    .dataframe tbody tr th {\n",
       "        vertical-align: top;\n",
       "    }\n",
       "\n",
       "    .dataframe thead th {\n",
       "        text-align: right;\n",
       "    }\n",
       "</style>\n",
       "<table border=\"1\" class=\"dataframe\">\n",
       "  <thead>\n",
       "    <tr style=\"text-align: right;\">\n",
       "      <th></th>\n",
       "      <th>dispositif</th>\n",
       "      <th>site</th>\n",
       "      <th>debut</th>\n",
       "      <th>fin</th>\n",
       "      <th>statue</th>\n",
       "      <th>branche</th>\n",
       "      <th>fin1</th>\n",
       "      <th>fin2</th>\n",
       "      <th>fin3</th>\n",
       "      <th>fin4</th>\n",
       "      <th>...</th>\n",
       "      <th>ben1</th>\n",
       "      <th>ben2</th>\n",
       "      <th>ben3</th>\n",
       "      <th>ben4</th>\n",
       "      <th>ben5</th>\n",
       "      <th>ben6</th>\n",
       "      <th>ben7</th>\n",
       "      <th>comment</th>\n",
       "      <th>proposition</th>\n",
       "      <th>register_date</th>\n",
       "    </tr>\n",
       "  </thead>\n",
       "  <tbody>\n",
       "    <tr>\n",
       "      <th>48</th>\n",
       "      <td>BC</td>\n",
       "      <td>Vire</td>\n",
       "      <td>NaN</td>\n",
       "      <td>NaN</td>\n",
       "      <td>beneficiaire</td>\n",
       "      <td>beneficiaire</td>\n",
       "      <td>NaN</td>\n",
       "      <td>NaN</td>\n",
       "      <td>NaN</td>\n",
       "      <td>NaN</td>\n",
       "      <td>...</td>\n",
       "      <td>Très satisfaisant</td>\n",
       "      <td>Très satisfaisant</td>\n",
       "      <td>Satisfaisant</td>\n",
       "      <td>Satisfaisant</td>\n",
       "      <td>Satisfaisant</td>\n",
       "      <td>Satisfaisant</td>\n",
       "      <td>Satisfaisant</td>\n",
       "      <td>NaN</td>\n",
       "      <td>NaN</td>\n",
       "      <td>2021-06-22 14:12:17</td>\n",
       "    </tr>\n",
       "    <tr>\n",
       "      <th>54</th>\n",
       "      <td>BC</td>\n",
       "      <td>Saint-Lo</td>\n",
       "      <td>NaN</td>\n",
       "      <td>NaN</td>\n",
       "      <td>beneficiaire</td>\n",
       "      <td>beneficiaire</td>\n",
       "      <td>NaN</td>\n",
       "      <td>NaN</td>\n",
       "      <td>NaN</td>\n",
       "      <td>NaN</td>\n",
       "      <td>...</td>\n",
       "      <td>Satisfaisant</td>\n",
       "      <td>Très satisfaisant</td>\n",
       "      <td>Très satisfaisant</td>\n",
       "      <td>Très satisfaisant</td>\n",
       "      <td>Très satisfaisant</td>\n",
       "      <td>Très satisfaisant</td>\n",
       "      <td>NaN</td>\n",
       "      <td>NaN</td>\n",
       "      <td>NaN</td>\n",
       "      <td>2021-06-23 09:16:58</td>\n",
       "    </tr>\n",
       "    <tr>\n",
       "      <th>104</th>\n",
       "      <td>PIP</td>\n",
       "      <td>Argentan</td>\n",
       "      <td>NaN</td>\n",
       "      <td>2021-06-15</td>\n",
       "      <td>beneficiaire</td>\n",
       "      <td>beneficiaire</td>\n",
       "      <td>NaN</td>\n",
       "      <td>NaN</td>\n",
       "      <td>NaN</td>\n",
       "      <td>NaN</td>\n",
       "      <td>...</td>\n",
       "      <td>Satisfaisant</td>\n",
       "      <td>Satisfaisant</td>\n",
       "      <td>Satisfaisant</td>\n",
       "      <td>Satisfaisant</td>\n",
       "      <td>Satisfaisant</td>\n",
       "      <td>Satisfaisant</td>\n",
       "      <td>NaN</td>\n",
       "      <td>NaN</td>\n",
       "      <td>NaN</td>\n",
       "      <td>2021-06-25 09:05:06</td>\n",
       "    </tr>\n",
       "  </tbody>\n",
       "</table>\n",
       "<p>3 rows × 40 columns</p>\n",
       "</div>"
      ],
      "text/plain": [
       "    dispositif      site debut         fin        statue       branche fin1  \\\n",
       "48          BC      Vire   NaN         NaN  beneficiaire  beneficiaire  NaN   \n",
       "54          BC  Saint-Lo   NaN         NaN  beneficiaire  beneficiaire  NaN   \n",
       "104        PIP  Argentan   NaN  2021-06-15  beneficiaire  beneficiaire  NaN   \n",
       "\n",
       "    fin2 fin3 fin4  ...               ben1               ben2  \\\n",
       "48   NaN  NaN  NaN  ...  Très satisfaisant  Très satisfaisant   \n",
       "54   NaN  NaN  NaN  ...       Satisfaisant  Très satisfaisant   \n",
       "104  NaN  NaN  NaN  ...       Satisfaisant       Satisfaisant   \n",
       "\n",
       "                  ben3               ben4               ben5  \\\n",
       "48        Satisfaisant       Satisfaisant       Satisfaisant   \n",
       "54   Très satisfaisant  Très satisfaisant  Très satisfaisant   \n",
       "104       Satisfaisant       Satisfaisant       Satisfaisant   \n",
       "\n",
       "                  ben6          ben7 comment proposition        register_date  \n",
       "48        Satisfaisant  Satisfaisant     NaN         NaN  2021-06-22 14:12:17  \n",
       "54   Très satisfaisant           NaN     NaN         NaN  2021-06-23 09:16:58  \n",
       "104       Satisfaisant           NaN     NaN         NaN  2021-06-25 09:05:06  \n",
       "\n",
       "[3 rows x 40 columns]"
      ]
     },
     "execution_count": 34,
     "metadata": {},
     "output_type": "execute_result"
    }
   ],
   "source": [
    "df[df.debut.isnull()==True]"
   ]
  },
  {
   "cell_type": "code",
   "execution_count": 35,
   "metadata": {},
   "outputs": [],
   "source": [
    "df.at[48, \"debut\"] = \"2020-01-09\" \n",
    "df.at[104, \"debut\"] = \"2021-01-20\"\n",
    "df.at[54, \"debut\"] = \"2020-09-17\""
   ]
  },
  {
   "cell_type": "code",
   "execution_count": 36,
   "metadata": {},
   "outputs": [
    {
     "data": {
      "text/plain": [
       "0"
      ]
     },
     "execution_count": 36,
     "metadata": {},
     "output_type": "execute_result"
    }
   ],
   "source": [
    "df.debut.isnull().sum()"
   ]
  },
  {
   "cell_type": "markdown",
   "metadata": {},
   "source": [
    "### Fin"
   ]
  },
  {
   "cell_type": "code",
   "execution_count": 37,
   "metadata": {},
   "outputs": [
    {
     "data": {
      "text/plain": [
       "2021-10-18    14\n",
       "2020-11-02    13\n",
       "2020-11-17    12\n",
       "2021-09-02    12\n",
       "2021-06-15     9\n",
       "Name: fin, dtype: int64"
      ]
     },
     "execution_count": 37,
     "metadata": {},
     "output_type": "execute_result"
    }
   ],
   "source": [
    "df.fin.value_counts(dropna=False).head()"
   ]
  },
  {
   "cell_type": "code",
   "execution_count": 38,
   "metadata": {},
   "outputs": [],
   "source": [
    "df.fin.replace(to_replace = \"0021-05-03\", value = \"2021-05-03\", inplace=True)"
   ]
  },
  {
   "cell_type": "code",
   "execution_count": 39,
   "metadata": {},
   "outputs": [],
   "source": [
    "df.at[48, \"fin\"] = \"2020-06-15\"\n",
    "df.at[54, \"fin\"] = \"2021-02-01\"\n",
    "df.at[93, \"fin\"] = \"2021-05-10\" # debut est 2020-11-30, cest pas possible fin au 2020-05-10\n",
    "df.at[97, \"fin\"] = \"2021-03-01\" # debut est 2020-08-01, cest pas possible fin au 2020-03-01"
   ]
  },
  {
   "cell_type": "code",
   "execution_count": 40,
   "metadata": {},
   "outputs": [
    {
     "data": {
      "text/html": [
       "<div>\n",
       "<style scoped>\n",
       "    .dataframe tbody tr th:only-of-type {\n",
       "        vertical-align: middle;\n",
       "    }\n",
       "\n",
       "    .dataframe tbody tr th {\n",
       "        vertical-align: top;\n",
       "    }\n",
       "\n",
       "    .dataframe thead th {\n",
       "        text-align: right;\n",
       "    }\n",
       "</style>\n",
       "<table border=\"1\" class=\"dataframe\">\n",
       "  <thead>\n",
       "    <tr style=\"text-align: right;\">\n",
       "      <th></th>\n",
       "      <th>dispositif</th>\n",
       "      <th>site</th>\n",
       "      <th>debut</th>\n",
       "      <th>fin</th>\n",
       "      <th>statue</th>\n",
       "      <th>branche</th>\n",
       "      <th>fin1</th>\n",
       "      <th>fin2</th>\n",
       "      <th>fin3</th>\n",
       "      <th>fin4</th>\n",
       "      <th>...</th>\n",
       "      <th>ben1</th>\n",
       "      <th>ben2</th>\n",
       "      <th>ben3</th>\n",
       "      <th>ben4</th>\n",
       "      <th>ben5</th>\n",
       "      <th>ben6</th>\n",
       "      <th>ben7</th>\n",
       "      <th>comment</th>\n",
       "      <th>proposition</th>\n",
       "      <th>register_date</th>\n",
       "    </tr>\n",
       "  </thead>\n",
       "  <tbody>\n",
       "    <tr>\n",
       "      <th>93</th>\n",
       "      <td>PIS</td>\n",
       "      <td>La Ferte-Mace</td>\n",
       "      <td>2020-11-30</td>\n",
       "      <td>2021-05-10</td>\n",
       "      <td>intervenant-e</td>\n",
       "      <td>intervenant-e</td>\n",
       "      <td>NaN</td>\n",
       "      <td>NaN</td>\n",
       "      <td>NaN</td>\n",
       "      <td>NaN</td>\n",
       "      <td>...</td>\n",
       "      <td>NaN</td>\n",
       "      <td>NaN</td>\n",
       "      <td>NaN</td>\n",
       "      <td>NaN</td>\n",
       "      <td>NaN</td>\n",
       "      <td>NaN</td>\n",
       "      <td>NaN</td>\n",
       "      <td>Thème de prestation a été réalisée à la demand...</td>\n",
       "      <td>NaN</td>\n",
       "      <td>2021-06-23 13:10:30</td>\n",
       "    </tr>\n",
       "  </tbody>\n",
       "</table>\n",
       "<p>1 rows × 40 columns</p>\n",
       "</div>"
      ],
      "text/plain": [
       "   dispositif           site       debut         fin         statue  \\\n",
       "93        PIS  La Ferte-Mace  2020-11-30  2021-05-10  intervenant-e   \n",
       "\n",
       "          branche fin1 fin2 fin3 fin4  ... ben1 ben2 ben3 ben4 ben5 ben6 ben7  \\\n",
       "93  intervenant-e  NaN  NaN  NaN  NaN  ...  NaN  NaN  NaN  NaN  NaN  NaN  NaN   \n",
       "\n",
       "                                              comment proposition  \\\n",
       "93  Thème de prestation a été réalisée à la demand...         NaN   \n",
       "\n",
       "          register_date  \n",
       "93  2021-06-23 13:10:30  \n",
       "\n",
       "[1 rows x 40 columns]"
      ]
     },
     "execution_count": 40,
     "metadata": {},
     "output_type": "execute_result"
    }
   ],
   "source": [
    "df[93:94]"
   ]
  },
  {
   "cell_type": "code",
   "execution_count": 41,
   "metadata": {},
   "outputs": [
    {
     "data": {
      "text/plain": [
       "0"
      ]
     },
     "execution_count": 41,
     "metadata": {},
     "output_type": "execute_result"
    }
   ],
   "source": [
    "df.fin.isnull().sum()"
   ]
  },
  {
   "cell_type": "markdown",
   "metadata": {},
   "source": [
    "## Création de nouvelles colonnes"
   ]
  },
  {
   "cell_type": "markdown",
   "metadata": {},
   "source": [
    "### Combien de jours l'action s'est-elle poursuivie ?"
   ]
  },
  {
   "cell_type": "code",
   "execution_count": 42,
   "metadata": {},
   "outputs": [],
   "source": [
    "df.debut = pd.to_datetime(df.debut, format = \"%Y-%m-%d\")\n",
    "df.fin = pd.to_datetime(df.fin, format = \"%Y-%m-%d\")"
   ]
  },
  {
   "cell_type": "code",
   "execution_count": 43,
   "metadata": {},
   "outputs": [],
   "source": [
    "df[\"jour\"] = df.fin-df.debut"
   ]
  },
  {
   "cell_type": "code",
   "execution_count": 44,
   "metadata": {},
   "outputs": [
    {
     "data": {
      "text/plain": [
       "Index(['dispositif', 'site', 'debut', 'fin', 'statue', 'branche', 'fin1',\n",
       "       'fin2', 'fin3', 'fin4', 'fin5', 'intType', 'inter1', 'inter2', 'inter3',\n",
       "       'inter4', 'intForDis', 'inter5', 'intRisqS', 'intRisqH', 'intRisqJ',\n",
       "       'intRisqEn', 'intRisqEc', 'preUsager', 'pre1', 'pre2', 'pre3', 'pre4',\n",
       "       'pre5', 'pre6', 'ben1', 'ben2', 'ben3', 'ben4', 'ben5', 'ben6', 'ben7',\n",
       "       'comment', 'proposition', 'register_date', 'jour'],\n",
       "      dtype='object')"
      ]
     },
     "execution_count": 44,
     "metadata": {},
     "output_type": "execute_result"
    }
   ],
   "source": [
    "df.columns"
   ]
  },
  {
   "cell_type": "code",
   "execution_count": 45,
   "metadata": {},
   "outputs": [
    {
     "data": {
      "text/plain": [
       "1   105 days\n",
       "2   105 days\n",
       "3   105 days\n",
       "4   115 days\n",
       "5   115 days\n",
       "Name: jour, dtype: timedelta64[ns]"
      ]
     },
     "execution_count": 45,
     "metadata": {},
     "output_type": "execute_result"
    }
   ],
   "source": [
    "df.loc[1:5, \"jour\"]"
   ]
  },
  {
   "cell_type": "code",
   "execution_count": 46,
   "metadata": {},
   "outputs": [],
   "source": [
    "df[\"jourChiffres\"]=pd.to_timedelta(df.jour, errors=\"coerce\").dt.days"
   ]
  },
  {
   "cell_type": "code",
   "execution_count": 47,
   "metadata": {},
   "outputs": [
    {
     "data": {
      "text/plain": [
       "1    105\n",
       "2    105\n",
       "3    105\n",
       "4    115\n",
       "5    115\n",
       "Name: jourChiffres, dtype: int64"
      ]
     },
     "execution_count": 47,
     "metadata": {},
     "output_type": "execute_result"
    }
   ],
   "source": [
    "df.loc[1:5, \"jourChiffres\"]"
   ]
  },
  {
   "cell_type": "markdown",
   "metadata": {},
   "source": [
    "### En quelle année, mois et jour l'action s'est-elle faite?"
   ]
  },
  {
   "cell_type": "code",
   "execution_count": 48,
   "metadata": {},
   "outputs": [],
   "source": [
    "df[\"annéeDebut\"] = df[\"debut\"].dt.year\n",
    "df[\"moisDebut\"] = df[\"debut\"].dt.month\n",
    "df[\"jourDebut\"] = df[\"debut\"].dt.day\n",
    "df[\"annéeFin\"] = df[\"fin\"].dt.year\n",
    "df[\"moisFin\"] = df[\"fin\"].dt.month\n",
    "df[\"jourFin\"] = df[\"fin\"].dt.day"
   ]
  },
  {
   "cell_type": "code",
   "execution_count": 49,
   "metadata": {},
   "outputs": [
    {
     "data": {
      "text/html": [
       "<div>\n",
       "<style scoped>\n",
       "    .dataframe tbody tr th:only-of-type {\n",
       "        vertical-align: middle;\n",
       "    }\n",
       "\n",
       "    .dataframe tbody tr th {\n",
       "        vertical-align: top;\n",
       "    }\n",
       "\n",
       "    .dataframe thead th {\n",
       "        text-align: right;\n",
       "    }\n",
       "</style>\n",
       "<table border=\"1\" class=\"dataframe\">\n",
       "  <thead>\n",
       "    <tr style=\"text-align: right;\">\n",
       "      <th></th>\n",
       "      <th>annéeDebut</th>\n",
       "      <th>moisDebut</th>\n",
       "      <th>jourDebut</th>\n",
       "      <th>annéeFin</th>\n",
       "      <th>moisFin</th>\n",
       "      <th>jourFin</th>\n",
       "    </tr>\n",
       "  </thead>\n",
       "  <tbody>\n",
       "    <tr>\n",
       "      <th>1</th>\n",
       "      <td>2021</td>\n",
       "      <td>2</td>\n",
       "      <td>23</td>\n",
       "      <td>2021</td>\n",
       "      <td>6</td>\n",
       "      <td>8</td>\n",
       "    </tr>\n",
       "    <tr>\n",
       "      <th>2</th>\n",
       "      <td>2021</td>\n",
       "      <td>2</td>\n",
       "      <td>23</td>\n",
       "      <td>2021</td>\n",
       "      <td>6</td>\n",
       "      <td>8</td>\n",
       "    </tr>\n",
       "    <tr>\n",
       "      <th>3</th>\n",
       "      <td>2021</td>\n",
       "      <td>2</td>\n",
       "      <td>23</td>\n",
       "      <td>2021</td>\n",
       "      <td>6</td>\n",
       "      <td>8</td>\n",
       "    </tr>\n",
       "    <tr>\n",
       "      <th>4</th>\n",
       "      <td>2021</td>\n",
       "      <td>1</td>\n",
       "      <td>8</td>\n",
       "      <td>2021</td>\n",
       "      <td>5</td>\n",
       "      <td>3</td>\n",
       "    </tr>\n",
       "    <tr>\n",
       "      <th>5</th>\n",
       "      <td>2021</td>\n",
       "      <td>1</td>\n",
       "      <td>8</td>\n",
       "      <td>2021</td>\n",
       "      <td>5</td>\n",
       "      <td>3</td>\n",
       "    </tr>\n",
       "  </tbody>\n",
       "</table>\n",
       "</div>"
      ],
      "text/plain": [
       "   annéeDebut  moisDebut  jourDebut  annéeFin  moisFin  jourFin\n",
       "1        2021          2         23      2021        6        8\n",
       "2        2021          2         23      2021        6        8\n",
       "3        2021          2         23      2021        6        8\n",
       "4        2021          1          8      2021        5        3\n",
       "5        2021          1          8      2021        5        3"
      ]
     },
     "execution_count": 49,
     "metadata": {},
     "output_type": "execute_result"
    }
   ],
   "source": [
    "df.loc[1:5,\"annéeDebut\":\"jourFin\" ]"
   ]
  },
  {
   "cell_type": "markdown",
   "metadata": {},
   "source": [
    "### Création d'une nouvelle colonne appelée \"période\"."
   ]
  },
  {
   "cell_type": "code",
   "execution_count": 50,
   "metadata": {},
   "outputs": [],
   "source": [
    "df[\"périodeDebut\"] = df[\"moisDebut\"] >= 7\n",
    "df[\"périodeDebut\"] = df[\"périodeDebut\"] + 1\n",
    "df[\"périodeFin\"] = df[\"moisFin\"] >= 7\n",
    "df[\"périodeFin\"] = df[\"périodeFin\"] + 1"
   ]
  },
  {
   "cell_type": "code",
   "execution_count": 51,
   "metadata": {},
   "outputs": [
    {
     "data": {
      "text/html": [
       "<div>\n",
       "<style scoped>\n",
       "    .dataframe tbody tr th:only-of-type {\n",
       "        vertical-align: middle;\n",
       "    }\n",
       "\n",
       "    .dataframe tbody tr th {\n",
       "        vertical-align: top;\n",
       "    }\n",
       "\n",
       "    .dataframe thead th {\n",
       "        text-align: right;\n",
       "    }\n",
       "</style>\n",
       "<table border=\"1\" class=\"dataframe\">\n",
       "  <thead>\n",
       "    <tr style=\"text-align: right;\">\n",
       "      <th></th>\n",
       "      <th>périodeDebut</th>\n",
       "      <th>périodeFin</th>\n",
       "    </tr>\n",
       "  </thead>\n",
       "  <tbody>\n",
       "    <tr>\n",
       "      <th>1</th>\n",
       "      <td>1</td>\n",
       "      <td>1</td>\n",
       "    </tr>\n",
       "    <tr>\n",
       "      <th>2</th>\n",
       "      <td>1</td>\n",
       "      <td>1</td>\n",
       "    </tr>\n",
       "    <tr>\n",
       "      <th>3</th>\n",
       "      <td>1</td>\n",
       "      <td>1</td>\n",
       "    </tr>\n",
       "    <tr>\n",
       "      <th>4</th>\n",
       "      <td>1</td>\n",
       "      <td>1</td>\n",
       "    </tr>\n",
       "    <tr>\n",
       "      <th>5</th>\n",
       "      <td>1</td>\n",
       "      <td>1</td>\n",
       "    </tr>\n",
       "  </tbody>\n",
       "</table>\n",
       "</div>"
      ],
      "text/plain": [
       "   périodeDebut  périodeFin\n",
       "1             1           1\n",
       "2             1           1\n",
       "3             1           1\n",
       "4             1           1\n",
       "5             1           1"
      ]
     },
     "execution_count": 51,
     "metadata": {},
     "output_type": "execute_result"
    }
   ],
   "source": [
    "df.loc[1:5,\"périodeDebut\":\"périodeFin\"]"
   ]
  },
  {
   "cell_type": "markdown",
   "metadata": {},
   "source": [
    "### Création d'une nouvelle colonne appelée période annuelle."
   ]
  },
  {
   "cell_type": "code",
   "execution_count": 52,
   "metadata": {},
   "outputs": [],
   "source": [
    "df[\"périodeAnnuelleDebut\"] = df[\"annéeDebut\"].astype(str) + \"-\" + df[\"périodeDebut\"].astype(str)"
   ]
  },
  {
   "cell_type": "code",
   "execution_count": 53,
   "metadata": {},
   "outputs": [],
   "source": [
    "df[\"périodeAnnuelleFin\"] = df[\"annéeFin\"].astype(str) + \"-\" + df[\"périodeFin\"].astype(str)"
   ]
  },
  {
   "cell_type": "code",
   "execution_count": 54,
   "metadata": {},
   "outputs": [
    {
     "data": {
      "text/html": [
       "<div>\n",
       "<style scoped>\n",
       "    .dataframe tbody tr th:only-of-type {\n",
       "        vertical-align: middle;\n",
       "    }\n",
       "\n",
       "    .dataframe tbody tr th {\n",
       "        vertical-align: top;\n",
       "    }\n",
       "\n",
       "    .dataframe thead th {\n",
       "        text-align: right;\n",
       "    }\n",
       "</style>\n",
       "<table border=\"1\" class=\"dataframe\">\n",
       "  <thead>\n",
       "    <tr style=\"text-align: right;\">\n",
       "      <th></th>\n",
       "      <th>périodeAnnuelleDebut</th>\n",
       "      <th>périodeAnnuelleFin</th>\n",
       "    </tr>\n",
       "  </thead>\n",
       "  <tbody>\n",
       "    <tr>\n",
       "      <th>1</th>\n",
       "      <td>2021-1</td>\n",
       "      <td>2021-1</td>\n",
       "    </tr>\n",
       "    <tr>\n",
       "      <th>2</th>\n",
       "      <td>2021-1</td>\n",
       "      <td>2021-1</td>\n",
       "    </tr>\n",
       "    <tr>\n",
       "      <th>3</th>\n",
       "      <td>2021-1</td>\n",
       "      <td>2021-1</td>\n",
       "    </tr>\n",
       "    <tr>\n",
       "      <th>4</th>\n",
       "      <td>2021-1</td>\n",
       "      <td>2021-1</td>\n",
       "    </tr>\n",
       "    <tr>\n",
       "      <th>5</th>\n",
       "      <td>2021-1</td>\n",
       "      <td>2021-1</td>\n",
       "    </tr>\n",
       "  </tbody>\n",
       "</table>\n",
       "</div>"
      ],
      "text/plain": [
       "  périodeAnnuelleDebut périodeAnnuelleFin\n",
       "1               2021-1             2021-1\n",
       "2               2021-1             2021-1\n",
       "3               2021-1             2021-1\n",
       "4               2021-1             2021-1\n",
       "5               2021-1             2021-1"
      ]
     },
     "execution_count": 54,
     "metadata": {},
     "output_type": "execute_result"
    }
   ],
   "source": [
    "df.loc[1:5,\"périodeAnnuelleDebut\":\"périodeAnnuelleFin\"]"
   ]
  },
  {
   "cell_type": "markdown",
   "metadata": {},
   "source": [
    "## Nouvelle table "
   ]
  },
  {
   "cell_type": "code",
   "execution_count": 55,
   "metadata": {},
   "outputs": [
    {
     "data": {
      "text/plain": [
       "Index(['dispositif', 'site', 'debut', 'fin', 'statue', 'branche', 'fin1',\n",
       "       'fin2', 'fin3', 'fin4', 'fin5', 'intType', 'inter1', 'inter2', 'inter3',\n",
       "       'inter4', 'intForDis', 'inter5', 'intRisqS', 'intRisqH', 'intRisqJ',\n",
       "       'intRisqEn', 'intRisqEc', 'preUsager', 'pre1', 'pre2', 'pre3', 'pre4',\n",
       "       'pre5', 'pre6', 'ben1', 'ben2', 'ben3', 'ben4', 'ben5', 'ben6', 'ben7',\n",
       "       'comment', 'proposition', 'register_date', 'jour', 'jourChiffres',\n",
       "       'annéeDebut', 'moisDebut', 'jourDebut', 'annéeFin', 'moisFin',\n",
       "       'jourFin', 'périodeDebut', 'périodeFin', 'périodeAnnuelleDebut',\n",
       "       'périodeAnnuelleFin'],\n",
       "      dtype='object')"
      ]
     },
     "execution_count": 55,
     "metadata": {},
     "output_type": "execute_result"
    }
   ],
   "source": [
    "df.columns"
   ]
  },
  {
   "cell_type": "code",
   "execution_count": 56,
   "metadata": {},
   "outputs": [],
   "source": [
    "df = df[['dispositif', 'site', \n",
    "    'debut', 'annéeDebut','moisDebut', 'jourDebut','périodeDebut', 'périodeAnnuelleDebut',\n",
    "    'fin', 'annéeFin', 'moisFin', 'jourFin','périodeFin', 'périodeAnnuelleFin', \n",
    "    'jour', 'jourChiffres', 'statue', 'branche', 'fin1', 'fin2', 'fin3', 'fin4', 'fin5', \n",
    "    'intType', 'inter1', 'inter2', 'inter3', 'inter4', 'intForDis', 'inter5', \n",
    "    'intRisqS', 'intRisqH', 'intRisqJ','intRisqEn', 'intRisqEc', 'preUsager', \n",
    "    'pre1', 'pre2', 'pre3', 'pre4','pre5', 'pre6', \n",
    "    'ben1', 'ben2', 'ben3', 'ben4', 'ben5', 'ben6', 'ben7',\n",
    "       'comment', 'proposition', 'register_date']]"
   ]
  },
  {
   "cell_type": "code",
   "execution_count": 57,
   "metadata": {},
   "outputs": [
    {
     "data": {
      "text/plain": [
       "dispositif                                                             BC\n",
       "site                                                                 Vire\n",
       "debut                                                 2021-02-23 00:00:00\n",
       "annéeDebut                                                           2021\n",
       "moisDebut                                                               2\n",
       "jourDebut                                                              23\n",
       "périodeDebut                                                            1\n",
       "périodeAnnuelleDebut                                               2021-1\n",
       "fin                                                   2021-06-08 00:00:00\n",
       "annéeFin                                                             2021\n",
       "moisFin                                                                 6\n",
       "jourFin                                                                 8\n",
       "périodeFin                                                              1\n",
       "périodeAnnuelleFin                                                 2021-1\n",
       "jour                                                    105 days 00:00:00\n",
       "jourChiffres                                                          105\n",
       "statue                                                       prescripteur\n",
       "branche                                                      prescripteur\n",
       "fin1                                                                  NaN\n",
       "fin2                                                                  NaN\n",
       "fin3                                                                  NaN\n",
       "fin4                                                                  NaN\n",
       "fin5                                                                  NaN\n",
       "intType                                                               NaN\n",
       "inter1                                                                NaN\n",
       "inter2                                                                NaN\n",
       "inter3                                                                NaN\n",
       "inter4                                                                NaN\n",
       "intForDis                                                             NaN\n",
       "inter5                                                                NaN\n",
       "intRisqS                                                              NaN\n",
       "intRisqH                                                              NaN\n",
       "intRisqJ                                                              NaN\n",
       "intRisqEn                                                             NaN\n",
       "intRisqEc                                                             NaN\n",
       "preUsager                                                           Autre\n",
       "pre1                                                    Très satisfaisant\n",
       "pre2                                                    Très satisfaisant\n",
       "pre3                                                    Très satisfaisant\n",
       "pre4                                                    Très satisfaisant\n",
       "pre5                                                    Très satisfaisant\n",
       "pre6                                                    Très satisfaisant\n",
       "ben1                                                                  NaN\n",
       "ben2                                                                  NaN\n",
       "ben3                                                                  NaN\n",
       "ben4                                                                  NaN\n",
       "ben5                                                                  NaN\n",
       "ben6                                                                  NaN\n",
       "ben7                                                                  NaN\n",
       "comment                 J'ai été ravie de la prise en charge de mon bi...\n",
       "proposition                                                           NaN\n",
       "register_date                                         2021-06-22 12:18:15\n",
       "Name: 1, dtype: object"
      ]
     },
     "execution_count": 57,
     "metadata": {},
     "output_type": "execute_result"
    }
   ],
   "source": [
    "df.loc[1, :]"
   ]
  },
  {
   "cell_type": "markdown",
   "metadata": {},
   "source": [
    "## Analyse de questionnaire"
   ]
  },
  {
   "cell_type": "markdown",
   "metadata": {},
   "source": [
    "### Combien d'enquêtes avons-nous ?"
   ]
  },
  {
   "cell_type": "code",
   "execution_count": 58,
   "metadata": {},
   "outputs": [
    {
     "data": {
      "text/plain": [
       "RangeIndex(start=0, stop=209, step=1)"
      ]
     },
     "execution_count": 58,
     "metadata": {},
     "output_type": "execute_result"
    }
   ],
   "source": [
    "df.index"
   ]
  },
  {
   "cell_type": "code",
   "execution_count": 59,
   "metadata": {},
   "outputs": [
    {
     "data": {
      "text/plain": [
       "209"
      ]
     },
     "execution_count": 59,
     "metadata": {},
     "output_type": "execute_result"
    }
   ],
   "source": [
    "len(df)"
   ]
  },
  {
   "cell_type": "code",
   "execution_count": 60,
   "metadata": {},
   "outputs": [
    {
     "name": "stdout",
     "output_type": "stream",
     "text": [
      "Il y a 209 enquêtes dans la base de données.\n",
      "Ces enquêtes sont réalisées entre 2020-06-15 et 2021-11-04\n"
     ]
    }
   ],
   "source": [
    "print(\"Il y a\", len(df.index), \"enquêtes dans la base de données.\")\n",
    "print(\"Ces enquêtes sont réalisées entre\", str(df.fin.min())[0:10], \"et\", str(df.fin.max())[0:10])"
   ]
  },
  {
   "cell_type": "markdown",
   "metadata": {},
   "source": [
    "### Nom et Nombre total de dispositif sont:"
   ]
  },
  {
   "cell_type": "code",
   "execution_count": 61,
   "metadata": {},
   "outputs": [
    {
     "name": "stdout",
     "output_type": "stream",
     "text": [
      "Nom de dispositif sont: ['BC' 'PIS' 'Remob' 'PIP' 'GDA' 'ISU' 'PH' 'PS' 'AC' 'FA']\n",
      "Nombre de dispositif sont:  10\n"
     ]
    }
   ],
   "source": [
    "print(\"Nom de dispositif sont:\", df.dispositif.unique())\n",
    "print(\"Nombre de dispositif sont: \", df.dispositif.nunique())"
   ]
  },
  {
   "cell_type": "markdown",
   "metadata": {},
   "source": [
    "### Dispersion du type de dispositif parmi tout questionnaires"
   ]
  },
  {
   "cell_type": "code",
   "execution_count": 62,
   "metadata": {},
   "outputs": [
    {
     "name": "stdout",
     "output_type": "stream",
     "text": [
      "BC       63\n",
      "PS       39\n",
      "PIS      37\n",
      "PIP      28\n",
      "Remob    13\n",
      "GDA      12\n",
      "FA       10\n",
      "AC        3\n",
      "PH        2\n",
      "ISU       2\n",
      "Name: dispositif, dtype: int64\n"
     ]
    },
    {
     "data": {
      "text/plain": [
       "Text(0.5, 1.0, 'dispersion du type de dispositif')"
      ]
     },
     "execution_count": 62,
     "metadata": {},
     "output_type": "execute_result"
    },
    {
     "data": {
      "image/png": "[encoded data removed]",
      "text/plain": [
       "<Figure size 864x576 with 1 Axes>"
      ]
     },
     "metadata": {},
     "output_type": "display_data"
    }
   ],
   "source": [
    "print(df.dispositif.value_counts(dropna=True))\n",
    "fontdict = {\"size\":20, \"color\":\"red\", \"alpha\":1, \"backgroundcolor\":\"lightgray\", \"style\": \"italic\", \"weight\":\"black\", \"family\": \"fantasy\"}\n",
    "dispTotal = df.dispositif.value_counts().plot(kind=\"bar\", figsize=(12,8), fontsize =14)\n",
    "dispTotal.set_xlabel(\"Dispositif\", fontdict = fontdict)\n",
    "dispTotal.set_ylabel(\"Nombre\", fontdict= fontdict)\n",
    "dispTotal.set_title(label = \"dispersion du type de dispositif\", fontdict= fontdict)"
   ]
  },
  {
   "cell_type": "markdown",
   "metadata": {},
   "source": [
    "### Taux de pourcentage de du type de dispositif sont:"
   ]
  },
  {
   "cell_type": "code",
   "execution_count": 63,
   "metadata": {},
   "outputs": [
    {
     "name": "stdout",
     "output_type": "stream",
     "text": [
      "BC       0.30\n",
      "PS       0.19\n",
      "PIS      0.18\n",
      "PIP      0.13\n",
      "Remob    0.06\n",
      "GDA      0.06\n",
      "FA       0.05\n",
      "AC       0.01\n",
      "PH       0.01\n",
      "ISU      0.01\n",
      "Name: dispositif, dtype: float64\n"
     ]
    },
    {
     "data": {
      "text/plain": [
       "Text(0.5, 1.0, 'Taux de pourcentage de dispositif')"
      ]
     },
     "execution_count": 63,
     "metadata": {},
     "output_type": "execute_result"
    },
    {
     "data": {
      "image/png": "[encoded data removed]",
      "text/plain": [
       "<Figure size 864x576 with 1 Axes>"
      ]
     },
     "metadata": {},
     "output_type": "display_data"
    }
   ],
   "source": [
    "print(round((df.dispositif.value_counts(normalize=True)), 2))\n",
    "dispTaux = round(df.dispositif.value_counts(normalize=True), 2).plot(kind=\"pie\", figsize = (12,8), fontsize=13)\n",
    "dispTaux.set_title(\"Taux de pourcentage de dispositif\", fontdict=fontdict)"
   ]
  },
  {
   "cell_type": "markdown",
   "metadata": {},
   "source": [
    "## Analyse de site"
   ]
  },
  {
   "cell_type": "markdown",
   "metadata": {},
   "source": [
    "### Nom et Nombre total de site sont:"
   ]
  },
  {
   "cell_type": "code",
   "execution_count": 64,
   "metadata": {},
   "outputs": [
    {
     "name": "stdout",
     "output_type": "stream",
     "text": [
      "Nom de sites sont: ['Avranches' 'Vire' 'Argentan' 'Saint-Lo' 'La Ferte-Mace' 'Flers'\n",
      " 'Domfront' 'Autre Lieu Delocalise' 'Bayeux' 'Falaise' 'Caen']\n",
      "Nombre de site est:  11\n"
     ]
    }
   ],
   "source": [
    "print(\"Nom de sites sont:\", df.site.unique())\n",
    "print(\"Nombre de site est: \", df.site.nunique())"
   ]
  },
  {
   "cell_type": "markdown",
   "metadata": {},
   "source": [
    "### Dispersion de site:"
   ]
  },
  {
   "cell_type": "code",
   "execution_count": 65,
   "metadata": {},
   "outputs": [
    {
     "name": "stdout",
     "output_type": "stream",
     "text": [
      "Vire                     68\n",
      "Argentan                 39\n",
      "Autre Lieu Delocalise    26\n",
      "Avranches                14\n",
      "Domfront                 13\n",
      "La Ferte-Mace            12\n",
      "Saint-Lo                 12\n",
      "Bayeux                    9\n",
      "Flers                     8\n",
      "Falaise                   6\n",
      "Caen                      2\n",
      "Name: site, dtype: int64\n"
     ]
    },
    {
     "data": {
      "text/plain": [
       "Text(0.5, 1.0, 'Nombres total de site')"
      ]
     },
     "execution_count": 65,
     "metadata": {},
     "output_type": "execute_result"
    },
    {
     "data": {
      "image/png": "[encoded data removed]",
      "text/plain": [
       "<Figure size 720x432 with 1 Axes>"
      ]
     },
     "metadata": {},
     "output_type": "display_data"
    }
   ],
   "source": [
    "print(df.site.value_counts())\n",
    "siteTotal = df.site.value_counts().plot(kind = \"bar\", title = \"Nombre total de site\", figsize=(10,6), fontsize=14)\n",
    "siteTotal.set_xlabel(\"Site de activites\", fontdict=fontdict)\n",
    "siteTotal.set_ylabel(\"Nombres de occurrences\", fontdict=fontdict)\n",
    "siteTotal.set_title(\"Nombres total de site\", fontdict=fontdict)"
   ]
  },
  {
   "cell_type": "markdown",
   "metadata": {},
   "source": [
    "### Taux de pourcentage de site sont:"
   ]
  },
  {
   "cell_type": "code",
   "execution_count": 66,
   "metadata": {},
   "outputs": [
    {
     "name": "stdout",
     "output_type": "stream",
     "text": [
      "Vire                     0.33\n",
      "Argentan                 0.19\n",
      "Autre Lieu Delocalise    0.12\n",
      "Avranches                0.07\n",
      "Domfront                 0.06\n",
      "La Ferte-Mace            0.06\n",
      "Saint-Lo                 0.06\n",
      "Bayeux                   0.04\n",
      "Flers                    0.04\n",
      "Falaise                  0.03\n",
      "Caen                     0.01\n",
      "Name: site, dtype: float64\n"
     ]
    },
    {
     "data": {
      "text/plain": [
       "Text(0.5, 1.0, 'Taux de pourcentage de site')"
      ]
     },
     "execution_count": 66,
     "metadata": {},
     "output_type": "execute_result"
    },
    {
     "data": {
      "image/png": "[encoded data removed]",
      "text/plain": [
       "<Figure size 864x576 with 1 Axes>"
      ]
     },
     "metadata": {},
     "output_type": "display_data"
    }
   ],
   "source": [
    "print(round((df.site.value_counts(normalize=True)), 2))\n",
    "siteTaux = round(df.site.value_counts(normalize=True), 2).plot(kind=\"pie\", figsize = (12,8), fontsize=12)\n",
    "siteTaux.set_title(\"Taux de pourcentage de site\", fontdict=fontdict)"
   ]
  },
  {
   "cell_type": "markdown",
   "metadata": {},
   "source": [
    "## Analyse de debut"
   ]
  },
  {
   "cell_type": "markdown",
   "metadata": {},
   "source": [
    "### Nombre de demandes d'enquête par année par rapport de debut de disposition"
   ]
  },
  {
   "cell_type": "code",
   "execution_count": 67,
   "metadata": {},
   "outputs": [
    {
     "name": "stdout",
     "output_type": "stream",
     "text": [
      "Nombre de demandes d'enquête par année : \n",
      " 2021    130\n",
      "2020     78\n",
      "2019      1\n",
      "Name: annéeDebut, dtype: int64\n"
     ]
    },
    {
     "data": {
      "text/plain": [
       "<matplotlib.axes._subplots.AxesSubplot at 0x2026cf0ff48>"
      ]
     },
     "execution_count": 67,
     "metadata": {},
     "output_type": "execute_result"
    },
    {
     "data": {
      "image/png": "[encoded data removed]",
      "text/plain": [
       "<Figure size 432x288 with 1 Axes>"
      ]
     },
     "metadata": {},
     "output_type": "display_data"
    }
   ],
   "source": [
    "print(\"Nombre de demandes d'enquête par année :\",\"\\n\", df.annéeDebut.value_counts())\n",
    "df.annéeDebut.value_counts().plot(kind=\"bar\")"
   ]
  },
  {
   "cell_type": "markdown",
   "metadata": {},
   "source": [
    "### Nombre de demandes d'enquête par mois par rapport de debut de disposition"
   ]
  },
  {
   "cell_type": "code",
   "execution_count": 68,
   "metadata": {},
   "outputs": [
    {
     "data": {
      "text/plain": [
       "Text(0.5, 1.0, 'Les debuts de disposition par rapport de mois')"
      ]
     },
     "execution_count": 68,
     "metadata": {},
     "output_type": "execute_result"
    },
    {
     "data": {
      "image/png": "[encoded data removed]",
      "text/plain": [
       "<Figure size 864x432 with 1 Axes>"
      ]
     },
     "metadata": {},
     "output_type": "display_data"
    }
   ],
   "source": [
    "debutMois = df.groupby(\"annéeDebut\")[\"moisDebut\"].value_counts(ascending=False, sort=False).plot(kind=\"bar\", figsize=(12,6))\n",
    "debutMois.set_xlabel(\"Mois\", fontdict=fontdict)\n",
    "debutMois.set_ylabel(\"Nombre\", fontdict=fontdict)\n",
    "debutMois.set_title(\"Les debuts de disposition par rapport de mois\", fontdict=fontdict)"
   ]
  },
  {
   "cell_type": "markdown",
   "metadata": {},
   "source": [
    "### Periode des debuts"
   ]
  },
  {
   "cell_type": "code",
   "execution_count": 69,
   "metadata": {},
   "outputs": [
    {
     "name": "stdout",
     "output_type": "stream",
     "text": [
      "Répartition des périodes selon les dates de début est : périodeAnnuelleDebut\n",
      "2019-2      1\n",
      "2020-1     41\n",
      "2020-2     37\n",
      "2021-1    114\n",
      "2021-2     16\n",
      "Name: dispositif, dtype: int64\n"
     ]
    },
    {
     "data": {
      "text/plain": [
       "Text(0.5, 1.0, 'Répartition des périodes selon les dates de début')"
      ]
     },
     "execution_count": 69,
     "metadata": {},
     "output_type": "execute_result"
    },
    {
     "data": {
      "image/png": "[encoded data removed]",
      "text/plain": [
       "<Figure size 720x360 with 1 Axes>"
      ]
     },
     "metadata": {},
     "output_type": "display_data"
    }
   ],
   "source": [
    "print(\"Répartition des périodes selon les dates de début est :\", df.groupby(\"périodeAnnuelleDebut\")[\"dispositif\"].count())\n",
    "périodeDebut = df.groupby(\"périodeAnnuelleDebut\")[\"dispositif\"].count().plot(kind=\"bar\", figsize=(10,5))\n",
    "périodeDebut.set_xlabel(\"Période\", fontdict=fontdict)\n",
    "périodeDebut.set_ylabel(\"Nombre\", fontdict=fontdict)\n",
    "périodeDebut.set_title(\"Répartition des périodes selon les dates de début\", fontdict=fontdict)"
   ]
  },
  {
   "cell_type": "markdown",
   "metadata": {},
   "source": [
    "## Analyse de fin"
   ]
  },
  {
   "cell_type": "markdown",
   "metadata": {},
   "source": [
    "### Nombre de demandes d'enquête par année par rapport de fin de disposition"
   ]
  },
  {
   "cell_type": "code",
   "execution_count": 70,
   "metadata": {},
   "outputs": [
    {
     "name": "stdout",
     "output_type": "stream",
     "text": [
      "Nombre de demandes d'enquête par année : \n",
      " 2021    159\n",
      "2020     50\n",
      "Name: annéeFin, dtype: int64\n"
     ]
    },
    {
     "data": {
      "text/plain": [
       "<matplotlib.axes._subplots.AxesSubplot at 0x2026d44e148>"
      ]
     },
     "execution_count": 70,
     "metadata": {},
     "output_type": "execute_result"
    },
    {
     "data": {
      "image/png": "[encoded data removed]",
      "text/plain": [
       "<Figure size 432x288 with 1 Axes>"
      ]
     },
     "metadata": {},
     "output_type": "display_data"
    }
   ],
   "source": [
    "print(\"Nombre de demandes d'enquête par année :\",\"\\n\", df.annéeFin.value_counts())\n",
    "df.annéeFin.value_counts().plot(kind=\"bar\")"
   ]
  },
  {
   "cell_type": "markdown",
   "metadata": {},
   "source": [
    "### Nombre de demandes d'enquête par mois par rapport de fin de disposition"
   ]
  },
  {
   "cell_type": "code",
   "execution_count": 71,
   "metadata": {},
   "outputs": [
    {
     "data": {
      "text/plain": [
       "Text(0.5, 1.0, 'Les fins de disposition par rapport de mois')"
      ]
     },
     "execution_count": 71,
     "metadata": {},
     "output_type": "execute_result"
    },
    {
     "data": {
      "image/png": "[encoded data removed]",
      "text/plain": [
       "<Figure size 864x432 with 1 Axes>"
      ]
     },
     "metadata": {},
     "output_type": "display_data"
    }
   ],
   "source": [
    "finMois = df.groupby(\"annéeFin\")[\"moisFin\"].value_counts(ascending=False, sort=False).plot(kind=\"bar\", figsize=(12,6))\n",
    "finMois.set_xlabel(\"Mois\", fontdict=fontdict)\n",
    "finMois.set_ylabel(\"Nombre\", fontdict=fontdict)\n",
    "finMois.set_title(\"Les fins de disposition par rapport de mois\", fontdict=fontdict)"
   ]
  },
  {
   "cell_type": "markdown",
   "metadata": {},
   "source": [
    "### Periode des fins"
   ]
  },
  {
   "cell_type": "code",
   "execution_count": 72,
   "metadata": {},
   "outputs": [
    {
     "name": "stdout",
     "output_type": "stream",
     "text": [
      "Répartition des périodes selon les dates de fin est : périodeAnnuelleFin\n",
      "2020-1     5\n",
      "2020-2    45\n",
      "2021-1    74\n",
      "2021-2    85\n",
      "Name: dispositif, dtype: int64\n"
     ]
    },
    {
     "data": {
      "text/plain": [
       "Text(0.5, 1.0, 'Répartition des périodes selon les dates de début')"
      ]
     },
     "execution_count": 72,
     "metadata": {},
     "output_type": "execute_result"
    },
    {
     "data": {
      "image/png": "[encoded data removed]",
      "text/plain": [
       "<Figure size 720x360 with 1 Axes>"
      ]
     },
     "metadata": {},
     "output_type": "display_data"
    }
   ],
   "source": [
    "print(\"Répartition des périodes selon les dates de fin est :\", df.groupby(\"périodeAnnuelleFin\")[\"dispositif\"].count())\n",
    "périodeFin = df.groupby(\"périodeAnnuelleFin\")[\"dispositif\"].count().plot(kind=\"bar\", figsize=(10,5))\n",
    "périodeFin.set_xlabel(\"Période\", fontdict=fontdict)\n",
    "périodeFin.set_ylabel(\"Nombre\", fontdict=fontdict)\n",
    "périodeFin.set_title(\"Répartition des périodes selon les dates de début\", fontdict=fontdict)"
   ]
  },
  {
   "cell_type": "markdown",
   "metadata": {},
   "source": [
    "## Analyse de jour"
   ]
  },
  {
   "cell_type": "code",
   "execution_count": 73,
   "metadata": {},
   "outputs": [
    {
     "data": {
      "text/plain": [
       "Text(0.5, 1.0, 'Répartition des jours')"
      ]
     },
     "execution_count": 73,
     "metadata": {},
     "output_type": "execute_result"
    },
    {
     "data": {
      "image/png": "[encoded data removed]",
      "text/plain": [
       "<Figure size 864x576 with 1 Axes>"
      ]
     },
     "metadata": {},
     "output_type": "display_data"
    }
   ],
   "source": [
    "jour = df.jourChiffres.value_counts(ascending=False, sort=True).plot(kind=\"bar\", figsize=(12,8))\n",
    "jour.set_xlabel(\"Nombre de jour\", fontdict=fontdict)\n",
    "jour.set_ylabel(\"Quantite\", fontdict=fontdict)\n",
    "jour.set_title(\"Répartition des jours\", fontdict=fontdict)"
   ]
  },
  {
   "cell_type": "markdown",
   "metadata": {},
   "source": [
    "# Tableau général"
   ]
  },
  {
   "cell_type": "code",
   "execution_count": 74,
   "metadata": {},
   "outputs": [],
   "source": [
    "#df.groupby(\"dispositif\")[\"statue\"].value_counts()"
   ]
  },
  {
   "cell_type": "code",
   "execution_count": 75,
   "metadata": {},
   "outputs": [
    {
     "data": {
      "text/plain": [
       "dispositif  site                   statue       \n",
       "AC          Autre Lieu Delocalise  intervenant-e     1\n",
       "            La Ferte-Mace          beneficiaire      1\n",
       "                                   intervenant-e     1\n",
       "BC          Argentan               beneficiaire      1\n",
       "                                   intervenant-e     1\n",
       "                                   prescripteur      1\n",
       "            Avranches              beneficiaire      1\n",
       "            Flers                  beneficiaire      2\n",
       "            Saint-Lo               beneficiaire      6\n",
       "                                   intervenant-e     3\n",
       "                                   prescripteur      3\n",
       "            Vire                   intervenant-e    20\n",
       "                                   beneficiaire     16\n",
       "                                   prescripteur      9\n",
       "FA          Autre Lieu Delocalise  intervenant-e     1\n",
       "            Vire                   beneficiaire      6\n",
       "                                   financeur         1\n",
       "                                   intervenant-e     1\n",
       "                                   prescripteur      1\n",
       "GDA         Vire                   beneficiaire      7\n",
       "                                   intervenant-e     5\n",
       "ISU         Autre Lieu Delocalise  prescripteur      1\n",
       "            Vire                   beneficiaire      1\n",
       "PH          Autre Lieu Delocalise  financeur         1\n",
       "            Vire                   prescripteur      1\n",
       "PIP         Argentan               beneficiaire      7\n",
       "                                   financeur         1\n",
       "                                   prescripteur      1\n",
       "            Domfront               beneficiaire     13\n",
       "            Flers                  beneficiaire      6\n",
       "PIS         Argentan               beneficiaire     15\n",
       "                                   intervenant-e     8\n",
       "                                   prescripteur      3\n",
       "                                   financeur         1\n",
       "            La Ferte-Mace          beneficiaire      8\n",
       "                                   intervenant-e     2\n",
       "PS          Autre Lieu Delocalise  beneficiaire     21\n",
       "                                   intervenant-e     1\n",
       "            Bayeux                 beneficiaire      4\n",
       "                                   intervenant-e     3\n",
       "                                   financeur         1\n",
       "                                   prescripteur      1\n",
       "            Caen                   financeur         1\n",
       "                                   prescripteur      1\n",
       "            Falaise                beneficiaire      6\n",
       "Remob       Avranches              intervenant-e     7\n",
       "                                   beneficiaire      4\n",
       "                                   financeur         1\n",
       "                                   prescripteur      1\n",
       "Name: statue, dtype: int64"
      ]
     },
     "execution_count": 75,
     "metadata": {},
     "output_type": "execute_result"
    }
   ],
   "source": [
    "df.groupby([\"dispositif\", \"site\"])[\"statue\"].value_counts()"
   ]
  },
  {
   "cell_type": "markdown",
   "metadata": {},
   "source": [
    "# Analysis de Questionnaire de Finaceur"
   ]
  },
  {
   "cell_type": "code",
   "execution_count": 76,
   "metadata": {},
   "outputs": [
    {
     "name": "stdout",
     "output_type": "stream",
     "text": [
      "Il ya 209 statue resultat.\n",
      "beneficiaire     125\n",
      "intervenant-e     54\n",
      "prescripteur      23\n",
      "financeur          7\n",
      "Name: statue, dtype: int64\n"
     ]
    }
   ],
   "source": [
    "print(\"Il ya\", len(df.statue), \"statue resultat.\")\n",
    "print(df.statue.value_counts())"
   ]
  },
  {
   "cell_type": "code",
   "execution_count": 77,
   "metadata": {},
   "outputs": [],
   "source": [
    "dfFin = df[df.statue ==\"financeur\"]"
   ]
  },
  {
   "cell_type": "code",
   "execution_count": 78,
   "metadata": {},
   "outputs": [
    {
     "data": {
      "text/html": [
       "<div>\n",
       "<style scoped>\n",
       "    .dataframe tbody tr th:only-of-type {\n",
       "        vertical-align: middle;\n",
       "    }\n",
       "\n",
       "    .dataframe tbody tr th {\n",
       "        vertical-align: top;\n",
       "    }\n",
       "\n",
       "    .dataframe thead th {\n",
       "        text-align: right;\n",
       "    }\n",
       "</style>\n",
       "<table border=\"1\" class=\"dataframe\">\n",
       "  <thead>\n",
       "    <tr style=\"text-align: right;\">\n",
       "      <th></th>\n",
       "      <th>dispositif</th>\n",
       "      <th>site</th>\n",
       "      <th>debut</th>\n",
       "      <th>annéeDebut</th>\n",
       "      <th>moisDebut</th>\n",
       "      <th>jourDebut</th>\n",
       "      <th>périodeDebut</th>\n",
       "      <th>périodeAnnuelleDebut</th>\n",
       "      <th>fin</th>\n",
       "      <th>annéeFin</th>\n",
       "      <th>...</th>\n",
       "      <th>ben1</th>\n",
       "      <th>ben2</th>\n",
       "      <th>ben3</th>\n",
       "      <th>ben4</th>\n",
       "      <th>ben5</th>\n",
       "      <th>ben6</th>\n",
       "      <th>ben7</th>\n",
       "      <th>comment</th>\n",
       "      <th>proposition</th>\n",
       "      <th>register_date</th>\n",
       "    </tr>\n",
       "  </thead>\n",
       "  <tbody>\n",
       "    <tr>\n",
       "      <th>99</th>\n",
       "      <td>PIP</td>\n",
       "      <td>Argentan</td>\n",
       "      <td>2021-01-20</td>\n",
       "      <td>2021</td>\n",
       "      <td>1</td>\n",
       "      <td>20</td>\n",
       "      <td>1</td>\n",
       "      <td>2021-1</td>\n",
       "      <td>2021-06-15</td>\n",
       "      <td>2021</td>\n",
       "      <td>...</td>\n",
       "      <td>NaN</td>\n",
       "      <td>NaN</td>\n",
       "      <td>NaN</td>\n",
       "      <td>NaN</td>\n",
       "      <td>NaN</td>\n",
       "      <td>NaN</td>\n",
       "      <td>NaN</td>\n",
       "      <td>La prestation correspond aux attentes du marché.</td>\n",
       "      <td>NaN</td>\n",
       "      <td>2021-06-25 08:58:23</td>\n",
       "    </tr>\n",
       "    <tr>\n",
       "      <th>108</th>\n",
       "      <td>PH</td>\n",
       "      <td>Autre Lieu Delocalise</td>\n",
       "      <td>2020-12-01</td>\n",
       "      <td>2020</td>\n",
       "      <td>12</td>\n",
       "      <td>1</td>\n",
       "      <td>2</td>\n",
       "      <td>2020-2</td>\n",
       "      <td>2020-12-01</td>\n",
       "      <td>2020</td>\n",
       "      <td>...</td>\n",
       "      <td>NaN</td>\n",
       "      <td>NaN</td>\n",
       "      <td>NaN</td>\n",
       "      <td>NaN</td>\n",
       "      <td>NaN</td>\n",
       "      <td>NaN</td>\n",
       "      <td>NaN</td>\n",
       "      <td>renouvellement de cette action aupres des 6ème...</td>\n",
       "      <td>NaN</td>\n",
       "      <td>2021-06-30 10:32:36</td>\n",
       "    </tr>\n",
       "    <tr>\n",
       "      <th>127</th>\n",
       "      <td>PS</td>\n",
       "      <td>Bayeux</td>\n",
       "      <td>2021-05-17</td>\n",
       "      <td>2021</td>\n",
       "      <td>5</td>\n",
       "      <td>17</td>\n",
       "      <td>1</td>\n",
       "      <td>2021-1</td>\n",
       "      <td>2021-07-16</td>\n",
       "      <td>2021</td>\n",
       "      <td>...</td>\n",
       "      <td>NaN</td>\n",
       "      <td>NaN</td>\n",
       "      <td>NaN</td>\n",
       "      <td>NaN</td>\n",
       "      <td>NaN</td>\n",
       "      <td>NaN</td>\n",
       "      <td>NaN</td>\n",
       "      <td>Accès à l'emploi pour 5p./10 soit 50%  : 2 ACI...</td>\n",
       "      <td>Travailler sur la mixité des emplois. Elargir ...</td>\n",
       "      <td>2021-07-16 14:39:02</td>\n",
       "    </tr>\n",
       "    <tr>\n",
       "      <th>145</th>\n",
       "      <td>FA</td>\n",
       "      <td>Vire</td>\n",
       "      <td>2021-08-30</td>\n",
       "      <td>2021</td>\n",
       "      <td>8</td>\n",
       "      <td>30</td>\n",
       "      <td>2</td>\n",
       "      <td>2021-2</td>\n",
       "      <td>2021-08-30</td>\n",
       "      <td>2021</td>\n",
       "      <td>...</td>\n",
       "      <td>NaN</td>\n",
       "      <td>NaN</td>\n",
       "      <td>NaN</td>\n",
       "      <td>NaN</td>\n",
       "      <td>NaN</td>\n",
       "      <td>NaN</td>\n",
       "      <td>NaN</td>\n",
       "      <td>NaN</td>\n",
       "      <td>NaN</td>\n",
       "      <td>2021-08-30 14:03:26</td>\n",
       "    </tr>\n",
       "    <tr>\n",
       "      <th>149</th>\n",
       "      <td>Remob</td>\n",
       "      <td>Avranches</td>\n",
       "      <td>2021-02-16</td>\n",
       "      <td>2021</td>\n",
       "      <td>2</td>\n",
       "      <td>16</td>\n",
       "      <td>1</td>\n",
       "      <td>2021-1</td>\n",
       "      <td>2021-09-02</td>\n",
       "      <td>2021</td>\n",
       "      <td>...</td>\n",
       "      <td>NaN</td>\n",
       "      <td>NaN</td>\n",
       "      <td>NaN</td>\n",
       "      <td>NaN</td>\n",
       "      <td>NaN</td>\n",
       "      <td>NaN</td>\n",
       "      <td>NaN</td>\n",
       "      <td>Bon déroulement du bilan, à poursuivre. Bonne ...</td>\n",
       "      <td>Valoriser la progression durant l'action.</td>\n",
       "      <td>2021-09-07 09:43:37</td>\n",
       "    </tr>\n",
       "  </tbody>\n",
       "</table>\n",
       "<p>5 rows × 52 columns</p>\n",
       "</div>"
      ],
      "text/plain": [
       "    dispositif                   site      debut  annéeDebut  moisDebut  \\\n",
       "99         PIP               Argentan 2021-01-20        2021          1   \n",
       "108         PH  Autre Lieu Delocalise 2020-12-01        2020         12   \n",
       "127         PS                 Bayeux 2021-05-17        2021          5   \n",
       "145         FA                   Vire 2021-08-30        2021          8   \n",
       "149      Remob              Avranches 2021-02-16        2021          2   \n",
       "\n",
       "     jourDebut  périodeDebut périodeAnnuelleDebut        fin  annéeFin  ...  \\\n",
       "99          20             1               2021-1 2021-06-15      2021  ...   \n",
       "108          1             2               2020-2 2020-12-01      2020  ...   \n",
       "127         17             1               2021-1 2021-07-16      2021  ...   \n",
       "145         30             2               2021-2 2021-08-30      2021  ...   \n",
       "149         16             1               2021-1 2021-09-02      2021  ...   \n",
       "\n",
       "     ben1  ben2  ben3 ben4 ben5  ben6 ben7  \\\n",
       "99    NaN   NaN   NaN  NaN  NaN   NaN  NaN   \n",
       "108   NaN   NaN   NaN  NaN  NaN   NaN  NaN   \n",
       "127   NaN   NaN   NaN  NaN  NaN   NaN  NaN   \n",
       "145   NaN   NaN   NaN  NaN  NaN   NaN  NaN   \n",
       "149   NaN   NaN   NaN  NaN  NaN   NaN  NaN   \n",
       "\n",
       "                                               comment  \\\n",
       "99    La prestation correspond aux attentes du marché.   \n",
       "108  renouvellement de cette action aupres des 6ème...   \n",
       "127  Accès à l'emploi pour 5p./10 soit 50%  : 2 ACI...   \n",
       "145                                                NaN   \n",
       "149  Bon déroulement du bilan, à poursuivre. Bonne ...   \n",
       "\n",
       "                                           proposition        register_date  \n",
       "99                                                 NaN  2021-06-25 08:58:23  \n",
       "108                                                NaN  2021-06-30 10:32:36  \n",
       "127  Travailler sur la mixité des emplois. Elargir ...  2021-07-16 14:39:02  \n",
       "145                                                NaN  2021-08-30 14:03:26  \n",
       "149          Valoriser la progression durant l'action.  2021-09-07 09:43:37  \n",
       "\n",
       "[5 rows x 52 columns]"
      ]
     },
     "execution_count": 78,
     "metadata": {},
     "output_type": "execute_result"
    }
   ],
   "source": [
    "dfFin.head()"
   ]
  },
  {
   "cell_type": "code",
   "execution_count": 79,
   "metadata": {},
   "outputs": [
    {
     "data": {
      "text/plain": [
       "Index(['dispositif', 'site', 'debut', 'annéeDebut', 'moisDebut', 'jourDebut',\n",
       "       'périodeDebut', 'périodeAnnuelleDebut', 'fin', 'annéeFin', 'moisFin',\n",
       "       'jourFin', 'périodeFin', 'périodeAnnuelleFin', 'jour', 'jourChiffres',\n",
       "       'statue', 'branche', 'fin1', 'fin2', 'fin3', 'fin4', 'fin5', 'intType',\n",
       "       'inter1', 'inter2', 'inter3', 'inter4', 'intForDis', 'inter5',\n",
       "       'intRisqS', 'intRisqH', 'intRisqJ', 'intRisqEn', 'intRisqEc',\n",
       "       'preUsager', 'pre1', 'pre2', 'pre3', 'pre4', 'pre5', 'pre6', 'ben1',\n",
       "       'ben2', 'ben3', 'ben4', 'ben5', 'ben6', 'ben7', 'comment',\n",
       "       'proposition', 'register_date'],\n",
       "      dtype='object')"
      ]
     },
     "execution_count": 79,
     "metadata": {},
     "output_type": "execute_result"
    }
   ],
   "source": [
    "dfFin.columns"
   ]
  },
  {
   "cell_type": "code",
   "execution_count": 80,
   "metadata": {},
   "outputs": [],
   "source": [
    "dfFin.drop(columns=['intType',\n",
    "       'inter1', 'inter2', 'inter3', 'inter4', 'intForDis', 'inter5',\n",
    "       'intRisqS', 'intRisqH', 'intRisqJ', 'intRisqEn', 'intRisqEc',\n",
    "       'preUsager', 'pre1', 'pre2', 'pre3', 'pre4', 'pre5', 'pre6', 'ben1',\n",
    "       'ben2', 'ben3', 'ben4', 'ben5', 'ben6', 'ben7'], axis = 1, inplace = True)"
   ]
  },
  {
   "cell_type": "code",
   "execution_count": 81,
   "metadata": {},
   "outputs": [
    {
     "data": {
      "text/html": [
       "<div>\n",
       "<style scoped>\n",
       "    .dataframe tbody tr th:only-of-type {\n",
       "        vertical-align: middle;\n",
       "    }\n",
       "\n",
       "    .dataframe tbody tr th {\n",
       "        vertical-align: top;\n",
       "    }\n",
       "\n",
       "    .dataframe thead th {\n",
       "        text-align: right;\n",
       "    }\n",
       "</style>\n",
       "<table border=\"1\" class=\"dataframe\">\n",
       "  <thead>\n",
       "    <tr style=\"text-align: right;\">\n",
       "      <th></th>\n",
       "      <th>dispositif</th>\n",
       "      <th>site</th>\n",
       "      <th>debut</th>\n",
       "      <th>annéeDebut</th>\n",
       "      <th>moisDebut</th>\n",
       "      <th>jourDebut</th>\n",
       "      <th>périodeDebut</th>\n",
       "      <th>périodeAnnuelleDebut</th>\n",
       "      <th>fin</th>\n",
       "      <th>annéeFin</th>\n",
       "      <th>...</th>\n",
       "      <th>statue</th>\n",
       "      <th>branche</th>\n",
       "      <th>fin1</th>\n",
       "      <th>fin2</th>\n",
       "      <th>fin3</th>\n",
       "      <th>fin4</th>\n",
       "      <th>fin5</th>\n",
       "      <th>comment</th>\n",
       "      <th>proposition</th>\n",
       "      <th>register_date</th>\n",
       "    </tr>\n",
       "  </thead>\n",
       "  <tbody>\n",
       "    <tr>\n",
       "      <th>99</th>\n",
       "      <td>PIP</td>\n",
       "      <td>Argentan</td>\n",
       "      <td>2021-01-20</td>\n",
       "      <td>2021</td>\n",
       "      <td>1</td>\n",
       "      <td>20</td>\n",
       "      <td>1</td>\n",
       "      <td>2021-1</td>\n",
       "      <td>2021-06-15</td>\n",
       "      <td>2021</td>\n",
       "      <td>...</td>\n",
       "      <td>financeur</td>\n",
       "      <td>financeur</td>\n",
       "      <td>Très satisfaisant</td>\n",
       "      <td>Très satisfaisant</td>\n",
       "      <td>Satisfaisant</td>\n",
       "      <td>Satisfaisant</td>\n",
       "      <td>Très satisfaisant</td>\n",
       "      <td>La prestation correspond aux attentes du marché.</td>\n",
       "      <td>NaN</td>\n",
       "      <td>2021-06-25 08:58:23</td>\n",
       "    </tr>\n",
       "  </tbody>\n",
       "</table>\n",
       "<p>1 rows × 26 columns</p>\n",
       "</div>"
      ],
      "text/plain": [
       "   dispositif      site      debut  annéeDebut  moisDebut  jourDebut  \\\n",
       "99        PIP  Argentan 2021-01-20        2021          1         20   \n",
       "\n",
       "    périodeDebut périodeAnnuelleDebut        fin  annéeFin  ...     statue  \\\n",
       "99             1               2021-1 2021-06-15      2021  ...  financeur   \n",
       "\n",
       "      branche               fin1               fin2          fin3  \\\n",
       "99  financeur  Très satisfaisant  Très satisfaisant  Satisfaisant   \n",
       "\n",
       "            fin4               fin5  \\\n",
       "99  Satisfaisant  Très satisfaisant   \n",
       "\n",
       "                                             comment proposition  \\\n",
       "99  La prestation correspond aux attentes du marché.         NaN   \n",
       "\n",
       "          register_date  \n",
       "99  2021-06-25 08:58:23  \n",
       "\n",
       "[1 rows x 26 columns]"
      ]
     },
     "execution_count": 81,
     "metadata": {},
     "output_type": "execute_result"
    }
   ],
   "source": [
    "dfFin.head(1)"
   ]
  },
  {
   "cell_type": "code",
   "execution_count": 82,
   "metadata": {},
   "outputs": [],
   "source": [
    "dfFin.rename(columns={\"fin1\":\"Disponibilité\", \"fin2\": \"Administratif\", \"fin3\": \"Respect\", \"fin4\":\"Cohérence\", \"fin5\": \"Supports\"}, inplace=True)"
   ]
  },
  {
   "cell_type": "code",
   "execution_count": 83,
   "metadata": {},
   "outputs": [
    {
     "data": {
      "text/html": [
       "<div>\n",
       "<style scoped>\n",
       "    .dataframe tbody tr th:only-of-type {\n",
       "        vertical-align: middle;\n",
       "    }\n",
       "\n",
       "    .dataframe tbody tr th {\n",
       "        vertical-align: top;\n",
       "    }\n",
       "\n",
       "    .dataframe thead th {\n",
       "        text-align: right;\n",
       "    }\n",
       "</style>\n",
       "<table border=\"1\" class=\"dataframe\">\n",
       "  <thead>\n",
       "    <tr style=\"text-align: right;\">\n",
       "      <th></th>\n",
       "      <th>dispositif</th>\n",
       "      <th>site</th>\n",
       "      <th>debut</th>\n",
       "      <th>annéeDebut</th>\n",
       "      <th>moisDebut</th>\n",
       "      <th>jourDebut</th>\n",
       "      <th>périodeDebut</th>\n",
       "      <th>périodeAnnuelleDebut</th>\n",
       "      <th>fin</th>\n",
       "      <th>annéeFin</th>\n",
       "      <th>...</th>\n",
       "      <th>statue</th>\n",
       "      <th>branche</th>\n",
       "      <th>Disponibilité</th>\n",
       "      <th>Administratif</th>\n",
       "      <th>Respect</th>\n",
       "      <th>Cohérence</th>\n",
       "      <th>Supports</th>\n",
       "      <th>comment</th>\n",
       "      <th>proposition</th>\n",
       "      <th>register_date</th>\n",
       "    </tr>\n",
       "  </thead>\n",
       "  <tbody>\n",
       "    <tr>\n",
       "      <th>99</th>\n",
       "      <td>PIP</td>\n",
       "      <td>Argentan</td>\n",
       "      <td>2021-01-20</td>\n",
       "      <td>2021</td>\n",
       "      <td>1</td>\n",
       "      <td>20</td>\n",
       "      <td>1</td>\n",
       "      <td>2021-1</td>\n",
       "      <td>2021-06-15</td>\n",
       "      <td>2021</td>\n",
       "      <td>...</td>\n",
       "      <td>financeur</td>\n",
       "      <td>financeur</td>\n",
       "      <td>Très satisfaisant</td>\n",
       "      <td>Très satisfaisant</td>\n",
       "      <td>Satisfaisant</td>\n",
       "      <td>Satisfaisant</td>\n",
       "      <td>Très satisfaisant</td>\n",
       "      <td>La prestation correspond aux attentes du marché.</td>\n",
       "      <td>NaN</td>\n",
       "      <td>2021-06-25 08:58:23</td>\n",
       "    </tr>\n",
       "  </tbody>\n",
       "</table>\n",
       "<p>1 rows × 26 columns</p>\n",
       "</div>"
      ],
      "text/plain": [
       "   dispositif      site      debut  annéeDebut  moisDebut  jourDebut  \\\n",
       "99        PIP  Argentan 2021-01-20        2021          1         20   \n",
       "\n",
       "    périodeDebut périodeAnnuelleDebut        fin  annéeFin  ...     statue  \\\n",
       "99             1               2021-1 2021-06-15      2021  ...  financeur   \n",
       "\n",
       "      branche      Disponibilité      Administratif       Respect  \\\n",
       "99  financeur  Très satisfaisant  Très satisfaisant  Satisfaisant   \n",
       "\n",
       "       Cohérence           Supports  \\\n",
       "99  Satisfaisant  Très satisfaisant   \n",
       "\n",
       "                                             comment proposition  \\\n",
       "99  La prestation correspond aux attentes du marché.         NaN   \n",
       "\n",
       "          register_date  \n",
       "99  2021-06-25 08:58:23  \n",
       "\n",
       "[1 rows x 26 columns]"
      ]
     },
     "execution_count": 83,
     "metadata": {},
     "output_type": "execute_result"
    }
   ],
   "source": [
    "dfFin.head(1)"
   ]
  },
  {
   "cell_type": "code",
   "execution_count": 84,
   "metadata": {},
   "outputs": [
    {
     "data": {
      "text/plain": [
       "dispositif                                                           PIP\n",
       "site                                                            Argentan\n",
       "debut                                                2021-01-20 00:00:00\n",
       "annéeDebut                                                          2021\n",
       "moisDebut                                                              1\n",
       "jourDebut                                                             20\n",
       "périodeDebut                                                           1\n",
       "périodeAnnuelleDebut                                              2021-1\n",
       "fin                                                  2021-06-15 00:00:00\n",
       "annéeFin                                                            2021\n",
       "moisFin                                                                6\n",
       "jourFin                                                               15\n",
       "périodeFin                                                             1\n",
       "périodeAnnuelleFin                                                2021-1\n",
       "jour                                                   146 days 00:00:00\n",
       "jourChiffres                                                         146\n",
       "statue                                                         financeur\n",
       "branche                                                        financeur\n",
       "Disponibilité                                          Très satisfaisant\n",
       "Administratif                                          Très satisfaisant\n",
       "Respect                                                     Satisfaisant\n",
       "Cohérence                                                   Satisfaisant\n",
       "Supports                                               Très satisfaisant\n",
       "comment                 La prestation correspond aux attentes du marché.\n",
       "proposition                                                          NaN\n",
       "register_date                                        2021-06-25 08:58:23\n",
       "Name: 99, dtype: object"
      ]
     },
     "execution_count": 84,
     "metadata": {},
     "output_type": "execute_result"
    }
   ],
   "source": [
    "dfFin.loc[99, :]"
   ]
  },
  {
   "cell_type": "markdown",
   "metadata": {},
   "source": [
    "## Gérer les valeurs manquantes "
   ]
  },
  {
   "cell_type": "code",
   "execution_count": 85,
   "metadata": {},
   "outputs": [
    {
     "data": {
      "text/plain": [
       "dispositif              0\n",
       "site                    0\n",
       "debut                   0\n",
       "annéeDebut              0\n",
       "moisDebut               0\n",
       "jourDebut               0\n",
       "périodeDebut            0\n",
       "périodeAnnuelleDebut    0\n",
       "fin                     0\n",
       "annéeFin                0\n",
       "moisFin                 0\n",
       "jourFin                 0\n",
       "périodeFin              0\n",
       "périodeAnnuelleFin      0\n",
       "jour                    0\n",
       "jourChiffres            0\n",
       "statue                  0\n",
       "branche                 0\n",
       "Disponibilité           0\n",
       "Administratif           0\n",
       "Respect                 0\n",
       "Cohérence               0\n",
       "Supports                0\n",
       "comment                 1\n",
       "proposition             4\n",
       "register_date           0\n",
       "dtype: int64"
      ]
     },
     "execution_count": 85,
     "metadata": {},
     "output_type": "execute_result"
    }
   ],
   "source": [
    "dfFin.isnull().sum()"
   ]
  },
  {
   "cell_type": "code",
   "execution_count": 86,
   "metadata": {},
   "outputs": [
    {
     "data": {
      "text/plain": [
       "Disponibilité                   on\n",
       "Administratif         Satisfaisant\n",
       "Respect               Satisfaisant\n",
       "Cohérence        Très satisfaisant\n",
       "Supports         Très satisfaisant\n",
       "Name: 149, dtype: object"
      ]
     },
     "execution_count": 86,
     "metadata": {},
     "output_type": "execute_result"
    }
   ],
   "source": [
    "dfFin.loc[149,  \"Disponibilité\":\"Supports\"]"
   ]
  },
  {
   "cell_type": "code",
   "execution_count": 87,
   "metadata": {},
   "outputs": [],
   "source": [
    "dfFin.at[149, \"Disponibilité\"]=\"Satisfaisant\""
   ]
  },
  {
   "cell_type": "code",
   "execution_count": 88,
   "metadata": {},
   "outputs": [],
   "source": [
    "map_dict_fin = {\"Très satisfaisant\":5, \"Satisfaisant\":4, \"Moyennement satisfaisant\":3, \"Pas satisfaisant\":2, \"Non concerné\":1}"
   ]
  },
  {
   "cell_type": "code",
   "execution_count": 89,
   "metadata": {},
   "outputs": [],
   "source": [
    "dfFin.Disponibilité = dfFin.Disponibilité.map(map_dict_fin)\n",
    "dfFin.Administratif = dfFin.Administratif.map(map_dict_fin)\n",
    "dfFin.Respect = dfFin.Respect.map(map_dict_fin)\n",
    "dfFin.Cohérence = dfFin.Cohérence.map(map_dict_fin)\n",
    "dfFin.Supports = dfFin.Supports.map(map_dict_fin)"
   ]
  },
  {
   "cell_type": "code",
   "execution_count": 90,
   "metadata": {},
   "outputs": [],
   "source": [
    "dfFin.Disponibilité.fillna(dfFin.Disponibilité.mean(), inplace =True)\n",
    "dfFin.Administratif.fillna(dfFin.Administratif.mean(), inplace =True)\n",
    "dfFin.Respect.fillna(dfFin.Administratif.mean(), inplace =True)\n",
    "dfFin.Cohérence.fillna(dfFin.Administratif.mean(), inplace =True)\n",
    "dfFin.Supports.fillna(dfFin.Administratif.mean(), inplace =True)"
   ]
  },
  {
   "cell_type": "code",
   "execution_count": 91,
   "metadata": {},
   "outputs": [
    {
     "name": "stdout",
     "output_type": "stream",
     "text": [
      "<class 'pandas.core.frame.DataFrame'>\n",
      "Int64Index: 7 entries, 99 to 186\n",
      "Data columns (total 26 columns):\n",
      " #   Column                Non-Null Count  Dtype          \n",
      "---  ------                --------------  -----          \n",
      " 0   dispositif            7 non-null      object         \n",
      " 1   site                  7 non-null      object         \n",
      " 2   debut                 7 non-null      datetime64[ns] \n",
      " 3   annéeDebut            7 non-null      int64          \n",
      " 4   moisDebut             7 non-null      int64          \n",
      " 5   jourDebut             7 non-null      int64          \n",
      " 6   périodeDebut          7 non-null      int32          \n",
      " 7   périodeAnnuelleDebut  7 non-null      object         \n",
      " 8   fin                   7 non-null      datetime64[ns] \n",
      " 9   annéeFin              7 non-null      int64          \n",
      " 10  moisFin               7 non-null      int64          \n",
      " 11  jourFin               7 non-null      int64          \n",
      " 12  périodeFin            7 non-null      int32          \n",
      " 13  périodeAnnuelleFin    7 non-null      object         \n",
      " 14  jour                  7 non-null      timedelta64[ns]\n",
      " 15  jourChiffres          7 non-null      int64          \n",
      " 16  statue                7 non-null      object         \n",
      " 17  branche               7 non-null      object         \n",
      " 18  Disponibilité         7 non-null      int64          \n",
      " 19  Administratif         7 non-null      int64          \n",
      " 20  Respect               7 non-null      int64          \n",
      " 21  Cohérence             7 non-null      int64          \n",
      " 22  Supports              7 non-null      int64          \n",
      " 23  comment               6 non-null      object         \n",
      " 24  proposition           3 non-null      object         \n",
      " 25  register_date         7 non-null      object         \n",
      "dtypes: datetime64[ns](2), int32(2), int64(12), object(9), timedelta64[ns](1)\n",
      "memory usage: 1.7+ KB\n"
     ]
    }
   ],
   "source": [
    "dfFin.info()"
   ]
  },
  {
   "cell_type": "markdown",
   "metadata": {},
   "source": [
    "#### Conversion les types des data au integer"
   ]
  },
  {
   "cell_type": "code",
   "execution_count": 92,
   "metadata": {},
   "outputs": [
    {
     "data": {
      "text/plain": [
       "array([5, 4], dtype=int64)"
      ]
     },
     "execution_count": 92,
     "metadata": {},
     "output_type": "execute_result"
    }
   ],
   "source": [
    "dfFin[\"Disponibilité\"].unique()"
   ]
  },
  {
   "cell_type": "code",
   "execution_count": 93,
   "metadata": {},
   "outputs": [],
   "source": [
    "dfFin[\"Disponibilité\"] = dfFin.Disponibilité.astype(\"int64\")"
   ]
  },
  {
   "cell_type": "markdown",
   "metadata": {},
   "source": [
    "## Financeur tout les questions"
   ]
  },
  {
   "cell_type": "code",
   "execution_count": 94,
   "metadata": {},
   "outputs": [
    {
     "data": {
      "text/html": [
       "<div>\n",
       "<style scoped>\n",
       "    .dataframe tbody tr th:only-of-type {\n",
       "        vertical-align: middle;\n",
       "    }\n",
       "\n",
       "    .dataframe tbody tr th {\n",
       "        vertical-align: top;\n",
       "    }\n",
       "\n",
       "    .dataframe thead tr th {\n",
       "        text-align: left;\n",
       "    }\n",
       "\n",
       "    .dataframe thead tr:last-of-type th {\n",
       "        text-align: right;\n",
       "    }\n",
       "</style>\n",
       "<table border=\"1\" class=\"dataframe\">\n",
       "  <thead>\n",
       "    <tr>\n",
       "      <th></th>\n",
       "      <th></th>\n",
       "      <th colspan=\"2\" halign=\"left\">Disponibilité</th>\n",
       "      <th colspan=\"2\" halign=\"left\">Administratif</th>\n",
       "      <th colspan=\"2\" halign=\"left\">Respect</th>\n",
       "      <th colspan=\"2\" halign=\"left\">Cohérence</th>\n",
       "      <th colspan=\"2\" halign=\"left\">Supports</th>\n",
       "    </tr>\n",
       "    <tr>\n",
       "      <th></th>\n",
       "      <th></th>\n",
       "      <th>count</th>\n",
       "      <th>mean</th>\n",
       "      <th>count</th>\n",
       "      <th>mean</th>\n",
       "      <th>count</th>\n",
       "      <th>mean</th>\n",
       "      <th>count</th>\n",
       "      <th>mean</th>\n",
       "      <th>count</th>\n",
       "      <th>mean</th>\n",
       "    </tr>\n",
       "    <tr>\n",
       "      <th>dispositif</th>\n",
       "      <th>site</th>\n",
       "      <th></th>\n",
       "      <th></th>\n",
       "      <th></th>\n",
       "      <th></th>\n",
       "      <th></th>\n",
       "      <th></th>\n",
       "      <th></th>\n",
       "      <th></th>\n",
       "      <th></th>\n",
       "      <th></th>\n",
       "    </tr>\n",
       "  </thead>\n",
       "  <tbody>\n",
       "    <tr>\n",
       "      <th>FA</th>\n",
       "      <th>Vire</th>\n",
       "      <td>1</td>\n",
       "      <td>5</td>\n",
       "      <td>1</td>\n",
       "      <td>5</td>\n",
       "      <td>1</td>\n",
       "      <td>5</td>\n",
       "      <td>1</td>\n",
       "      <td>5</td>\n",
       "      <td>1</td>\n",
       "      <td>5</td>\n",
       "    </tr>\n",
       "    <tr>\n",
       "      <th>PH</th>\n",
       "      <th>Autre Lieu Delocalise</th>\n",
       "      <td>1</td>\n",
       "      <td>5</td>\n",
       "      <td>1</td>\n",
       "      <td>5</td>\n",
       "      <td>1</td>\n",
       "      <td>5</td>\n",
       "      <td>1</td>\n",
       "      <td>5</td>\n",
       "      <td>1</td>\n",
       "      <td>5</td>\n",
       "    </tr>\n",
       "    <tr>\n",
       "      <th>PIP</th>\n",
       "      <th>Argentan</th>\n",
       "      <td>1</td>\n",
       "      <td>5</td>\n",
       "      <td>1</td>\n",
       "      <td>5</td>\n",
       "      <td>1</td>\n",
       "      <td>4</td>\n",
       "      <td>1</td>\n",
       "      <td>4</td>\n",
       "      <td>1</td>\n",
       "      <td>5</td>\n",
       "    </tr>\n",
       "    <tr>\n",
       "      <th>PIS</th>\n",
       "      <th>Argentan</th>\n",
       "      <td>1</td>\n",
       "      <td>5</td>\n",
       "      <td>1</td>\n",
       "      <td>5</td>\n",
       "      <td>1</td>\n",
       "      <td>5</td>\n",
       "      <td>1</td>\n",
       "      <td>5</td>\n",
       "      <td>1</td>\n",
       "      <td>5</td>\n",
       "    </tr>\n",
       "    <tr>\n",
       "      <th rowspan=\"2\" valign=\"top\">PS</th>\n",
       "      <th>Bayeux</th>\n",
       "      <td>1</td>\n",
       "      <td>5</td>\n",
       "      <td>1</td>\n",
       "      <td>5</td>\n",
       "      <td>1</td>\n",
       "      <td>5</td>\n",
       "      <td>1</td>\n",
       "      <td>4</td>\n",
       "      <td>1</td>\n",
       "      <td>5</td>\n",
       "    </tr>\n",
       "    <tr>\n",
       "      <th>Caen</th>\n",
       "      <td>1</td>\n",
       "      <td>5</td>\n",
       "      <td>1</td>\n",
       "      <td>5</td>\n",
       "      <td>1</td>\n",
       "      <td>5</td>\n",
       "      <td>1</td>\n",
       "      <td>5</td>\n",
       "      <td>1</td>\n",
       "      <td>5</td>\n",
       "    </tr>\n",
       "    <tr>\n",
       "      <th>Remob</th>\n",
       "      <th>Avranches</th>\n",
       "      <td>1</td>\n",
       "      <td>4</td>\n",
       "      <td>1</td>\n",
       "      <td>4</td>\n",
       "      <td>1</td>\n",
       "      <td>4</td>\n",
       "      <td>1</td>\n",
       "      <td>5</td>\n",
       "      <td>1</td>\n",
       "      <td>5</td>\n",
       "    </tr>\n",
       "  </tbody>\n",
       "</table>\n",
       "</div>"
      ],
      "text/plain": [
       "                                 Disponibilité      Administratif       \\\n",
       "                                         count mean         count mean   \n",
       "dispositif site                                                          \n",
       "FA         Vire                              1    5             1    5   \n",
       "PH         Autre Lieu Delocalise             1    5             1    5   \n",
       "PIP        Argentan                          1    5             1    5   \n",
       "PIS        Argentan                          1    5             1    5   \n",
       "PS         Bayeux                            1    5             1    5   \n",
       "           Caen                              1    5             1    5   \n",
       "Remob      Avranches                         1    4             1    4   \n",
       "\n",
       "                                 Respect      Cohérence      Supports       \n",
       "                                   count mean     count mean    count mean  \n",
       "dispositif site                                                             \n",
       "FA         Vire                        1    5         1    5        1    5  \n",
       "PH         Autre Lieu Delocalise       1    5         1    5        1    5  \n",
       "PIP        Argentan                    1    4         1    4        1    5  \n",
       "PIS        Argentan                    1    5         1    5        1    5  \n",
       "PS         Bayeux                      1    5         1    4        1    5  \n",
       "           Caen                        1    5         1    5        1    5  \n",
       "Remob      Avranches                   1    4         1    5        1    5  "
      ]
     },
     "execution_count": 94,
     "metadata": {},
     "output_type": "execute_result"
    }
   ],
   "source": [
    "dfFin.groupby([\"dispositif\", \"site\"])[\"Disponibilité\",\"Administratif\", \"Respect\", \"Cohérence\", \"Supports\"].agg([\"count\", \"mean\"])"
   ]
  },
  {
   "cell_type": "markdown",
   "metadata": {},
   "source": [
    "### Tableau general pour Financeur"
   ]
  },
  {
   "cell_type": "code",
   "execution_count": 95,
   "metadata": {},
   "outputs": [
    {
     "data": {
      "text/plain": [
       "Text(0.5, 1.0, \"Moyennes globales de l'enquête auprès des financeurs\")"
      ]
     },
     "execution_count": 95,
     "metadata": {},
     "output_type": "execute_result"
    },
    {
     "data": {
      "image/png": "[encoded data removed]",
      "text/plain": [
       "<Figure size 576x288 with 1 Axes>"
      ]
     },
     "metadata": {},
     "output_type": "display_data"
    }
   ],
   "source": [
    "genFin= dfFin[[\"Disponibilité\",\"Administratif\", \"Respect\",\"Cohérence\", \"Supports\"]].mean().plot(kind=\"bar\", figsize=(8,4), fontsize=14)\n",
    "genFin.set_xlabel(\"point\", fontdict=fontdict)\n",
    "genFin.set_ylabel(\"Sujet\", fontdict=fontdict)\n",
    "genFin.set_title(\"Moyennes globales de l'enquête auprès des financeurs\", fontdict=fontdict)"
   ]
  },
  {
   "cell_type": "markdown",
   "metadata": {},
   "source": [
    "### Les averages pour les questions"
   ]
  },
  {
   "cell_type": "code",
   "execution_count": 96,
   "metadata": {},
   "outputs": [
    {
     "name": "stdout",
     "output_type": "stream",
     "text": [
      "Avarage pour Disponibilité est:  4.9\n",
      "Avarage pour Administratif est:  4.9\n",
      "Avarage pour Respect est:  4.7\n",
      "Avarage pour Cohérence est:  4.7\n",
      "Avarage pour Supports est:  5.0\n"
     ]
    }
   ],
   "source": [
    "print(\"Avarage pour Disponibilité est: \", round(dfFin.Disponibilité.mean(), 1))\n",
    "print(\"Avarage pour Administratif est: \", round(dfFin.Administratif.mean(), 1))\n",
    "print(\"Avarage pour Respect est: \", round(dfFin.Respect.mean(),1))\n",
    "print(\"Avarage pour Cohérence est: \", round(dfFin.Cohérence.mean(), 1))\n",
    "print(\"Avarage pour Supports est: \", round(dfFin.Supports.mean(), 1))"
   ]
  },
  {
   "cell_type": "code",
   "execution_count": 97,
   "metadata": {},
   "outputs": [
    {
     "data": {
      "text/html": [
       "<div>\n",
       "<style scoped>\n",
       "    .dataframe tbody tr th:only-of-type {\n",
       "        vertical-align: middle;\n",
       "    }\n",
       "\n",
       "    .dataframe tbody tr th {\n",
       "        vertical-align: top;\n",
       "    }\n",
       "\n",
       "    .dataframe thead th {\n",
       "        text-align: right;\n",
       "    }\n",
       "</style>\n",
       "<table border=\"1\" class=\"dataframe\">\n",
       "  <thead>\n",
       "    <tr style=\"text-align: right;\">\n",
       "      <th></th>\n",
       "      <th>Disponibilité</th>\n",
       "      <th>Administratif</th>\n",
       "      <th>Respect</th>\n",
       "      <th>Cohérence</th>\n",
       "      <th>Supports</th>\n",
       "    </tr>\n",
       "  </thead>\n",
       "  <tbody>\n",
       "    <tr>\n",
       "      <th>99</th>\n",
       "      <td>5</td>\n",
       "      <td>5</td>\n",
       "      <td>4</td>\n",
       "      <td>4</td>\n",
       "      <td>5</td>\n",
       "    </tr>\n",
       "    <tr>\n",
       "      <th>108</th>\n",
       "      <td>5</td>\n",
       "      <td>5</td>\n",
       "      <td>5</td>\n",
       "      <td>5</td>\n",
       "      <td>5</td>\n",
       "    </tr>\n",
       "    <tr>\n",
       "      <th>127</th>\n",
       "      <td>5</td>\n",
       "      <td>5</td>\n",
       "      <td>5</td>\n",
       "      <td>4</td>\n",
       "      <td>5</td>\n",
       "    </tr>\n",
       "    <tr>\n",
       "      <th>145</th>\n",
       "      <td>5</td>\n",
       "      <td>5</td>\n",
       "      <td>5</td>\n",
       "      <td>5</td>\n",
       "      <td>5</td>\n",
       "    </tr>\n",
       "    <tr>\n",
       "      <th>149</th>\n",
       "      <td>4</td>\n",
       "      <td>4</td>\n",
       "      <td>4</td>\n",
       "      <td>5</td>\n",
       "      <td>5</td>\n",
       "    </tr>\n",
       "    <tr>\n",
       "      <th>161</th>\n",
       "      <td>5</td>\n",
       "      <td>5</td>\n",
       "      <td>5</td>\n",
       "      <td>5</td>\n",
       "      <td>5</td>\n",
       "    </tr>\n",
       "    <tr>\n",
       "      <th>186</th>\n",
       "      <td>5</td>\n",
       "      <td>5</td>\n",
       "      <td>5</td>\n",
       "      <td>5</td>\n",
       "      <td>5</td>\n",
       "    </tr>\n",
       "  </tbody>\n",
       "</table>\n",
       "</div>"
      ],
      "text/plain": [
       "     Disponibilité  Administratif  Respect  Cohérence  Supports\n",
       "99               5              5        4          4         5\n",
       "108              5              5        5          5         5\n",
       "127              5              5        5          4         5\n",
       "145              5              5        5          5         5\n",
       "149              4              4        4          5         5\n",
       "161              5              5        5          5         5\n",
       "186              5              5        5          5         5"
      ]
     },
     "execution_count": 97,
     "metadata": {},
     "output_type": "execute_result"
    }
   ],
   "source": [
    "dfFin[[\"Disponibilité\",\"Administratif\", \"Respect\",\"Cohérence\", \"Supports\"]]"
   ]
  },
  {
   "cell_type": "markdown",
   "metadata": {},
   "source": [
    "### Les Avarages Pour Financeur"
   ]
  },
  {
   "cell_type": "markdown",
   "metadata": {},
   "source": [
    "#### Question 1: Disponibilité et écoute de votre interlocuteur"
   ]
  },
  {
   "cell_type": "code",
   "execution_count": 98,
   "metadata": {
    "scrolled": true
   },
   "outputs": [
    {
     "name": "stdout",
     "output_type": "stream",
     "text": [
      "Le nombre total de réponses sur Disponibilité est : 5    6\n",
      "4    1\n",
      "Name: Disponibilité, dtype: int64\n",
      "Pourcentage pour Disponibilité est:  5    85.7\n",
      "4    14.3\n",
      "Name: Disponibilité, dtype: float64\n"
     ]
    },
    {
     "data": {
      "text/plain": [
       "<matplotlib.axes._subplots.AxesSubplot at 0x2026da01fc8>"
      ]
     },
     "execution_count": 98,
     "metadata": {},
     "output_type": "execute_result"
    },
    {
     "data": {
      "image/png": "[encoded data removed]",
      "text/plain": [
       "<Figure size 432x288 with 1 Axes>"
      ]
     },
     "metadata": {},
     "output_type": "display_data"
    }
   ],
   "source": [
    "print(\"Le nombre total de réponses sur Disponibilité est :\", dfFin[\"Disponibilité\"].value_counts())\n",
    "print(\"Pourcentage pour Disponibilité est: \", round(dfFin[\"Disponibilité\"].value_counts(normalize=True)*100,1))\n",
    "dfFin.Disponibilité.value_counts().plot(kind=\"bar\")"
   ]
  },
  {
   "cell_type": "markdown",
   "metadata": {},
   "source": [
    "#### Question 2: Suivi administratif de la prestation (convention, attestations, facturation…)"
   ]
  },
  {
   "cell_type": "code",
   "execution_count": 99,
   "metadata": {},
   "outputs": [
    {
     "name": "stdout",
     "output_type": "stream",
     "text": [
      "Le nombre total de réponses sur Administratif est : 5    6\n",
      "4    1\n",
      "Name: Administratif, dtype: int64\n",
      "Avarage pour Administratif est:  5    85.7\n",
      "4    14.3\n",
      "Name: Administratif, dtype: float64\n"
     ]
    },
    {
     "data": {
      "text/plain": [
       "<matplotlib.axes._subplots.AxesSubplot at 0x2026da63fc8>"
      ]
     },
     "execution_count": 99,
     "metadata": {},
     "output_type": "execute_result"
    },
    {
     "data": {
      "image/png": "[encoded data removed]",
      "text/plain": [
       "<Figure size 432x288 with 1 Axes>"
      ]
     },
     "metadata": {},
     "output_type": "display_data"
    }
   ],
   "source": [
    "print(\"Le nombre total de réponses sur Administratif est :\", dfFin[\"Administratif\"].value_counts())\n",
    "print(\"Avarage pour Administratif est: \", round(dfFin[\"Administratif\"].value_counts(normalize=True)*100,1))\n",
    "dfFin.Administratif.value_counts().plot(kind=\"bar\")"
   ]
  },
  {
   "cell_type": "markdown",
   "metadata": {},
   "source": [
    "#### Question 3: Respect des engagements pris"
   ]
  },
  {
   "cell_type": "code",
   "execution_count": 100,
   "metadata": {},
   "outputs": [
    {
     "name": "stdout",
     "output_type": "stream",
     "text": [
      "Le nombre total de réponses sur Respect est : 5    5\n",
      "4    2\n",
      "Name: Respect, dtype: int64\n",
      "Avarage pour Respect est:  5    71.4\n",
      "4    28.6\n",
      "Name: Respect, dtype: float64\n"
     ]
    },
    {
     "data": {
      "text/plain": [
       "<matplotlib.axes._subplots.AxesSubplot at 0x2026dab1288>"
      ]
     },
     "execution_count": 100,
     "metadata": {},
     "output_type": "execute_result"
    },
    {
     "data": {
      "image/png": "[encoded data removed]",
      "text/plain": [
       "<Figure size 432x288 with 1 Axes>"
      ]
     },
     "metadata": {},
     "output_type": "display_data"
    }
   ],
   "source": [
    "print(\"Le nombre total de réponses sur Respect est :\", dfFin[\"Respect\"].value_counts())\n",
    "print(\"Avarage pour Respect est: \", round(dfFin[\"Respect\"].value_counts(normalize=True)*100,1))\n",
    "dfFin.Respect.value_counts().plot(kind=\"bar\")"
   ]
  },
  {
   "cell_type": "markdown",
   "metadata": {},
   "source": [
    "#### Question 4: Cohérence des objectifs et des contenus au regard de vos besoins"
   ]
  },
  {
   "cell_type": "code",
   "execution_count": 101,
   "metadata": {},
   "outputs": [
    {
     "name": "stdout",
     "output_type": "stream",
     "text": [
      "Le nombre total de réponses sur Cohérence est : 5    5\n",
      "4    2\n",
      "Name: Cohérence, dtype: int64\n",
      "Avarage pour Cohérence est:  5    71.4\n",
      "4    28.6\n",
      "Name: Cohérence, dtype: float64\n"
     ]
    },
    {
     "data": {
      "text/plain": [
       "<matplotlib.axes._subplots.AxesSubplot at 0x2026db1c608>"
      ]
     },
     "execution_count": 101,
     "metadata": {},
     "output_type": "execute_result"
    },
    {
     "data": {
      "image/png": "[encoded data removed]",
      "text/plain": [
       "<Figure size 432x288 with 1 Axes>"
      ]
     },
     "metadata": {},
     "output_type": "display_data"
    }
   ],
   "source": [
    "print(\"Le nombre total de réponses sur Cohérence est :\", dfFin[\"Cohérence\"].value_counts())\n",
    "print(\"Avarage pour Cohérence est: \", round(dfFin[\"Cohérence\"].value_counts(normalize=True)*100,1))\n",
    "dfFin.Cohérence.value_counts().plot(kind=\"bar\")"
   ]
  },
  {
   "cell_type": "markdown",
   "metadata": {},
   "source": [
    "#### Question 5: Supports et moyens pédagogiques mis en œuvre au regard de vos attentes"
   ]
  },
  {
   "cell_type": "code",
   "execution_count": 102,
   "metadata": {},
   "outputs": [
    {
     "name": "stdout",
     "output_type": "stream",
     "text": [
      "Le nombre total de réponses sur Supports est : 5    7\n",
      "Name: Supports, dtype: int64\n",
      "Avarage pour Supports est:  5    100.0\n",
      "Name: Supports, dtype: float64\n"
     ]
    },
    {
     "data": {
      "text/plain": [
       "<matplotlib.axes._subplots.AxesSubplot at 0x2026db68b08>"
      ]
     },
     "execution_count": 102,
     "metadata": {},
     "output_type": "execute_result"
    },
    {
     "data": {
      "image/png": "[encoded data removed]",
      "text/plain": [
       "<Figure size 432x288 with 1 Axes>"
      ]
     },
     "metadata": {},
     "output_type": "display_data"
    }
   ],
   "source": [
    "print(\"Le nombre total de réponses sur Supports est :\", dfFin[\"Supports\"].value_counts())\n",
    "print(\"Avarage pour Supports est: \", round(dfFin[\"Supports\"].value_counts(normalize=True)*100,1))\n",
    "dfFin.Supports.value_counts().plot(kind=\"bar\")"
   ]
  },
  {
   "cell_type": "markdown",
   "metadata": {},
   "source": [
    "# Analysis de Questionnaire de Intervenant-e"
   ]
  },
  {
   "cell_type": "code",
   "execution_count": 103,
   "metadata": {},
   "outputs": [
    {
     "name": "stdout",
     "output_type": "stream",
     "text": [
      "Il ya 209 statue resultat.\n",
      "beneficiaire     125\n",
      "intervenant-e     54\n",
      "prescripteur      23\n",
      "financeur          7\n",
      "Name: statue, dtype: int64\n"
     ]
    }
   ],
   "source": [
    "print(\"Il ya\", len(df.statue), \"statue resultat.\")\n",
    "print(df.statue.value_counts())"
   ]
  },
  {
   "cell_type": "code",
   "execution_count": 104,
   "metadata": {},
   "outputs": [],
   "source": [
    "dfInt = df[df.statue ==\"intervenant-e\"]"
   ]
  },
  {
   "cell_type": "code",
   "execution_count": 105,
   "metadata": {},
   "outputs": [],
   "source": [
    "dfInt.drop(columns=['fin1', 'fin2', 'fin3', 'fin4', 'fin5',\n",
    "           'preUsager', 'pre1', 'pre2', 'pre3', 'pre4', 'pre5', 'pre6', 'ben1',\n",
    "       'ben2', 'ben3', 'ben4', 'ben5', 'ben6', 'ben7'], axis=1, inplace=True)"
   ]
  },
  {
   "cell_type": "code",
   "execution_count": 106,
   "metadata": {},
   "outputs": [
    {
     "data": {
      "text/plain": [
       "Index(['dispositif', 'site', 'debut', 'annéeDebut', 'moisDebut', 'jourDebut',\n",
       "       'périodeDebut', 'périodeAnnuelleDebut', 'fin', 'annéeFin', 'moisFin',\n",
       "       'jourFin', 'périodeFin', 'périodeAnnuelleFin', 'jour', 'jourChiffres',\n",
       "       'statue', 'branche', 'intType', 'inter1', 'inter2', 'inter3', 'inter4',\n",
       "       'intForDis', 'inter5', 'intRisqS', 'intRisqH', 'intRisqJ', 'intRisqEn',\n",
       "       'intRisqEc', 'comment', 'proposition', 'register_date'],\n",
       "      dtype='object')"
      ]
     },
     "execution_count": 106,
     "metadata": {},
     "output_type": "execute_result"
    }
   ],
   "source": [
    "dfInt.columns"
   ]
  },
  {
   "cell_type": "code",
   "execution_count": 107,
   "metadata": {},
   "outputs": [],
   "source": [
    "dfInt.rename(columns={'intType': \"Type\", \"inter1\":\"Objectif\", \"inter2\": \"Contenus\", \"inter3\": \"Matériel\", \n",
    "                      \"inter4\":\"Document\", \"intForDis\": \"ForDistance\", \"inter5\": \"ForDistanceAvis\", \"intRisqS\":\"Risque_Social\",\n",
    "                      \"intRisqH\":\"Risque_Hygiène\" ,\"intRisqJ\":\"Risque_Juridique\",\"intRisqEn\": \"Risque_Environ\",\"intRisqEc\":\"Risque_éco\"}, inplace=True)"
   ]
  },
  {
   "cell_type": "code",
   "execution_count": 108,
   "metadata": {},
   "outputs": [
    {
     "data": {
      "text/plain": [
       "Int64Index([  3,   6,  11,  12,  13,  18,  19,  22,  27,  30,  79,  80,  81,\n",
       "             82,  83,  84,  85,  86,  87,  88,  89,  90,  91,  92,  93,  94,\n",
       "             95, 118, 119, 121, 123, 130, 133, 144, 147, 153, 154, 155, 156,\n",
       "            157, 158, 159, 164, 169, 170, 187, 188, 189, 191, 195, 196, 198,\n",
       "            200, 202],\n",
       "           dtype='int64')"
      ]
     },
     "execution_count": 108,
     "metadata": {},
     "output_type": "execute_result"
    }
   ],
   "source": [
    "dfInt.index"
   ]
  },
  {
   "cell_type": "code",
   "execution_count": 109,
   "metadata": {},
   "outputs": [
    {
     "data": {
      "text/plain": [
       "dispositif                               BC\n",
       "site                                   Vire\n",
       "debut                   2021-02-23 00:00:00\n",
       "annéeDebut                             2021\n",
       "moisDebut                                 2\n",
       "jourDebut                                23\n",
       "périodeDebut                              1\n",
       "périodeAnnuelleDebut                 2021-1\n",
       "fin                     2021-06-08 00:00:00\n",
       "annéeFin                               2021\n",
       "moisFin                                   6\n",
       "jourFin                                   8\n",
       "périodeFin                                1\n",
       "périodeAnnuelleFin                   2021-1\n",
       "jour                      105 days 00:00:00\n",
       "jourChiffres                            105\n",
       "statue                        intervenant-e\n",
       "branche                       intervenant-e\n",
       "Type                                  Etape\n",
       "Objectif                        Tout a fait\n",
       "Contenus                        Tout a fait\n",
       "Matériel                        Tout a fait\n",
       "Document                        Tout a fait\n",
       "ForDistance                             Oui\n",
       "ForDistanceAvis           Très satisfaisant\n",
       "Risque_Social                           Non\n",
       "Risque_Hygiène                          Non\n",
       "Risque_Juridique                        Non\n",
       "Risque_Environ                          Non\n",
       "Risque_éco                              Non\n",
       "comment                                 NaN\n",
       "proposition                             NaN\n",
       "register_date           2021-06-22 12:21:35\n",
       "Name: 3, dtype: object"
      ]
     },
     "execution_count": 109,
     "metadata": {},
     "output_type": "execute_result"
    }
   ],
   "source": [
    "dfInt.loc[3, :]"
   ]
  },
  {
   "cell_type": "code",
   "execution_count": 110,
   "metadata": {},
   "outputs": [
    {
     "data": {
      "text/plain": [
       "Index(['dispositif', 'site', 'debut', 'annéeDebut', 'moisDebut', 'jourDebut',\n",
       "       'périodeDebut', 'périodeAnnuelleDebut', 'fin', 'annéeFin', 'moisFin',\n",
       "       'jourFin', 'périodeFin', 'périodeAnnuelleFin', 'jour', 'jourChiffres',\n",
       "       'statue', 'branche', 'Type', 'Objectif', 'Contenus', 'Matériel',\n",
       "       'Document', 'ForDistance', 'ForDistanceAvis', 'Risque_Social',\n",
       "       'Risque_Hygiène', 'Risque_Juridique', 'Risque_Environ', 'Risque_éco',\n",
       "       'comment', 'proposition', 'register_date'],\n",
       "      dtype='object')"
      ]
     },
     "execution_count": 110,
     "metadata": {},
     "output_type": "execute_result"
    }
   ],
   "source": [
    "dfInt.columns"
   ]
  },
  {
   "cell_type": "code",
   "execution_count": 111,
   "metadata": {},
   "outputs": [
    {
     "name": "stdout",
     "output_type": "stream",
     "text": [
      "<class 'pandas.core.frame.DataFrame'>\n",
      "Int64Index: 54 entries, 3 to 202\n",
      "Data columns (total 33 columns):\n",
      " #   Column                Non-Null Count  Dtype          \n",
      "---  ------                --------------  -----          \n",
      " 0   dispositif            54 non-null     object         \n",
      " 1   site                  54 non-null     object         \n",
      " 2   debut                 54 non-null     datetime64[ns] \n",
      " 3   annéeDebut            54 non-null     int64          \n",
      " 4   moisDebut             54 non-null     int64          \n",
      " 5   jourDebut             54 non-null     int64          \n",
      " 6   périodeDebut          54 non-null     int32          \n",
      " 7   périodeAnnuelleDebut  54 non-null     object         \n",
      " 8   fin                   54 non-null     datetime64[ns] \n",
      " 9   annéeFin              54 non-null     int64          \n",
      " 10  moisFin               54 non-null     int64          \n",
      " 11  jourFin               54 non-null     int64          \n",
      " 12  périodeFin            54 non-null     int32          \n",
      " 13  périodeAnnuelleFin    54 non-null     object         \n",
      " 14  jour                  54 non-null     timedelta64[ns]\n",
      " 15  jourChiffres          54 non-null     int64          \n",
      " 16  statue                54 non-null     object         \n",
      " 17  branche               54 non-null     object         \n",
      " 18  Type                  53 non-null     object         \n",
      " 19  Objectif              54 non-null     object         \n",
      " 20  Contenus              52 non-null     object         \n",
      " 21  Matériel              53 non-null     object         \n",
      " 22  Document              51 non-null     object         \n",
      " 23  ForDistance           53 non-null     object         \n",
      " 24  ForDistanceAvis       18 non-null     object         \n",
      " 25  Risque_Social         53 non-null     object         \n",
      " 26  Risque_Hygiène        37 non-null     object         \n",
      " 27  Risque_Juridique      36 non-null     object         \n",
      " 28  Risque_Environ        37 non-null     object         \n",
      " 29  Risque_éco            37 non-null     object         \n",
      " 30  comment               7 non-null      object         \n",
      " 31  proposition           1 non-null      object         \n",
      " 32  register_date         54 non-null     object         \n",
      "dtypes: datetime64[ns](2), int32(2), int64(7), object(21), timedelta64[ns](1)\n",
      "memory usage: 16.4+ KB\n"
     ]
    }
   ],
   "source": [
    "dfInt.info()"
   ]
  },
  {
   "cell_type": "code",
   "execution_count": 112,
   "metadata": {},
   "outputs": [],
   "source": [
    "map_dict_int_Questions = {\"Tout a fait\":5, \"Presque\":4, \"Pas vraiment\":3, \"Pas du tout\":2}\n",
    "map_dict_int_ForDistanceAvis = {\"Très satisfaisant\":5, \"Satisfaisant\":4, \"Moyennement satisfaisant\":3, \"Insatisfaisant\":2}\n",
    "#map_dict_int_OuiNon = {\"Oui\":1, \"Non\":0}"
   ]
  },
  {
   "cell_type": "code",
   "execution_count": 113,
   "metadata": {},
   "outputs": [],
   "source": [
    "dfInt.Objectif= dfInt.Objectif.map(map_dict_int_Questions)\n",
    "dfInt.Contenus= dfInt.Contenus.map(map_dict_int_Questions)\n",
    "dfInt.Matériel= dfInt.Matériel.map(map_dict_int_Questions)\n",
    "dfInt.Document= dfInt.Document.map(map_dict_int_Questions)\n",
    "dfInt.ForDistanceAvis= dfInt.ForDistanceAvis.map(map_dict_int_ForDistanceAvis)"
   ]
  },
  {
   "cell_type": "code",
   "execution_count": 114,
   "metadata": {},
   "outputs": [
    {
     "name": "stdout",
     "output_type": "stream",
     "text": [
      "<class 'pandas.core.frame.DataFrame'>\n",
      "Int64Index: 54 entries, 3 to 202\n",
      "Data columns (total 33 columns):\n",
      " #   Column                Non-Null Count  Dtype          \n",
      "---  ------                --------------  -----          \n",
      " 0   dispositif            54 non-null     object         \n",
      " 1   site                  54 non-null     object         \n",
      " 2   debut                 54 non-null     datetime64[ns] \n",
      " 3   annéeDebut            54 non-null     int64          \n",
      " 4   moisDebut             54 non-null     int64          \n",
      " 5   jourDebut             54 non-null     int64          \n",
      " 6   périodeDebut          54 non-null     int32          \n",
      " 7   périodeAnnuelleDebut  54 non-null     object         \n",
      " 8   fin                   54 non-null     datetime64[ns] \n",
      " 9   annéeFin              54 non-null     int64          \n",
      " 10  moisFin               54 non-null     int64          \n",
      " 11  jourFin               54 non-null     int64          \n",
      " 12  périodeFin            54 non-null     int32          \n",
      " 13  périodeAnnuelleFin    54 non-null     object         \n",
      " 14  jour                  54 non-null     timedelta64[ns]\n",
      " 15  jourChiffres          54 non-null     int64          \n",
      " 16  statue                54 non-null     object         \n",
      " 17  branche               54 non-null     object         \n",
      " 18  Type                  53 non-null     object         \n",
      " 19  Objectif              54 non-null     int64          \n",
      " 20  Contenus              52 non-null     float64        \n",
      " 21  Matériel              53 non-null     float64        \n",
      " 22  Document              51 non-null     float64        \n",
      " 23  ForDistance           53 non-null     object         \n",
      " 24  ForDistanceAvis       18 non-null     float64        \n",
      " 25  Risque_Social         53 non-null     object         \n",
      " 26  Risque_Hygiène        37 non-null     object         \n",
      " 27  Risque_Juridique      36 non-null     object         \n",
      " 28  Risque_Environ        37 non-null     object         \n",
      " 29  Risque_éco            37 non-null     object         \n",
      " 30  comment               7 non-null      object         \n",
      " 31  proposition           1 non-null      object         \n",
      " 32  register_date         54 non-null     object         \n",
      "dtypes: datetime64[ns](2), float64(4), int32(2), int64(8), object(16), timedelta64[ns](1)\n",
      "memory usage: 16.4+ KB\n"
     ]
    }
   ],
   "source": [
    "dfInt.info()"
   ]
  },
  {
   "cell_type": "markdown",
   "metadata": {},
   "source": [
    "### Gérer les valeurs manquantes"
   ]
  },
  {
   "cell_type": "code",
   "execution_count": 115,
   "metadata": {},
   "outputs": [
    {
     "data": {
      "text/plain": [
       "dispositif               0\n",
       "site                     0\n",
       "debut                    0\n",
       "annéeDebut               0\n",
       "moisDebut                0\n",
       "jourDebut                0\n",
       "périodeDebut             0\n",
       "périodeAnnuelleDebut     0\n",
       "fin                      0\n",
       "annéeFin                 0\n",
       "moisFin                  0\n",
       "jourFin                  0\n",
       "périodeFin               0\n",
       "périodeAnnuelleFin       0\n",
       "jour                     0\n",
       "jourChiffres             0\n",
       "statue                   0\n",
       "branche                  0\n",
       "Type                     1\n",
       "Objectif                 0\n",
       "Contenus                 2\n",
       "Matériel                 1\n",
       "Document                 3\n",
       "ForDistance              1\n",
       "ForDistanceAvis         36\n",
       "Risque_Social            1\n",
       "Risque_Hygiène          17\n",
       "Risque_Juridique        18\n",
       "Risque_Environ          17\n",
       "Risque_éco              17\n",
       "comment                 47\n",
       "proposition             53\n",
       "register_date            0\n",
       "dtype: int64"
      ]
     },
     "execution_count": 115,
     "metadata": {},
     "output_type": "execute_result"
    }
   ],
   "source": [
    "dfInt.isnull().sum()"
   ]
  },
  {
   "cell_type": "code",
   "execution_count": 116,
   "metadata": {},
   "outputs": [],
   "source": [
    "dfInt.Objectif.fillna(dfInt.Objectif.mean(), inplace =True)\n",
    "dfInt.Contenus.fillna(dfInt.Contenus.mean(), inplace =True)\n",
    "dfInt.Matériel.fillna(dfInt.Matériel.mean(), inplace =True)\n",
    "dfInt.Document.fillna(dfInt.Document.mean(), inplace =True)\n",
    "dfInt.ForDistanceAvis.fillna(dfInt.ForDistanceAvis.mean(), inplace =True)"
   ]
  },
  {
   "cell_type": "markdown",
   "metadata": {},
   "source": [
    "#### Conversion les types des data au integer"
   ]
  },
  {
   "cell_type": "code",
   "execution_count": 117,
   "metadata": {},
   "outputs": [],
   "source": [
    "dfInt[\"Objectif\"] = dfInt.Objectif.astype(\"int64\")\n",
    "dfInt[\"Contenus\"] = dfInt.Contenus.astype(\"int64\")\n",
    "dfInt[\"Matériel\"] = dfInt.Matériel.astype(\"int64\")\n",
    "dfInt[\"Document\"] = dfInt.Document.astype(\"int64\")\n",
    "dfInt[\"ForDistanceAvis\"] = dfInt.ForDistanceAvis.astype(\"int64\")"
   ]
  },
  {
   "cell_type": "markdown",
   "metadata": {},
   "source": [
    "### Intervenant tout les questions"
   ]
  },
  {
   "cell_type": "code",
   "execution_count": 118,
   "metadata": {},
   "outputs": [
    {
     "data": {
      "text/html": [
       "<div>\n",
       "<style scoped>\n",
       "    .dataframe tbody tr th:only-of-type {\n",
       "        vertical-align: middle;\n",
       "    }\n",
       "\n",
       "    .dataframe tbody tr th {\n",
       "        vertical-align: top;\n",
       "    }\n",
       "\n",
       "    .dataframe thead tr th {\n",
       "        text-align: left;\n",
       "    }\n",
       "\n",
       "    .dataframe thead tr:last-of-type th {\n",
       "        text-align: right;\n",
       "    }\n",
       "</style>\n",
       "<table border=\"1\" class=\"dataframe\">\n",
       "  <thead>\n",
       "    <tr>\n",
       "      <th></th>\n",
       "      <th></th>\n",
       "      <th colspan=\"2\" halign=\"left\">Objectif</th>\n",
       "      <th colspan=\"2\" halign=\"left\">Contenus</th>\n",
       "      <th colspan=\"2\" halign=\"left\">Matériel</th>\n",
       "      <th colspan=\"2\" halign=\"left\">Document</th>\n",
       "      <th colspan=\"2\" halign=\"left\">ForDistanceAvis</th>\n",
       "    </tr>\n",
       "    <tr>\n",
       "      <th></th>\n",
       "      <th></th>\n",
       "      <th>count</th>\n",
       "      <th>mean</th>\n",
       "      <th>count</th>\n",
       "      <th>mean</th>\n",
       "      <th>count</th>\n",
       "      <th>mean</th>\n",
       "      <th>count</th>\n",
       "      <th>mean</th>\n",
       "      <th>count</th>\n",
       "      <th>mean</th>\n",
       "    </tr>\n",
       "    <tr>\n",
       "      <th>dispositif</th>\n",
       "      <th>site</th>\n",
       "      <th></th>\n",
       "      <th></th>\n",
       "      <th></th>\n",
       "      <th></th>\n",
       "      <th></th>\n",
       "      <th></th>\n",
       "      <th></th>\n",
       "      <th></th>\n",
       "      <th></th>\n",
       "      <th></th>\n",
       "    </tr>\n",
       "  </thead>\n",
       "  <tbody>\n",
       "    <tr>\n",
       "      <th rowspan=\"2\" valign=\"top\">AC</th>\n",
       "      <th>Autre Lieu Delocalise</th>\n",
       "      <td>1</td>\n",
       "      <td>4.0</td>\n",
       "      <td>1</td>\n",
       "      <td>5.0</td>\n",
       "      <td>1</td>\n",
       "      <td>5.0</td>\n",
       "      <td>1</td>\n",
       "      <td>5.0</td>\n",
       "      <td>1</td>\n",
       "      <td>4.0</td>\n",
       "    </tr>\n",
       "    <tr>\n",
       "      <th>La Ferte-Mace</th>\n",
       "      <td>1</td>\n",
       "      <td>5.0</td>\n",
       "      <td>1</td>\n",
       "      <td>5.0</td>\n",
       "      <td>1</td>\n",
       "      <td>5.0</td>\n",
       "      <td>1</td>\n",
       "      <td>5.0</td>\n",
       "      <td>1</td>\n",
       "      <td>4.0</td>\n",
       "    </tr>\n",
       "    <tr>\n",
       "      <th rowspan=\"3\" valign=\"top\">BC</th>\n",
       "      <th>Argentan</th>\n",
       "      <td>1</td>\n",
       "      <td>5.0</td>\n",
       "      <td>1</td>\n",
       "      <td>5.0</td>\n",
       "      <td>1</td>\n",
       "      <td>5.0</td>\n",
       "      <td>1</td>\n",
       "      <td>5.0</td>\n",
       "      <td>1</td>\n",
       "      <td>5.0</td>\n",
       "    </tr>\n",
       "    <tr>\n",
       "      <th>Saint-Lo</th>\n",
       "      <td>3</td>\n",
       "      <td>5.0</td>\n",
       "      <td>3</td>\n",
       "      <td>5.0</td>\n",
       "      <td>3</td>\n",
       "      <td>5.0</td>\n",
       "      <td>3</td>\n",
       "      <td>5.0</td>\n",
       "      <td>3</td>\n",
       "      <td>4.3</td>\n",
       "    </tr>\n",
       "    <tr>\n",
       "      <th>Vire</th>\n",
       "      <td>20</td>\n",
       "      <td>4.9</td>\n",
       "      <td>20</td>\n",
       "      <td>5.0</td>\n",
       "      <td>20</td>\n",
       "      <td>5.0</td>\n",
       "      <td>20</td>\n",
       "      <td>5.0</td>\n",
       "      <td>20</td>\n",
       "      <td>4.2</td>\n",
       "    </tr>\n",
       "    <tr>\n",
       "      <th rowspan=\"2\" valign=\"top\">FA</th>\n",
       "      <th>Autre Lieu Delocalise</th>\n",
       "      <td>1</td>\n",
       "      <td>5.0</td>\n",
       "      <td>1</td>\n",
       "      <td>5.0</td>\n",
       "      <td>1</td>\n",
       "      <td>5.0</td>\n",
       "      <td>1</td>\n",
       "      <td>5.0</td>\n",
       "      <td>1</td>\n",
       "      <td>4.0</td>\n",
       "    </tr>\n",
       "    <tr>\n",
       "      <th>Vire</th>\n",
       "      <td>1</td>\n",
       "      <td>5.0</td>\n",
       "      <td>1</td>\n",
       "      <td>4.0</td>\n",
       "      <td>1</td>\n",
       "      <td>5.0</td>\n",
       "      <td>1</td>\n",
       "      <td>5.0</td>\n",
       "      <td>1</td>\n",
       "      <td>4.0</td>\n",
       "    </tr>\n",
       "    <tr>\n",
       "      <th>GDA</th>\n",
       "      <th>Vire</th>\n",
       "      <td>5</td>\n",
       "      <td>5.0</td>\n",
       "      <td>5</td>\n",
       "      <td>5.0</td>\n",
       "      <td>5</td>\n",
       "      <td>5.0</td>\n",
       "      <td>5</td>\n",
       "      <td>5.0</td>\n",
       "      <td>5</td>\n",
       "      <td>4.8</td>\n",
       "    </tr>\n",
       "    <tr>\n",
       "      <th rowspan=\"2\" valign=\"top\">PIS</th>\n",
       "      <th>Argentan</th>\n",
       "      <td>8</td>\n",
       "      <td>4.6</td>\n",
       "      <td>8</td>\n",
       "      <td>4.8</td>\n",
       "      <td>8</td>\n",
       "      <td>4.8</td>\n",
       "      <td>8</td>\n",
       "      <td>4.9</td>\n",
       "      <td>8</td>\n",
       "      <td>4.1</td>\n",
       "    </tr>\n",
       "    <tr>\n",
       "      <th>La Ferte-Mace</th>\n",
       "      <td>2</td>\n",
       "      <td>5.0</td>\n",
       "      <td>2</td>\n",
       "      <td>5.0</td>\n",
       "      <td>2</td>\n",
       "      <td>5.0</td>\n",
       "      <td>2</td>\n",
       "      <td>5.0</td>\n",
       "      <td>2</td>\n",
       "      <td>4.0</td>\n",
       "    </tr>\n",
       "    <tr>\n",
       "      <th rowspan=\"2\" valign=\"top\">PS</th>\n",
       "      <th>Autre Lieu Delocalise</th>\n",
       "      <td>1</td>\n",
       "      <td>5.0</td>\n",
       "      <td>1</td>\n",
       "      <td>5.0</td>\n",
       "      <td>1</td>\n",
       "      <td>5.0</td>\n",
       "      <td>1</td>\n",
       "      <td>5.0</td>\n",
       "      <td>1</td>\n",
       "      <td>4.0</td>\n",
       "    </tr>\n",
       "    <tr>\n",
       "      <th>Bayeux</th>\n",
       "      <td>3</td>\n",
       "      <td>5.0</td>\n",
       "      <td>3</td>\n",
       "      <td>5.0</td>\n",
       "      <td>3</td>\n",
       "      <td>5.0</td>\n",
       "      <td>3</td>\n",
       "      <td>5.0</td>\n",
       "      <td>3</td>\n",
       "      <td>4.3</td>\n",
       "    </tr>\n",
       "    <tr>\n",
       "      <th>Remob</th>\n",
       "      <th>Avranches</th>\n",
       "      <td>7</td>\n",
       "      <td>5.0</td>\n",
       "      <td>7</td>\n",
       "      <td>4.9</td>\n",
       "      <td>7</td>\n",
       "      <td>5.0</td>\n",
       "      <td>7</td>\n",
       "      <td>4.7</td>\n",
       "      <td>7</td>\n",
       "      <td>4.0</td>\n",
       "    </tr>\n",
       "  </tbody>\n",
       "</table>\n",
       "</div>"
      ],
      "text/plain": [
       "                                 Objectif      Contenus      Matériel       \\\n",
       "                                    count mean    count mean    count mean   \n",
       "dispositif site                                                              \n",
       "AC         Autre Lieu Delocalise        1  4.0        1  5.0        1  5.0   \n",
       "           La Ferte-Mace                1  5.0        1  5.0        1  5.0   \n",
       "BC         Argentan                     1  5.0        1  5.0        1  5.0   \n",
       "           Saint-Lo                     3  5.0        3  5.0        3  5.0   \n",
       "           Vire                        20  4.9       20  5.0       20  5.0   \n",
       "FA         Autre Lieu Delocalise        1  5.0        1  5.0        1  5.0   \n",
       "           Vire                         1  5.0        1  4.0        1  5.0   \n",
       "GDA        Vire                         5  5.0        5  5.0        5  5.0   \n",
       "PIS        Argentan                     8  4.6        8  4.8        8  4.8   \n",
       "           La Ferte-Mace                2  5.0        2  5.0        2  5.0   \n",
       "PS         Autre Lieu Delocalise        1  5.0        1  5.0        1  5.0   \n",
       "           Bayeux                       3  5.0        3  5.0        3  5.0   \n",
       "Remob      Avranches                    7  5.0        7  4.9        7  5.0   \n",
       "\n",
       "                                 Document      ForDistanceAvis       \n",
       "                                    count mean           count mean  \n",
       "dispositif site                                                      \n",
       "AC         Autre Lieu Delocalise        1  5.0               1  4.0  \n",
       "           La Ferte-Mace                1  5.0               1  4.0  \n",
       "BC         Argentan                     1  5.0               1  5.0  \n",
       "           Saint-Lo                     3  5.0               3  4.3  \n",
       "           Vire                        20  5.0              20  4.2  \n",
       "FA         Autre Lieu Delocalise        1  5.0               1  4.0  \n",
       "           Vire                         1  5.0               1  4.0  \n",
       "GDA        Vire                         5  5.0               5  4.8  \n",
       "PIS        Argentan                     8  4.9               8  4.1  \n",
       "           La Ferte-Mace                2  5.0               2  4.0  \n",
       "PS         Autre Lieu Delocalise        1  5.0               1  4.0  \n",
       "           Bayeux                       3  5.0               3  4.3  \n",
       "Remob      Avranches                    7  4.7               7  4.0  "
      ]
     },
     "execution_count": 118,
     "metadata": {},
     "output_type": "execute_result"
    }
   ],
   "source": [
    "dfInt.groupby([\"dispositif\", \"site\"])[\"Objectif\", \"Contenus\",\"Matériel\", \"Document\", \"ForDistanceAvis\"].agg([\"count\", \"mean\"]).round(1)"
   ]
  },
  {
   "cell_type": "markdown",
   "metadata": {},
   "source": [
    "### Tableau general pour Intervenant"
   ]
  },
  {
   "cell_type": "code",
   "execution_count": 119,
   "metadata": {},
   "outputs": [
    {
     "data": {
      "text/plain": [
       "Text(0.5, 1.0, \"Moyennes globales de l'enquête auprès des intervenants\")"
      ]
     },
     "execution_count": 119,
     "metadata": {},
     "output_type": "execute_result"
    },
    {
     "data": {
      "image/png": "[encoded data removed]",
      "text/plain": [
       "<Figure size 864x432 with 1 Axes>"
      ]
     },
     "metadata": {},
     "output_type": "display_data"
    }
   ],
   "source": [
    "genInt= dfInt[[\"Objectif\",\"Contenus\", \"Matériel\",\"Document\",\"ForDistanceAvis\"]].mean().plot(kind=\"bar\", \n",
    "                figsize=(12,6), fontsize=14)\n",
    "genInt.set_xlabel(\"point\", fontdict=fontdict)\n",
    "genInt.set_ylabel(\"Sujet\", fontdict=fontdict)\n",
    "genInt.set_title(\"Moyennes globales de l'enquête auprès des intervenants\", fontdict=fontdict)"
   ]
  },
  {
   "cell_type": "markdown",
   "metadata": {},
   "source": [
    "### Les averages pour les questions"
   ]
  },
  {
   "cell_type": "code",
   "execution_count": 120,
   "metadata": {},
   "outputs": [
    {
     "name": "stdout",
     "output_type": "stream",
     "text": [
      "Avarage pour Objectif est:  4.9\n",
      "Avarage pour Contenus est:  4.9\n",
      "Avarage pour Matériel est:  5.0\n",
      "Avarage pour Document est:  4.9\n",
      "Avarage pour ForDistanceAvis est:  4.2\n"
     ]
    }
   ],
   "source": [
    "print(\"Avarage pour Objectif est: \", round(dfInt.Objectif.mean(), 1))\n",
    "print(\"Avarage pour Contenus est: \", round(dfInt.Contenus.mean(), 1))\n",
    "print(\"Avarage pour Matériel est: \", round(dfInt.Matériel.mean(),1))\n",
    "print(\"Avarage pour Document est: \", round(dfInt.Document.mean(), 1))\n",
    "print(\"Avarage pour ForDistanceAvis est: \", round(dfInt.ForDistanceAvis.mean(), 1))\n",
    "#print(\"Avarage pour ForDistance est: \", round(dfInt.ForDistance.mean(), 1))\n",
    "#print(\"Avarage pour Risque_Social est: \", round(dfInt.Risque_Social.mean(), 1))\n",
    "#print(\"Avarage pour Risque_Hygiène est: \", round(dfInt.Risque_Hygiène.mean(), 1))\n",
    "#print(\"Avarage pour Risque_Juridique est: \", round(dfInt.Risque_Juridique.mean(), 1))\n",
    "#print(\"Avarage pour Risque_Environ est: \", round(dfInt.Risque_Environ.mean(), 1))\n",
    "#print(\"Avarage pour Risque_éco est: \", round(dfInt.Risque_éco.mean(), 1))"
   ]
  },
  {
   "cell_type": "code",
   "execution_count": 121,
   "metadata": {},
   "outputs": [
    {
     "data": {
      "text/html": [
       "<div>\n",
       "<style scoped>\n",
       "    .dataframe tbody tr th:only-of-type {\n",
       "        vertical-align: middle;\n",
       "    }\n",
       "\n",
       "    .dataframe tbody tr th {\n",
       "        vertical-align: top;\n",
       "    }\n",
       "\n",
       "    .dataframe thead th {\n",
       "        text-align: right;\n",
       "    }\n",
       "</style>\n",
       "<table border=\"1\" class=\"dataframe\">\n",
       "  <thead>\n",
       "    <tr style=\"text-align: right;\">\n",
       "      <th></th>\n",
       "      <th>Objectif</th>\n",
       "      <th>Contenus</th>\n",
       "      <th>Matériel</th>\n",
       "      <th>Document</th>\n",
       "      <th>ForDistanceAvis</th>\n",
       "      <th>ForDistance</th>\n",
       "      <th>Risque_Social</th>\n",
       "      <th>Risque_Hygiène</th>\n",
       "      <th>Risque_Juridique</th>\n",
       "      <th>Risque_Environ</th>\n",
       "      <th>Risque_éco</th>\n",
       "    </tr>\n",
       "  </thead>\n",
       "  <tbody>\n",
       "    <tr>\n",
       "      <th>3</th>\n",
       "      <td>5</td>\n",
       "      <td>5</td>\n",
       "      <td>5</td>\n",
       "      <td>5</td>\n",
       "      <td>5</td>\n",
       "      <td>Oui</td>\n",
       "      <td>Non</td>\n",
       "      <td>Non</td>\n",
       "      <td>Non</td>\n",
       "      <td>Non</td>\n",
       "      <td>Non</td>\n",
       "    </tr>\n",
       "    <tr>\n",
       "      <th>6</th>\n",
       "      <td>5</td>\n",
       "      <td>5</td>\n",
       "      <td>5</td>\n",
       "      <td>5</td>\n",
       "      <td>4</td>\n",
       "      <td>Non</td>\n",
       "      <td>Non</td>\n",
       "      <td>Non</td>\n",
       "      <td>Non</td>\n",
       "      <td>Non</td>\n",
       "      <td>Non</td>\n",
       "    </tr>\n",
       "    <tr>\n",
       "      <th>11</th>\n",
       "      <td>5</td>\n",
       "      <td>5</td>\n",
       "      <td>5</td>\n",
       "      <td>5</td>\n",
       "      <td>5</td>\n",
       "      <td>Oui</td>\n",
       "      <td>Non</td>\n",
       "      <td>Non</td>\n",
       "      <td>Non</td>\n",
       "      <td>Non</td>\n",
       "      <td>Non</td>\n",
       "    </tr>\n",
       "    <tr>\n",
       "      <th>12</th>\n",
       "      <td>5</td>\n",
       "      <td>5</td>\n",
       "      <td>5</td>\n",
       "      <td>5</td>\n",
       "      <td>4</td>\n",
       "      <td>Non</td>\n",
       "      <td>Non</td>\n",
       "      <td>Non</td>\n",
       "      <td>Non</td>\n",
       "      <td>Non</td>\n",
       "      <td>Non</td>\n",
       "    </tr>\n",
       "    <tr>\n",
       "      <th>13</th>\n",
       "      <td>5</td>\n",
       "      <td>5</td>\n",
       "      <td>5</td>\n",
       "      <td>5</td>\n",
       "      <td>5</td>\n",
       "      <td>Oui</td>\n",
       "      <td>Non</td>\n",
       "      <td>Non</td>\n",
       "      <td>Non</td>\n",
       "      <td>Non</td>\n",
       "      <td>Non</td>\n",
       "    </tr>\n",
       "  </tbody>\n",
       "</table>\n",
       "</div>"
      ],
      "text/plain": [
       "    Objectif  Contenus  Matériel  Document  ForDistanceAvis ForDistance  \\\n",
       "3          5         5         5         5                5         Oui   \n",
       "6          5         5         5         5                4         Non   \n",
       "11         5         5         5         5                5         Oui   \n",
       "12         5         5         5         5                4         Non   \n",
       "13         5         5         5         5                5         Oui   \n",
       "\n",
       "   Risque_Social Risque_Hygiène Risque_Juridique Risque_Environ Risque_éco  \n",
       "3            Non            Non              Non            Non        Non  \n",
       "6            Non            Non              Non            Non        Non  \n",
       "11           Non            Non              Non            Non        Non  \n",
       "12           Non            Non              Non            Non        Non  \n",
       "13           Non            Non              Non            Non        Non  "
      ]
     },
     "execution_count": 121,
     "metadata": {},
     "output_type": "execute_result"
    }
   ],
   "source": [
    "dfInt[[\"Objectif\",\"Contenus\", \"Matériel\",\"Document\",\"ForDistanceAvis\", \"ForDistance\", \"Risque_Social\", \"Risque_Hygiène\", \"Risque_Juridique\", \"Risque_Environ\",\"Risque_éco\"]].head()"
   ]
  },
  {
   "cell_type": "markdown",
   "metadata": {},
   "source": [
    "### Les Avarages Pour Intervenant"
   ]
  },
  {
   "cell_type": "markdown",
   "metadata": {},
   "source": [
    "#### `Question 1`: Les objectifs de la formation ont-ils été atteints ?"
   ]
  },
  {
   "cell_type": "code",
   "execution_count": 122,
   "metadata": {},
   "outputs": [
    {
     "name": "stdout",
     "output_type": "stream",
     "text": [
      "Le nombre total de réponses sur Objectif est : 5    48\n",
      "4     6\n",
      "Name: Objectif, dtype: int64\n",
      "Pourcentage pour Objectif est:  5    88.9\n",
      "4    11.1\n",
      "Name: Objectif, dtype: float64\n"
     ]
    },
    {
     "data": {
      "text/plain": [
       "<matplotlib.axes._subplots.AxesSubplot at 0x2026ee3f208>"
      ]
     },
     "execution_count": 122,
     "metadata": {},
     "output_type": "execute_result"
    },
    {
     "data": {
      "image/png": "[encoded data removed]",
      "text/plain": [
       "<Figure size 432x288 with 1 Axes>"
      ]
     },
     "metadata": {},
     "output_type": "display_data"
    }
   ],
   "source": [
    "print(\"Le nombre total de réponses sur Objectif est :\", dfInt[\"Objectif\"].value_counts())\n",
    "print(\"Pourcentage pour Objectif est: \", round(dfInt[\"Objectif\"].value_counts(normalize=True)*100,1))\n",
    "dfInt.Objectif.value_counts().plot(kind=\"bar\")"
   ]
  },
  {
   "cell_type": "markdown",
   "metadata": {},
   "source": [
    "#### `Question 2`: L’équipe a pu aborder l’ensemble des contenus du programme ?"
   ]
  },
  {
   "cell_type": "code",
   "execution_count": 123,
   "metadata": {},
   "outputs": [
    {
     "name": "stdout",
     "output_type": "stream",
     "text": [
      "Le nombre total de réponses sur Contenus est : 5    50\n",
      "4     4\n",
      "Name: Contenus, dtype: int64\n",
      "Pourcentage pour Contenus est:  5    92.6\n",
      "4     7.4\n",
      "Name: Contenus, dtype: float64\n"
     ]
    },
    {
     "data": {
      "text/plain": [
       "<matplotlib.axes._subplots.AxesSubplot at 0x2026ee86508>"
      ]
     },
     "execution_count": 123,
     "metadata": {},
     "output_type": "execute_result"
    },
    {
     "data": {
      "image/png": "[encoded data removed]",
      "text/plain": [
       "<Figure size 432x288 with 1 Axes>"
      ]
     },
     "metadata": {},
     "output_type": "display_data"
    }
   ],
   "source": [
    "print(\"Le nombre total de réponses sur Contenus est :\", dfInt[\"Contenus\"].value_counts())\n",
    "print(\"Pourcentage pour Contenus est: \", round(dfInt[\"Contenus\"].value_counts(normalize=True)*100,1))\n",
    "dfInt.Contenus.value_counts().plot(kind=\"bar\")"
   ]
  },
  {
   "cell_type": "markdown",
   "metadata": {},
   "source": [
    "#### `Question 3`: L’équipe a disposé des moyens matériels suffisants pour conduire la prestation ?"
   ]
  },
  {
   "cell_type": "code",
   "execution_count": 124,
   "metadata": {},
   "outputs": [
    {
     "name": "stdout",
     "output_type": "stream",
     "text": [
      "Le nombre total de réponses sur Matériel est : 5    52\n",
      "4     2\n",
      "Name: Matériel, dtype: int64\n",
      "Pourcentage pour Matériel est:  5    96.3\n",
      "4     3.7\n",
      "Name: Matériel, dtype: float64\n"
     ]
    },
    {
     "data": {
      "text/plain": [
       "<matplotlib.axes._subplots.AxesSubplot at 0x2026ef0b548>"
      ]
     },
     "execution_count": 124,
     "metadata": {},
     "output_type": "execute_result"
    },
    {
     "data": {
      "image/png": "[encoded data removed]",
      "text/plain": [
       "<Figure size 432x288 with 1 Axes>"
      ]
     },
     "metadata": {},
     "output_type": "display_data"
    }
   ],
   "source": [
    "print(\"Le nombre total de réponses sur Matériel est :\", dfInt[\"Matériel\"].value_counts())\n",
    "print(\"Pourcentage pour Matériel est: \", round(dfInt[\"Matériel\"].value_counts(normalize=True)*100,1))\n",
    "dfInt.Matériel.value_counts().plot(kind=\"bar\")"
   ]
  },
  {
   "cell_type": "markdown",
   "metadata": {},
   "source": [
    "#### `Question 4`: L’équipe a eu accès à tous les documents administratifs et pédagogiques pour mener l’action ?"
   ]
  },
  {
   "cell_type": "code",
   "execution_count": 125,
   "metadata": {},
   "outputs": [
    {
     "name": "stdout",
     "output_type": "stream",
     "text": [
      "Le nombre total de réponses sur Document est : 5    50\n",
      "4     4\n",
      "Name: Document, dtype: int64\n",
      "Pourcentage pour Document est:  5    92.6\n",
      "4     7.4\n",
      "Name: Document, dtype: float64\n"
     ]
    },
    {
     "data": {
      "text/plain": [
       "<matplotlib.axes._subplots.AxesSubplot at 0x2026ef5cd48>"
      ]
     },
     "execution_count": 125,
     "metadata": {},
     "output_type": "execute_result"
    },
    {
     "data": {
      "image/png": "[encoded data removed]",
      "text/plain": [
       "<Figure size 432x288 with 1 Axes>"
      ]
     },
     "metadata": {},
     "output_type": "display_data"
    }
   ],
   "source": [
    "print(\"Le nombre total de réponses sur Document est :\", dfInt[\"Document\"].value_counts())\n",
    "print(\"Pourcentage pour Document est: \", round(dfInt[\"Document\"].value_counts(normalize=True)*100,1))\n",
    "dfInt.Document.value_counts().plot(kind=\"bar\")"
   ]
  },
  {
   "cell_type": "markdown",
   "metadata": {},
   "source": [
    "#### `Question 5`: Avez-vous réalisé tout ou une partie de la formation en distanciel ?"
   ]
  },
  {
   "cell_type": "code",
   "execution_count": 126,
   "metadata": {},
   "outputs": [
    {
     "name": "stdout",
     "output_type": "stream",
     "text": [
      "Le nombre total de réponses sur ForDistance est : Non    38\n",
      "Oui    15\n",
      "Name: ForDistance, dtype: int64\n",
      "Pourcentage pour ForDistance est:  Non    71.7\n",
      "Oui    28.3\n",
      "Name: ForDistance, dtype: float64\n"
     ]
    },
    {
     "data": {
      "text/plain": [
       "<matplotlib.axes._subplots.AxesSubplot at 0x2026efc24c8>"
      ]
     },
     "execution_count": 126,
     "metadata": {},
     "output_type": "execute_result"
    },
    {
     "data": {
      "image/png": "[encoded data removed]",
      "text/plain": [
       "<Figure size 432x288 with 1 Axes>"
      ]
     },
     "metadata": {},
     "output_type": "display_data"
    }
   ],
   "source": [
    "print(\"Le nombre total de réponses sur ForDistance est :\", dfInt[\"ForDistance\"].value_counts())\n",
    "print(\"Pourcentage pour ForDistance est: \", round(dfInt[\"ForDistance\"].value_counts(normalize=True)*100,1))\n",
    "dfInt.ForDistance.value_counts().plot(kind=\"bar\")"
   ]
  },
  {
   "cell_type": "markdown",
   "metadata": {},
   "source": [
    "#### `Question 6`: (Si le question 5 oui) Votre avis sur la réalisation de tout ou une partie de la prestation en distanciel ?"
   ]
  },
  {
   "cell_type": "markdown",
   "metadata": {},
   "source": [
    "#### Il y a plus personne qui repondu le question 6"
   ]
  },
  {
   "cell_type": "code",
   "execution_count": 127,
   "metadata": {},
   "outputs": [
    {
     "name": "stdout",
     "output_type": "stream",
     "text": [
      "Le nombre total de réponses sur ForDistanceAvis est : 4    42\n",
      "5    12\n",
      "Name: ForDistanceAvis, dtype: int64\n",
      "Pourcentage pour ForDistanceAvis est:  4    77.8\n",
      "5    22.2\n",
      "Name: ForDistanceAvis, dtype: float64\n"
     ]
    }
   ],
   "source": [
    "print(\"Le nombre total de réponses sur ForDistanceAvis est :\", dfInt[\"ForDistanceAvis\"].value_counts())\n",
    "print(\"Pourcentage pour ForDistanceAvis est: \", round(dfInt[\"ForDistanceAvis\"].value_counts(normalize=True)*100,1))"
   ]
  },
  {
   "cell_type": "code",
   "execution_count": 128,
   "metadata": {},
   "outputs": [
    {
     "name": "stdout",
     "output_type": "stream",
     "text": [
      "Il y a 15 person qui dis Oui au question 5\n"
     ]
    }
   ],
   "source": [
    "print(\"Il y a\", len(dfInt[dfInt[\"ForDistance\"]==\"Oui\"]), \"person qui dis Oui au question 5\")"
   ]
  },
  {
   "cell_type": "code",
   "execution_count": 129,
   "metadata": {},
   "outputs": [
    {
     "data": {
      "text/plain": [
       "<matplotlib.axes._subplots.AxesSubplot at 0x2026f1a4308>"
      ]
     },
     "execution_count": 129,
     "metadata": {},
     "output_type": "execute_result"
    },
    {
     "data": {
      "image/png": "[encoded data removed]",
      "text/plain": [
       "<Figure size 432x288 with 1 Axes>"
      ]
     },
     "metadata": {},
     "output_type": "display_data"
    }
   ],
   "source": [
    "dfInt[dfInt[\"ForDistance\"]==\"Oui\"][\"ForDistanceAvis\"].value_counts().plot(kind=\"bar\")"
   ]
  },
  {
   "cell_type": "code",
   "execution_count": 130,
   "metadata": {},
   "outputs": [
    {
     "name": "stdout",
     "output_type": "stream",
     "text": [
      "L'avarage pour satisfaction sur le formation distance est: 4.6\n"
     ]
    }
   ],
   "source": [
    "print(\"L'avarage pour satisfaction sur le formation distance est:\", dfInt.groupby(\"ForDistance\")[\"ForDistanceAvis\"].mean()[1].round(2))"
   ]
  },
  {
   "cell_type": "markdown",
   "metadata": {},
   "source": [
    "#### `Question 7`: Risques sociaux (incivilité, discrimination, agression, violence…) ?"
   ]
  },
  {
   "cell_type": "code",
   "execution_count": 131,
   "metadata": {},
   "outputs": [
    {
     "name": "stdout",
     "output_type": "stream",
     "text": [
      "Le nombre total de réponses sur Risque_Social est : Non    53\n",
      "Name: Risque_Social, dtype: int64\n",
      "Pourcentage pour Risque_Social est:  Non    100.0\n",
      "Name: Risque_Social, dtype: float64\n"
     ]
    },
    {
     "data": {
      "text/plain": [
       "<matplotlib.axes._subplots.AxesSubplot at 0x2026f20b5c8>"
      ]
     },
     "execution_count": 131,
     "metadata": {},
     "output_type": "execute_result"
    },
    {
     "data": {
      "image/png": "[encoded data removed]",
      "text/plain": [
       "<Figure size 432x288 with 1 Axes>"
      ]
     },
     "metadata": {},
     "output_type": "display_data"
    }
   ],
   "source": [
    "print(\"Le nombre total de réponses sur Risque_Social est :\", dfInt[\"Risque_Social\"].value_counts())\n",
    "print(\"Pourcentage pour Risque_Social est: \", round(dfInt[\"Risque_Social\"].value_counts(normalize=True)*100,1))\n",
    "dfInt.Risque_Social.value_counts().plot(kind=\"bar\")"
   ]
  },
  {
   "cell_type": "markdown",
   "metadata": {},
   "source": [
    "#### `Question 8`: Risques hygiènes et sécurité des locaux (issue de secours, propreté des locaux…) ?"
   ]
  },
  {
   "cell_type": "code",
   "execution_count": 132,
   "metadata": {},
   "outputs": [
    {
     "name": "stdout",
     "output_type": "stream",
     "text": [
      "Le nombre total de réponses sur Risque_Hygiène est : Non    37\n",
      "Name: Risque_Hygiène, dtype: int64\n",
      "Pourcentage pour Risque_Hygiène est:  Non    100.0\n",
      "Name: Risque_Hygiène, dtype: float64\n"
     ]
    },
    {
     "data": {
      "text/plain": [
       "<matplotlib.axes._subplots.AxesSubplot at 0x2026f259108>"
      ]
     },
     "execution_count": 132,
     "metadata": {},
     "output_type": "execute_result"
    },
    {
     "data": {
      "image/png": "[encoded data removed]",
      "text/plain": [
       "<Figure size 432x288 with 1 Axes>"
      ]
     },
     "metadata": {},
     "output_type": "display_data"
    }
   ],
   "source": [
    "print(\"Le nombre total de réponses sur Risque_Hygiène est :\", dfInt[\"Risque_Hygiène\"].value_counts())\n",
    "print(\"Pourcentage pour Risque_Hygiène est: \", round(dfInt[\"Risque_Hygiène\"].value_counts(normalize=True)*100,1))\n",
    "dfInt.Risque_Hygiène.value_counts().plot(kind=\"bar\")"
   ]
  },
  {
   "cell_type": "markdown",
   "metadata": {},
   "source": [
    "#### `Question 9`: Risques juridiques (non-respect des éléments contractuels, condition de la période d’immersion en entreprise…) ?"
   ]
  },
  {
   "cell_type": "code",
   "execution_count": 133,
   "metadata": {},
   "outputs": [
    {
     "name": "stdout",
     "output_type": "stream",
     "text": [
      "Le nombre total de réponses sur Risque_Juridique est : Non    36\n",
      "Name: Risque_Juridique, dtype: int64\n",
      "Pourcentage pour Risque_Juridique est:  Non    100.0\n",
      "Name: Risque_Juridique, dtype: float64\n"
     ]
    },
    {
     "data": {
      "text/plain": [
       "<matplotlib.axes._subplots.AxesSubplot at 0x2026f2c33c8>"
      ]
     },
     "execution_count": 133,
     "metadata": {},
     "output_type": "execute_result"
    },
    {
     "data": {
      "image/png": "[encoded data removed]",
      "text/plain": [
       "<Figure size 432x288 with 1 Axes>"
      ]
     },
     "metadata": {},
     "output_type": "display_data"
    }
   ],
   "source": [
    "print(\"Le nombre total de réponses sur Risque_Juridique est :\", dfInt[\"Risque_Juridique\"].value_counts())\n",
    "print(\"Pourcentage pour Risque_Juridique est: \", round(dfInt[\"Risque_Juridique\"].value_counts(normalize=True)*100,1))\n",
    "dfInt.Risque_Juridique.value_counts().plot(kind=\"bar\")"
   ]
  },
  {
   "cell_type": "markdown",
   "metadata": {},
   "source": [
    "#### `Question 10`: Risques environnementaux (absence ou mauvaise gestion des déchets…) ?"
   ]
  },
  {
   "cell_type": "code",
   "execution_count": 134,
   "metadata": {},
   "outputs": [
    {
     "name": "stdout",
     "output_type": "stream",
     "text": [
      "Le nombre total de réponses sur Risque_Environ est : Non    37\n",
      "Name: Risque_Environ, dtype: int64\n",
      "Pourcentage pour Risque_Environ est:  Non    100.0\n",
      "Name: Risque_Environ, dtype: float64\n"
     ]
    },
    {
     "data": {
      "text/plain": [
       "<matplotlib.axes._subplots.AxesSubplot at 0x2026290e188>"
      ]
     },
     "execution_count": 134,
     "metadata": {},
     "output_type": "execute_result"
    },
    {
     "data": {
      "image/png": "[encoded data removed]",
      "text/plain": [
       "<Figure size 432x288 with 1 Axes>"
      ]
     },
     "metadata": {},
     "output_type": "display_data"
    }
   ],
   "source": [
    "print(\"Le nombre total de réponses sur Risque_Environ est :\", dfInt[\"Risque_Environ\"].value_counts())\n",
    "print(\"Pourcentage pour Risque_Environ est: \", round(dfInt[\"Risque_Environ\"].value_counts(normalize=True)*100,1))\n",
    "dfInt.Risque_Environ.value_counts().plot(kind=\"bar\")"
   ]
  },
  {
   "cell_type": "markdown",
   "metadata": {},
   "source": [
    "#### `Question 11`: Risques économiques (effectif trop faible, absentéisme…) ?"
   ]
  },
  {
   "cell_type": "code",
   "execution_count": 135,
   "metadata": {},
   "outputs": [
    {
     "name": "stdout",
     "output_type": "stream",
     "text": [
      "Le nombre total de réponses sur Risque_éco est : Non    37\n",
      "Name: Risque_éco, dtype: int64\n",
      "Pourcentage pour Risque_éco est:  Non    100.0\n",
      "Name: Risque_éco, dtype: float64\n"
     ]
    },
    {
     "data": {
      "text/plain": [
       "<matplotlib.axes._subplots.AxesSubplot at 0x2026f388048>"
      ]
     },
     "execution_count": 135,
     "metadata": {},
     "output_type": "execute_result"
    },
    {
     "data": {
      "image/png": "[encoded data removed]",
      "text/plain": [
       "<Figure size 432x288 with 1 Axes>"
      ]
     },
     "metadata": {},
     "output_type": "display_data"
    }
   ],
   "source": [
    "print(\"Le nombre total de réponses sur Risque_éco est :\", dfInt[\"Risque_éco\"].value_counts())\n",
    "print(\"Pourcentage pour Risque_éco est: \", round(dfInt[\"Risque_éco\"].value_counts(normalize=True)*100,1))\n",
    "dfInt.Risque_éco.value_counts().plot(kind=\"bar\")"
   ]
  },
  {
   "cell_type": "markdown",
   "metadata": {},
   "source": [
    "## Analysis de Questionnaire de Prescripteur"
   ]
  },
  {
   "cell_type": "code",
   "execution_count": 136,
   "metadata": {},
   "outputs": [
    {
     "name": "stdout",
     "output_type": "stream",
     "text": [
      "Il ya 209 statue resultat.\n",
      "beneficiaire     125\n",
      "intervenant-e     54\n",
      "prescripteur      23\n",
      "financeur          7\n",
      "Name: statue, dtype: int64\n"
     ]
    }
   ],
   "source": [
    "print(\"Il ya\", len(df.statue), \"statue resultat.\")\n",
    "print(df.statue.value_counts())"
   ]
  },
  {
   "cell_type": "code",
   "execution_count": 137,
   "metadata": {},
   "outputs": [],
   "source": [
    "dfPres = df[df.statue==\"prescripteur\"]"
   ]
  },
  {
   "cell_type": "code",
   "execution_count": 138,
   "metadata": {},
   "outputs": [
    {
     "data": {
      "text/plain": [
       "Index(['dispositif', 'site', 'debut', 'annéeDebut', 'moisDebut', 'jourDebut',\n",
       "       'périodeDebut', 'périodeAnnuelleDebut', 'fin', 'annéeFin', 'moisFin',\n",
       "       'jourFin', 'périodeFin', 'périodeAnnuelleFin', 'jour', 'jourChiffres',\n",
       "       'statue', 'branche', 'fin1', 'fin2', 'fin3', 'fin4', 'fin5', 'intType',\n",
       "       'inter1', 'inter2', 'inter3', 'inter4', 'intForDis', 'inter5',\n",
       "       'intRisqS', 'intRisqH', 'intRisqJ', 'intRisqEn', 'intRisqEc',\n",
       "       'preUsager', 'pre1', 'pre2', 'pre3', 'pre4', 'pre5', 'pre6', 'ben1',\n",
       "       'ben2', 'ben3', 'ben4', 'ben5', 'ben6', 'ben7', 'comment',\n",
       "       'proposition', 'register_date'],\n",
       "      dtype='object')"
      ]
     },
     "execution_count": 138,
     "metadata": {},
     "output_type": "execute_result"
    }
   ],
   "source": [
    "dfPres.columns"
   ]
  },
  {
   "cell_type": "code",
   "execution_count": 139,
   "metadata": {},
   "outputs": [
    {
     "data": {
      "text/plain": [
       "preUsager                Autre\n",
       "pre1         Très satisfaisant\n",
       "pre2         Très satisfaisant\n",
       "pre3         Très satisfaisant\n",
       "pre4         Très satisfaisant\n",
       "pre5         Très satisfaisant\n",
       "pre6         Très satisfaisant\n",
       "Name: 1, dtype: object"
      ]
     },
     "execution_count": 139,
     "metadata": {},
     "output_type": "execute_result"
    }
   ],
   "source": [
    "dfPres.drop(['fin1', 'fin2', 'fin3', 'fin4', 'fin5', 'intType',\n",
    "       'inter1', 'inter2', 'inter3', 'inter4', 'intForDis', 'inter5',\n",
    "       'intRisqS', 'intRisqH', 'intRisqJ', 'intRisqEn', 'intRisqEc','ben1',\n",
    "       'ben2', 'ben3', 'ben4', 'ben5', 'ben6', 'ben7'], axis = 1, inplace = True)\n",
    "dfPres.loc[1, \"preUsager\":\"pre6\"]"
   ]
  },
  {
   "cell_type": "code",
   "execution_count": 140,
   "metadata": {},
   "outputs": [
    {
     "data": {
      "text/plain": [
       "usager                      Autre\n",
       "information     Très satisfaisant\n",
       "délais          Très satisfaisant\n",
       "organisation    Très satisfaisant\n",
       "échanges        Très satisfaisant\n",
       "contenu         Très satisfaisant\n",
       "objectifs       Très satisfaisant\n",
       "Name: 1, dtype: object"
      ]
     },
     "execution_count": 140,
     "metadata": {},
     "output_type": "execute_result"
    }
   ],
   "source": [
    "dfPres.rename(columns = {\"preUsager\":\"usager\" , \"pre1\":\"information\" , \"pre2\":\"délais\" , \"pre3\":\"organisation\", \"pre4\":\"échanges\", \"pre5\":\"contenu\" , \"pre6\":\"objectifs\"}, inplace=True)\n",
    "dfPres.loc[1, \"usager\":\"objectifs\"]"
   ]
  },
  {
   "cell_type": "code",
   "execution_count": 141,
   "metadata": {},
   "outputs": [],
   "source": [
    "map_dict_Pres = {\"Très satisfaisant\":5, \"Satisfaisant\":4, \"Moyennement satisfaisant\":3, \"Pas satisfaisant\":2, \"Non concerné\":1}"
   ]
  },
  {
   "cell_type": "code",
   "execution_count": 142,
   "metadata": {},
   "outputs": [],
   "source": [
    "dfPres.information= dfPres.information.map(map_dict_Pres)\n",
    "dfPres.délais= dfPres.délais.map(map_dict_Pres)\n",
    "dfPres.organisation= dfPres.organisation.map(map_dict_Pres)\n",
    "dfPres.échanges= dfPres.échanges.map(map_dict_Pres)\n",
    "dfPres.contenu= dfPres.contenu.map(map_dict_Pres)\n",
    "dfPres.objectifs= dfPres.objectifs.map(map_dict_Pres)"
   ]
  },
  {
   "cell_type": "code",
   "execution_count": 143,
   "metadata": {},
   "outputs": [
    {
     "name": "stdout",
     "output_type": "stream",
     "text": [
      "<class 'pandas.core.frame.DataFrame'>\n",
      "Int64Index: 23 entries, 1 to 206\n",
      "Data columns (total 28 columns):\n",
      " #   Column                Non-Null Count  Dtype          \n",
      "---  ------                --------------  -----          \n",
      " 0   dispositif            23 non-null     object         \n",
      " 1   site                  23 non-null     object         \n",
      " 2   debut                 23 non-null     datetime64[ns] \n",
      " 3   annéeDebut            23 non-null     int64          \n",
      " 4   moisDebut             23 non-null     int64          \n",
      " 5   jourDebut             23 non-null     int64          \n",
      " 6   périodeDebut          23 non-null     int32          \n",
      " 7   périodeAnnuelleDebut  23 non-null     object         \n",
      " 8   fin                   23 non-null     datetime64[ns] \n",
      " 9   annéeFin              23 non-null     int64          \n",
      " 10  moisFin               23 non-null     int64          \n",
      " 11  jourFin               23 non-null     int64          \n",
      " 12  périodeFin            23 non-null     int32          \n",
      " 13  périodeAnnuelleFin    23 non-null     object         \n",
      " 14  jour                  23 non-null     timedelta64[ns]\n",
      " 15  jourChiffres          23 non-null     int64          \n",
      " 16  statue                23 non-null     object         \n",
      " 17  branche               23 non-null     object         \n",
      " 18  usager                22 non-null     object         \n",
      " 19  information           23 non-null     int64          \n",
      " 20  délais                23 non-null     int64          \n",
      " 21  organisation          23 non-null     int64          \n",
      " 22  échanges              23 non-null     int64          \n",
      " 23  contenu               23 non-null     int64          \n",
      " 24  objectifs             23 non-null     int64          \n",
      " 25  comment               11 non-null     object         \n",
      " 26  proposition           3 non-null      object         \n",
      " 27  register_date         23 non-null     object         \n",
      "dtypes: datetime64[ns](2), int32(2), int64(13), object(10), timedelta64[ns](1)\n",
      "memory usage: 5.7+ KB\n"
     ]
    }
   ],
   "source": [
    "dfPres.info()"
   ]
  },
  {
   "cell_type": "markdown",
   "metadata": {},
   "source": [
    "### Gérer les valeurs manquantes"
   ]
  },
  {
   "cell_type": "code",
   "execution_count": 144,
   "metadata": {},
   "outputs": [
    {
     "data": {
      "text/plain": [
       "dispositif               0\n",
       "site                     0\n",
       "debut                    0\n",
       "annéeDebut               0\n",
       "moisDebut                0\n",
       "jourDebut                0\n",
       "périodeDebut             0\n",
       "périodeAnnuelleDebut     0\n",
       "fin                      0\n",
       "annéeFin                 0\n",
       "moisFin                  0\n",
       "jourFin                  0\n",
       "périodeFin               0\n",
       "périodeAnnuelleFin       0\n",
       "jour                     0\n",
       "jourChiffres             0\n",
       "statue                   0\n",
       "branche                  0\n",
       "usager                   1\n",
       "information              0\n",
       "délais                   0\n",
       "organisation             0\n",
       "échanges                 0\n",
       "contenu                  0\n",
       "objectifs                0\n",
       "comment                 12\n",
       "proposition             20\n",
       "register_date            0\n",
       "dtype: int64"
      ]
     },
     "execution_count": 144,
     "metadata": {},
     "output_type": "execute_result"
    }
   ],
   "source": [
    "dfPres.isnull().sum()"
   ]
  },
  {
   "cell_type": "code",
   "execution_count": 145,
   "metadata": {},
   "outputs": [
    {
     "data": {
      "text/plain": [
       "1      False\n",
       "4      False\n",
       "8      False\n",
       "9      False\n",
       "14     False\n",
       "17     False\n",
       "21     False\n",
       "23     False\n",
       "25     False\n",
       "29     False\n",
       "98     False\n",
       "107    False\n",
       "126    False\n",
       "129    False\n",
       "131    False\n",
       "148    False\n",
       "160    False\n",
       "163     True\n",
       "184    False\n",
       "185    False\n",
       "192    False\n",
       "203    False\n",
       "206    False\n",
       "Name: usager, dtype: bool"
      ]
     },
     "execution_count": 145,
     "metadata": {},
     "output_type": "execute_result"
    }
   ],
   "source": [
    "dfPres.usager.isnull()"
   ]
  },
  {
   "cell_type": "code",
   "execution_count": 146,
   "metadata": {},
   "outputs": [
    {
     "data": {
      "text/html": [
       "<div>\n",
       "<style scoped>\n",
       "    .dataframe tbody tr th:only-of-type {\n",
       "        vertical-align: middle;\n",
       "    }\n",
       "\n",
       "    .dataframe tbody tr th {\n",
       "        vertical-align: top;\n",
       "    }\n",
       "\n",
       "    .dataframe thead th {\n",
       "        text-align: right;\n",
       "    }\n",
       "</style>\n",
       "<table border=\"1\" class=\"dataframe\">\n",
       "  <thead>\n",
       "    <tr style=\"text-align: right;\">\n",
       "      <th></th>\n",
       "      <th>dispositif</th>\n",
       "      <th>site</th>\n",
       "      <th>debut</th>\n",
       "      <th>annéeDebut</th>\n",
       "      <th>moisDebut</th>\n",
       "      <th>jourDebut</th>\n",
       "      <th>périodeDebut</th>\n",
       "      <th>périodeAnnuelleDebut</th>\n",
       "      <th>fin</th>\n",
       "      <th>annéeFin</th>\n",
       "      <th>...</th>\n",
       "      <th>usager</th>\n",
       "      <th>information</th>\n",
       "      <th>délais</th>\n",
       "      <th>organisation</th>\n",
       "      <th>échanges</th>\n",
       "      <th>contenu</th>\n",
       "      <th>objectifs</th>\n",
       "      <th>comment</th>\n",
       "      <th>proposition</th>\n",
       "      <th>register_date</th>\n",
       "    </tr>\n",
       "  </thead>\n",
       "  <tbody>\n",
       "    <tr>\n",
       "      <th>163</th>\n",
       "      <td>BC</td>\n",
       "      <td>Vire</td>\n",
       "      <td>2021-05-11</td>\n",
       "      <td>2021</td>\n",
       "      <td>5</td>\n",
       "      <td>11</td>\n",
       "      <td>1</td>\n",
       "      <td>2021-1</td>\n",
       "      <td>2021-09-14</td>\n",
       "      <td>2021</td>\n",
       "      <td>...</td>\n",
       "      <td>NaN</td>\n",
       "      <td>4</td>\n",
       "      <td>5</td>\n",
       "      <td>5</td>\n",
       "      <td>5</td>\n",
       "      <td>4</td>\n",
       "      <td>4</td>\n",
       "      <td>NaN</td>\n",
       "      <td>NaN</td>\n",
       "      <td>2021-10-04 10:15:39</td>\n",
       "    </tr>\n",
       "  </tbody>\n",
       "</table>\n",
       "<p>1 rows × 28 columns</p>\n",
       "</div>"
      ],
      "text/plain": [
       "    dispositif  site      debut  annéeDebut  moisDebut  jourDebut  \\\n",
       "163         BC  Vire 2021-05-11        2021          5         11   \n",
       "\n",
       "     périodeDebut périodeAnnuelleDebut        fin  annéeFin  ...  usager  \\\n",
       "163             1               2021-1 2021-09-14      2021  ...     NaN   \n",
       "\n",
       "     information  délais organisation échanges  contenu objectifs comment  \\\n",
       "163            4       5            5        5        4         4     NaN   \n",
       "\n",
       "    proposition        register_date  \n",
       "163         NaN  2021-10-04 10:15:39  \n",
       "\n",
       "[1 rows x 28 columns]"
      ]
     },
     "execution_count": 146,
     "metadata": {},
     "output_type": "execute_result"
    }
   ],
   "source": [
    "dfPres.loc[dfPres.usager.isnull() ==True] "
   ]
  },
  {
   "cell_type": "code",
   "execution_count": 147,
   "metadata": {},
   "outputs": [
    {
     "data": {
      "text/plain": [
       "Autre                       15\n",
       "Pôle Emploi                  4\n",
       "Conseil départemental 61     2\n",
       "Conseil départemental 50     1\n",
       "NaN                          1\n",
       "Name: usager, dtype: int64"
      ]
     },
     "execution_count": 147,
     "metadata": {},
     "output_type": "execute_result"
    }
   ],
   "source": [
    "dfPres.usager.value_counts(dropna=False)"
   ]
  },
  {
   "cell_type": "code",
   "execution_count": 148,
   "metadata": {},
   "outputs": [
    {
     "data": {
      "text/plain": [
       "'Autre'"
      ]
     },
     "execution_count": 148,
     "metadata": {},
     "output_type": "execute_result"
    }
   ],
   "source": [
    "dfPres.usager.value_counts(dropna=False).index[0]"
   ]
  },
  {
   "cell_type": "markdown",
   "metadata": {},
   "source": [
    "#### remplir la valeur manquante par la plus fréquente."
   ]
  },
  {
   "cell_type": "code",
   "execution_count": 149,
   "metadata": {},
   "outputs": [],
   "source": [
    "dfPres = dfPres.fillna(dfPres['usager'].value_counts().index[0])"
   ]
  },
  {
   "cell_type": "code",
   "execution_count": 150,
   "metadata": {},
   "outputs": [
    {
     "data": {
      "text/plain": [
       "False"
      ]
     },
     "execution_count": 150,
     "metadata": {},
     "output_type": "execute_result"
    }
   ],
   "source": [
    "dfPres.isnull().sum().any()"
   ]
  },
  {
   "cell_type": "markdown",
   "metadata": {},
   "source": [
    "### Prescripteur tout les questions"
   ]
  },
  {
   "cell_type": "code",
   "execution_count": 151,
   "metadata": {},
   "outputs": [
    {
     "data": {
      "text/html": [
       "<div>\n",
       "<style scoped>\n",
       "    .dataframe tbody tr th:only-of-type {\n",
       "        vertical-align: middle;\n",
       "    }\n",
       "\n",
       "    .dataframe tbody tr th {\n",
       "        vertical-align: top;\n",
       "    }\n",
       "\n",
       "    .dataframe thead tr th {\n",
       "        text-align: left;\n",
       "    }\n",
       "\n",
       "    .dataframe thead tr:last-of-type th {\n",
       "        text-align: right;\n",
       "    }\n",
       "</style>\n",
       "<table border=\"1\" class=\"dataframe\">\n",
       "  <thead>\n",
       "    <tr>\n",
       "      <th></th>\n",
       "      <th colspan=\"2\" halign=\"left\">information</th>\n",
       "      <th colspan=\"2\" halign=\"left\">délais</th>\n",
       "      <th colspan=\"2\" halign=\"left\">organisation</th>\n",
       "      <th colspan=\"2\" halign=\"left\">échanges</th>\n",
       "      <th colspan=\"2\" halign=\"left\">contenu</th>\n",
       "      <th colspan=\"2\" halign=\"left\">objectifs</th>\n",
       "    </tr>\n",
       "    <tr>\n",
       "      <th></th>\n",
       "      <th>count</th>\n",
       "      <th>mean</th>\n",
       "      <th>count</th>\n",
       "      <th>mean</th>\n",
       "      <th>count</th>\n",
       "      <th>mean</th>\n",
       "      <th>count</th>\n",
       "      <th>mean</th>\n",
       "      <th>count</th>\n",
       "      <th>mean</th>\n",
       "      <th>count</th>\n",
       "      <th>mean</th>\n",
       "    </tr>\n",
       "    <tr>\n",
       "      <th>dispositif</th>\n",
       "      <th></th>\n",
       "      <th></th>\n",
       "      <th></th>\n",
       "      <th></th>\n",
       "      <th></th>\n",
       "      <th></th>\n",
       "      <th></th>\n",
       "      <th></th>\n",
       "      <th></th>\n",
       "      <th></th>\n",
       "      <th></th>\n",
       "      <th></th>\n",
       "    </tr>\n",
       "  </thead>\n",
       "  <tbody>\n",
       "    <tr>\n",
       "      <th>BC</th>\n",
       "      <td>13</td>\n",
       "      <td>4.9</td>\n",
       "      <td>13</td>\n",
       "      <td>5</td>\n",
       "      <td>13</td>\n",
       "      <td>5.0</td>\n",
       "      <td>13</td>\n",
       "      <td>5.0</td>\n",
       "      <td>13</td>\n",
       "      <td>4.9</td>\n",
       "      <td>13</td>\n",
       "      <td>4.8</td>\n",
       "    </tr>\n",
       "    <tr>\n",
       "      <th>FA</th>\n",
       "      <td>1</td>\n",
       "      <td>5.0</td>\n",
       "      <td>1</td>\n",
       "      <td>5</td>\n",
       "      <td>1</td>\n",
       "      <td>1.0</td>\n",
       "      <td>1</td>\n",
       "      <td>5.0</td>\n",
       "      <td>1</td>\n",
       "      <td>5.0</td>\n",
       "      <td>1</td>\n",
       "      <td>5.0</td>\n",
       "    </tr>\n",
       "    <tr>\n",
       "      <th>ISU</th>\n",
       "      <td>1</td>\n",
       "      <td>4.0</td>\n",
       "      <td>1</td>\n",
       "      <td>5</td>\n",
       "      <td>1</td>\n",
       "      <td>5.0</td>\n",
       "      <td>1</td>\n",
       "      <td>5.0</td>\n",
       "      <td>1</td>\n",
       "      <td>5.0</td>\n",
       "      <td>1</td>\n",
       "      <td>5.0</td>\n",
       "    </tr>\n",
       "    <tr>\n",
       "      <th>PH</th>\n",
       "      <td>1</td>\n",
       "      <td>4.0</td>\n",
       "      <td>1</td>\n",
       "      <td>1</td>\n",
       "      <td>1</td>\n",
       "      <td>1.0</td>\n",
       "      <td>1</td>\n",
       "      <td>4.0</td>\n",
       "      <td>1</td>\n",
       "      <td>1.0</td>\n",
       "      <td>1</td>\n",
       "      <td>1.0</td>\n",
       "    </tr>\n",
       "    <tr>\n",
       "      <th>PIP</th>\n",
       "      <td>1</td>\n",
       "      <td>5.0</td>\n",
       "      <td>1</td>\n",
       "      <td>5</td>\n",
       "      <td>1</td>\n",
       "      <td>5.0</td>\n",
       "      <td>1</td>\n",
       "      <td>5.0</td>\n",
       "      <td>1</td>\n",
       "      <td>4.0</td>\n",
       "      <td>1</td>\n",
       "      <td>4.0</td>\n",
       "    </tr>\n",
       "    <tr>\n",
       "      <th>PIS</th>\n",
       "      <td>3</td>\n",
       "      <td>4.0</td>\n",
       "      <td>3</td>\n",
       "      <td>4</td>\n",
       "      <td>3</td>\n",
       "      <td>4.0</td>\n",
       "      <td>3</td>\n",
       "      <td>4.7</td>\n",
       "      <td>3</td>\n",
       "      <td>4.7</td>\n",
       "      <td>3</td>\n",
       "      <td>4.7</td>\n",
       "    </tr>\n",
       "    <tr>\n",
       "      <th>PS</th>\n",
       "      <td>2</td>\n",
       "      <td>4.5</td>\n",
       "      <td>2</td>\n",
       "      <td>4</td>\n",
       "      <td>2</td>\n",
       "      <td>4.5</td>\n",
       "      <td>2</td>\n",
       "      <td>5.0</td>\n",
       "      <td>2</td>\n",
       "      <td>5.0</td>\n",
       "      <td>2</td>\n",
       "      <td>4.5</td>\n",
       "    </tr>\n",
       "    <tr>\n",
       "      <th>Remob</th>\n",
       "      <td>1</td>\n",
       "      <td>5.0</td>\n",
       "      <td>1</td>\n",
       "      <td>5</td>\n",
       "      <td>1</td>\n",
       "      <td>5.0</td>\n",
       "      <td>1</td>\n",
       "      <td>5.0</td>\n",
       "      <td>1</td>\n",
       "      <td>5.0</td>\n",
       "      <td>1</td>\n",
       "      <td>5.0</td>\n",
       "    </tr>\n",
       "  </tbody>\n",
       "</table>\n",
       "</div>"
      ],
      "text/plain": [
       "           information      délais      organisation      échanges       \\\n",
       "                 count mean  count mean        count mean    count mean   \n",
       "dispositif                                                                \n",
       "BC                  13  4.9     13    5           13  5.0       13  5.0   \n",
       "FA                   1  5.0      1    5            1  1.0        1  5.0   \n",
       "ISU                  1  4.0      1    5            1  5.0        1  5.0   \n",
       "PH                   1  4.0      1    1            1  1.0        1  4.0   \n",
       "PIP                  1  5.0      1    5            1  5.0        1  5.0   \n",
       "PIS                  3  4.0      3    4            3  4.0        3  4.7   \n",
       "PS                   2  4.5      2    4            2  4.5        2  5.0   \n",
       "Remob                1  5.0      1    5            1  5.0        1  5.0   \n",
       "\n",
       "           contenu      objectifs       \n",
       "             count mean     count mean  \n",
       "dispositif                              \n",
       "BC              13  4.9        13  4.8  \n",
       "FA               1  5.0         1  5.0  \n",
       "ISU              1  5.0         1  5.0  \n",
       "PH               1  1.0         1  1.0  \n",
       "PIP              1  4.0         1  4.0  \n",
       "PIS              3  4.7         3  4.7  \n",
       "PS               2  5.0         2  4.5  \n",
       "Remob            1  5.0         1  5.0  "
      ]
     },
     "execution_count": 151,
     "metadata": {},
     "output_type": "execute_result"
    }
   ],
   "source": [
    "dfPres.groupby([\"dispositif\"])[\"information\", \"délais\", \"organisation\", \"échanges\", \"contenu\", \"objectifs\"].agg([\"count\", \"mean\"]).round(1)"
   ]
  },
  {
   "cell_type": "code",
   "execution_count": 152,
   "metadata": {},
   "outputs": [
    {
     "data": {
      "text/html": [
       "<div>\n",
       "<style scoped>\n",
       "    .dataframe tbody tr th:only-of-type {\n",
       "        vertical-align: middle;\n",
       "    }\n",
       "\n",
       "    .dataframe tbody tr th {\n",
       "        vertical-align: top;\n",
       "    }\n",
       "\n",
       "    .dataframe thead tr th {\n",
       "        text-align: left;\n",
       "    }\n",
       "\n",
       "    .dataframe thead tr:last-of-type th {\n",
       "        text-align: right;\n",
       "    }\n",
       "</style>\n",
       "<table border=\"1\" class=\"dataframe\">\n",
       "  <thead>\n",
       "    <tr>\n",
       "      <th></th>\n",
       "      <th></th>\n",
       "      <th colspan=\"2\" halign=\"left\">information</th>\n",
       "      <th colspan=\"2\" halign=\"left\">délais</th>\n",
       "      <th colspan=\"2\" halign=\"left\">organisation</th>\n",
       "      <th colspan=\"2\" halign=\"left\">échanges</th>\n",
       "      <th colspan=\"2\" halign=\"left\">contenu</th>\n",
       "      <th colspan=\"2\" halign=\"left\">objectifs</th>\n",
       "    </tr>\n",
       "    <tr>\n",
       "      <th></th>\n",
       "      <th></th>\n",
       "      <th>count</th>\n",
       "      <th>mean</th>\n",
       "      <th>count</th>\n",
       "      <th>mean</th>\n",
       "      <th>count</th>\n",
       "      <th>mean</th>\n",
       "      <th>count</th>\n",
       "      <th>mean</th>\n",
       "      <th>count</th>\n",
       "      <th>mean</th>\n",
       "      <th>count</th>\n",
       "      <th>mean</th>\n",
       "    </tr>\n",
       "    <tr>\n",
       "      <th>dispositif</th>\n",
       "      <th>site</th>\n",
       "      <th></th>\n",
       "      <th></th>\n",
       "      <th></th>\n",
       "      <th></th>\n",
       "      <th></th>\n",
       "      <th></th>\n",
       "      <th></th>\n",
       "      <th></th>\n",
       "      <th></th>\n",
       "      <th></th>\n",
       "      <th></th>\n",
       "      <th></th>\n",
       "    </tr>\n",
       "  </thead>\n",
       "  <tbody>\n",
       "    <tr>\n",
       "      <th rowspan=\"3\" valign=\"top\">BC</th>\n",
       "      <th>Argentan</th>\n",
       "      <td>1</td>\n",
       "      <td>5.0</td>\n",
       "      <td>1</td>\n",
       "      <td>5</td>\n",
       "      <td>1</td>\n",
       "      <td>5</td>\n",
       "      <td>1</td>\n",
       "      <td>5.0</td>\n",
       "      <td>1</td>\n",
       "      <td>5.0</td>\n",
       "      <td>1</td>\n",
       "      <td>5.0</td>\n",
       "    </tr>\n",
       "    <tr>\n",
       "      <th>Saint-Lo</th>\n",
       "      <td>3</td>\n",
       "      <td>5.0</td>\n",
       "      <td>3</td>\n",
       "      <td>5</td>\n",
       "      <td>3</td>\n",
       "      <td>5</td>\n",
       "      <td>3</td>\n",
       "      <td>5.0</td>\n",
       "      <td>3</td>\n",
       "      <td>5.0</td>\n",
       "      <td>3</td>\n",
       "      <td>4.7</td>\n",
       "    </tr>\n",
       "    <tr>\n",
       "      <th>Vire</th>\n",
       "      <td>9</td>\n",
       "      <td>4.9</td>\n",
       "      <td>9</td>\n",
       "      <td>5</td>\n",
       "      <td>9</td>\n",
       "      <td>5</td>\n",
       "      <td>9</td>\n",
       "      <td>5.0</td>\n",
       "      <td>9</td>\n",
       "      <td>4.9</td>\n",
       "      <td>9</td>\n",
       "      <td>4.9</td>\n",
       "    </tr>\n",
       "    <tr>\n",
       "      <th>FA</th>\n",
       "      <th>Vire</th>\n",
       "      <td>1</td>\n",
       "      <td>5.0</td>\n",
       "      <td>1</td>\n",
       "      <td>5</td>\n",
       "      <td>1</td>\n",
       "      <td>1</td>\n",
       "      <td>1</td>\n",
       "      <td>5.0</td>\n",
       "      <td>1</td>\n",
       "      <td>5.0</td>\n",
       "      <td>1</td>\n",
       "      <td>5.0</td>\n",
       "    </tr>\n",
       "    <tr>\n",
       "      <th>ISU</th>\n",
       "      <th>Autre Lieu Delocalise</th>\n",
       "      <td>1</td>\n",
       "      <td>4.0</td>\n",
       "      <td>1</td>\n",
       "      <td>5</td>\n",
       "      <td>1</td>\n",
       "      <td>5</td>\n",
       "      <td>1</td>\n",
       "      <td>5.0</td>\n",
       "      <td>1</td>\n",
       "      <td>5.0</td>\n",
       "      <td>1</td>\n",
       "      <td>5.0</td>\n",
       "    </tr>\n",
       "    <tr>\n",
       "      <th>PH</th>\n",
       "      <th>Vire</th>\n",
       "      <td>1</td>\n",
       "      <td>4.0</td>\n",
       "      <td>1</td>\n",
       "      <td>1</td>\n",
       "      <td>1</td>\n",
       "      <td>1</td>\n",
       "      <td>1</td>\n",
       "      <td>4.0</td>\n",
       "      <td>1</td>\n",
       "      <td>1.0</td>\n",
       "      <td>1</td>\n",
       "      <td>1.0</td>\n",
       "    </tr>\n",
       "    <tr>\n",
       "      <th>PIP</th>\n",
       "      <th>Argentan</th>\n",
       "      <td>1</td>\n",
       "      <td>5.0</td>\n",
       "      <td>1</td>\n",
       "      <td>5</td>\n",
       "      <td>1</td>\n",
       "      <td>5</td>\n",
       "      <td>1</td>\n",
       "      <td>5.0</td>\n",
       "      <td>1</td>\n",
       "      <td>4.0</td>\n",
       "      <td>1</td>\n",
       "      <td>4.0</td>\n",
       "    </tr>\n",
       "    <tr>\n",
       "      <th>PIS</th>\n",
       "      <th>Argentan</th>\n",
       "      <td>3</td>\n",
       "      <td>4.0</td>\n",
       "      <td>3</td>\n",
       "      <td>4</td>\n",
       "      <td>3</td>\n",
       "      <td>4</td>\n",
       "      <td>3</td>\n",
       "      <td>4.7</td>\n",
       "      <td>3</td>\n",
       "      <td>4.7</td>\n",
       "      <td>3</td>\n",
       "      <td>4.7</td>\n",
       "    </tr>\n",
       "    <tr>\n",
       "      <th rowspan=\"2\" valign=\"top\">PS</th>\n",
       "      <th>Bayeux</th>\n",
       "      <td>1</td>\n",
       "      <td>5.0</td>\n",
       "      <td>1</td>\n",
       "      <td>4</td>\n",
       "      <td>1</td>\n",
       "      <td>4</td>\n",
       "      <td>1</td>\n",
       "      <td>5.0</td>\n",
       "      <td>1</td>\n",
       "      <td>5.0</td>\n",
       "      <td>1</td>\n",
       "      <td>5.0</td>\n",
       "    </tr>\n",
       "    <tr>\n",
       "      <th>Caen</th>\n",
       "      <td>1</td>\n",
       "      <td>4.0</td>\n",
       "      <td>1</td>\n",
       "      <td>4</td>\n",
       "      <td>1</td>\n",
       "      <td>5</td>\n",
       "      <td>1</td>\n",
       "      <td>5.0</td>\n",
       "      <td>1</td>\n",
       "      <td>5.0</td>\n",
       "      <td>1</td>\n",
       "      <td>4.0</td>\n",
       "    </tr>\n",
       "    <tr>\n",
       "      <th>Remob</th>\n",
       "      <th>Avranches</th>\n",
       "      <td>1</td>\n",
       "      <td>5.0</td>\n",
       "      <td>1</td>\n",
       "      <td>5</td>\n",
       "      <td>1</td>\n",
       "      <td>5</td>\n",
       "      <td>1</td>\n",
       "      <td>5.0</td>\n",
       "      <td>1</td>\n",
       "      <td>5.0</td>\n",
       "      <td>1</td>\n",
       "      <td>5.0</td>\n",
       "    </tr>\n",
       "  </tbody>\n",
       "</table>\n",
       "</div>"
      ],
      "text/plain": [
       "                                 information      délais      organisation  \\\n",
       "                                       count mean  count mean        count   \n",
       "dispositif site                                                              \n",
       "BC         Argentan                        1  5.0      1    5            1   \n",
       "           Saint-Lo                        3  5.0      3    5            3   \n",
       "           Vire                            9  4.9      9    5            9   \n",
       "FA         Vire                            1  5.0      1    5            1   \n",
       "ISU        Autre Lieu Delocalise           1  4.0      1    5            1   \n",
       "PH         Vire                            1  4.0      1    1            1   \n",
       "PIP        Argentan                        1  5.0      1    5            1   \n",
       "PIS        Argentan                        3  4.0      3    4            3   \n",
       "PS         Bayeux                          1  5.0      1    4            1   \n",
       "           Caen                            1  4.0      1    4            1   \n",
       "Remob      Avranches                       1  5.0      1    5            1   \n",
       "\n",
       "                                      échanges      contenu      objectifs  \\\n",
       "                                 mean    count mean   count mean     count   \n",
       "dispositif site                                                              \n",
       "BC         Argentan                 5        1  5.0       1  5.0         1   \n",
       "           Saint-Lo                 5        3  5.0       3  5.0         3   \n",
       "           Vire                     5        9  5.0       9  4.9         9   \n",
       "FA         Vire                     1        1  5.0       1  5.0         1   \n",
       "ISU        Autre Lieu Delocalise    5        1  5.0       1  5.0         1   \n",
       "PH         Vire                     1        1  4.0       1  1.0         1   \n",
       "PIP        Argentan                 5        1  5.0       1  4.0         1   \n",
       "PIS        Argentan                 4        3  4.7       3  4.7         3   \n",
       "PS         Bayeux                   4        1  5.0       1  5.0         1   \n",
       "           Caen                     5        1  5.0       1  5.0         1   \n",
       "Remob      Avranches                5        1  5.0       1  5.0         1   \n",
       "\n",
       "                                       \n",
       "                                 mean  \n",
       "dispositif site                        \n",
       "BC         Argentan               5.0  \n",
       "           Saint-Lo               4.7  \n",
       "           Vire                   4.9  \n",
       "FA         Vire                   5.0  \n",
       "ISU        Autre Lieu Delocalise  5.0  \n",
       "PH         Vire                   1.0  \n",
       "PIP        Argentan               4.0  \n",
       "PIS        Argentan               4.7  \n",
       "PS         Bayeux                 5.0  \n",
       "           Caen                   4.0  \n",
       "Remob      Avranches              5.0  "
      ]
     },
     "execution_count": 152,
     "metadata": {},
     "output_type": "execute_result"
    }
   ],
   "source": [
    "dfPres.groupby([\"dispositif\", \"site\"])[\"information\", \"délais\", \"organisation\", \"échanges\", \"contenu\", \"objectifs\"].agg([\"count\", \"mean\"]).round(1)"
   ]
  },
  {
   "cell_type": "markdown",
   "metadata": {},
   "source": [
    "### Tableau general pour Prescripteur"
   ]
  },
  {
   "cell_type": "code",
   "execution_count": 153,
   "metadata": {},
   "outputs": [
    {
     "data": {
      "text/plain": [
       "Text(0.5, 1, \"Moyennes globales de l'enquête auprès des intervenants\")"
      ]
     },
     "execution_count": 153,
     "metadata": {},
     "output_type": "execute_result"
    },
    {
     "data": {
      "image/png": "[encoded data removed]",
      "text/plain": [
       "<Figure size 864x432 with 1 Axes>"
      ]
     },
     "metadata": {},
     "output_type": "display_data"
    }
   ],
   "source": [
    "genPres= dfPres[[\"information\",\"délais\", \"organisation\",\"échanges\",\"contenu\", \"objectifs\"]].mean().plot(kind=\"bar\", \n",
    "                figsize=(12,6), fontsize=14)\n",
    "genInt.set_xlabel(\"point\", fontdict=fontdict)\n",
    "genInt.set_ylabel(\"Sujet\", fontdict=fontdict)\n",
    "genInt.set_title(\"Moyennes globales de l'enquête auprès des intervenants\", fontdict=fontdict)"
   ]
  },
  {
   "cell_type": "markdown",
   "metadata": {},
   "source": [
    "### Les averages pour les questions"
   ]
  },
  {
   "cell_type": "code",
   "execution_count": 154,
   "metadata": {},
   "outputs": [
    {
     "name": "stdout",
     "output_type": "stream",
     "text": [
      "Avarage pour information est:  4.7\n",
      "Avarage pour délais est:  4.6\n",
      "Avarage pour organisation est:  4.5\n",
      "Avarage pour échanges est:  4.9\n",
      "Avarage pour contenu est:  4.7\n",
      "Avarage pour objectifs est:  4.6\n"
     ]
    }
   ],
   "source": [
    "print(\"Avarage pour information est: \", round(dfPres.information.mean(), 1))\n",
    "print(\"Avarage pour délais est: \", round(dfPres.délais.mean(), 1))\n",
    "print(\"Avarage pour organisation est: \", round(dfPres.organisation.mean(),1))\n",
    "print(\"Avarage pour échanges est: \", round(dfPres.échanges.mean(), 1))\n",
    "print(\"Avarage pour contenu est: \", round(dfPres.contenu.mean(), 1))\n",
    "print(\"Avarage pour objectifs est: \", round(dfPres.objectifs.mean(), 1))"
   ]
  },
  {
   "cell_type": "markdown",
   "metadata": {},
   "source": [
    "### Questions"
   ]
  },
  {
   "cell_type": "markdown",
   "metadata": {},
   "source": [
    "`Question 1`: Accès aux informations en amont de la prestation"
   ]
  },
  {
   "cell_type": "code",
   "execution_count": 155,
   "metadata": {},
   "outputs": [
    {
     "name": "stdout",
     "output_type": "stream",
     "text": [
      "Accès aux informations en amont de la prestation est : 5    16\n",
      "4     7\n",
      "Name: information, dtype: int64\n",
      "Pourcentage pour information est:  5    69.6\n",
      "4    30.4\n",
      "Name: information, dtype: float64\n"
     ]
    },
    {
     "data": {
      "text/plain": [
       "<matplotlib.axes._subplots.AxesSubplot at 0x2026f46e088>"
      ]
     },
     "execution_count": 155,
     "metadata": {},
     "output_type": "execute_result"
    },
    {
     "data": {
      "image/png": "[encoded data removed]",
      "text/plain": [
       "<Figure size 432x288 with 1 Axes>"
      ]
     },
     "metadata": {},
     "output_type": "display_data"
    }
   ],
   "source": [
    "print(\"Accès aux informations en amont de la prestation est :\", dfPres[\"information\"].value_counts())\n",
    "print(\"Pourcentage pour information est: \", round(dfPres[\"information\"].value_counts(normalize=True)*100,1))\n",
    "dfPres.information.value_counts().plot(kind=\"bar\")"
   ]
  },
  {
   "cell_type": "markdown",
   "metadata": {},
   "source": [
    "`Question 2`: Délais de traitement de votre prescription"
   ]
  },
  {
   "cell_type": "code",
   "execution_count": 156,
   "metadata": {},
   "outputs": [
    {
     "name": "stdout",
     "output_type": "stream",
     "text": [
      "Délais de traitement de votre prescription est : 5    17\n",
      "4     5\n",
      "1     1\n",
      "Name: délais, dtype: int64\n",
      "Pourcentage pour information est:  5    73.9\n",
      "4    21.7\n",
      "1     4.3\n",
      "Name: délais, dtype: float64\n"
     ]
    },
    {
     "data": {
      "text/plain": [
       "<matplotlib.axes._subplots.AxesSubplot at 0x2026f4d40c8>"
      ]
     },
     "execution_count": 156,
     "metadata": {},
     "output_type": "execute_result"
    },
    {
     "data": {
      "image/png": "[encoded data removed]",
      "text/plain": [
       "<Figure size 432x288 with 1 Axes>"
      ]
     },
     "metadata": {},
     "output_type": "display_data"
    }
   ],
   "source": [
    "print(\"Délais de traitement de votre prescription est :\", dfPres[\"délais\"].value_counts())\n",
    "print(\"Pourcentage pour information est: \", round(dfPres[\"délais\"].value_counts(normalize=True)*100,1))\n",
    "dfPres.délais.value_counts().plot(kind=\"bar\")"
   ]
  },
  {
   "cell_type": "markdown",
   "metadata": {},
   "source": [
    "`Question 3`: Organisation du recrutement"
   ]
  },
  {
   "cell_type": "code",
   "execution_count": 157,
   "metadata": {},
   "outputs": [
    {
     "name": "stdout",
     "output_type": "stream",
     "text": [
      "Organisation du recrutement est : 5    17\n",
      "4     4\n",
      "1     2\n",
      "Name: organisation, dtype: int64\n",
      "Pourcentage pour organisation est:  5    73.9\n",
      "4    17.4\n",
      "1     8.7\n",
      "Name: organisation, dtype: float64\n"
     ]
    },
    {
     "data": {
      "text/plain": [
       "<matplotlib.axes._subplots.AxesSubplot at 0x2026f53f2c8>"
      ]
     },
     "execution_count": 157,
     "metadata": {},
     "output_type": "execute_result"
    },
    {
     "data": {
      "image/png": "[encoded data removed]",
      "text/plain": [
       "<Figure size 432x288 with 1 Axes>"
      ]
     },
     "metadata": {},
     "output_type": "display_data"
    }
   ],
   "source": [
    "print(\"Organisation du recrutement est :\", dfPres[\"organisation\"].value_counts())\n",
    "print(\"Pourcentage pour organisation est: \", round(dfPres[\"organisation\"].value_counts(normalize=True)*100,1))\n",
    "dfPres.organisation.value_counts().plot(kind=\"bar\")"
   ]
  },
  {
   "cell_type": "markdown",
   "metadata": {},
   "source": [
    "`Question 4`: Échanges durant la prestation"
   ]
  },
  {
   "cell_type": "code",
   "execution_count": 158,
   "metadata": {},
   "outputs": [
    {
     "name": "stdout",
     "output_type": "stream",
     "text": [
      "Échanges durant la prestation est : 5    21\n",
      "4     2\n",
      "Name: échanges, dtype: int64\n",
      "Pourcentage pour information est:  5    91.3\n",
      "4     8.7\n",
      "Name: échanges, dtype: float64\n"
     ]
    },
    {
     "data": {
      "text/plain": [
       "<matplotlib.axes._subplots.AxesSubplot at 0x2026f5a8108>"
      ]
     },
     "execution_count": 158,
     "metadata": {},
     "output_type": "execute_result"
    },
    {
     "data": {
      "image/png": "[encoded data removed]",
      "text/plain": [
       "<Figure size 432x288 with 1 Axes>"
      ]
     },
     "metadata": {},
     "output_type": "display_data"
    }
   ],
   "source": [
    "print(\"Échanges durant la prestation est :\", dfPres[\"échanges\"].value_counts())\n",
    "print(\"Pourcentage pour information est: \", round(dfPres[\"échanges\"].value_counts(normalize=True)*100,1))\n",
    "dfPres.échanges.value_counts().plot(kind=\"bar\")"
   ]
  },
  {
   "cell_type": "markdown",
   "metadata": {},
   "source": [
    "`Question 5`: Forme et contenu de la restitution de fin de prestation"
   ]
  },
  {
   "cell_type": "code",
   "execution_count": 159,
   "metadata": {},
   "outputs": [
    {
     "name": "stdout",
     "output_type": "stream",
     "text": [
      "Forme et contenu de la restitution de fin de prestation est : 5    19\n",
      "4     3\n",
      "1     1\n",
      "Name: contenu, dtype: int64\n",
      "Pourcentage pour contenu est:  5    82.6\n",
      "4    13.0\n",
      "1     4.3\n",
      "Name: contenu, dtype: float64\n"
     ]
    },
    {
     "data": {
      "text/plain": [
       "<matplotlib.axes._subplots.AxesSubplot at 0x2026f772148>"
      ]
     },
     "execution_count": 159,
     "metadata": {},
     "output_type": "execute_result"
    },
    {
     "data": {
      "image/png": "[encoded data removed]",
      "text/plain": [
       "<Figure size 432x288 with 1 Axes>"
      ]
     },
     "metadata": {},
     "output_type": "display_data"
    }
   ],
   "source": [
    "print(\"Forme et contenu de la restitution de fin de prestation est :\", dfPres[\"contenu\"].value_counts())\n",
    "print(\"Pourcentage pour contenu est: \", round(dfPres[\"contenu\"].value_counts(normalize=True)*100,1))\n",
    "dfPres.contenu.value_counts().plot(kind=\"bar\")"
   ]
  },
  {
   "cell_type": "markdown",
   "metadata": {},
   "source": [
    "`Question 6`: Degré de réalisation des objectifs de la prestation"
   ]
  },
  {
   "cell_type": "code",
   "execution_count": 160,
   "metadata": {},
   "outputs": [
    {
     "name": "stdout",
     "output_type": "stream",
     "text": [
      "Degré de réalisation des objectifs de la prestation est : 5    17\n",
      "4     5\n",
      "1     1\n",
      "Name: objectifs, dtype: int64\n",
      "Pourcentage pour objectifs est:  5    73.9\n",
      "4    21.7\n",
      "1     4.3\n",
      "Name: objectifs, dtype: float64\n"
     ]
    },
    {
     "data": {
      "text/plain": [
       "<matplotlib.axes._subplots.AxesSubplot at 0x2026f7d6ac8>"
      ]
     },
     "execution_count": 160,
     "metadata": {},
     "output_type": "execute_result"
    },
    {
     "data": {
      "image/png": "[encoded data removed]",
      "text/plain": [
       "<Figure size 432x288 with 1 Axes>"
      ]
     },
     "metadata": {},
     "output_type": "display_data"
    }
   ],
   "source": [
    "print(\"Degré de réalisation des objectifs de la prestation est :\", dfPres[\"objectifs\"].value_counts())\n",
    "print(\"Pourcentage pour objectifs est: \", round(dfPres[\"objectifs\"].value_counts(normalize=True)*100,1))\n",
    "dfPres.objectifs.value_counts().plot(kind=\"bar\")"
   ]
  },
  {
   "cell_type": "markdown",
   "metadata": {},
   "source": [
    "## Analysis de Questionnaire de Beneficiare"
   ]
  },
  {
   "cell_type": "code",
   "execution_count": 161,
   "metadata": {},
   "outputs": [
    {
     "name": "stdout",
     "output_type": "stream",
     "text": [
      "Il ya 209 statue resultat.\n",
      "beneficiaire     125\n",
      "intervenant-e     54\n",
      "prescripteur      23\n",
      "financeur          7\n",
      "Name: statue, dtype: int64\n"
     ]
    }
   ],
   "source": [
    "print(\"Il ya\", len(df.statue), \"statue resultat.\")\n",
    "print(df.statue.value_counts())"
   ]
  },
  {
   "cell_type": "code",
   "execution_count": 162,
   "metadata": {},
   "outputs": [],
   "source": [
    "dfBen = df[df.statue==\"beneficiaire\"]"
   ]
  },
  {
   "cell_type": "code",
   "execution_count": 163,
   "metadata": {},
   "outputs": [],
   "source": [
    "dfBen.drop(['fin1', 'fin2', 'fin3', 'fin4', 'fin5', 'intType',\n",
    "       'inter1', 'inter2', 'inter3', 'inter4', 'intForDis', 'inter5',\n",
    "       'intRisqS', 'intRisqH', 'intRisqJ', 'intRisqEn', 'intRisqEc',\n",
    "       'preUsager', 'pre1', 'pre2', 'pre3', 'pre4', 'pre5', 'pre6'], axis = 1, inplace = True)"
   ]
  },
  {
   "cell_type": "code",
   "execution_count": 164,
   "metadata": {},
   "outputs": [
    {
     "data": {
      "text/plain": [
       "dispositif                                                             BC\n",
       "site                                                            Avranches\n",
       "debut                                                 2021-02-03 00:00:00\n",
       "annéeDebut                                                           2021\n",
       "moisDebut                                                               2\n",
       "jourDebut                                                               3\n",
       "périodeDebut                                                            1\n",
       "périodeAnnuelleDebut                                               2021-1\n",
       "fin                                                   2021-06-04 00:00:00\n",
       "annéeFin                                                             2021\n",
       "moisFin                                                                 6\n",
       "jourFin                                                                 4\n",
       "périodeFin                                                              1\n",
       "périodeAnnuelleFin                                                 2021-1\n",
       "jour                                                    121 days 00:00:00\n",
       "jourChiffres                                                          121\n",
       "statue                                                       beneficiaire\n",
       "branche                                                      beneficiaire\n",
       "ben1                                                    Très satisfaisant\n",
       "ben2                                                    Très satisfaisant\n",
       "ben3                                                    Très satisfaisant\n",
       "ben4                                                    Très satisfaisant\n",
       "ben5                                                     Peu satisfaisant\n",
       "ben6                                                    Très satisfaisant\n",
       "ben7                                                                  NaN\n",
       "comment                 Apprécié les moyens mit à dispositions même si...\n",
       "proposition             Test plus précis a fin de cibler davantage 2 v...\n",
       "register_date                                         2021-06-22 12:05:16\n",
       "Name: 0, dtype: object"
      ]
     },
     "execution_count": 164,
     "metadata": {},
     "output_type": "execute_result"
    }
   ],
   "source": [
    "dfBen.loc[0, :]"
   ]
  },
  {
   "cell_type": "code",
   "execution_count": 165,
   "metadata": {},
   "outputs": [
    {
     "data": {
      "text/plain": [
       "dispositif                                                             BC\n",
       "site                                                            Avranches\n",
       "debut                                                 2021-02-03 00:00:00\n",
       "annéeDebut                                                           2021\n",
       "moisDebut                                                               2\n",
       "jourDebut                                                               3\n",
       "périodeDebut                                                            1\n",
       "périodeAnnuelleDebut                                               2021-1\n",
       "fin                                                   2021-06-04 00:00:00\n",
       "annéeFin                                                             2021\n",
       "moisFin                                                                 6\n",
       "jourFin                                                                 4\n",
       "périodeFin                                                              1\n",
       "périodeAnnuelleFin                                                 2021-1\n",
       "jour                                                    121 days 00:00:00\n",
       "jourChiffres                                                          121\n",
       "statue                                                       beneficiaire\n",
       "branche                                                      beneficiaire\n",
       "cohérence                                               Très satisfaisant\n",
       "contenus                                                Très satisfaisant\n",
       "moyens                                                  Très satisfaisant\n",
       "fréquenceContacts                                       Très satisfaisant\n",
       "objectif                                                 Peu satisfaisant\n",
       "action                                                  Très satisfaisant\n",
       "handicap                                                              NaN\n",
       "comment                 Apprécié les moyens mit à dispositions même si...\n",
       "proposition             Test plus précis a fin de cibler davantage 2 v...\n",
       "register_date                                         2021-06-22 12:05:16\n",
       "Name: 0, dtype: object"
      ]
     },
     "execution_count": 165,
     "metadata": {},
     "output_type": "execute_result"
    }
   ],
   "source": [
    "dfBen.rename(columns = {\"ben1\":\"cohérence\", \"ben2\":\"contenus\", \"ben3\":\"moyens\" , \"ben4\":\"fréquenceContacts\" , \"ben5\": \"objectif\", \"ben6\":\"action\", \"ben7\":\"handicap\"}, inplace = True)\n",
    "dfBen.loc[0, :]"
   ]
  },
  {
   "cell_type": "code",
   "execution_count": 166,
   "metadata": {},
   "outputs": [],
   "source": [
    "map_dict_Ben = {\"Très satisfaisant\":5, \"Satisfaisant\":4, \"Peu satisfaisant\":3, \"Pas du tout satisfaisant\":2}"
   ]
  },
  {
   "cell_type": "code",
   "execution_count": 167,
   "metadata": {},
   "outputs": [],
   "source": [
    "dfBen.cohérence= dfBen.cohérence.map(map_dict_Ben)\n",
    "dfBen.contenus= dfBen.contenus.map(map_dict_Ben)\n",
    "dfBen.moyens= dfBen.moyens.map(map_dict_Ben)\n",
    "dfBen.fréquenceContacts= dfBen.fréquenceContacts.map(map_dict_Ben)\n",
    "dfBen.objectif= dfBen.objectif.map(map_dict_Ben)\n",
    "dfBen.action= dfBen.action.map(map_dict_Ben)\n",
    "dfBen.handicap= dfBen.handicap.map(map_dict_Ben)"
   ]
  },
  {
   "cell_type": "code",
   "execution_count": 168,
   "metadata": {},
   "outputs": [
    {
     "name": "stdout",
     "output_type": "stream",
     "text": [
      "<class 'pandas.core.frame.DataFrame'>\n",
      "Int64Index: 125 entries, 0 to 208\n",
      "Data columns (total 28 columns):\n",
      " #   Column                Non-Null Count  Dtype          \n",
      "---  ------                --------------  -----          \n",
      " 0   dispositif            125 non-null    object         \n",
      " 1   site                  125 non-null    object         \n",
      " 2   debut                 125 non-null    datetime64[ns] \n",
      " 3   annéeDebut            125 non-null    int64          \n",
      " 4   moisDebut             125 non-null    int64          \n",
      " 5   jourDebut             125 non-null    int64          \n",
      " 6   périodeDebut          125 non-null    int32          \n",
      " 7   périodeAnnuelleDebut  125 non-null    object         \n",
      " 8   fin                   125 non-null    datetime64[ns] \n",
      " 9   annéeFin              125 non-null    int64          \n",
      " 10  moisFin               125 non-null    int64          \n",
      " 11  jourFin               125 non-null    int64          \n",
      " 12  périodeFin            125 non-null    int32          \n",
      " 13  périodeAnnuelleFin    125 non-null    object         \n",
      " 14  jour                  125 non-null    timedelta64[ns]\n",
      " 15  jourChiffres          125 non-null    int64          \n",
      " 16  statue                125 non-null    object         \n",
      " 17  branche               125 non-null    object         \n",
      " 18  cohérence             124 non-null    float64        \n",
      " 19  contenus              124 non-null    float64        \n",
      " 20  moyens                124 non-null    float64        \n",
      " 21  fréquenceContacts     125 non-null    int64          \n",
      " 22  objectif              124 non-null    float64        \n",
      " 23  action                122 non-null    float64        \n",
      " 24  handicap              41 non-null     float64        \n",
      " 25  comment               62 non-null     object         \n",
      " 26  proposition           26 non-null     object         \n",
      " 27  register_date         125 non-null    object         \n",
      "dtypes: datetime64[ns](2), float64(6), int32(2), int64(8), object(9), timedelta64[ns](1)\n",
      "memory usage: 32.3+ KB\n"
     ]
    }
   ],
   "source": [
    "dfBen.info()"
   ]
  },
  {
   "cell_type": "markdown",
   "metadata": {},
   "source": [
    "### Gérer les valeurs manquantes"
   ]
  },
  {
   "cell_type": "code",
   "execution_count": 169,
   "metadata": {},
   "outputs": [
    {
     "data": {
      "text/plain": [
       "dispositif               0\n",
       "site                     0\n",
       "debut                    0\n",
       "annéeDebut               0\n",
       "moisDebut                0\n",
       "jourDebut                0\n",
       "périodeDebut             0\n",
       "périodeAnnuelleDebut     0\n",
       "fin                      0\n",
       "annéeFin                 0\n",
       "moisFin                  0\n",
       "jourFin                  0\n",
       "périodeFin               0\n",
       "périodeAnnuelleFin       0\n",
       "jour                     0\n",
       "jourChiffres             0\n",
       "statue                   0\n",
       "branche                  0\n",
       "cohérence                1\n",
       "contenus                 1\n",
       "moyens                   1\n",
       "fréquenceContacts        0\n",
       "objectif                 1\n",
       "action                   3\n",
       "handicap                84\n",
       "comment                 63\n",
       "proposition             99\n",
       "register_date            0\n",
       "dtype: int64"
      ]
     },
     "execution_count": 169,
     "metadata": {},
     "output_type": "execute_result"
    }
   ],
   "source": [
    "dfBen.isnull().sum()"
   ]
  },
  {
   "cell_type": "code",
   "execution_count": 170,
   "metadata": {},
   "outputs": [
    {
     "data": {
      "text/plain": [
       "5.0    75\n",
       "4.0    49\n",
       "NaN     1\n",
       "Name: cohérence, dtype: int64"
      ]
     },
     "execution_count": 170,
     "metadata": {},
     "output_type": "execute_result"
    }
   ],
   "source": [
    "dfBen.cohérence.value_counts(dropna= False)"
   ]
  },
  {
   "cell_type": "code",
   "execution_count": 171,
   "metadata": {},
   "outputs": [
    {
     "data": {
      "text/plain": [
       "5.0"
      ]
     },
     "execution_count": 171,
     "metadata": {},
     "output_type": "execute_result"
    }
   ],
   "source": [
    "dfBen.cohérence.value_counts().index[0]"
   ]
  },
  {
   "cell_type": "code",
   "execution_count": 172,
   "metadata": {},
   "outputs": [],
   "source": [
    "dfBen.cohérence.fillna(dfBen.cohérence.value_counts().index[0], inplace = True)\n",
    "dfBen.contenus.fillna(dfBen.cohérence.value_counts().index[0], inplace = True)\n",
    "dfBen.moyens.fillna(dfBen.cohérence.value_counts().index[0], inplace = True)\n",
    "dfBen.objectif.fillna(dfBen.objectif.value_counts().index[0], inplace = True)\n",
    "dfBen.action.fillna(dfBen.action.value_counts().index[0], inplace = True)"
   ]
  },
  {
   "cell_type": "code",
   "execution_count": 173,
   "metadata": {},
   "outputs": [
    {
     "data": {
      "text/plain": [
       "dispositif               0\n",
       "site                     0\n",
       "debut                    0\n",
       "annéeDebut               0\n",
       "moisDebut                0\n",
       "jourDebut                0\n",
       "périodeDebut             0\n",
       "périodeAnnuelleDebut     0\n",
       "fin                      0\n",
       "annéeFin                 0\n",
       "moisFin                  0\n",
       "jourFin                  0\n",
       "périodeFin               0\n",
       "périodeAnnuelleFin       0\n",
       "jour                     0\n",
       "jourChiffres             0\n",
       "statue                   0\n",
       "branche                  0\n",
       "cohérence                0\n",
       "contenus                 0\n",
       "moyens                   0\n",
       "fréquenceContacts        0\n",
       "objectif                 0\n",
       "action                   0\n",
       "handicap                84\n",
       "comment                 63\n",
       "proposition             99\n",
       "register_date            0\n",
       "dtype: int64"
      ]
     },
     "execution_count": 173,
     "metadata": {},
     "output_type": "execute_result"
    }
   ],
   "source": [
    "dfBen.isnull().sum()"
   ]
  },
  {
   "cell_type": "code",
   "execution_count": 174,
   "metadata": {},
   "outputs": [],
   "source": [
    "dfBen.cohérence = dfBen.cohérence.astype(\"int64\")\n",
    "dfBen.contenus = dfBen.contenus.astype(\"int64\")\n",
    "dfBen.moyens = dfBen.moyens.astype(\"int64\")\n",
    "dfBen.fréquenceContacts = dfBen.fréquenceContacts.astype(\"int64\")\n",
    "dfBen.objectif = dfBen.objectif.astype(\"int64\")\n",
    "dfBen.action = dfBen.action.astype(\"int64\")"
   ]
  },
  {
   "cell_type": "markdown",
   "metadata": {},
   "source": [
    "### Beneficiaire tout les questions"
   ]
  },
  {
   "cell_type": "code",
   "execution_count": 175,
   "metadata": {},
   "outputs": [
    {
     "data": {
      "text/html": [
       "<div>\n",
       "<style scoped>\n",
       "    .dataframe tbody tr th:only-of-type {\n",
       "        vertical-align: middle;\n",
       "    }\n",
       "\n",
       "    .dataframe tbody tr th {\n",
       "        vertical-align: top;\n",
       "    }\n",
       "\n",
       "    .dataframe thead tr th {\n",
       "        text-align: left;\n",
       "    }\n",
       "\n",
       "    .dataframe thead tr:last-of-type th {\n",
       "        text-align: right;\n",
       "    }\n",
       "</style>\n",
       "<table border=\"1\" class=\"dataframe\">\n",
       "  <thead>\n",
       "    <tr>\n",
       "      <th></th>\n",
       "      <th colspan=\"2\" halign=\"left\">cohérence</th>\n",
       "      <th colspan=\"2\" halign=\"left\">contenus</th>\n",
       "      <th colspan=\"2\" halign=\"left\">moyens</th>\n",
       "      <th colspan=\"2\" halign=\"left\">fréquenceContacts</th>\n",
       "      <th colspan=\"2\" halign=\"left\">objectif</th>\n",
       "      <th colspan=\"2\" halign=\"left\">action</th>\n",
       "    </tr>\n",
       "    <tr>\n",
       "      <th></th>\n",
       "      <th>count</th>\n",
       "      <th>mean</th>\n",
       "      <th>count</th>\n",
       "      <th>mean</th>\n",
       "      <th>count</th>\n",
       "      <th>mean</th>\n",
       "      <th>count</th>\n",
       "      <th>mean</th>\n",
       "      <th>count</th>\n",
       "      <th>mean</th>\n",
       "      <th>count</th>\n",
       "      <th>mean</th>\n",
       "    </tr>\n",
       "    <tr>\n",
       "      <th>dispositif</th>\n",
       "      <th></th>\n",
       "      <th></th>\n",
       "      <th></th>\n",
       "      <th></th>\n",
       "      <th></th>\n",
       "      <th></th>\n",
       "      <th></th>\n",
       "      <th></th>\n",
       "      <th></th>\n",
       "      <th></th>\n",
       "      <th></th>\n",
       "      <th></th>\n",
       "    </tr>\n",
       "  </thead>\n",
       "  <tbody>\n",
       "    <tr>\n",
       "      <th>AC</th>\n",
       "      <td>1</td>\n",
       "      <td>5.0</td>\n",
       "      <td>1</td>\n",
       "      <td>5.0</td>\n",
       "      <td>1</td>\n",
       "      <td>5.0</td>\n",
       "      <td>1</td>\n",
       "      <td>5.0</td>\n",
       "      <td>1</td>\n",
       "      <td>5.0</td>\n",
       "      <td>1</td>\n",
       "      <td>5.0</td>\n",
       "    </tr>\n",
       "    <tr>\n",
       "      <th>BC</th>\n",
       "      <td>26</td>\n",
       "      <td>4.7</td>\n",
       "      <td>26</td>\n",
       "      <td>4.9</td>\n",
       "      <td>26</td>\n",
       "      <td>4.8</td>\n",
       "      <td>26</td>\n",
       "      <td>4.9</td>\n",
       "      <td>26</td>\n",
       "      <td>4.6</td>\n",
       "      <td>26</td>\n",
       "      <td>4.7</td>\n",
       "    </tr>\n",
       "    <tr>\n",
       "      <th>FA</th>\n",
       "      <td>6</td>\n",
       "      <td>4.8</td>\n",
       "      <td>6</td>\n",
       "      <td>5.0</td>\n",
       "      <td>6</td>\n",
       "      <td>5.0</td>\n",
       "      <td>6</td>\n",
       "      <td>4.7</td>\n",
       "      <td>6</td>\n",
       "      <td>4.7</td>\n",
       "      <td>6</td>\n",
       "      <td>4.8</td>\n",
       "    </tr>\n",
       "    <tr>\n",
       "      <th>GDA</th>\n",
       "      <td>7</td>\n",
       "      <td>4.7</td>\n",
       "      <td>7</td>\n",
       "      <td>4.7</td>\n",
       "      <td>7</td>\n",
       "      <td>4.7</td>\n",
       "      <td>7</td>\n",
       "      <td>5.0</td>\n",
       "      <td>7</td>\n",
       "      <td>4.6</td>\n",
       "      <td>7</td>\n",
       "      <td>4.9</td>\n",
       "    </tr>\n",
       "    <tr>\n",
       "      <th>ISU</th>\n",
       "      <td>1</td>\n",
       "      <td>5.0</td>\n",
       "      <td>1</td>\n",
       "      <td>5.0</td>\n",
       "      <td>1</td>\n",
       "      <td>5.0</td>\n",
       "      <td>1</td>\n",
       "      <td>5.0</td>\n",
       "      <td>1</td>\n",
       "      <td>5.0</td>\n",
       "      <td>1</td>\n",
       "      <td>5.0</td>\n",
       "    </tr>\n",
       "    <tr>\n",
       "      <th>PIP</th>\n",
       "      <td>26</td>\n",
       "      <td>4.4</td>\n",
       "      <td>26</td>\n",
       "      <td>4.6</td>\n",
       "      <td>26</td>\n",
       "      <td>4.6</td>\n",
       "      <td>26</td>\n",
       "      <td>4.8</td>\n",
       "      <td>26</td>\n",
       "      <td>4.5</td>\n",
       "      <td>26</td>\n",
       "      <td>4.7</td>\n",
       "    </tr>\n",
       "    <tr>\n",
       "      <th>PIS</th>\n",
       "      <td>23</td>\n",
       "      <td>4.5</td>\n",
       "      <td>23</td>\n",
       "      <td>4.5</td>\n",
       "      <td>23</td>\n",
       "      <td>4.7</td>\n",
       "      <td>23</td>\n",
       "      <td>4.7</td>\n",
       "      <td>23</td>\n",
       "      <td>4.3</td>\n",
       "      <td>23</td>\n",
       "      <td>4.6</td>\n",
       "    </tr>\n",
       "    <tr>\n",
       "      <th>PS</th>\n",
       "      <td>31</td>\n",
       "      <td>4.7</td>\n",
       "      <td>31</td>\n",
       "      <td>4.8</td>\n",
       "      <td>31</td>\n",
       "      <td>4.8</td>\n",
       "      <td>31</td>\n",
       "      <td>4.9</td>\n",
       "      <td>31</td>\n",
       "      <td>4.5</td>\n",
       "      <td>31</td>\n",
       "      <td>4.8</td>\n",
       "    </tr>\n",
       "    <tr>\n",
       "      <th>Remob</th>\n",
       "      <td>4</td>\n",
       "      <td>4.2</td>\n",
       "      <td>4</td>\n",
       "      <td>4.2</td>\n",
       "      <td>4</td>\n",
       "      <td>4.0</td>\n",
       "      <td>4</td>\n",
       "      <td>4.8</td>\n",
       "      <td>4</td>\n",
       "      <td>4.0</td>\n",
       "      <td>4</td>\n",
       "      <td>4.5</td>\n",
       "    </tr>\n",
       "  </tbody>\n",
       "</table>\n",
       "</div>"
      ],
      "text/plain": [
       "           cohérence      contenus      moyens      fréquenceContacts       \\\n",
       "               count mean    count mean  count mean             count mean   \n",
       "dispositif                                                                   \n",
       "AC                 1  5.0        1  5.0      1  5.0                 1  5.0   \n",
       "BC                26  4.7       26  4.9     26  4.8                26  4.9   \n",
       "FA                 6  4.8        6  5.0      6  5.0                 6  4.7   \n",
       "GDA                7  4.7        7  4.7      7  4.7                 7  5.0   \n",
       "ISU                1  5.0        1  5.0      1  5.0                 1  5.0   \n",
       "PIP               26  4.4       26  4.6     26  4.6                26  4.8   \n",
       "PIS               23  4.5       23  4.5     23  4.7                23  4.7   \n",
       "PS                31  4.7       31  4.8     31  4.8                31  4.9   \n",
       "Remob              4  4.2        4  4.2      4  4.0                 4  4.8   \n",
       "\n",
       "           objectif      action       \n",
       "              count mean  count mean  \n",
       "dispositif                            \n",
       "AC                1  5.0      1  5.0  \n",
       "BC               26  4.6     26  4.7  \n",
       "FA                6  4.7      6  4.8  \n",
       "GDA               7  4.6      7  4.9  \n",
       "ISU               1  5.0      1  5.0  \n",
       "PIP              26  4.5     26  4.7  \n",
       "PIS              23  4.3     23  4.6  \n",
       "PS               31  4.5     31  4.8  \n",
       "Remob             4  4.0      4  4.5  "
      ]
     },
     "execution_count": 175,
     "metadata": {},
     "output_type": "execute_result"
    }
   ],
   "source": [
    "dfBen.groupby([\"dispositif\"])[\"cohérence\", \"contenus\", \"moyens\", \"fréquenceContacts\", \"objectif\", \"action\"].agg([\"count\", \"mean\"]).round(1)"
   ]
  },
  {
   "cell_type": "code",
   "execution_count": 176,
   "metadata": {},
   "outputs": [
    {
     "data": {
      "text/html": [
       "<div>\n",
       "<style scoped>\n",
       "    .dataframe tbody tr th:only-of-type {\n",
       "        vertical-align: middle;\n",
       "    }\n",
       "\n",
       "    .dataframe tbody tr th {\n",
       "        vertical-align: top;\n",
       "    }\n",
       "\n",
       "    .dataframe thead tr th {\n",
       "        text-align: left;\n",
       "    }\n",
       "\n",
       "    .dataframe thead tr:last-of-type th {\n",
       "        text-align: right;\n",
       "    }\n",
       "</style>\n",
       "<table border=\"1\" class=\"dataframe\">\n",
       "  <thead>\n",
       "    <tr>\n",
       "      <th></th>\n",
       "      <th></th>\n",
       "      <th colspan=\"2\" halign=\"left\">cohérence</th>\n",
       "      <th colspan=\"2\" halign=\"left\">contenus</th>\n",
       "      <th colspan=\"2\" halign=\"left\">moyens</th>\n",
       "      <th colspan=\"2\" halign=\"left\">fréquenceContacts</th>\n",
       "      <th colspan=\"2\" halign=\"left\">objectif</th>\n",
       "      <th colspan=\"2\" halign=\"left\">action</th>\n",
       "    </tr>\n",
       "    <tr>\n",
       "      <th></th>\n",
       "      <th></th>\n",
       "      <th>count</th>\n",
       "      <th>mean</th>\n",
       "      <th>count</th>\n",
       "      <th>mean</th>\n",
       "      <th>count</th>\n",
       "      <th>mean</th>\n",
       "      <th>count</th>\n",
       "      <th>mean</th>\n",
       "      <th>count</th>\n",
       "      <th>mean</th>\n",
       "      <th>count</th>\n",
       "      <th>mean</th>\n",
       "    </tr>\n",
       "    <tr>\n",
       "      <th>dispositif</th>\n",
       "      <th>site</th>\n",
       "      <th></th>\n",
       "      <th></th>\n",
       "      <th></th>\n",
       "      <th></th>\n",
       "      <th></th>\n",
       "      <th></th>\n",
       "      <th></th>\n",
       "      <th></th>\n",
       "      <th></th>\n",
       "      <th></th>\n",
       "      <th></th>\n",
       "      <th></th>\n",
       "    </tr>\n",
       "  </thead>\n",
       "  <tbody>\n",
       "    <tr>\n",
       "      <th>AC</th>\n",
       "      <th>La Ferte-Mace</th>\n",
       "      <td>1</td>\n",
       "      <td>5.0</td>\n",
       "      <td>1</td>\n",
       "      <td>5.0</td>\n",
       "      <td>1</td>\n",
       "      <td>5.0</td>\n",
       "      <td>1</td>\n",
       "      <td>5.0</td>\n",
       "      <td>1</td>\n",
       "      <td>5.0</td>\n",
       "      <td>1</td>\n",
       "      <td>5.0</td>\n",
       "    </tr>\n",
       "    <tr>\n",
       "      <th rowspan=\"5\" valign=\"top\">BC</th>\n",
       "      <th>Argentan</th>\n",
       "      <td>1</td>\n",
       "      <td>5.0</td>\n",
       "      <td>1</td>\n",
       "      <td>5.0</td>\n",
       "      <td>1</td>\n",
       "      <td>5.0</td>\n",
       "      <td>1</td>\n",
       "      <td>5.0</td>\n",
       "      <td>1</td>\n",
       "      <td>5.0</td>\n",
       "      <td>1</td>\n",
       "      <td>5.0</td>\n",
       "    </tr>\n",
       "    <tr>\n",
       "      <th>Avranches</th>\n",
       "      <td>1</td>\n",
       "      <td>5.0</td>\n",
       "      <td>1</td>\n",
       "      <td>5.0</td>\n",
       "      <td>1</td>\n",
       "      <td>5.0</td>\n",
       "      <td>1</td>\n",
       "      <td>5.0</td>\n",
       "      <td>1</td>\n",
       "      <td>3.0</td>\n",
       "      <td>1</td>\n",
       "      <td>5.0</td>\n",
       "    </tr>\n",
       "    <tr>\n",
       "      <th>Flers</th>\n",
       "      <td>2</td>\n",
       "      <td>4.5</td>\n",
       "      <td>2</td>\n",
       "      <td>4.5</td>\n",
       "      <td>2</td>\n",
       "      <td>5.0</td>\n",
       "      <td>2</td>\n",
       "      <td>5.0</td>\n",
       "      <td>2</td>\n",
       "      <td>4.0</td>\n",
       "      <td>2</td>\n",
       "      <td>4.0</td>\n",
       "    </tr>\n",
       "    <tr>\n",
       "      <th>Saint-Lo</th>\n",
       "      <td>6</td>\n",
       "      <td>4.7</td>\n",
       "      <td>6</td>\n",
       "      <td>5.0</td>\n",
       "      <td>6</td>\n",
       "      <td>5.0</td>\n",
       "      <td>6</td>\n",
       "      <td>4.8</td>\n",
       "      <td>6</td>\n",
       "      <td>4.7</td>\n",
       "      <td>6</td>\n",
       "      <td>4.7</td>\n",
       "    </tr>\n",
       "    <tr>\n",
       "      <th>Vire</th>\n",
       "      <td>16</td>\n",
       "      <td>4.7</td>\n",
       "      <td>16</td>\n",
       "      <td>4.9</td>\n",
       "      <td>16</td>\n",
       "      <td>4.7</td>\n",
       "      <td>16</td>\n",
       "      <td>4.9</td>\n",
       "      <td>16</td>\n",
       "      <td>4.7</td>\n",
       "      <td>16</td>\n",
       "      <td>4.7</td>\n",
       "    </tr>\n",
       "    <tr>\n",
       "      <th>FA</th>\n",
       "      <th>Vire</th>\n",
       "      <td>6</td>\n",
       "      <td>4.8</td>\n",
       "      <td>6</td>\n",
       "      <td>5.0</td>\n",
       "      <td>6</td>\n",
       "      <td>5.0</td>\n",
       "      <td>6</td>\n",
       "      <td>4.7</td>\n",
       "      <td>6</td>\n",
       "      <td>4.7</td>\n",
       "      <td>6</td>\n",
       "      <td>4.8</td>\n",
       "    </tr>\n",
       "    <tr>\n",
       "      <th>GDA</th>\n",
       "      <th>Vire</th>\n",
       "      <td>7</td>\n",
       "      <td>4.7</td>\n",
       "      <td>7</td>\n",
       "      <td>4.7</td>\n",
       "      <td>7</td>\n",
       "      <td>4.7</td>\n",
       "      <td>7</td>\n",
       "      <td>5.0</td>\n",
       "      <td>7</td>\n",
       "      <td>4.6</td>\n",
       "      <td>7</td>\n",
       "      <td>4.9</td>\n",
       "    </tr>\n",
       "    <tr>\n",
       "      <th>ISU</th>\n",
       "      <th>Vire</th>\n",
       "      <td>1</td>\n",
       "      <td>5.0</td>\n",
       "      <td>1</td>\n",
       "      <td>5.0</td>\n",
       "      <td>1</td>\n",
       "      <td>5.0</td>\n",
       "      <td>1</td>\n",
       "      <td>5.0</td>\n",
       "      <td>1</td>\n",
       "      <td>5.0</td>\n",
       "      <td>1</td>\n",
       "      <td>5.0</td>\n",
       "    </tr>\n",
       "    <tr>\n",
       "      <th rowspan=\"3\" valign=\"top\">PIP</th>\n",
       "      <th>Argentan</th>\n",
       "      <td>7</td>\n",
       "      <td>4.4</td>\n",
       "      <td>7</td>\n",
       "      <td>4.6</td>\n",
       "      <td>7</td>\n",
       "      <td>4.4</td>\n",
       "      <td>7</td>\n",
       "      <td>4.9</td>\n",
       "      <td>7</td>\n",
       "      <td>4.6</td>\n",
       "      <td>7</td>\n",
       "      <td>4.6</td>\n",
       "    </tr>\n",
       "    <tr>\n",
       "      <th>Domfront</th>\n",
       "      <td>13</td>\n",
       "      <td>4.4</td>\n",
       "      <td>13</td>\n",
       "      <td>4.6</td>\n",
       "      <td>13</td>\n",
       "      <td>4.5</td>\n",
       "      <td>13</td>\n",
       "      <td>4.8</td>\n",
       "      <td>13</td>\n",
       "      <td>4.3</td>\n",
       "      <td>13</td>\n",
       "      <td>4.7</td>\n",
       "    </tr>\n",
       "    <tr>\n",
       "      <th>Flers</th>\n",
       "      <td>6</td>\n",
       "      <td>4.5</td>\n",
       "      <td>6</td>\n",
       "      <td>4.7</td>\n",
       "      <td>6</td>\n",
       "      <td>4.8</td>\n",
       "      <td>6</td>\n",
       "      <td>4.8</td>\n",
       "      <td>6</td>\n",
       "      <td>4.7</td>\n",
       "      <td>6</td>\n",
       "      <td>4.8</td>\n",
       "    </tr>\n",
       "    <tr>\n",
       "      <th rowspan=\"2\" valign=\"top\">PIS</th>\n",
       "      <th>Argentan</th>\n",
       "      <td>15</td>\n",
       "      <td>4.4</td>\n",
       "      <td>15</td>\n",
       "      <td>4.4</td>\n",
       "      <td>15</td>\n",
       "      <td>4.6</td>\n",
       "      <td>15</td>\n",
       "      <td>4.6</td>\n",
       "      <td>15</td>\n",
       "      <td>4.3</td>\n",
       "      <td>15</td>\n",
       "      <td>4.6</td>\n",
       "    </tr>\n",
       "    <tr>\n",
       "      <th>La Ferte-Mace</th>\n",
       "      <td>8</td>\n",
       "      <td>4.6</td>\n",
       "      <td>8</td>\n",
       "      <td>4.8</td>\n",
       "      <td>8</td>\n",
       "      <td>4.8</td>\n",
       "      <td>8</td>\n",
       "      <td>4.8</td>\n",
       "      <td>8</td>\n",
       "      <td>4.4</td>\n",
       "      <td>8</td>\n",
       "      <td>4.5</td>\n",
       "    </tr>\n",
       "    <tr>\n",
       "      <th rowspan=\"3\" valign=\"top\">PS</th>\n",
       "      <th>Autre Lieu Delocalise</th>\n",
       "      <td>21</td>\n",
       "      <td>4.6</td>\n",
       "      <td>21</td>\n",
       "      <td>4.7</td>\n",
       "      <td>21</td>\n",
       "      <td>4.8</td>\n",
       "      <td>21</td>\n",
       "      <td>4.9</td>\n",
       "      <td>21</td>\n",
       "      <td>4.3</td>\n",
       "      <td>21</td>\n",
       "      <td>4.8</td>\n",
       "    </tr>\n",
       "    <tr>\n",
       "      <th>Bayeux</th>\n",
       "      <td>4</td>\n",
       "      <td>5.0</td>\n",
       "      <td>4</td>\n",
       "      <td>5.0</td>\n",
       "      <td>4</td>\n",
       "      <td>5.0</td>\n",
       "      <td>4</td>\n",
       "      <td>5.0</td>\n",
       "      <td>4</td>\n",
       "      <td>4.8</td>\n",
       "      <td>4</td>\n",
       "      <td>5.0</td>\n",
       "    </tr>\n",
       "    <tr>\n",
       "      <th>Falaise</th>\n",
       "      <td>6</td>\n",
       "      <td>5.0</td>\n",
       "      <td>6</td>\n",
       "      <td>5.0</td>\n",
       "      <td>6</td>\n",
       "      <td>5.0</td>\n",
       "      <td>6</td>\n",
       "      <td>5.0</td>\n",
       "      <td>6</td>\n",
       "      <td>4.8</td>\n",
       "      <td>6</td>\n",
       "      <td>5.0</td>\n",
       "    </tr>\n",
       "    <tr>\n",
       "      <th>Remob</th>\n",
       "      <th>Avranches</th>\n",
       "      <td>4</td>\n",
       "      <td>4.2</td>\n",
       "      <td>4</td>\n",
       "      <td>4.2</td>\n",
       "      <td>4</td>\n",
       "      <td>4.0</td>\n",
       "      <td>4</td>\n",
       "      <td>4.8</td>\n",
       "      <td>4</td>\n",
       "      <td>4.0</td>\n",
       "      <td>4</td>\n",
       "      <td>4.5</td>\n",
       "    </tr>\n",
       "  </tbody>\n",
       "</table>\n",
       "</div>"
      ],
      "text/plain": [
       "                                 cohérence      contenus      moyens       \\\n",
       "                                     count mean    count mean  count mean   \n",
       "dispositif site                                                             \n",
       "AC         La Ferte-Mace                 1  5.0        1  5.0      1  5.0   \n",
       "BC         Argentan                      1  5.0        1  5.0      1  5.0   \n",
       "           Avranches                     1  5.0        1  5.0      1  5.0   \n",
       "           Flers                         2  4.5        2  4.5      2  5.0   \n",
       "           Saint-Lo                      6  4.7        6  5.0      6  5.0   \n",
       "           Vire                         16  4.7       16  4.9     16  4.7   \n",
       "FA         Vire                          6  4.8        6  5.0      6  5.0   \n",
       "GDA        Vire                          7  4.7        7  4.7      7  4.7   \n",
       "ISU        Vire                          1  5.0        1  5.0      1  5.0   \n",
       "PIP        Argentan                      7  4.4        7  4.6      7  4.4   \n",
       "           Domfront                     13  4.4       13  4.6     13  4.5   \n",
       "           Flers                         6  4.5        6  4.7      6  4.8   \n",
       "PIS        Argentan                     15  4.4       15  4.4     15  4.6   \n",
       "           La Ferte-Mace                 8  4.6        8  4.8      8  4.8   \n",
       "PS         Autre Lieu Delocalise        21  4.6       21  4.7     21  4.8   \n",
       "           Bayeux                        4  5.0        4  5.0      4  5.0   \n",
       "           Falaise                       6  5.0        6  5.0      6  5.0   \n",
       "Remob      Avranches                     4  4.2        4  4.2      4  4.0   \n",
       "\n",
       "                                 fréquenceContacts      objectif      action  \\\n",
       "                                             count mean    count mean  count   \n",
       "dispositif site                                                                \n",
       "AC         La Ferte-Mace                         1  5.0        1  5.0      1   \n",
       "BC         Argentan                              1  5.0        1  5.0      1   \n",
       "           Avranches                             1  5.0        1  3.0      1   \n",
       "           Flers                                 2  5.0        2  4.0      2   \n",
       "           Saint-Lo                              6  4.8        6  4.7      6   \n",
       "           Vire                                 16  4.9       16  4.7     16   \n",
       "FA         Vire                                  6  4.7        6  4.7      6   \n",
       "GDA        Vire                                  7  5.0        7  4.6      7   \n",
       "ISU        Vire                                  1  5.0        1  5.0      1   \n",
       "PIP        Argentan                              7  4.9        7  4.6      7   \n",
       "           Domfront                             13  4.8       13  4.3     13   \n",
       "           Flers                                 6  4.8        6  4.7      6   \n",
       "PIS        Argentan                             15  4.6       15  4.3     15   \n",
       "           La Ferte-Mace                         8  4.8        8  4.4      8   \n",
       "PS         Autre Lieu Delocalise                21  4.9       21  4.3     21   \n",
       "           Bayeux                                4  5.0        4  4.8      4   \n",
       "           Falaise                               6  5.0        6  4.8      6   \n",
       "Remob      Avranches                             4  4.8        4  4.0      4   \n",
       "\n",
       "                                       \n",
       "                                 mean  \n",
       "dispositif site                        \n",
       "AC         La Ferte-Mace          5.0  \n",
       "BC         Argentan               5.0  \n",
       "           Avranches              5.0  \n",
       "           Flers                  4.0  \n",
       "           Saint-Lo               4.7  \n",
       "           Vire                   4.7  \n",
       "FA         Vire                   4.8  \n",
       "GDA        Vire                   4.9  \n",
       "ISU        Vire                   5.0  \n",
       "PIP        Argentan               4.6  \n",
       "           Domfront               4.7  \n",
       "           Flers                  4.8  \n",
       "PIS        Argentan               4.6  \n",
       "           La Ferte-Mace          4.5  \n",
       "PS         Autre Lieu Delocalise  4.8  \n",
       "           Bayeux                 5.0  \n",
       "           Falaise                5.0  \n",
       "Remob      Avranches              4.5  "
      ]
     },
     "execution_count": 176,
     "metadata": {},
     "output_type": "execute_result"
    }
   ],
   "source": [
    "dfBen.groupby([\"dispositif\", \"site\"])[\"cohérence\", \"contenus\", \"moyens\", \"fréquenceContacts\", \"objectif\", \"action\"].agg([\"count\", \"mean\"]).round(1)"
   ]
  },
  {
   "cell_type": "markdown",
   "metadata": {},
   "source": [
    "### Tableau general pour Prescripteur"
   ]
  },
  {
   "cell_type": "code",
   "execution_count": 177,
   "metadata": {},
   "outputs": [
    {
     "data": {
      "text/plain": [
       "Text(0.5, 1.0, \"Moyennes globales de l'enquête auprès des intervenants\")"
      ]
     },
     "execution_count": 177,
     "metadata": {},
     "output_type": "execute_result"
    },
    {
     "data": {
      "image/png": "[encoded data removed]",
      "text/plain": [
       "<Figure size 864x432 with 1 Axes>"
      ]
     },
     "metadata": {},
     "output_type": "display_data"
    }
   ],
   "source": [
    "genBen= dfBen[[\"cohérence\",\"contenus\", \"moyens\",\"fréquenceContacts\",\"objectif\", \"action\"]].mean().plot(kind=\"bar\", \n",
    "                figsize=(12,6), fontsize=14)\n",
    "genBen.set_xlabel(\"point\", fontdict=fontdict)\n",
    "genBen.set_ylabel(\"Sujet\", fontdict=fontdict)\n",
    "genBen.set_title(\"Moyennes globales de l'enquête auprès des intervenants\", fontdict=fontdict)"
   ]
  },
  {
   "cell_type": "markdown",
   "metadata": {},
   "source": [
    "### Les averages pour les questions"
   ]
  },
  {
   "cell_type": "code",
   "execution_count": 178,
   "metadata": {},
   "outputs": [
    {
     "name": "stdout",
     "output_type": "stream",
     "text": [
      "Avarage pour cohérence est:  4.6\n",
      "Avarage pour contenus est:  4.7\n",
      "Avarage pour moyens est:  4.7\n",
      "Avarage pour fréquenceContacts est:  4.8\n",
      "Avarage pour objectif est:  4.5\n",
      "Avarage pour action est:  4.7\n"
     ]
    }
   ],
   "source": [
    "print(\"Avarage pour cohérence est: \", round(dfBen.cohérence.mean(), 1))\n",
    "print(\"Avarage pour contenus est: \", round(dfBen.contenus.mean(), 1))\n",
    "print(\"Avarage pour moyens est: \", round(dfBen.moyens.mean(),1))\n",
    "print(\"Avarage pour fréquenceContacts est: \", round(dfBen.fréquenceContacts.mean(), 1))\n",
    "print(\"Avarage pour objectif est: \", round(dfBen.objectif.mean(), 1))\n",
    "print(\"Avarage pour action est: \", round(dfBen.action.mean(), 1))"
   ]
  },
  {
   "cell_type": "markdown",
   "metadata": {},
   "source": [
    "### Les Questions"
   ]
  },
  {
   "cell_type": "markdown",
   "metadata": {},
   "source": [
    "`Questions 1`: La cohérence de cette formation/prestation par rapport à vos besoins ?"
   ]
  },
  {
   "cell_type": "code",
   "execution_count": 179,
   "metadata": {},
   "outputs": [
    {
     "name": "stdout",
     "output_type": "stream",
     "text": [
      "La cohérence de cette formation/prestation par rapport à vos besoins est : 5    76\n",
      "4    49\n",
      "Name: cohérence, dtype: int64\n",
      "Pourcentage pour cohérence est:  5    60.8\n",
      "4    39.2\n",
      "Name: cohérence, dtype: float64\n"
     ]
    },
    {
     "data": {
      "text/plain": [
       "<matplotlib.axes._subplots.AxesSubplot at 0x2026f8c5448>"
      ]
     },
     "execution_count": 179,
     "metadata": {},
     "output_type": "execute_result"
    },
    {
     "data": {
      "image/png": "[encoded data removed]",
      "text/plain": [
       "<Figure size 432x288 with 1 Axes>"
      ]
     },
     "metadata": {},
     "output_type": "display_data"
    }
   ],
   "source": [
    "print(\"La cohérence de cette formation/prestation par rapport à vos besoins est :\", dfBen[\"cohérence\"].value_counts())\n",
    "print(\"Pourcentage pour cohérence est: \", round(dfBen[\"cohérence\"].value_counts(normalize=True)*100,1))\n",
    "dfBen.cohérence.value_counts().plot(kind=\"bar\")"
   ]
  },
  {
   "cell_type": "markdown",
   "metadata": {},
   "source": [
    "`Questions 2`: La conformité des contenus de cette formation par rapport au descriptif annoncé ?"
   ]
  },
  {
   "cell_type": "code",
   "execution_count": 180,
   "metadata": {},
   "outputs": [
    {
     "name": "stdout",
     "output_type": "stream",
     "text": [
      "La conformité des contenus de cette formation par rapport au descriptif annoncé est : 5    90\n",
      "4    35\n",
      "Name: contenus, dtype: int64\n",
      "Pourcentage pour contenus est:  5    72.0\n",
      "4    28.0\n",
      "Name: contenus, dtype: float64\n"
     ]
    },
    {
     "data": {
      "text/plain": [
       "<matplotlib.axes._subplots.AxesSubplot at 0x2026f928c08>"
      ]
     },
     "execution_count": 180,
     "metadata": {},
     "output_type": "execute_result"
    },
    {
     "data": {
      "image/png": "[encoded data removed]",
      "text/plain": [
       "<Figure size 432x288 with 1 Axes>"
      ]
     },
     "metadata": {},
     "output_type": "display_data"
    }
   ],
   "source": [
    "print(\"La conformité des contenus de cette formation par rapport au descriptif annoncé est :\", dfBen[\"contenus\"].value_counts())\n",
    "print(\"Pourcentage pour contenus est: \", round(dfBen[\"contenus\"].value_counts(normalize=True)*100,1))\n",
    "dfBen.contenus.value_counts().plot(kind=\"bar\")"
   ]
  },
  {
   "cell_type": "markdown",
   "metadata": {},
   "source": [
    "`Questions 3`: Les moyens mis à votre disposition étaient-ils satisfaisants ?"
   ]
  },
  {
   "cell_type": "code",
   "execution_count": 181,
   "metadata": {},
   "outputs": [
    {
     "name": "stdout",
     "output_type": "stream",
     "text": [
      " Les moyens mis à votre disposition étaient-ils satisfaisants est : 5    91\n",
      "4    33\n",
      "3     1\n",
      "Name: moyens, dtype: int64\n",
      "Pourcentage pour moyens est:  5    72.8\n",
      "4    26.4\n",
      "3     0.8\n",
      "Name: moyens, dtype: float64\n"
     ]
    },
    {
     "data": {
      "text/plain": [
       "<matplotlib.axes._subplots.AxesSubplot at 0x2026f983488>"
      ]
     },
     "execution_count": 181,
     "metadata": {},
     "output_type": "execute_result"
    },
    {
     "data": {
      "image/png": "[encoded data removed]",
      "text/plain": [
       "<Figure size 432x288 with 1 Axes>"
      ]
     },
     "metadata": {},
     "output_type": "display_data"
    }
   ],
   "source": [
    "print(\" Les moyens mis à votre disposition étaient-ils satisfaisants est :\", dfBen[\"moyens\"].value_counts())\n",
    "print(\"Pourcentage pour moyens est: \", round(dfBen[\"moyens\"].value_counts(normalize=True)*100,1))\n",
    "dfBen.moyens.value_counts().plot(kind=\"bar\")"
   ]
  },
  {
   "cell_type": "markdown",
   "metadata": {},
   "source": [
    "`Questions 4`: Etes-vous satisfait-e de la fréquence des contacts avec le-la référent-e L’Étape ?"
   ]
  },
  {
   "cell_type": "code",
   "execution_count": 182,
   "metadata": {},
   "outputs": [
    {
     "name": "stdout",
     "output_type": "stream",
     "text": [
      "Satisfaction de la fréquence des contacts avec le-la référent-e L’Étape est : 5    103\n",
      "4     22\n",
      "Name: fréquenceContacts, dtype: int64\n",
      "Pourcentage pour fréquenceContacts est:  5    72.8\n",
      "4    26.4\n",
      "3     0.8\n",
      "Name: moyens, dtype: float64\n"
     ]
    },
    {
     "data": {
      "text/plain": [
       "<matplotlib.axes._subplots.AxesSubplot at 0x2026f9c03c8>"
      ]
     },
     "execution_count": 182,
     "metadata": {},
     "output_type": "execute_result"
    },
    {
     "data": {
      "image/png": "[encoded data removed]",
      "text/plain": [
       "<Figure size 432x288 with 1 Axes>"
      ]
     },
     "metadata": {},
     "output_type": "display_data"
    }
   ],
   "source": [
    "print(\"Satisfaction de la fréquence des contacts avec le-la référent-e L’Étape est :\", dfBen[\"fréquenceContacts\"].value_counts())\n",
    "print(\"Pourcentage pour fréquenceContacts est: \", round(dfBen[\"moyens\"].value_counts(normalize=True)*100,1))\n",
    "dfBen.fréquenceContacts.value_counts().plot(kind=\"bar\")"
   ]
  },
  {
   "cell_type": "markdown",
   "metadata": {},
   "source": [
    "`Questions 5`: Votre objectif a-t-il été atteint ?"
   ]
  },
  {
   "cell_type": "code",
   "execution_count": 183,
   "metadata": {},
   "outputs": [
    {
     "name": "stdout",
     "output_type": "stream",
     "text": [
      " Les objectifs est : 5    63\n",
      "4    58\n",
      "3     4\n",
      "Name: objectif, dtype: int64\n",
      "Pourcentage pour objectif est:  5    50.4\n",
      "4    46.4\n",
      "3     3.2\n",
      "Name: objectif, dtype: float64\n"
     ]
    },
    {
     "data": {
      "text/plain": [
       "<matplotlib.axes._subplots.AxesSubplot at 0x2026fa54a08>"
      ]
     },
     "execution_count": 183,
     "metadata": {},
     "output_type": "execute_result"
    },
    {
     "data": {
      "image/png": "[encoded data removed]",
      "text/plain": [
       "<Figure size 432x288 with 1 Axes>"
      ]
     },
     "metadata": {},
     "output_type": "display_data"
    }
   ],
   "source": [
    "print(\" Les objectifs est :\", dfBen[\"objectif\"].value_counts())\n",
    "print(\"Pourcentage pour objectif est: \", round(dfBen[\"objectif\"].value_counts(normalize=True)*100,1))\n",
    "dfBen.objectif.value_counts().plot(kind=\"bar\")"
   ]
  },
  {
   "cell_type": "markdown",
   "metadata": {},
   "source": [
    "`Questions 6`: Etes-vous satisfait-e de l’action mise en place ?"
   ]
  },
  {
   "cell_type": "code",
   "execution_count": 184,
   "metadata": {},
   "outputs": [
    {
     "name": "stdout",
     "output_type": "stream",
     "text": [
      "Satisfaction des actions est : 5    90\n",
      "4    34\n",
      "3     1\n",
      "Name: action, dtype: int64\n",
      "Pourcentage pour action est:  5    72.0\n",
      "4    27.2\n",
      "3     0.8\n",
      "Name: action, dtype: float64\n"
     ]
    },
    {
     "data": {
      "text/plain": [
       "<matplotlib.axes._subplots.AxesSubplot at 0x20270be4488>"
      ]
     },
     "execution_count": 184,
     "metadata": {},
     "output_type": "execute_result"
    },
    {
     "data": {
      "image/png": "[encoded data removed]",
      "text/plain": [
       "<Figure size 432x288 with 1 Axes>"
      ]
     },
     "metadata": {},
     "output_type": "display_data"
    }
   ],
   "source": [
    "print(\"Satisfaction des actions est :\", dfBen[\"action\"].value_counts())\n",
    "print(\"Pourcentage pour action est: \", round(dfBen[\"action\"].value_counts(normalize=True)*100,1))\n",
    "dfBen.action.value_counts().plot(kind=\"bar\")"
   ]
  },
  {
   "cell_type": "markdown",
   "metadata": {},
   "source": [
    "`Questions 7`: Si vous êtes en situation de handicap, votre handicap a-t-il été pris en compte ?"
   ]
  },
  {
   "cell_type": "code",
   "execution_count": 185,
   "metadata": {},
   "outputs": [
    {
     "data": {
      "text/plain": [
       "NaN    84\n",
       "5.0    27\n",
       "4.0    13\n",
       "3.0     1\n",
       "Name: handicap, dtype: int64"
      ]
     },
     "execution_count": 185,
     "metadata": {},
     "output_type": "execute_result"
    }
   ],
   "source": [
    "dfBen.handicap.value_counts(dropna=False)"
   ]
  },
  {
   "cell_type": "code",
   "execution_count": 186,
   "metadata": {},
   "outputs": [
    {
     "name": "stdout",
     "output_type": "stream",
     "text": [
      "Prendre en compte de handicap est : NaN    84\n",
      "5.0    27\n",
      "4.0    13\n",
      "3.0     1\n",
      "Name: handicap, dtype: int64\n",
      "Pourcentage pour handicap est:  NaN    67.2\n",
      "5.0    21.6\n",
      "4.0    10.4\n",
      "3.0     0.8\n",
      "Name: handicap, dtype: float64\n"
     ]
    },
    {
     "data": {
      "text/plain": [
       "<matplotlib.axes._subplots.AxesSubplot at 0x20270c5f548>"
      ]
     },
     "execution_count": 186,
     "metadata": {},
     "output_type": "execute_result"
    },
    {
     "data": {
      "image/png": "[encoded data removed]",
      "text/plain": [
       "<Figure size 432x288 with 1 Axes>"
      ]
     },
     "metadata": {},
     "output_type": "display_data"
    }
   ],
   "source": [
    "print(\"Prendre en compte de handicap est :\", dfBen[\"handicap\"].value_counts(dropna=False))\n",
    "print(\"Pourcentage pour handicap est: \", round(dfBen[\"handicap\"].value_counts(normalize=True, dropna=False)*100,1))\n",
    "dfBen.handicap.value_counts(dropna=False).plot(kind=\"bar\")"
   ]
  },
  {
   "cell_type": "markdown",
   "metadata": {},
   "source": [
    "## Les avareges par rapport les dispositifs"
   ]
  },
  {
   "cell_type": "code",
   "execution_count": 187,
   "metadata": {},
   "outputs": [
    {
     "data": {
      "text/plain": [
       "Index(['dispositif', 'site', 'debut', 'annéeDebut', 'moisDebut', 'jourDebut',\n",
       "       'périodeDebut', 'périodeAnnuelleDebut', 'fin', 'annéeFin', 'moisFin',\n",
       "       'jourFin', 'périodeFin', 'périodeAnnuelleFin', 'jour', 'jourChiffres',\n",
       "       'statue', 'branche', 'fin1', 'fin2', 'fin3', 'fin4', 'fin5', 'intType',\n",
       "       'inter1', 'inter2', 'inter3', 'inter4', 'intForDis', 'inter5',\n",
       "       'intRisqS', 'intRisqH', 'intRisqJ', 'intRisqEn', 'intRisqEc',\n",
       "       'preUsager', 'pre1', 'pre2', 'pre3', 'pre4', 'pre5', 'pre6', 'ben1',\n",
       "       'ben2', 'ben3', 'ben4', 'ben5', 'ben6', 'ben7', 'comment',\n",
       "       'proposition', 'register_date'],\n",
       "      dtype='object')"
      ]
     },
     "execution_count": 187,
     "metadata": {},
     "output_type": "execute_result"
    }
   ],
   "source": [
    "df.columns"
   ]
  },
  {
   "cell_type": "code",
   "execution_count": 189,
   "metadata": {},
   "outputs": [
    {
     "data": {
      "text/html": [
       "<div>\n",
       "<style scoped>\n",
       "    .dataframe tbody tr th:only-of-type {\n",
       "        vertical-align: middle;\n",
       "    }\n",
       "\n",
       "    .dataframe tbody tr th {\n",
       "        vertical-align: top;\n",
       "    }\n",
       "\n",
       "    .dataframe thead th {\n",
       "        text-align: right;\n",
       "    }\n",
       "</style>\n",
       "<table border=\"1\" class=\"dataframe\">\n",
       "  <thead>\n",
       "    <tr style=\"text-align: right;\">\n",
       "      <th></th>\n",
       "      <th>dispositif</th>\n",
       "      <th>Disponibilité</th>\n",
       "      <th>Administratif</th>\n",
       "      <th>Respect</th>\n",
       "      <th>Cohérence</th>\n",
       "      <th>Supports</th>\n",
       "    </tr>\n",
       "  </thead>\n",
       "  <tbody>\n",
       "    <tr>\n",
       "      <th>99</th>\n",
       "      <td>PIP</td>\n",
       "      <td>5</td>\n",
       "      <td>5</td>\n",
       "      <td>4</td>\n",
       "      <td>4</td>\n",
       "      <td>5</td>\n",
       "    </tr>\n",
       "  </tbody>\n",
       "</table>\n",
       "</div>"
      ],
      "text/plain": [
       "   dispositif  Disponibilité  Administratif  Respect  Cohérence  Supports\n",
       "99        PIP              5              5        4          4         5"
      ]
     },
     "execution_count": 189,
     "metadata": {},
     "output_type": "execute_result"
    }
   ],
   "source": [
    "dfFin[[\"dispositif\", 'Disponibilité', 'Administratif', 'Respect',\n",
    "       'Cohérence', 'Supports']][0:1]"
   ]
  },
  {
   "cell_type": "code",
   "execution_count": 190,
   "metadata": {},
   "outputs": [
    {
     "data": {
      "text/html": [
       "<div>\n",
       "<style scoped>\n",
       "    .dataframe tbody tr th:only-of-type {\n",
       "        vertical-align: middle;\n",
       "    }\n",
       "\n",
       "    .dataframe tbody tr th {\n",
       "        vertical-align: top;\n",
       "    }\n",
       "\n",
       "    .dataframe thead th {\n",
       "        text-align: right;\n",
       "    }\n",
       "</style>\n",
       "<table border=\"1\" class=\"dataframe\">\n",
       "  <thead>\n",
       "    <tr style=\"text-align: right;\">\n",
       "      <th></th>\n",
       "      <th>Disponibilité</th>\n",
       "      <th>Administratif</th>\n",
       "      <th>Respect</th>\n",
       "      <th>Cohérence</th>\n",
       "      <th>Supports</th>\n",
       "    </tr>\n",
       "    <tr>\n",
       "      <th>dispositif</th>\n",
       "      <th></th>\n",
       "      <th></th>\n",
       "      <th></th>\n",
       "      <th></th>\n",
       "      <th></th>\n",
       "    </tr>\n",
       "  </thead>\n",
       "  <tbody>\n",
       "    <tr>\n",
       "      <th>FA</th>\n",
       "      <td>5.0</td>\n",
       "      <td>5.0</td>\n",
       "      <td>5.0</td>\n",
       "      <td>5.0</td>\n",
       "      <td>5.0</td>\n",
       "    </tr>\n",
       "    <tr>\n",
       "      <th>PH</th>\n",
       "      <td>5.0</td>\n",
       "      <td>5.0</td>\n",
       "      <td>5.0</td>\n",
       "      <td>5.0</td>\n",
       "      <td>5.0</td>\n",
       "    </tr>\n",
       "    <tr>\n",
       "      <th>PIP</th>\n",
       "      <td>5.0</td>\n",
       "      <td>5.0</td>\n",
       "      <td>4.0</td>\n",
       "      <td>4.0</td>\n",
       "      <td>5.0</td>\n",
       "    </tr>\n",
       "    <tr>\n",
       "      <th>PIS</th>\n",
       "      <td>5.0</td>\n",
       "      <td>5.0</td>\n",
       "      <td>5.0</td>\n",
       "      <td>5.0</td>\n",
       "      <td>5.0</td>\n",
       "    </tr>\n",
       "    <tr>\n",
       "      <th>PS</th>\n",
       "      <td>5.0</td>\n",
       "      <td>5.0</td>\n",
       "      <td>5.0</td>\n",
       "      <td>4.5</td>\n",
       "      <td>5.0</td>\n",
       "    </tr>\n",
       "    <tr>\n",
       "      <th>Remob</th>\n",
       "      <td>4.0</td>\n",
       "      <td>4.0</td>\n",
       "      <td>4.0</td>\n",
       "      <td>5.0</td>\n",
       "      <td>5.0</td>\n",
       "    </tr>\n",
       "  </tbody>\n",
       "</table>\n",
       "</div>"
      ],
      "text/plain": [
       "            Disponibilité  Administratif  Respect  Cohérence  Supports\n",
       "dispositif                                                            \n",
       "FA                    5.0            5.0      5.0        5.0       5.0\n",
       "PH                    5.0            5.0      5.0        5.0       5.0\n",
       "PIP                   5.0            5.0      4.0        4.0       5.0\n",
       "PIS                   5.0            5.0      5.0        5.0       5.0\n",
       "PS                    5.0            5.0      5.0        4.5       5.0\n",
       "Remob                 4.0            4.0      4.0        5.0       5.0"
      ]
     },
     "execution_count": 190,
     "metadata": {},
     "output_type": "execute_result"
    }
   ],
   "source": [
    "dfFin.groupby(\"dispositif\")[ 'Disponibilité', 'Administratif', 'Respect',\n",
    "       'Cohérence', 'Supports'].mean()"
   ]
  },
  {
   "cell_type": "code",
   "execution_count": 191,
   "metadata": {},
   "outputs": [],
   "source": [
    "groupDfFin = dfFin.groupby(\"dispositif\")[ 'Disponibilité', 'Administratif', 'Respect',\n",
    "       'Cohérence', 'Supports'].mean().round(1)"
   ]
  },
  {
   "cell_type": "code",
   "execution_count": 192,
   "metadata": {},
   "outputs": [
    {
     "data": {
      "text/plain": [
       "dispositif\n",
       "FA       5.0\n",
       "PH       5.0\n",
       "PIP      4.6\n",
       "PIS      5.0\n",
       "PS       4.9\n",
       "Remob    4.4\n",
       "dtype: float64"
      ]
     },
     "execution_count": 192,
     "metadata": {},
     "output_type": "execute_result"
    }
   ],
   "source": [
    "mean_dfFin = groupDfFin.mean(axis = 1)\n",
    "mean_dfFin"
   ]
  },
  {
   "cell_type": "code",
   "execution_count": 193,
   "metadata": {},
   "outputs": [
    {
     "data": {
      "text/html": [
       "<div>\n",
       "<style scoped>\n",
       "    .dataframe tbody tr th:only-of-type {\n",
       "        vertical-align: middle;\n",
       "    }\n",
       "\n",
       "    .dataframe tbody tr th {\n",
       "        vertical-align: top;\n",
       "    }\n",
       "\n",
       "    .dataframe thead th {\n",
       "        text-align: right;\n",
       "    }\n",
       "</style>\n",
       "<table border=\"1\" class=\"dataframe\">\n",
       "  <thead>\n",
       "    <tr style=\"text-align: right;\">\n",
       "      <th></th>\n",
       "      <th>dispositif</th>\n",
       "      <th>Objectif</th>\n",
       "      <th>Contenus</th>\n",
       "      <th>Matériel</th>\n",
       "      <th>Document</th>\n",
       "    </tr>\n",
       "  </thead>\n",
       "  <tbody>\n",
       "    <tr>\n",
       "      <th>3</th>\n",
       "      <td>BC</td>\n",
       "      <td>5</td>\n",
       "      <td>5</td>\n",
       "      <td>5</td>\n",
       "      <td>5</td>\n",
       "    </tr>\n",
       "  </tbody>\n",
       "</table>\n",
       "</div>"
      ],
      "text/plain": [
       "  dispositif  Objectif  Contenus  Matériel  Document\n",
       "3         BC         5         5         5         5"
      ]
     },
     "execution_count": 193,
     "metadata": {},
     "output_type": "execute_result"
    }
   ],
   "source": [
    "dfInt[['dispositif', 'Objectif', 'Contenus', 'Matériel',\n",
    "       'Document']][0:1]"
   ]
  },
  {
   "cell_type": "code",
   "execution_count": 194,
   "metadata": {},
   "outputs": [
    {
     "data": {
      "text/html": [
       "<div>\n",
       "<style scoped>\n",
       "    .dataframe tbody tr th:only-of-type {\n",
       "        vertical-align: middle;\n",
       "    }\n",
       "\n",
       "    .dataframe tbody tr th {\n",
       "        vertical-align: top;\n",
       "    }\n",
       "\n",
       "    .dataframe thead th {\n",
       "        text-align: right;\n",
       "    }\n",
       "</style>\n",
       "<table border=\"1\" class=\"dataframe\">\n",
       "  <thead>\n",
       "    <tr style=\"text-align: right;\">\n",
       "      <th></th>\n",
       "      <th>Objectif</th>\n",
       "      <th>Contenus</th>\n",
       "      <th>Matériel</th>\n",
       "      <th>Document</th>\n",
       "    </tr>\n",
       "    <tr>\n",
       "      <th>dispositif</th>\n",
       "      <th></th>\n",
       "      <th></th>\n",
       "      <th></th>\n",
       "      <th></th>\n",
       "    </tr>\n",
       "  </thead>\n",
       "  <tbody>\n",
       "    <tr>\n",
       "      <th>AC</th>\n",
       "      <td>4.5</td>\n",
       "      <td>5.0</td>\n",
       "      <td>5.0</td>\n",
       "      <td>5.0</td>\n",
       "    </tr>\n",
       "    <tr>\n",
       "      <th>BC</th>\n",
       "      <td>4.9</td>\n",
       "      <td>5.0</td>\n",
       "      <td>5.0</td>\n",
       "      <td>5.0</td>\n",
       "    </tr>\n",
       "    <tr>\n",
       "      <th>FA</th>\n",
       "      <td>5.0</td>\n",
       "      <td>4.5</td>\n",
       "      <td>5.0</td>\n",
       "      <td>5.0</td>\n",
       "    </tr>\n",
       "    <tr>\n",
       "      <th>GDA</th>\n",
       "      <td>5.0</td>\n",
       "      <td>5.0</td>\n",
       "      <td>5.0</td>\n",
       "      <td>5.0</td>\n",
       "    </tr>\n",
       "    <tr>\n",
       "      <th>PIS</th>\n",
       "      <td>4.7</td>\n",
       "      <td>4.8</td>\n",
       "      <td>4.8</td>\n",
       "      <td>4.9</td>\n",
       "    </tr>\n",
       "    <tr>\n",
       "      <th>PS</th>\n",
       "      <td>5.0</td>\n",
       "      <td>5.0</td>\n",
       "      <td>5.0</td>\n",
       "      <td>5.0</td>\n",
       "    </tr>\n",
       "    <tr>\n",
       "      <th>Remob</th>\n",
       "      <td>5.0</td>\n",
       "      <td>4.9</td>\n",
       "      <td>5.0</td>\n",
       "      <td>4.7</td>\n",
       "    </tr>\n",
       "  </tbody>\n",
       "</table>\n",
       "</div>"
      ],
      "text/plain": [
       "            Objectif  Contenus  Matériel  Document\n",
       "dispositif                                        \n",
       "AC               4.5       5.0       5.0       5.0\n",
       "BC               4.9       5.0       5.0       5.0\n",
       "FA               5.0       4.5       5.0       5.0\n",
       "GDA              5.0       5.0       5.0       5.0\n",
       "PIS              4.7       4.8       4.8       4.9\n",
       "PS               5.0       5.0       5.0       5.0\n",
       "Remob            5.0       4.9       5.0       4.7"
      ]
     },
     "execution_count": 194,
     "metadata": {},
     "output_type": "execute_result"
    }
   ],
   "source": [
    "dfInt.groupby(\"dispositif\")[ 'Objectif', 'Contenus', 'Matériel',\n",
    "       'Document'].mean().round(1)"
   ]
  },
  {
   "cell_type": "code",
   "execution_count": 195,
   "metadata": {},
   "outputs": [
    {
     "data": {
      "text/plain": [
       "dispositif\n",
       "AC       4.9\n",
       "BC       5.0\n",
       "FA       4.9\n",
       "GDA      5.0\n",
       "PIS      4.8\n",
       "PS       5.0\n",
       "Remob    4.9\n",
       "dtype: float64"
      ]
     },
     "execution_count": 195,
     "metadata": {},
     "output_type": "execute_result"
    }
   ],
   "source": [
    "groupDfInt = dfInt.groupby(\"dispositif\")[ 'Objectif', 'Contenus', 'Matériel',\n",
    "       'Document'].mean().round(1)\n",
    "mean_dfInt = groupDfInt.mean(axis = 1).round(1)\n",
    "mean_dfInt"
   ]
  },
  {
   "cell_type": "code",
   "execution_count": 196,
   "metadata": {},
   "outputs": [
    {
     "data": {
      "text/html": [
       "<div>\n",
       "<style scoped>\n",
       "    .dataframe tbody tr th:only-of-type {\n",
       "        vertical-align: middle;\n",
       "    }\n",
       "\n",
       "    .dataframe tbody tr th {\n",
       "        vertical-align: top;\n",
       "    }\n",
       "\n",
       "    .dataframe thead th {\n",
       "        text-align: right;\n",
       "    }\n",
       "</style>\n",
       "<table border=\"1\" class=\"dataframe\">\n",
       "  <thead>\n",
       "    <tr style=\"text-align: right;\">\n",
       "      <th></th>\n",
       "      <th>dispositif</th>\n",
       "      <th>usager</th>\n",
       "      <th>information</th>\n",
       "      <th>délais</th>\n",
       "      <th>organisation</th>\n",
       "      <th>échanges</th>\n",
       "      <th>contenu</th>\n",
       "      <th>objectifs</th>\n",
       "    </tr>\n",
       "  </thead>\n",
       "  <tbody>\n",
       "    <tr>\n",
       "      <th>1</th>\n",
       "      <td>BC</td>\n",
       "      <td>Autre</td>\n",
       "      <td>5</td>\n",
       "      <td>5</td>\n",
       "      <td>5</td>\n",
       "      <td>5</td>\n",
       "      <td>5</td>\n",
       "      <td>5</td>\n",
       "    </tr>\n",
       "  </tbody>\n",
       "</table>\n",
       "</div>"
      ],
      "text/plain": [
       "  dispositif usager  information  délais  organisation  échanges  contenu  \\\n",
       "1         BC  Autre            5       5             5         5        5   \n",
       "\n",
       "   objectifs  \n",
       "1          5  "
      ]
     },
     "execution_count": 196,
     "metadata": {},
     "output_type": "execute_result"
    }
   ],
   "source": [
    "dfPres[['dispositif', 'usager', 'information', 'délais', 'organisation',\n",
    "       'échanges', 'contenu', 'objectifs']][0:1]"
   ]
  },
  {
   "cell_type": "code",
   "execution_count": 197,
   "metadata": {},
   "outputs": [
    {
     "data": {
      "text/html": [
       "<div>\n",
       "<style scoped>\n",
       "    .dataframe tbody tr th:only-of-type {\n",
       "        vertical-align: middle;\n",
       "    }\n",
       "\n",
       "    .dataframe tbody tr th {\n",
       "        vertical-align: top;\n",
       "    }\n",
       "\n",
       "    .dataframe thead th {\n",
       "        text-align: right;\n",
       "    }\n",
       "</style>\n",
       "<table border=\"1\" class=\"dataframe\">\n",
       "  <thead>\n",
       "    <tr style=\"text-align: right;\">\n",
       "      <th></th>\n",
       "      <th>information</th>\n",
       "      <th>délais</th>\n",
       "      <th>organisation</th>\n",
       "      <th>échanges</th>\n",
       "      <th>contenu</th>\n",
       "      <th>objectifs</th>\n",
       "    </tr>\n",
       "    <tr>\n",
       "      <th>dispositif</th>\n",
       "      <th></th>\n",
       "      <th></th>\n",
       "      <th></th>\n",
       "      <th></th>\n",
       "      <th></th>\n",
       "      <th></th>\n",
       "    </tr>\n",
       "  </thead>\n",
       "  <tbody>\n",
       "    <tr>\n",
       "      <th>BC</th>\n",
       "      <td>4.9</td>\n",
       "      <td>5.0</td>\n",
       "      <td>5.0</td>\n",
       "      <td>5.0</td>\n",
       "      <td>4.9</td>\n",
       "      <td>4.8</td>\n",
       "    </tr>\n",
       "    <tr>\n",
       "      <th>FA</th>\n",
       "      <td>5.0</td>\n",
       "      <td>5.0</td>\n",
       "      <td>1.0</td>\n",
       "      <td>5.0</td>\n",
       "      <td>5.0</td>\n",
       "      <td>5.0</td>\n",
       "    </tr>\n",
       "    <tr>\n",
       "      <th>ISU</th>\n",
       "      <td>4.0</td>\n",
       "      <td>5.0</td>\n",
       "      <td>5.0</td>\n",
       "      <td>5.0</td>\n",
       "      <td>5.0</td>\n",
       "      <td>5.0</td>\n",
       "    </tr>\n",
       "    <tr>\n",
       "      <th>PH</th>\n",
       "      <td>4.0</td>\n",
       "      <td>1.0</td>\n",
       "      <td>1.0</td>\n",
       "      <td>4.0</td>\n",
       "      <td>1.0</td>\n",
       "      <td>1.0</td>\n",
       "    </tr>\n",
       "    <tr>\n",
       "      <th>PIP</th>\n",
       "      <td>5.0</td>\n",
       "      <td>5.0</td>\n",
       "      <td>5.0</td>\n",
       "      <td>5.0</td>\n",
       "      <td>4.0</td>\n",
       "      <td>4.0</td>\n",
       "    </tr>\n",
       "    <tr>\n",
       "      <th>PIS</th>\n",
       "      <td>4.0</td>\n",
       "      <td>4.0</td>\n",
       "      <td>4.0</td>\n",
       "      <td>4.7</td>\n",
       "      <td>4.7</td>\n",
       "      <td>4.7</td>\n",
       "    </tr>\n",
       "    <tr>\n",
       "      <th>PS</th>\n",
       "      <td>4.5</td>\n",
       "      <td>4.0</td>\n",
       "      <td>4.5</td>\n",
       "      <td>5.0</td>\n",
       "      <td>5.0</td>\n",
       "      <td>4.5</td>\n",
       "    </tr>\n",
       "    <tr>\n",
       "      <th>Remob</th>\n",
       "      <td>5.0</td>\n",
       "      <td>5.0</td>\n",
       "      <td>5.0</td>\n",
       "      <td>5.0</td>\n",
       "      <td>5.0</td>\n",
       "      <td>5.0</td>\n",
       "    </tr>\n",
       "  </tbody>\n",
       "</table>\n",
       "</div>"
      ],
      "text/plain": [
       "            information  délais  organisation  échanges  contenu  objectifs\n",
       "dispositif                                                                 \n",
       "BC                  4.9     5.0           5.0       5.0      4.9        4.8\n",
       "FA                  5.0     5.0           1.0       5.0      5.0        5.0\n",
       "ISU                 4.0     5.0           5.0       5.0      5.0        5.0\n",
       "PH                  4.0     1.0           1.0       4.0      1.0        1.0\n",
       "PIP                 5.0     5.0           5.0       5.0      4.0        4.0\n",
       "PIS                 4.0     4.0           4.0       4.7      4.7        4.7\n",
       "PS                  4.5     4.0           4.5       5.0      5.0        4.5\n",
       "Remob               5.0     5.0           5.0       5.0      5.0        5.0"
      ]
     },
     "execution_count": 197,
     "metadata": {},
     "output_type": "execute_result"
    }
   ],
   "source": [
    "dfPres.groupby(\"dispositif\")['information', 'délais', 'organisation',\n",
    "       'échanges', 'contenu', 'objectifs'].mean().round(1)"
   ]
  },
  {
   "cell_type": "code",
   "execution_count": 198,
   "metadata": {},
   "outputs": [
    {
     "data": {
      "text/plain": [
       "dispositif\n",
       "BC       4.9\n",
       "FA       4.3\n",
       "ISU      4.8\n",
       "PH       2.0\n",
       "PIP      4.7\n",
       "PIS      4.4\n",
       "PS       4.6\n",
       "Remob    5.0\n",
       "dtype: float64"
      ]
     },
     "execution_count": 198,
     "metadata": {},
     "output_type": "execute_result"
    }
   ],
   "source": [
    "groupDfPres = dfPres.groupby(\"dispositif\")[ 'information', 'délais', 'organisation',\n",
    "       'échanges', 'contenu', 'objectifs'].mean().round(1)\n",
    "mean_dfPres = groupDfPres.mean(axis = 1).round(1)\n",
    "mean_dfPres"
   ]
  },
  {
   "cell_type": "code",
   "execution_count": 199,
   "metadata": {},
   "outputs": [
    {
     "data": {
      "text/html": [
       "<div>\n",
       "<style scoped>\n",
       "    .dataframe tbody tr th:only-of-type {\n",
       "        vertical-align: middle;\n",
       "    }\n",
       "\n",
       "    .dataframe tbody tr th {\n",
       "        vertical-align: top;\n",
       "    }\n",
       "\n",
       "    .dataframe thead th {\n",
       "        text-align: right;\n",
       "    }\n",
       "</style>\n",
       "<table border=\"1\" class=\"dataframe\">\n",
       "  <thead>\n",
       "    <tr style=\"text-align: right;\">\n",
       "      <th></th>\n",
       "      <th>dispositif</th>\n",
       "      <th>cohérence</th>\n",
       "      <th>contenus</th>\n",
       "      <th>moyens</th>\n",
       "      <th>fréquenceContacts</th>\n",
       "      <th>objectif</th>\n",
       "      <th>action</th>\n",
       "      <th>handicap</th>\n",
       "    </tr>\n",
       "  </thead>\n",
       "  <tbody>\n",
       "    <tr>\n",
       "      <th>0</th>\n",
       "      <td>BC</td>\n",
       "      <td>5</td>\n",
       "      <td>5</td>\n",
       "      <td>5</td>\n",
       "      <td>5</td>\n",
       "      <td>3</td>\n",
       "      <td>5</td>\n",
       "      <td>NaN</td>\n",
       "    </tr>\n",
       "  </tbody>\n",
       "</table>\n",
       "</div>"
      ],
      "text/plain": [
       "  dispositif  cohérence  contenus  moyens  fréquenceContacts  objectif  \\\n",
       "0         BC          5         5       5                  5         3   \n",
       "\n",
       "   action  handicap  \n",
       "0       5       NaN  "
      ]
     },
     "execution_count": 199,
     "metadata": {},
     "output_type": "execute_result"
    }
   ],
   "source": [
    "dfBen[['dispositif', 'cohérence', 'contenus', 'moyens',\n",
    "       'fréquenceContacts', 'objectif', 'action', 'handicap']][0:1]"
   ]
  },
  {
   "cell_type": "code",
   "execution_count": 200,
   "metadata": {},
   "outputs": [
    {
     "data": {
      "text/html": [
       "<div>\n",
       "<style scoped>\n",
       "    .dataframe tbody tr th:only-of-type {\n",
       "        vertical-align: middle;\n",
       "    }\n",
       "\n",
       "    .dataframe tbody tr th {\n",
       "        vertical-align: top;\n",
       "    }\n",
       "\n",
       "    .dataframe thead th {\n",
       "        text-align: right;\n",
       "    }\n",
       "</style>\n",
       "<table border=\"1\" class=\"dataframe\">\n",
       "  <thead>\n",
       "    <tr style=\"text-align: right;\">\n",
       "      <th></th>\n",
       "      <th>cohérence</th>\n",
       "      <th>contenus</th>\n",
       "      <th>moyens</th>\n",
       "      <th>fréquenceContacts</th>\n",
       "      <th>objectif</th>\n",
       "      <th>action</th>\n",
       "    </tr>\n",
       "    <tr>\n",
       "      <th>dispositif</th>\n",
       "      <th></th>\n",
       "      <th></th>\n",
       "      <th></th>\n",
       "      <th></th>\n",
       "      <th></th>\n",
       "      <th></th>\n",
       "    </tr>\n",
       "  </thead>\n",
       "  <tbody>\n",
       "    <tr>\n",
       "      <th>AC</th>\n",
       "      <td>5.0</td>\n",
       "      <td>5.0</td>\n",
       "      <td>5.0</td>\n",
       "      <td>5.0</td>\n",
       "      <td>5.0</td>\n",
       "      <td>5.0</td>\n",
       "    </tr>\n",
       "    <tr>\n",
       "      <th>BC</th>\n",
       "      <td>4.7</td>\n",
       "      <td>4.9</td>\n",
       "      <td>4.8</td>\n",
       "      <td>4.9</td>\n",
       "      <td>4.6</td>\n",
       "      <td>4.7</td>\n",
       "    </tr>\n",
       "    <tr>\n",
       "      <th>FA</th>\n",
       "      <td>4.8</td>\n",
       "      <td>5.0</td>\n",
       "      <td>5.0</td>\n",
       "      <td>4.7</td>\n",
       "      <td>4.7</td>\n",
       "      <td>4.8</td>\n",
       "    </tr>\n",
       "    <tr>\n",
       "      <th>GDA</th>\n",
       "      <td>4.7</td>\n",
       "      <td>4.7</td>\n",
       "      <td>4.7</td>\n",
       "      <td>5.0</td>\n",
       "      <td>4.6</td>\n",
       "      <td>4.9</td>\n",
       "    </tr>\n",
       "    <tr>\n",
       "      <th>ISU</th>\n",
       "      <td>5.0</td>\n",
       "      <td>5.0</td>\n",
       "      <td>5.0</td>\n",
       "      <td>5.0</td>\n",
       "      <td>5.0</td>\n",
       "      <td>5.0</td>\n",
       "    </tr>\n",
       "    <tr>\n",
       "      <th>PIP</th>\n",
       "      <td>4.4</td>\n",
       "      <td>4.6</td>\n",
       "      <td>4.6</td>\n",
       "      <td>4.8</td>\n",
       "      <td>4.5</td>\n",
       "      <td>4.7</td>\n",
       "    </tr>\n",
       "    <tr>\n",
       "      <th>PIS</th>\n",
       "      <td>4.5</td>\n",
       "      <td>4.5</td>\n",
       "      <td>4.7</td>\n",
       "      <td>4.7</td>\n",
       "      <td>4.3</td>\n",
       "      <td>4.6</td>\n",
       "    </tr>\n",
       "    <tr>\n",
       "      <th>PS</th>\n",
       "      <td>4.7</td>\n",
       "      <td>4.8</td>\n",
       "      <td>4.8</td>\n",
       "      <td>4.9</td>\n",
       "      <td>4.5</td>\n",
       "      <td>4.8</td>\n",
       "    </tr>\n",
       "    <tr>\n",
       "      <th>Remob</th>\n",
       "      <td>4.2</td>\n",
       "      <td>4.2</td>\n",
       "      <td>4.0</td>\n",
       "      <td>4.8</td>\n",
       "      <td>4.0</td>\n",
       "      <td>4.5</td>\n",
       "    </tr>\n",
       "  </tbody>\n",
       "</table>\n",
       "</div>"
      ],
      "text/plain": [
       "            cohérence  contenus  moyens  fréquenceContacts  objectif  action\n",
       "dispositif                                                                  \n",
       "AC                5.0       5.0     5.0                5.0       5.0     5.0\n",
       "BC                4.7       4.9     4.8                4.9       4.6     4.7\n",
       "FA                4.8       5.0     5.0                4.7       4.7     4.8\n",
       "GDA               4.7       4.7     4.7                5.0       4.6     4.9\n",
       "ISU               5.0       5.0     5.0                5.0       5.0     5.0\n",
       "PIP               4.4       4.6     4.6                4.8       4.5     4.7\n",
       "PIS               4.5       4.5     4.7                4.7       4.3     4.6\n",
       "PS                4.7       4.8     4.8                4.9       4.5     4.8\n",
       "Remob             4.2       4.2     4.0                4.8       4.0     4.5"
      ]
     },
     "execution_count": 200,
     "metadata": {},
     "output_type": "execute_result"
    }
   ],
   "source": [
    "dfBen.groupby(\"dispositif\")['cohérence', 'contenus', 'moyens',\n",
    "       'fréquenceContacts', 'objectif', 'action'].mean().round(1)"
   ]
  },
  {
   "cell_type": "code",
   "execution_count": 201,
   "metadata": {},
   "outputs": [
    {
     "data": {
      "text/plain": [
       "dispositif\n",
       "AC       5.0\n",
       "BC       4.7\n",
       "FA       4.8\n",
       "GDA      4.8\n",
       "ISU      5.0\n",
       "PIP      4.6\n",
       "PIS      4.5\n",
       "PS       4.8\n",
       "Remob    4.3\n",
       "dtype: float64"
      ]
     },
     "execution_count": 201,
     "metadata": {},
     "output_type": "execute_result"
    }
   ],
   "source": [
    "groupDfBen = dfBen.groupby(\"dispositif\")[ 'cohérence', 'contenus', 'moyens',\n",
    "       'fréquenceContacts', 'objectif', 'action'].mean()\n",
    "mean_dfBen = groupDfBen.mean(axis = 1).round(1)\n",
    "mean_dfBen"
   ]
  },
  {
   "cell_type": "code",
   "execution_count": 202,
   "metadata": {},
   "outputs": [
    {
     "data": {
      "text/html": [
       "<div>\n",
       "<style scoped>\n",
       "    .dataframe tbody tr th:only-of-type {\n",
       "        vertical-align: middle;\n",
       "    }\n",
       "\n",
       "    .dataframe tbody tr th {\n",
       "        vertical-align: top;\n",
       "    }\n",
       "\n",
       "    .dataframe thead th {\n",
       "        text-align: right;\n",
       "    }\n",
       "</style>\n",
       "<table border=\"1\" class=\"dataframe\">\n",
       "  <thead>\n",
       "    <tr style=\"text-align: right;\">\n",
       "      <th></th>\n",
       "      <th>0</th>\n",
       "    </tr>\n",
       "    <tr>\n",
       "      <th>dispositif</th>\n",
       "      <th></th>\n",
       "    </tr>\n",
       "  </thead>\n",
       "  <tbody>\n",
       "    <tr>\n",
       "      <th>FA</th>\n",
       "      <td>5.0</td>\n",
       "    </tr>\n",
       "    <tr>\n",
       "      <th>PH</th>\n",
       "      <td>5.0</td>\n",
       "    </tr>\n",
       "    <tr>\n",
       "      <th>PIP</th>\n",
       "      <td>4.6</td>\n",
       "    </tr>\n",
       "    <tr>\n",
       "      <th>PIS</th>\n",
       "      <td>5.0</td>\n",
       "    </tr>\n",
       "    <tr>\n",
       "      <th>PS</th>\n",
       "      <td>4.9</td>\n",
       "    </tr>\n",
       "    <tr>\n",
       "      <th>Remob</th>\n",
       "      <td>4.4</td>\n",
       "    </tr>\n",
       "  </tbody>\n",
       "</table>\n",
       "</div>"
      ],
      "text/plain": [
       "              0\n",
       "dispositif     \n",
       "FA          5.0\n",
       "PH          5.0\n",
       "PIP         4.6\n",
       "PIS         5.0\n",
       "PS          4.9\n",
       "Remob       4.4"
      ]
     },
     "execution_count": 202,
     "metadata": {},
     "output_type": "execute_result"
    }
   ],
   "source": [
    "dispFin = pd.DataFrame(mean_dfFin)\n",
    "dispFin"
   ]
  },
  {
   "cell_type": "code",
   "execution_count": 203,
   "metadata": {},
   "outputs": [
    {
     "data": {
      "text/html": [
       "<div>\n",
       "<style scoped>\n",
       "    .dataframe tbody tr th:only-of-type {\n",
       "        vertical-align: middle;\n",
       "    }\n",
       "\n",
       "    .dataframe tbody tr th {\n",
       "        vertical-align: top;\n",
       "    }\n",
       "\n",
       "    .dataframe thead th {\n",
       "        text-align: right;\n",
       "    }\n",
       "</style>\n",
       "<table border=\"1\" class=\"dataframe\">\n",
       "  <thead>\n",
       "    <tr style=\"text-align: right;\">\n",
       "      <th></th>\n",
       "      <th>0</th>\n",
       "    </tr>\n",
       "    <tr>\n",
       "      <th>dispositif</th>\n",
       "      <th></th>\n",
       "    </tr>\n",
       "  </thead>\n",
       "  <tbody>\n",
       "    <tr>\n",
       "      <th>AC</th>\n",
       "      <td>4.9</td>\n",
       "    </tr>\n",
       "    <tr>\n",
       "      <th>BC</th>\n",
       "      <td>5.0</td>\n",
       "    </tr>\n",
       "    <tr>\n",
       "      <th>FA</th>\n",
       "      <td>4.9</td>\n",
       "    </tr>\n",
       "    <tr>\n",
       "      <th>GDA</th>\n",
       "      <td>5.0</td>\n",
       "    </tr>\n",
       "    <tr>\n",
       "      <th>PIS</th>\n",
       "      <td>4.8</td>\n",
       "    </tr>\n",
       "    <tr>\n",
       "      <th>PS</th>\n",
       "      <td>5.0</td>\n",
       "    </tr>\n",
       "    <tr>\n",
       "      <th>Remob</th>\n",
       "      <td>4.9</td>\n",
       "    </tr>\n",
       "  </tbody>\n",
       "</table>\n",
       "</div>"
      ],
      "text/plain": [
       "              0\n",
       "dispositif     \n",
       "AC          4.9\n",
       "BC          5.0\n",
       "FA          4.9\n",
       "GDA         5.0\n",
       "PIS         4.8\n",
       "PS          5.0\n",
       "Remob       4.9"
      ]
     },
     "execution_count": 203,
     "metadata": {},
     "output_type": "execute_result"
    }
   ],
   "source": [
    "dispInt = pd.DataFrame(mean_dfInt)\n",
    "dispInt"
   ]
  },
  {
   "cell_type": "code",
   "execution_count": 204,
   "metadata": {},
   "outputs": [
    {
     "data": {
      "text/html": [
       "<div>\n",
       "<style scoped>\n",
       "    .dataframe tbody tr th:only-of-type {\n",
       "        vertical-align: middle;\n",
       "    }\n",
       "\n",
       "    .dataframe tbody tr th {\n",
       "        vertical-align: top;\n",
       "    }\n",
       "\n",
       "    .dataframe thead th {\n",
       "        text-align: right;\n",
       "    }\n",
       "</style>\n",
       "<table border=\"1\" class=\"dataframe\">\n",
       "  <thead>\n",
       "    <tr style=\"text-align: right;\">\n",
       "      <th></th>\n",
       "      <th>0</th>\n",
       "    </tr>\n",
       "    <tr>\n",
       "      <th>dispositif</th>\n",
       "      <th></th>\n",
       "    </tr>\n",
       "  </thead>\n",
       "  <tbody>\n",
       "    <tr>\n",
       "      <th>BC</th>\n",
       "      <td>4.9</td>\n",
       "    </tr>\n",
       "    <tr>\n",
       "      <th>FA</th>\n",
       "      <td>4.3</td>\n",
       "    </tr>\n",
       "    <tr>\n",
       "      <th>ISU</th>\n",
       "      <td>4.8</td>\n",
       "    </tr>\n",
       "    <tr>\n",
       "      <th>PH</th>\n",
       "      <td>2.0</td>\n",
       "    </tr>\n",
       "    <tr>\n",
       "      <th>PIP</th>\n",
       "      <td>4.7</td>\n",
       "    </tr>\n",
       "    <tr>\n",
       "      <th>PIS</th>\n",
       "      <td>4.4</td>\n",
       "    </tr>\n",
       "    <tr>\n",
       "      <th>PS</th>\n",
       "      <td>4.6</td>\n",
       "    </tr>\n",
       "    <tr>\n",
       "      <th>Remob</th>\n",
       "      <td>5.0</td>\n",
       "    </tr>\n",
       "  </tbody>\n",
       "</table>\n",
       "</div>"
      ],
      "text/plain": [
       "              0\n",
       "dispositif     \n",
       "BC          4.9\n",
       "FA          4.3\n",
       "ISU         4.8\n",
       "PH          2.0\n",
       "PIP         4.7\n",
       "PIS         4.4\n",
       "PS          4.6\n",
       "Remob       5.0"
      ]
     },
     "execution_count": 204,
     "metadata": {},
     "output_type": "execute_result"
    }
   ],
   "source": [
    "dispPres = pd.DataFrame(mean_dfPres)\n",
    "dispPres"
   ]
  },
  {
   "cell_type": "code",
   "execution_count": 205,
   "metadata": {},
   "outputs": [
    {
     "data": {
      "text/html": [
       "<div>\n",
       "<style scoped>\n",
       "    .dataframe tbody tr th:only-of-type {\n",
       "        vertical-align: middle;\n",
       "    }\n",
       "\n",
       "    .dataframe tbody tr th {\n",
       "        vertical-align: top;\n",
       "    }\n",
       "\n",
       "    .dataframe thead th {\n",
       "        text-align: right;\n",
       "    }\n",
       "</style>\n",
       "<table border=\"1\" class=\"dataframe\">\n",
       "  <thead>\n",
       "    <tr style=\"text-align: right;\">\n",
       "      <th></th>\n",
       "      <th>0</th>\n",
       "    </tr>\n",
       "    <tr>\n",
       "      <th>dispositif</th>\n",
       "      <th></th>\n",
       "    </tr>\n",
       "  </thead>\n",
       "  <tbody>\n",
       "    <tr>\n",
       "      <th>AC</th>\n",
       "      <td>5.0</td>\n",
       "    </tr>\n",
       "    <tr>\n",
       "      <th>BC</th>\n",
       "      <td>4.7</td>\n",
       "    </tr>\n",
       "    <tr>\n",
       "      <th>FA</th>\n",
       "      <td>4.8</td>\n",
       "    </tr>\n",
       "    <tr>\n",
       "      <th>GDA</th>\n",
       "      <td>4.8</td>\n",
       "    </tr>\n",
       "    <tr>\n",
       "      <th>ISU</th>\n",
       "      <td>5.0</td>\n",
       "    </tr>\n",
       "    <tr>\n",
       "      <th>PIP</th>\n",
       "      <td>4.6</td>\n",
       "    </tr>\n",
       "    <tr>\n",
       "      <th>PIS</th>\n",
       "      <td>4.5</td>\n",
       "    </tr>\n",
       "    <tr>\n",
       "      <th>PS</th>\n",
       "      <td>4.8</td>\n",
       "    </tr>\n",
       "    <tr>\n",
       "      <th>Remob</th>\n",
       "      <td>4.3</td>\n",
       "    </tr>\n",
       "  </tbody>\n",
       "</table>\n",
       "</div>"
      ],
      "text/plain": [
       "              0\n",
       "dispositif     \n",
       "AC          5.0\n",
       "BC          4.7\n",
       "FA          4.8\n",
       "GDA         4.8\n",
       "ISU         5.0\n",
       "PIP         4.6\n",
       "PIS         4.5\n",
       "PS          4.8\n",
       "Remob       4.3"
      ]
     },
     "execution_count": 205,
     "metadata": {},
     "output_type": "execute_result"
    }
   ],
   "source": [
    "dispBen = pd.DataFrame(mean_dfBen)\n",
    "dispBen"
   ]
  },
  {
   "cell_type": "code",
   "execution_count": 232,
   "metadata": {},
   "outputs": [
    {
     "data": {
      "text/html": [
       "<div>\n",
       "<style scoped>\n",
       "    .dataframe tbody tr th:only-of-type {\n",
       "        vertical-align: middle;\n",
       "    }\n",
       "\n",
       "    .dataframe tbody tr th {\n",
       "        vertical-align: top;\n",
       "    }\n",
       "\n",
       "    .dataframe thead th {\n",
       "        text-align: right;\n",
       "    }\n",
       "</style>\n",
       "<table border=\"1\" class=\"dataframe\">\n",
       "  <thead>\n",
       "    <tr style=\"text-align: right;\">\n",
       "      <th></th>\n",
       "      <th>financeur</th>\n",
       "      <th>intervenant</th>\n",
       "    </tr>\n",
       "    <tr>\n",
       "      <th>dispositif</th>\n",
       "      <th></th>\n",
       "      <th></th>\n",
       "    </tr>\n",
       "  </thead>\n",
       "  <tbody>\n",
       "    <tr>\n",
       "      <th>FA</th>\n",
       "      <td>5.0</td>\n",
       "      <td>4.9</td>\n",
       "    </tr>\n",
       "    <tr>\n",
       "      <th>PH</th>\n",
       "      <td>5.0</td>\n",
       "      <td>NaN</td>\n",
       "    </tr>\n",
       "    <tr>\n",
       "      <th>PIP</th>\n",
       "      <td>4.6</td>\n",
       "      <td>NaN</td>\n",
       "    </tr>\n",
       "    <tr>\n",
       "      <th>PIS</th>\n",
       "      <td>5.0</td>\n",
       "      <td>4.8</td>\n",
       "    </tr>\n",
       "    <tr>\n",
       "      <th>PS</th>\n",
       "      <td>4.9</td>\n",
       "      <td>5.0</td>\n",
       "    </tr>\n",
       "    <tr>\n",
       "      <th>Remob</th>\n",
       "      <td>4.4</td>\n",
       "      <td>4.9</td>\n",
       "    </tr>\n",
       "    <tr>\n",
       "      <th>AC</th>\n",
       "      <td>NaN</td>\n",
       "      <td>4.9</td>\n",
       "    </tr>\n",
       "    <tr>\n",
       "      <th>BC</th>\n",
       "      <td>NaN</td>\n",
       "      <td>5.0</td>\n",
       "    </tr>\n",
       "    <tr>\n",
       "      <th>GDA</th>\n",
       "      <td>NaN</td>\n",
       "      <td>5.0</td>\n",
       "    </tr>\n",
       "  </tbody>\n",
       "</table>\n",
       "</div>"
      ],
      "text/plain": [
       "            financeur  intervenant\n",
       "dispositif                        \n",
       "FA                5.0          4.9\n",
       "PH                5.0          NaN\n",
       "PIP               4.6          NaN\n",
       "PIS               5.0          4.8\n",
       "PS                4.9          5.0\n",
       "Remob             4.4          4.9\n",
       "AC                NaN          4.9\n",
       "BC                NaN          5.0\n",
       "GDA               NaN          5.0"
      ]
     },
     "execution_count": 232,
     "metadata": {},
     "output_type": "execute_result"
    }
   ],
   "source": [
    "dffirst2 = pd.merge(dispFin, dispInt, how = \"outer\", on = \"dispositif\")\n",
    "dffirst2.rename(columns = {\"0_x\": \"financeur\", \"0_y\":\"intervenant\"}, inplace=True)\n",
    "dffirst2"
   ]
  },
  {
   "cell_type": "code",
   "execution_count": 233,
   "metadata": {},
   "outputs": [
    {
     "data": {
      "text/html": [
       "<div>\n",
       "<style scoped>\n",
       "    .dataframe tbody tr th:only-of-type {\n",
       "        vertical-align: middle;\n",
       "    }\n",
       "\n",
       "    .dataframe tbody tr th {\n",
       "        vertical-align: top;\n",
       "    }\n",
       "\n",
       "    .dataframe thead th {\n",
       "        text-align: right;\n",
       "    }\n",
       "</style>\n",
       "<table border=\"1\" class=\"dataframe\">\n",
       "  <thead>\n",
       "    <tr style=\"text-align: right;\">\n",
       "      <th></th>\n",
       "      <th>financeur</th>\n",
       "      <th>intervenant</th>\n",
       "      <th>prescripteur</th>\n",
       "    </tr>\n",
       "    <tr>\n",
       "      <th>dispositif</th>\n",
       "      <th></th>\n",
       "      <th></th>\n",
       "      <th></th>\n",
       "    </tr>\n",
       "  </thead>\n",
       "  <tbody>\n",
       "    <tr>\n",
       "      <th>FA</th>\n",
       "      <td>5.0</td>\n",
       "      <td>4.9</td>\n",
       "      <td>4.3</td>\n",
       "    </tr>\n",
       "    <tr>\n",
       "      <th>PH</th>\n",
       "      <td>5.0</td>\n",
       "      <td>NaN</td>\n",
       "      <td>2.0</td>\n",
       "    </tr>\n",
       "    <tr>\n",
       "      <th>PIP</th>\n",
       "      <td>4.6</td>\n",
       "      <td>NaN</td>\n",
       "      <td>4.7</td>\n",
       "    </tr>\n",
       "    <tr>\n",
       "      <th>PIS</th>\n",
       "      <td>5.0</td>\n",
       "      <td>4.8</td>\n",
       "      <td>4.4</td>\n",
       "    </tr>\n",
       "    <tr>\n",
       "      <th>PS</th>\n",
       "      <td>4.9</td>\n",
       "      <td>5.0</td>\n",
       "      <td>4.6</td>\n",
       "    </tr>\n",
       "    <tr>\n",
       "      <th>Remob</th>\n",
       "      <td>4.4</td>\n",
       "      <td>4.9</td>\n",
       "      <td>5.0</td>\n",
       "    </tr>\n",
       "    <tr>\n",
       "      <th>AC</th>\n",
       "      <td>NaN</td>\n",
       "      <td>4.9</td>\n",
       "      <td>NaN</td>\n",
       "    </tr>\n",
       "    <tr>\n",
       "      <th>BC</th>\n",
       "      <td>NaN</td>\n",
       "      <td>5.0</td>\n",
       "      <td>4.9</td>\n",
       "    </tr>\n",
       "    <tr>\n",
       "      <th>GDA</th>\n",
       "      <td>NaN</td>\n",
       "      <td>5.0</td>\n",
       "      <td>NaN</td>\n",
       "    </tr>\n",
       "    <tr>\n",
       "      <th>ISU</th>\n",
       "      <td>NaN</td>\n",
       "      <td>NaN</td>\n",
       "      <td>4.8</td>\n",
       "    </tr>\n",
       "  </tbody>\n",
       "</table>\n",
       "</div>"
      ],
      "text/plain": [
       "            financeur  intervenant  prescripteur\n",
       "dispositif                                      \n",
       "FA                5.0          4.9           4.3\n",
       "PH                5.0          NaN           2.0\n",
       "PIP               4.6          NaN           4.7\n",
       "PIS               5.0          4.8           4.4\n",
       "PS                4.9          5.0           4.6\n",
       "Remob             4.4          4.9           5.0\n",
       "AC                NaN          4.9           NaN\n",
       "BC                NaN          5.0           4.9\n",
       "GDA               NaN          5.0           NaN\n",
       "ISU               NaN          NaN           4.8"
      ]
     },
     "execution_count": 233,
     "metadata": {},
     "output_type": "execute_result"
    }
   ],
   "source": [
    "dffirst3 =pd.merge(dffirst2, dispPres, how = \"outer\", on= \"dispositif\" )\n",
    "dffirst3.rename(columns = {0:\"prescripteur\"}, inplace=True)\n",
    "dffirst3"
   ]
  },
  {
   "cell_type": "code",
   "execution_count": 234,
   "metadata": {},
   "outputs": [
    {
     "data": {
      "text/html": [
       "<div>\n",
       "<style scoped>\n",
       "    .dataframe tbody tr th:only-of-type {\n",
       "        vertical-align: middle;\n",
       "    }\n",
       "\n",
       "    .dataframe tbody tr th {\n",
       "        vertical-align: top;\n",
       "    }\n",
       "\n",
       "    .dataframe thead th {\n",
       "        text-align: right;\n",
       "    }\n",
       "</style>\n",
       "<table border=\"1\" class=\"dataframe\">\n",
       "  <thead>\n",
       "    <tr style=\"text-align: right;\">\n",
       "      <th></th>\n",
       "      <th>financeur</th>\n",
       "      <th>intervenant</th>\n",
       "      <th>prescripteur</th>\n",
       "      <th>beneficiere</th>\n",
       "    </tr>\n",
       "    <tr>\n",
       "      <th>dispositif</th>\n",
       "      <th></th>\n",
       "      <th></th>\n",
       "      <th></th>\n",
       "      <th></th>\n",
       "    </tr>\n",
       "  </thead>\n",
       "  <tbody>\n",
       "    <tr>\n",
       "      <th>FA</th>\n",
       "      <td>5.0</td>\n",
       "      <td>4.9</td>\n",
       "      <td>4.3</td>\n",
       "      <td>4.8</td>\n",
       "    </tr>\n",
       "    <tr>\n",
       "      <th>PH</th>\n",
       "      <td>5.0</td>\n",
       "      <td>NaN</td>\n",
       "      <td>2.0</td>\n",
       "      <td>NaN</td>\n",
       "    </tr>\n",
       "    <tr>\n",
       "      <th>PIP</th>\n",
       "      <td>4.6</td>\n",
       "      <td>NaN</td>\n",
       "      <td>4.7</td>\n",
       "      <td>4.6</td>\n",
       "    </tr>\n",
       "    <tr>\n",
       "      <th>PIS</th>\n",
       "      <td>5.0</td>\n",
       "      <td>4.8</td>\n",
       "      <td>4.4</td>\n",
       "      <td>4.5</td>\n",
       "    </tr>\n",
       "    <tr>\n",
       "      <th>PS</th>\n",
       "      <td>4.9</td>\n",
       "      <td>5.0</td>\n",
       "      <td>4.6</td>\n",
       "      <td>4.8</td>\n",
       "    </tr>\n",
       "    <tr>\n",
       "      <th>Remob</th>\n",
       "      <td>4.4</td>\n",
       "      <td>4.9</td>\n",
       "      <td>5.0</td>\n",
       "      <td>4.3</td>\n",
       "    </tr>\n",
       "    <tr>\n",
       "      <th>AC</th>\n",
       "      <td>NaN</td>\n",
       "      <td>4.9</td>\n",
       "      <td>NaN</td>\n",
       "      <td>5.0</td>\n",
       "    </tr>\n",
       "    <tr>\n",
       "      <th>BC</th>\n",
       "      <td>NaN</td>\n",
       "      <td>5.0</td>\n",
       "      <td>4.9</td>\n",
       "      <td>4.7</td>\n",
       "    </tr>\n",
       "    <tr>\n",
       "      <th>GDA</th>\n",
       "      <td>NaN</td>\n",
       "      <td>5.0</td>\n",
       "      <td>NaN</td>\n",
       "      <td>4.8</td>\n",
       "    </tr>\n",
       "    <tr>\n",
       "      <th>ISU</th>\n",
       "      <td>NaN</td>\n",
       "      <td>NaN</td>\n",
       "      <td>4.8</td>\n",
       "      <td>5.0</td>\n",
       "    </tr>\n",
       "  </tbody>\n",
       "</table>\n",
       "</div>"
      ],
      "text/plain": [
       "            financeur  intervenant  prescripteur  beneficiere\n",
       "dispositif                                                   \n",
       "FA                5.0          4.9           4.3          4.8\n",
       "PH                5.0          NaN           2.0          NaN\n",
       "PIP               4.6          NaN           4.7          4.6\n",
       "PIS               5.0          4.8           4.4          4.5\n",
       "PS                4.9          5.0           4.6          4.8\n",
       "Remob             4.4          4.9           5.0          4.3\n",
       "AC                NaN          4.9           NaN          5.0\n",
       "BC                NaN          5.0           4.9          4.7\n",
       "GDA               NaN          5.0           NaN          4.8\n",
       "ISU               NaN          NaN           4.8          5.0"
      ]
     },
     "execution_count": 234,
     "metadata": {},
     "output_type": "execute_result"
    }
   ],
   "source": [
    "dfLast = pd.merge(dffirst3,dispBen, how = \"outer\", on = \"dispositif\" )\n",
    "dfLast.rename(columns = {0:\"beneficiere\"}, inplace=True)\n",
    "dfLast"
   ]
  },
  {
   "cell_type": "code",
   "execution_count": 235,
   "metadata": {
    "scrolled": false
   },
   "outputs": [
    {
     "data": {
      "text/html": [
       "<div>\n",
       "<style scoped>\n",
       "    .dataframe tbody tr th:only-of-type {\n",
       "        vertical-align: middle;\n",
       "    }\n",
       "\n",
       "    .dataframe tbody tr th {\n",
       "        vertical-align: top;\n",
       "    }\n",
       "\n",
       "    .dataframe thead th {\n",
       "        text-align: right;\n",
       "    }\n",
       "</style>\n",
       "<table border=\"1\" class=\"dataframe\">\n",
       "  <thead>\n",
       "    <tr style=\"text-align: right;\">\n",
       "      <th></th>\n",
       "      <th>financeur</th>\n",
       "      <th>intervenant</th>\n",
       "      <th>prescripteur</th>\n",
       "      <th>beneficiere</th>\n",
       "      <th>average_total</th>\n",
       "    </tr>\n",
       "    <tr>\n",
       "      <th>dispositif</th>\n",
       "      <th></th>\n",
       "      <th></th>\n",
       "      <th></th>\n",
       "      <th></th>\n",
       "      <th></th>\n",
       "    </tr>\n",
       "  </thead>\n",
       "  <tbody>\n",
       "    <tr>\n",
       "      <th>FA</th>\n",
       "      <td>5.0</td>\n",
       "      <td>4.9</td>\n",
       "      <td>4.3</td>\n",
       "      <td>4.8</td>\n",
       "      <td>4.8</td>\n",
       "    </tr>\n",
       "    <tr>\n",
       "      <th>PH</th>\n",
       "      <td>5.0</td>\n",
       "      <td>NaN</td>\n",
       "      <td>2.0</td>\n",
       "      <td>NaN</td>\n",
       "      <td>3.5</td>\n",
       "    </tr>\n",
       "    <tr>\n",
       "      <th>PIP</th>\n",
       "      <td>4.6</td>\n",
       "      <td>NaN</td>\n",
       "      <td>4.7</td>\n",
       "      <td>4.6</td>\n",
       "      <td>4.6</td>\n",
       "    </tr>\n",
       "    <tr>\n",
       "      <th>PIS</th>\n",
       "      <td>5.0</td>\n",
       "      <td>4.8</td>\n",
       "      <td>4.4</td>\n",
       "      <td>4.5</td>\n",
       "      <td>4.7</td>\n",
       "    </tr>\n",
       "    <tr>\n",
       "      <th>PS</th>\n",
       "      <td>4.9</td>\n",
       "      <td>5.0</td>\n",
       "      <td>4.6</td>\n",
       "      <td>4.8</td>\n",
       "      <td>4.8</td>\n",
       "    </tr>\n",
       "    <tr>\n",
       "      <th>Remob</th>\n",
       "      <td>4.4</td>\n",
       "      <td>4.9</td>\n",
       "      <td>5.0</td>\n",
       "      <td>4.3</td>\n",
       "      <td>4.6</td>\n",
       "    </tr>\n",
       "    <tr>\n",
       "      <th>AC</th>\n",
       "      <td>NaN</td>\n",
       "      <td>4.9</td>\n",
       "      <td>NaN</td>\n",
       "      <td>5.0</td>\n",
       "      <td>5.0</td>\n",
       "    </tr>\n",
       "    <tr>\n",
       "      <th>BC</th>\n",
       "      <td>NaN</td>\n",
       "      <td>5.0</td>\n",
       "      <td>4.9</td>\n",
       "      <td>4.7</td>\n",
       "      <td>4.9</td>\n",
       "    </tr>\n",
       "    <tr>\n",
       "      <th>GDA</th>\n",
       "      <td>NaN</td>\n",
       "      <td>5.0</td>\n",
       "      <td>NaN</td>\n",
       "      <td>4.8</td>\n",
       "      <td>4.9</td>\n",
       "    </tr>\n",
       "    <tr>\n",
       "      <th>ISU</th>\n",
       "      <td>NaN</td>\n",
       "      <td>NaN</td>\n",
       "      <td>4.8</td>\n",
       "      <td>5.0</td>\n",
       "      <td>4.9</td>\n",
       "    </tr>\n",
       "  </tbody>\n",
       "</table>\n",
       "</div>"
      ],
      "text/plain": [
       "            financeur  intervenant  prescripteur  beneficiere  average_total\n",
       "dispositif                                                                  \n",
       "FA                5.0          4.9           4.3          4.8            4.8\n",
       "PH                5.0          NaN           2.0          NaN            3.5\n",
       "PIP               4.6          NaN           4.7          4.6            4.6\n",
       "PIS               5.0          4.8           4.4          4.5            4.7\n",
       "PS                4.9          5.0           4.6          4.8            4.8\n",
       "Remob             4.4          4.9           5.0          4.3            4.6\n",
       "AC                NaN          4.9           NaN          5.0            5.0\n",
       "BC                NaN          5.0           4.9          4.7            4.9\n",
       "GDA               NaN          5.0           NaN          4.8            4.9\n",
       "ISU               NaN          NaN           4.8          5.0            4.9"
      ]
     },
     "execution_count": 235,
     "metadata": {},
     "output_type": "execute_result"
    }
   ],
   "source": [
    "dfLast[\"average_total\"] = dfLast.mean(axis = 1).round(1)\n",
    "dfLast"
   ]
  },
  {
   "cell_type": "code",
   "execution_count": 240,
   "metadata": {},
   "outputs": [],
   "source": [
    "dfLast.to_clipboard(excel=True)"
   ]
  },
  {
   "cell_type": "code",
   "execution_count": 243,
   "metadata": {},
   "outputs": [],
   "source": [
    "dfLast.to_excel('dispositifAverages_Total.xls')"
   ]
  },
  {
   "cell_type": "code",
   "execution_count": 296,
   "metadata": {},
   "outputs": [],
   "source": [
    "import pickle"
   ]
  },
  {
   "cell_type": "code",
   "execution_count": null,
   "metadata": {},
   "outputs": [],
   "source": [
    "df.to_pickle(\"etapData.pkl\")"
   ]
  },
  {
   "cell_type": "code",
   "execution_count": null,
   "metadata": {},
   "outputs": [],
   "source": [
    "output = pd.read_pickle(\"etapData.pkl\")"
   ]
  },
  {
   "cell_type": "code",
   "execution_count": null,
   "metadata": {},
   "outputs": [],
   "source": []
  }
 ],
 "metadata": {
  "kernelspec": {
   "display_name": "Python 3",
   "language": "python",
   "name": "python3"
  },
  "language_info": {
   "codemirror_mode": {
    "name": "ipython",
    "version": 3
   },
   "file_extension": ".py",
   "mimetype": "text/x-python",
   "name": "python",
   "nbconvert_exporter": "python",
   "pygments_lexer": "ipython3",
   "version": "3.7.6"
  }
 },
 "nbformat": 4,
 "nbformat_minor": 4
}
